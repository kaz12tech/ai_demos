{
  "cells": [
    {
      "cell_type": "markdown",
      "metadata": {
        "id": "ze17Whr66OiC"
      },
      "source": [
        "論文<br>\n",
        "<br><br>\n",
        "HuggingFace<br>\n",
        "https://huggingface.co/DionTimmer/controlnet_qrcode-control_v1p_sd15<br>\n",
        "<br>\n",
        "<a href=\"https://colab.research.google.com/github/kaz12tech/ai_demos/blob/master/QRCode_AIArt_Generator_demo.ipynb\" target=\"_blank\"><img src=\"https://colab.research.google.com/assets/colab-badge.svg\" alt=\"Open In Colab\"/></a>"
      ]
    },
    {
      "cell_type": "markdown",
      "metadata": {
        "id": "GOLKpkBa6OiI"
      },
      "source": [
        "# Setup environment"
      ]
    },
    {
      "cell_type": "markdown",
      "metadata": {
        "id": "Jz8gTEgP6OiJ"
      },
      "source": [
        "## git clone"
      ]
    },
    {
      "cell_type": "code",
      "execution_count": null,
      "metadata": {
        "id": "SO7I9ozfFpmW"
      },
      "outputs": [],
      "source": [
        "# @markdown Initialize image\n",
        "init_img_url = 'https://user0514.cdnw.net/shared/img/thumb/shikunDJI_0204_TP_V4.jpg?' #@param {type:\"string\"}\n",
        "# @markdown Initialize image use or not\n",
        "use_init_img = False #@param {type:\"boolean\"}\n",
        "# @markdown URL for QR code\n",
        "target_url = 'https://www.12-technology.com/' #@param {type:\"string\"}\n",
        "# @markdown random seed\n",
        "seed = 12 #@param {type:\"integer\"}\n",
        "# @markdown text prompt\n",
        "text_prompt = 'Sky view of highly aesthetic, ancient greek thermal baths  in beautiful nature' #@param {type:\"string\"}\n",
        "# @markdown image size\n",
        "img_size = 768 #@param {type:\"integer\"}\n",
        "# @markdown output path\n",
        "output_path = './result.jpg' #@param {type:\"string\"}"
      ]
    },
    {
      "cell_type": "markdown",
      "metadata": {
        "id": "07hg4xM8tYCV"
      },
      "source": [
        "## install libraries"
      ]
    },
    {
      "cell_type": "code",
      "execution_count": null,
      "metadata": {
        "id": "gRHm5XmrGGNB"
      },
      "outputs": [],
      "source": [
        "%cd /content\n",
        "\n",
        "!pip -q install diffusers transformers accelerate torch xformers\n",
        "!pip install qrcode"
      ]
    },
    {
      "cell_type": "markdown",
      "metadata": {
        "id": "L6sssZcc9CBF"
      },
      "source": [
        "## import libraries"
      ]
    },
    {
      "cell_type": "code",
      "execution_count": null,
      "metadata": {
        "id": "oeUH114h9AEa"
      },
      "outputs": [],
      "source": [
        "%cd /content\n",
        "\n",
        "import torch\n",
        "from PIL import Image\n",
        "import matplotlib.pyplot as plt\n",
        "from diffusers import StableDiffusionControlNetImg2ImgPipeline, ControlNetModel, DDIMScheduler, DPMSolverMultistepScheduler\n",
        "from diffusers.utils import load_image\n",
        "\n",
        "import qrcode\n",
        "\n",
        "device = 'cuda' if torch.cuda.is_available() else 'cpu'\n",
        "print('using device is', device)"
      ]
    },
    {
      "cell_type": "markdown",
      "source": [
        "# Load pretrained model from huggingface"
      ],
      "metadata": {
        "id": "d0580U1Nj3Ox"
      }
    },
    {
      "cell_type": "code",
      "source": [
        "controlnet_id = 'DionTimmer/controlnet_qrcode-control_v1p_sd15'\n",
        "stable_diffusion_id = 'runwayml/stable-diffusion-v1-5'\n",
        "\n",
        "controlnet = ControlNetModel.from_pretrained(\n",
        "    controlnet_id,\n",
        "    torch_dtype=torch.float16)\n",
        "\n",
        "pipe = StableDiffusionControlNetImg2ImgPipeline.from_pretrained(\n",
        "    stable_diffusion_id,\n",
        "    controlnet=controlnet,\n",
        "    safety_checker=None,\n",
        "    torch_dtype=torch.float16\n",
        ")\n",
        "\n",
        "pipe.enable_xformers_memory_efficient_attention()\n",
        "# pipe.scheduler = DDIMScheduler.from_config(pipe.scheduler.config)\n",
        "pipe.scheduler = DPMSolverMultistepScheduler.from_config(pipe.scheduler.config, use_karras=True, algorithm_type=\"sde-dpmsolver++\")\n",
        "pipe.enable_model_cpu_offload()"
      ],
      "metadata": {
        "id": "XNMb0zV5j8SR"
      },
      "execution_count": null,
      "outputs": []
    },
    {
      "cell_type": "markdown",
      "source": [
        "# Setup image"
      ],
      "metadata": {
        "id": "n7qAnEHgmQ6r"
      }
    },
    {
      "cell_type": "code",
      "source": [
        "init_path = './init_img.jpg'\n",
        "qr_img_path = './qr_code_img.jpg'"
      ],
      "metadata": {
        "id": "rPnlLrl0pVlI"
      },
      "execution_count": null,
      "outputs": []
    },
    {
      "cell_type": "markdown",
      "source": [
        "## init image"
      ],
      "metadata": {
        "id": "lfU4a6AjnuCg"
      }
    },
    {
      "cell_type": "code",
      "source": [
        "# Init image\n",
        "!rm -rf {init_path}\n",
        "\n",
        "!wget -c {init_img_url} \\\n",
        "      -O {init_path}"
      ],
      "metadata": {
        "id": "6dp5EomsmP4Z"
      },
      "execution_count": null,
      "outputs": []
    },
    {
      "cell_type": "code",
      "source": [
        "# 正方形になるようにCrop\n",
        "im = Image.open(init_path)\n",
        "print(im.size)\n",
        "\n",
        "x1, y1, x2, y2 = 0, 0, 532, 532\n",
        "im_croped = im.crop((x1, y1, x2, y2))\n",
        "im_croped.save(init_path)"
      ],
      "metadata": {
        "id": "Rk6K-CBUs66J"
      },
      "execution_count": null,
      "outputs": []
    },
    {
      "cell_type": "code",
      "source": [
        "plt.imshow(plt.imread(init_path))\n",
        "plt.axis('off')\n",
        "plt.show()"
      ],
      "metadata": {
        "id": "Qf6zAZi-ndrP"
      },
      "execution_count": null,
      "outputs": []
    },
    {
      "cell_type": "markdown",
      "source": [
        "## init qr code"
      ],
      "metadata": {
        "id": "alLPRsHHnv4U"
      }
    },
    {
      "cell_type": "code",
      "source": [
        "img = qrcode.make(target_url)\n",
        "img.convert(\"RGB\").save(qr_img_path)"
      ],
      "metadata": {
        "id": "Fr-w4KnRnz1I"
      },
      "execution_count": null,
      "outputs": []
    },
    {
      "cell_type": "code",
      "source": [
        "plt.imshow(plt.imread(qr_img_path))\n",
        "plt.axis('off')\n",
        "plt.show()"
      ],
      "metadata": {
        "id": "dLevMGjfn-IS"
      },
      "execution_count": null,
      "outputs": []
    },
    {
      "cell_type": "markdown",
      "source": [
        "# Define func"
      ],
      "metadata": {
        "id": "ts18l28qlASv"
      }
    },
    {
      "cell_type": "code",
      "source": [
        "def resize_for_condition_image(input_image: Image, resolution: int):\n",
        "  input_image = input_image.convert(\"RGB\")\n",
        "  W, H = input_image.size\n",
        "  k = float(resolution) / min(H, W)\n",
        "  H *= k\n",
        "  W *= k\n",
        "  H = int(round(H / 64.0)) * 64\n",
        "  W = int(round(W / 64.0)) * 64\n",
        "  img = input_image.resize((W, H), resample=Image.LANCZOS)\n",
        "  return img"
      ],
      "metadata": {
        "id": "3aRIf0KckH0N"
      },
      "execution_count": null,
      "outputs": []
    },
    {
      "cell_type": "markdown",
      "source": [
        "# Generate QR Code"
      ],
      "metadata": {
        "id": "UEWAAQCgo-6L"
      }
    },
    {
      "cell_type": "code",
      "source": [
        "# qr code image\n",
        "source_image = load_image(qr_img_path)\n",
        "# initial image, anything\n",
        "init_image = load_image(init_path)"
      ],
      "metadata": {
        "id": "z3qpjmuXpFfm"
      },
      "execution_count": null,
      "outputs": []
    },
    {
      "cell_type": "code",
      "source": [
        "condition_image = resize_for_condition_image(source_image, img_size)\n",
        "if use_init_img:\n",
        "  image = resize_for_condition_image(init_image, img_size)\n",
        "else:\n",
        "  image = condition_image\n",
        "\n",
        "generator = torch.manual_seed(seed)\n",
        "\n",
        "image = pipe(\n",
        "    prompt                            = text_prompt,\n",
        "    negative_prompt                   = \"ugly, disfigured, low quality, blurry, nsfw\",\n",
        "    image                             = image,\n",
        "    control_image                     = condition_image,\n",
        "    width                             = img_size,\n",
        "    height                            = img_size,\n",
        "    guidance_scale                    = 7.5,\n",
        "    controlnet_conditioning_scale     = 1.5,\n",
        "    generator                         = generator,\n",
        "    strength                          = 0.9,\n",
        "    num_inference_steps               = 50\n",
        "    )"
      ],
      "metadata": {
        "id": "8DkUg7H9qLc8"
      },
      "execution_count": null,
      "outputs": []
    },
    {
      "cell_type": "code",
      "source": [
        "image.images[0].save(output_path)\n",
        "\n",
        "plt.imshow(plt.imread(output_path))\n",
        "plt.axis('off')\n",
        "plt.show()"
      ],
      "metadata": {
        "id": "xJ7QlQWXuyUu"
      },
      "execution_count": null,
      "outputs": []
    }
  ],
  "metadata": {
    "accelerator": "GPU",
    "colab": {
      "provenance": []
    },
    "kernelspec": {
      "display_name": "Python 3.10.4 64-bit",
      "language": "python",
      "name": "python3"
    },
    "language_info": {
      "name": "python",
      "version": "3.10.4"
    },
    "vscode": {
      "interpreter": {
        "hash": "69158ccfe43d0b962045f592ede11796dd42f250837ab62152c8bc6cd100a15b"
      }
    }
  },
  "nbformat": 4,
  "nbformat_minor": 0
}