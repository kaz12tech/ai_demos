{
  "cells": [
    {
      "cell_type": "markdown",
      "metadata": {
        "id": "YiIyufd1P_cE"
      },
      "source": [
        "論文<br>\n",
        "https://arxiv.org/abs/2206.07038<br>\n",
        "<br>\n",
        "GitHub<br>\n",
        "https://github.com/TencentARC/AnimeSR<br>\n",
        "<br>\n",
        "<a href=\"https://colab.research.google.com/github/kaz12tech/ai_demos/blob/master/AnimeSR_demo.ipynb\" target=\"_blank\"><img src=\"https://colab.research.google.com/assets/colab-badge.svg\" alt=\"Open In Colab\"/></a>"
      ]
    },
    {
      "cell_type": "markdown",
      "metadata": {
        "id": "bdsUQtduP_cJ"
      },
      "source": [
        "# 環境セットアップ"
      ]
    },
    {
      "cell_type": "markdown",
      "metadata": {
        "id": "7o9GvMNjP_cJ"
      },
      "source": [
        "## GPU確認"
      ]
    },
    {
      "cell_type": "code",
      "execution_count": null,
      "metadata": {
        "colab": {
          "base_uri": "https://localhost:8080/"
        },
        "id": "2PcII5fLdHnJ",
        "outputId": "2c10130f-be4c-48aa-b12b-80a1e8e45c4e"
      },
      "outputs": [],
      "source": [
        "!nvidia-smi"
      ]
    },
    {
      "cell_type": "markdown",
      "metadata": {
        "id": "W_jC04mAP_cL"
      },
      "source": [
        "## GitHubからコード取得"
      ]
    },
    {
      "cell_type": "code",
      "execution_count": null,
      "metadata": {
        "colab": {
          "base_uri": "https://localhost:8080/"
        },
        "id": "R-Y5auuvnnnT",
        "outputId": "24986e3e-e6a0-4bf5-e84e-7491b079822f"
      },
      "outputs": [],
      "source": [
        "%cd /content\n",
        "\n",
        "!git clone https://github.com/TencentARC/AnimeSR.git\n",
        "\n",
        "%cd /content/AnimeSR\n",
        "# Commits on Feb 10, 2023\n",
        "!git checkout 2c1a74231632ec70d485d09f45bce8afed688193"
      ]
    },
    {
      "cell_type": "markdown",
      "metadata": {
        "id": "uWdz6XOAP_cL"
      },
      "source": [
        "## ライブラリのインストール"
      ]
    },
    {
      "cell_type": "code",
      "execution_count": null,
      "metadata": {
        "colab": {
          "base_uri": "https://localhost:8080/"
        },
        "id": "LScsvO3UppqT",
        "outputId": "4be42b4a-0181-4f04-b2ab-7b33992e042c"
      },
      "outputs": [],
      "source": [
        "%cd /content/AnimeSR\n",
        "\n",
        "# Install dependent packages\n",
        "!pip install -r requirements.txt\n",
        "!pip install --upgrade gdown\n",
        "!pip install moviepy==0.2.3.5 imageio==2.4.1\n",
        "!pip install yt-dlp\n",
        "\n",
        "# Install AnimeSR\n",
        "!python setup.py develop"
      ]
    },
    {
      "cell_type": "markdown",
      "metadata": {
        "id": "BGzMmzpxY4z8"
      },
      "source": [
        "## ライブラリのインポート"
      ]
    },
    {
      "cell_type": "code",
      "execution_count": null,
      "metadata": {
        "colab": {
          "base_uri": "https://localhost:8080/"
        },
        "id": "yRBPTYlfY6qZ",
        "outputId": "623ebebf-f1ca-4352-bb67-1c86deeeb00d"
      },
      "outputs": [],
      "source": [
        "from yt_dlp import YoutubeDL\n",
        "from moviepy.video.fx.resize import resize\n",
        "from moviepy.editor import VideoFileClip"
      ]
    },
    {
      "cell_type": "markdown",
      "metadata": {
        "id": "qBW2t-ocUM_3"
      },
      "source": [
        "# 学習済みモデルのセットアップ"
      ]
    },
    {
      "cell_type": "code",
      "execution_count": null,
      "metadata": {
        "colab": {
          "base_uri": "https://localhost:8080/"
        },
        "id": "Q34odjYFXk7n",
        "outputId": "aeb20f51-fc98-427e-ff31-1b46d58d407c"
      },
      "outputs": [],
      "source": [
        "!gdown --id 1wpBXS5PIKDAC8IvMuCGNnrrA_fMTzF9P \\\n",
        "        -O ./weights/AnimeSR_v1-PaperModel.pth\n",
        "\n",
        "!gdown --id 1E_qsFqlIre-fMUSSLADQboBssNIWSqmm \\\n",
        "        -O ./weights/AnimeSR_v2.pth"
      ]
    },
    {
      "cell_type": "markdown",
      "metadata": {
        "id": "V3ex8UxLWf4x"
      },
      "source": [
        "# テスト動画のセットアップ"
      ]
    },
    {
      "cell_type": "code",
      "execution_count": null,
      "metadata": {
        "id": "jCjZwu_FWh9p"
      },
      "outputs": [],
      "source": [
        "video_url = 'https://www.youtube.com/watch?v=nlpSopy0d-U' #@param {type:\"string\"}\n",
        "\n",
        "#@markdown 動画の切り抜き範囲(秒)を指定してください。\\\n",
        "#@markdown 30秒以上の場合OOM発生の可能性が高いため注意\n",
        "start_sec =  70#@param {type:\"integer\"}\n",
        "end_sec =  75#@param {type:\"integer\"}\n",
        "\n",
        "(start_pt, end_pt) = (start_sec, end_sec)"
      ]
    },
    {
      "cell_type": "code",
      "execution_count": null,
      "metadata": {
        "colab": {
          "base_uri": "https://localhost:8080/"
        },
        "id": "Ye419u9wYmsS",
        "outputId": "8b834d6a-b00a-4318-dc21-c0d0fcbc1975"
      },
      "outputs": [],
      "source": [
        "%cd /content/AnimeSR\n",
        "\n",
        "!mkdir -p test_video\n",
        "\n",
        "download_resolution = 720\n",
        "full_video_path = './test_video/full_video.mp4'\n",
        "input_clip_path = './test_video/clip_video.mp4'\n",
        "\n",
        "# 動画ダウンロード\n",
        "ydl_opts = {'format': f'best[height<={download_resolution}]', 'overwrites': True, 'outtmpl': full_video_path}\n",
        "with YoutubeDL(ydl_opts) as ydl:\n",
        "    ydl.download([video_url])\n",
        "\n",
        "# 指定区間切り抜き\n",
        "with VideoFileClip(full_video_path) as video:\n",
        "    subclip = video.subclip(start_pt, end_pt)\n",
        "    subclip.write_videofile(input_clip_path)"
      ]
    },
    {
      "cell_type": "code",
      "execution_count": null,
      "metadata": {
        "colab": {
          "base_uri": "https://localhost:8080/",
          "height": 600
        },
        "id": "yojnDIh2ZWJ6",
        "outputId": "31c21715-dbde-4cb0-8317-5b0239e16ef8"
      },
      "outputs": [],
      "source": [
        "# 動画の確認\n",
        "clip = VideoFileClip(input_clip_path)\n",
        "clip = resize(clip, height=420)\n",
        "clip.ipython_display()"
      ]
    },
    {
      "cell_type": "markdown",
      "metadata": {
        "id": "h4Hmwrs-V5ji"
      },
      "source": [
        "# Inference"
      ]
    },
    {
      "cell_type": "code",
      "execution_count": null,
      "metadata": {
        "colab": {
          "base_uri": "https://localhost:8080/"
        },
        "id": "0WT5lh-xV7dY",
        "outputId": "f2770bbd-87c5-47c4-9b5e-fe4391cef48c"
      },
      "outputs": [],
      "source": [
        "%cd /content/AnimeSR\n",
        "\n",
        "'''\n",
        "Usage:\n",
        "  -i --input           Input video path or extracted frames folder\n",
        "  -n --model_name      AnimeSR model name. Default: AnimeSR_v2, can also be AnimeSR_v1-PaperModel\n",
        "  -s --outscale        The netscale is x4, but you can achieve arbitrary output scale (e.g., x2 or x1) with the argument outscale.\n",
        "                       The program will further perform cheap resize operation after the AnimeSR output. Default: 4\n",
        "  -o -output           Output root. Default: results\n",
        "  -expname             Identify the name of your current inference. The outputs will be saved in $output/$expname\n",
        "  -fps                 The fps of the (possible) saved videos. Default: None\n",
        "  -extract_frame_first If input is a video, you can still extract the frames first, other wise AnimeSR will read from stream\n",
        "  -num_process_per_gpu Since the slow I/O speed will make GPU utilization not high enough, so as long as the\n",
        "                       video memory is sufficient, we recommend placing multiple processes on one GPU to increase the utilization of each GPU.\n",
        "                       The total process will be number_process_per_gpu * num_gpu\n",
        "  -suffix              You can add a suffix string to the sr video name, for example, 1gpu3processx2 which means the SR video is generated with one GPU and three process and the outscale is x2\n",
        "  -half                Use half precision for inference, it won't make big impact on the visual results\n",
        "'''\n",
        "\n",
        "!CUDA_VISIBLE_DEVICES=0 python scripts/inference_animesr_video.py \\\n",
        "  -i ./test_video/clip_video.mp4 \\\n",
        "  -n AnimeSR_v2 \\\n",
        "  -s 4 \\\n",
        "  --expname animesr_v2 \\\n",
        "  --num_process_per_gpu 1 \\\n",
        "  --suffix 1gpu1process\n"
      ]
    },
    {
      "cell_type": "code",
      "execution_count": null,
      "metadata": {
        "colab": {
          "base_uri": "https://localhost:8080/",
          "height": 600
        },
        "id": "PuTwZXMlafrO",
        "outputId": "6d5f2a94-de16-4156-9094-0949e8b1d3b0"
      },
      "outputs": [],
      "source": [
        "# 動画の確認\n",
        "clip = VideoFileClip(\"/content/AnimeSR/results/animesr_v2/videos/clip_video/clip_video_1gpu1process.mp4\")\n",
        "clip = resize(clip, height=420)\n",
        "clip.ipython_display()"
      ]
    }
  ],
  "metadata": {
    "accelerator": "GPU",
    "colab": {
      "provenance": []
    },
    "kernelspec": {
      "display_name": "Python 3",
      "name": "python3"
    },
    "language_info": {
      "name": "python"
    },
    "orig_nbformat": 4
  },
  "nbformat": 4,
  "nbformat_minor": 0
}
