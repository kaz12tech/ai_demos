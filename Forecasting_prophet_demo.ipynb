{
  "cells": [
    {
      "cell_type": "markdown",
      "metadata": {
        "id": "ZT7ockWgQGvO"
      },
      "source": [
        "[参考実装1](https://qiita.com/makaishi2/items/aa88ccdc87af3e45edd7)"
      ]
    },
    {
      "cell_type": "markdown",
      "metadata": {
        "id": "2k5Cr8AX1D4F"
      },
      "source": [
        "# 環境セットアップ"
      ]
    },
    {
      "cell_type": "markdown",
      "metadata": {
        "id": "t4OlzD9i1F4I"
      },
      "source": [
        "## 作業ディレクトリ作成"
      ]
    },
    {
      "cell_type": "code",
      "execution_count": null,
      "metadata": {
        "colab": {
          "base_uri": "https://localhost:8080/"
        },
        "id": "r-5vWHHs0WZk",
        "outputId": "25b60c30-fca0-420d-93f6-8c28a7db457e"
      },
      "outputs": [],
      "source": [
        "# 作業ディレクトリ設定\n",
        "%cd /content\n",
        "!mkdir forecasting"
      ]
    },
    {
      "cell_type": "markdown",
      "metadata": {
        "id": "jVxLAC4i8v93"
      },
      "source": [
        "## ライブラリのインストール"
      ]
    },
    {
      "cell_type": "code",
      "execution_count": null,
      "metadata": {
        "colab": {
          "base_uri": "https://localhost:8080/"
        },
        "id": "yx2QnE6m8ySO",
        "outputId": "0d669c55-3884-49f6-8097-3deb2f19f000"
      },
      "outputs": [],
      "source": [
        "!pip install pystan==2.19.1.1\n",
        "!pip install prophet"
      ]
    },
    {
      "cell_type": "markdown",
      "metadata": {
        "id": "XwXIRhNI1IV_"
      },
      "source": [
        "## ライブラリのインポート"
      ]
    },
    {
      "cell_type": "code",
      "execution_count": null,
      "metadata": {
        "colab": {
          "base_uri": "https://localhost:8080/"
        },
        "id": "s-56f9fA1JyE",
        "outputId": "8b891f96-aa75-41e7-caf2-e022aa1fb070"
      },
      "outputs": [],
      "source": [
        "import pandas as pd\n",
        "pd.options.display.max_columns = 100 # 表示列上限変更\n",
        "\n",
        "import numpy as np\n",
        "import matplotlib.pyplot as plt\n",
        "import statsmodels.api as sm\n",
        "\n",
        "import datetime\n",
        "import itertools\n",
        "from tqdm import tqdm\n",
        "\n",
        "from prophet import Prophet\n",
        "from prophet.plot import add_changepoints_to_plot\n",
        "from prophet.diagnostics import cross_validation\n",
        "from prophet.plot import plot_cross_validation_metric\n",
        "from prophet.diagnostics import performance_metrics\n",
        "\n",
        "from sklearn.metrics import mean_squared_error, mean_absolute_error\n"
      ]
    },
    {
      "cell_type": "markdown",
      "metadata": {
        "id": "HPAN1IW50h1G"
      },
      "source": [
        "# データのセットアップ"
      ]
    },
    {
      "cell_type": "markdown",
      "metadata": {
        "id": "Cr0PTbLe1gJh"
      },
      "source": [
        "## ダウンロード\n",
        "[厚生労働省-オープンデータ](https://www.mhlw.go.jp/stf/covid-19/open-data.html)"
      ]
    },
    {
      "cell_type": "code",
      "execution_count": null,
      "metadata": {
        "colab": {
          "base_uri": "https://localhost:8080/"
        },
        "id": "HSbFEhPTxU9u",
        "outputId": "b892088d-9739-4e7e-d431-6b1fc66e83a8"
      },
      "outputs": [],
      "source": [
        "%cd /content/forecasting\n",
        "!mkdir datasets\n",
        "\n",
        "!wget -c https://covid19.mhlw.go.jp/public/opendata/newly_confirmed_cases_daily.csv \\\n",
        "      -O ./datasets/newly_confirmed_cases_daily.csv"
      ]
    },
    {
      "cell_type": "code",
      "execution_count": null,
      "metadata": {
        "colab": {
          "base_uri": "https://localhost:8080/",
          "height": 375
        },
        "id": "_qWb_GnF1mg0",
        "outputId": "dc2e1097-aa56-4c3e-ca61-2537e1c3497f"
      },
      "outputs": [],
      "source": [
        "%cd /content/forecasting\n",
        "\n",
        "\n",
        "daily_df = pd.read_csv(\n",
        "    \"./datasets/newly_confirmed_cases_daily.csv\",\n",
        "    parse_dates=[\"Date\"])\n",
        "\n",
        "# 最終行から5行目まで表示\n",
        "daily_df.tail(5)"
      ]
    },
    {
      "cell_type": "markdown",
      "metadata": {
        "id": "C75ivAmRGl41"
      },
      "source": [
        "## 移動平均作成関数定義"
      ]
    },
    {
      "cell_type": "code",
      "execution_count": null,
      "metadata": {
        "id": "fbZysz3OC8Cz"
      },
      "outputs": [],
      "source": [
        "def moving_average(df, column, window_size):\n",
        "  '''\n",
        "  移動平均作成\n",
        "  '''\n",
        "  df[column + '_macd_' + str(window_size)] = \\\n",
        "    df[column].transform(lambda x: x.rolling(window=window_size).mean()).astype(np.float16)\n",
        "  return df"
      ]
    },
    {
      "cell_type": "markdown",
      "metadata": {
        "id": "OcEYllph6goi"
      },
      "source": [
        "# データの可視化"
      ]
    },
    {
      "cell_type": "markdown",
      "metadata": {
        "id": "Q_P-b1dVc2TI"
      },
      "source": [
        "## 要約統計量"
      ]
    },
    {
      "cell_type": "code",
      "execution_count": null,
      "metadata": {
        "colab": {
          "base_uri": "https://localhost:8080/",
          "height": 364
        },
        "id": "BijGxTRRc585",
        "outputId": "de7aebbc-110d-475f-8f54-825d57976b07"
      },
      "outputs": [],
      "source": [
        "daily_df.describe()"
      ]
    },
    {
      "cell_type": "markdown",
      "metadata": {
        "id": "Zfmiiokhgbzh"
      },
      "source": [
        "## 欠損値の確認"
      ]
    },
    {
      "cell_type": "code",
      "execution_count": null,
      "metadata": {
        "colab": {
          "base_uri": "https://localhost:8080/"
        },
        "id": "s_N_VDxAgebg",
        "outputId": "377f5f72-5698-4ec9-f157-039dba4cc8ca"
      },
      "outputs": [],
      "source": [
        "# nullの個数を計算\n",
        "num_of_null = daily_df.isnull().values.sum()\n",
        "print('before:', num_of_null)\n",
        "\n",
        "\n",
        "# 厚生労働省のcsvの更新タイミングによってはNanが入った行が存在するため\n",
        "# Nanが入った行を削除\n",
        "daily_df = daily_df.dropna(how='any')\n",
        "num_of_null = daily_df.isnull().values.sum()\n",
        "print('after:', num_of_null)"
      ]
    },
    {
      "cell_type": "markdown",
      "metadata": {
        "id": "hZdCCk_PFGDu"
      },
      "source": [
        "## 東京の陽性者数をプロット"
      ]
    },
    {
      "cell_type": "code",
      "execution_count": null,
      "metadata": {
        "colab": {
          "base_uri": "https://localhost:8080/",
          "height": 706
        },
        "id": "BxwUDYEw6ql-",
        "outputId": "f854478f-f29c-4364-e301-82e3d661f330"
      },
      "outputs": [],
      "source": [
        "# 描画する列名\n",
        "show_columns = [\"Tokyo\"]\n",
        "\n",
        "fig, ax = plt.subplots(figsize=(16,10), dpi=150)\n",
        "# グラフのタイトル設定\n",
        "ax.set_title(\"Number of positive people\")\n",
        "\n",
        "for i, column in enumerate(show_columns):\n",
        "  # x軸Date, y軸columnの棒グラフ作成\n",
        "  ax.bar(\n",
        "      daily_df[\"Date\"], daily_df[column], \n",
        "      color=plt.rcParams['axes.prop_cycle'].by_key()['color'][i], label=column)\n",
        "  \n",
        "# gridを描画\n",
        "ax.grid(True)\n",
        "# 凡例を描画\n",
        "ax.legend(loc=0)\n",
        "\n",
        "plt.show()\n"
      ]
    },
    {
      "cell_type": "markdown",
      "metadata": {
        "id": "Pip0zx_RFEoS"
      },
      "source": [
        "## 移動平均を追加して可視化"
      ]
    },
    {
      "cell_type": "code",
      "execution_count": null,
      "metadata": {
        "colab": {
          "base_uri": "https://localhost:8080/",
          "height": 706
        },
        "id": "kHb5rfeMGgTG",
        "outputId": "d1b51cef-82c3-48ac-e012-ec3374a8a191"
      },
      "outputs": [],
      "source": [
        "# 描画する列名\n",
        "show_columns = [\"Tokyo\"]\n",
        "macd_windows = [7, 28, 54]\n",
        "\n",
        "fig, ax = plt.subplots(figsize=(16,10), dpi=150)\n",
        "# グラフのタイトル設定\n",
        "ax.set_title(\"Number of positive people\")\n",
        "\n",
        "for i, column in enumerate(show_columns):\n",
        "  # x軸Date, y軸columnの棒グラフ作成\n",
        "  ax.bar(\n",
        "      daily_df[\"Date\"], daily_df[column], \n",
        "      color=plt.rcParams['axes.prop_cycle'].by_key()['color'][i], label=column)\n",
        "  for j, window in enumerate(macd_windows):\n",
        "    ax.plot(\n",
        "      daily_df[\"Date\"], moving_average(daily_df, column, window)[column + '_macd_' + str(window)], \n",
        "      color=plt.rcParams['axes.prop_cycle'].by_key()['color'][i+(j+1)], label=column + '_macd_' + str(window))\n",
        "  \n",
        "# gridを描画\n",
        "ax.grid(True)\n",
        "# 凡例を描画\n",
        "ax.legend(loc=0)\n",
        "\n",
        "plt.show()"
      ]
    },
    {
      "cell_type": "markdown",
      "metadata": {
        "id": "iNLluq8ukBa4"
      },
      "source": [
        "## 成分分解\n",
        "[参考資料](https://blog.amedama.jp/entry/sm-decompose-series)\n"
      ]
    },
    {
      "cell_type": "code",
      "execution_count": null,
      "metadata": {
        "colab": {
          "base_uri": "https://localhost:8080/",
          "height": 297
        },
        "id": "_czC2Xb2jMCp",
        "outputId": "852f8559-c6ab-463b-ba9e-f983325b047f"
      },
      "outputs": [],
      "source": [
        "res = sm.tsa.seasonal_decompose(\n",
        "    daily_df[\"Tokyo\"],\n",
        "    freq=12,\n",
        "    model=\"additive\")\n",
        "\n",
        "# 上から原系列、トレンド、季節性、残差\n",
        "fig = res.plot()"
      ]
    },
    {
      "cell_type": "markdown",
      "metadata": {
        "id": "58URNKR1mu9Y"
      },
      "source": [
        "# トレーニング"
      ]
    },
    {
      "cell_type": "markdown",
      "metadata": {
        "id": "ejiKehXKoTX3"
      },
      "source": [
        "## train, testデータに分割"
      ]
    },
    {
      "cell_type": "code",
      "execution_count": null,
      "metadata": {
        "id": "TqIy5g2rogsb"
      },
      "outputs": [],
      "source": [
        "def build_dataset(df, ues_columns, date_column, target_column, test_rate=0.2, test_date=None):\n",
        "  # 元データの意図しない変更を防ぐためdeep copy\n",
        "  temp_df = df.copy(deep=True)\n",
        "\n",
        "  #####################################\n",
        "  # Prophetが求めるデータ構造に変換\n",
        "  #####################################\n",
        "  # date, valueの2列のみ抽出\n",
        "  temp_df = temp_df[ues_columns]\n",
        "  temp_df = temp_df.rename(columns={date_column:'ds', target_column: 'y'})\n",
        "\n",
        "  #####################################\n",
        "  # train, testに分割\n",
        "  #####################################\n",
        "  if test_date== None:\n",
        "    test_len = int(len(temp_df)*test_rate)\n",
        "    test_idx = len(temp_df) - test_len\n",
        "\n",
        "    # test_idxを基準に分割\n",
        "    train_df = temp_df.iloc[:test_idx, :]\n",
        "    test_df = temp_df.iloc[test_idx:, :]\n",
        "  else:\n",
        "    train_df = temp_df[temp_df['ds'] < test_date]\n",
        "    test_df = temp_df[test_date <= temp_df['ds']]\n",
        "\n",
        "  return train_df, test_df"
      ]
    },
    {
      "cell_type": "code",
      "execution_count": null,
      "metadata": {
        "colab": {
          "base_uri": "https://localhost:8080/"
        },
        "id": "mD7nEfnibRhs",
        "outputId": "ed6be72f-89ff-4539-bf86-effd7f63036d"
      },
      "outputs": [],
      "source": [
        "len(daily_df)"
      ]
    },
    {
      "cell_type": "code",
      "execution_count": null,
      "metadata": {
        "colab": {
          "base_uri": "https://localhost:8080/",
          "height": 830
        },
        "id": "CdQJ5otFnaEE",
        "outputId": "9e03789b-da0b-4675-9f6c-4f723e0714a6"
      },
      "outputs": [],
      "source": [
        "train_df, test_df = build_dataset(daily_df, [\"Date\", \"Tokyo\"], \"Date\", \"Tokyo\", 0.1)\n",
        "display(train_df, test_df)"
      ]
    },
    {
      "cell_type": "markdown",
      "metadata": {
        "id": "bZd1XZpK-b3P"
      },
      "source": [
        "## fit"
      ]
    },
    {
      "cell_type": "code",
      "execution_count": null,
      "metadata": {
        "colab": {
          "base_uri": "https://localhost:8080/"
        },
        "id": "BFjBwKU2-azq",
        "outputId": "2900fa6d-683b-4689-bb7a-770cab23a803"
      },
      "outputs": [],
      "source": [
        "model = Prophet(\n",
        "    yearly_seasonality=True,\n",
        "    weekly_seasonality=True,\n",
        "    daily_seasonality=True,\n",
        "\n",
        "    # 増加傾向の場合はmultiplicative\n",
        "    seasonality_mode='additive' # additive or multiplicative\n",
        "    )\n",
        "\n",
        "#fit the model with your dataframe\n",
        "model.fit(train_df.loc[:,['ds', 'y']])"
      ]
    },
    {
      "cell_type": "markdown",
      "metadata": {
        "id": "iMzUrA0fAX5i"
      },
      "source": [
        "# テスト"
      ]
    },
    {
      "cell_type": "code",
      "execution_count": null,
      "metadata": {
        "id": "bG_ROqaXAL5h"
      },
      "outputs": [],
      "source": [
        "# test_dataのdsに合わせてpredict\n",
        "test_fcst = model.predict(\n",
        "    df = test_df\n",
        ")"
      ]
    },
    {
      "cell_type": "code",
      "execution_count": null,
      "metadata": {
        "colab": {
          "base_uri": "https://localhost:8080/",
          "height": 399
        },
        "id": "k2we69eMAdDi",
        "outputId": "41b3c7fb-c758-4bc9-f750-87797536a927"
      },
      "outputs": [],
      "source": [
        "fig, ax = plt.subplots(figsize=(15,5), dpi=150)\n",
        "\n",
        "fig = model.plot(\n",
        "    test_fcst,\n",
        "    ax=ax)\n",
        "\n",
        "# グラフのタイトル設定\n",
        "ax.set_title(\"Number of positive people predict.\")\n",
        "# x軸の上限下限設定\n",
        "ax.set_xlim([test_fcst.head(1).ds, test_fcst.tail(1).ds])\n",
        "ax.plot(test_df[\"ds\"], test_df[\"y\"], color='r', label=\"true\")\n",
        "# gridを描画\n",
        "ax.grid(True)\n",
        "# 凡例を描画\n",
        "ax.legend(loc=0)\n",
        "\n",
        "plt.show()"
      ]
    },
    {
      "cell_type": "markdown",
      "metadata": {
        "id": "-ahwNnQnD5Ft"
      },
      "source": [
        "## エラー率確認\n",
        "\n",
        "## eval\n",
        "Mean Squared Error:MSE(平均二乗誤差)<br>\n",
        "*   実際の値と予測値の絶対値の2乗の平均<br>\n",
        "小さいほど良い<br>\n",
        "\n",
        "Mean Absolute Error:MAE(平均絶対誤差)<br>\n",
        "*   実際の値と予測値の絶対差の平均<br>\n",
        "小さいほど良い<br>\n",
        "\n",
        "Mean Absolute Percentage Error:MAPE(平均絶対パーセント誤差)<br>\n",
        "*   実際の値と予測値との差を、実際の値で割った値(=パーセント誤差)」の絶対値を計算し、その総和をデータ数で割った値(=平均値)<br>\n",
        "小さいほど良い<br>\n",
        "  \n",
        "\n",
        "参考:  \n",
        "https://aizine.ai/rmse-rmsle1114/#toc3  \n",
        "https://atmarkit.itmedia.co.jp/ait/articles/2106/09/news028.html\n"
      ]
    },
    {
      "cell_type": "code",
      "execution_count": null,
      "metadata": {
        "id": "iJ_mSOkGD7fl"
      },
      "outputs": [],
      "source": [
        "def calc_error_rates(y_true, y_pred):\n",
        "  mse = mean_squared_error(\n",
        "      y_true = y_true,\n",
        "      y_pred = y_pred)\n",
        "  mae = mean_absolute_error(\n",
        "      y_true = y_true,\n",
        "      y_pred = y_pred)\n",
        "  \n",
        "  y_true, y_pred = np.array(y_true), np.array(y_pred)\n",
        "  mape = np.mean(np.abs((y_true - y_pred) / y_true)) * 100\n",
        "\n",
        "  return mse, mae, mape"
      ]
    },
    {
      "cell_type": "code",
      "execution_count": null,
      "metadata": {
        "colab": {
          "base_uri": "https://localhost:8080/"
        },
        "id": "4pa7Jky3Eqne",
        "outputId": "35a93f05-0f56-4ae8-e57a-d3b6c4115cdc"
      },
      "outputs": [],
      "source": [
        "mse, mae, mape = calc_error_rates(\n",
        "    y_true = test_df.y,\n",
        "    y_pred = test_fcst.yhat\n",
        ")\n",
        "print(\"MSE:%f, MAE:%f, MAPE:%f\" % (mse, mae, mape) )"
      ]
    },
    {
      "cell_type": "markdown",
      "metadata": {
        "id": "wbN8bqzME4gs"
      },
      "source": [
        "# 精度改善"
      ]
    },
    {
      "cell_type": "code",
      "execution_count": null,
      "metadata": {
        "id": "gr88EvUNFB7P"
      },
      "outputs": [],
      "source": [
        "improve_df = daily_df.loc[:, [\"Date\", \"Tokyo\"]]"
      ]
    },
    {
      "cell_type": "code",
      "execution_count": null,
      "metadata": {
        "id": "DO3fsOiXFdxx"
      },
      "outputs": [],
      "source": [
        "# ほとんど横ばいの2020年7月までを含めない\n",
        "# improve_df = improve_df[datetime.datetime(2020, 7, 1) <= improve_df['Date'] ]"
      ]
    },
    {
      "cell_type": "markdown",
      "metadata": {
        "id": "7EN-RbAJLowa"
      },
      "source": [
        "## 祝日・イベント追加\n"
      ]
    },
    {
      "cell_type": "code",
      "execution_count": null,
      "metadata": {
        "colab": {
          "base_uri": "https://localhost:8080/",
          "height": 424
        },
        "id": "BPMlNL5wTCL8",
        "outputId": "e81c4a21-a38c-4529-ac7f-0daf46a20aaa"
      },
      "outputs": [],
      "source": [
        "# Prophetのadd_country_holidaysで祝日を追加することも可能だが\n",
        "# 正確性を重視して内閣府掲載の祝日情報を取得\n",
        "holidays_df = pd.read_csv(\n",
        "    \"https://www8.cao.go.jp/chosei/shukujitsu/syukujitsu.csv\", \n",
        "    encoding=\"SHIFT_JIS\",\n",
        "    parse_dates=[\"国民の祝日・休日月日\"])\n",
        "\n",
        "# 陽性者数の計測が始まった時点からの祝日・休日情報のみ取得\n",
        "holidays_df = holidays_df[improve_df[\"Date\"].iloc[0] <= holidays_df[\"国民の祝日・休日月日\"]]\n",
        "holidays_df"
      ]
    },
    {
      "cell_type": "code",
      "execution_count": null,
      "metadata": {
        "id": "B3ToXakMW6Xu"
      },
      "outputs": [],
      "source": [
        "# prophetの求めるデータ構造に変換\n",
        "holidays = pd.DataFrame({\n",
        "    'holiday': 'jp_holidays',\n",
        "    'ds': pd.to_datetime(holidays_df[\"国民の祝日・休日月日\"]),\n",
        "    'lower_window': 0,\n",
        "    'upper_window': 0,\n",
        "})"
      ]
    },
    {
      "cell_type": "markdown",
      "metadata": {
        "id": "FfVVFyutXe47"
      },
      "source": [
        "# トレーニング"
      ]
    },
    {
      "cell_type": "markdown",
      "metadata": {
        "id": "Biz-L1_9YFsU"
      },
      "source": [
        "## train, testデータに分割"
      ]
    },
    {
      "cell_type": "code",
      "execution_count": null,
      "metadata": {
        "colab": {
          "base_uri": "https://localhost:8080/",
          "height": 830
        },
        "id": "Glo9zoYFYIQo",
        "outputId": "ba9eb1d1-e452-46b3-b857-f13e729514b5"
      },
      "outputs": [],
      "source": [
        "train_df, test_df = build_dataset(improve_df, [\"Date\", \"Tokyo\"], \"Date\", \"Tokyo\", test_rate=0.1)\n",
        "display(train_df, test_df)"
      ]
    },
    {
      "cell_type": "markdown",
      "metadata": {
        "id": "kQHkmUnAYTsd"
      },
      "source": [
        "## fit"
      ]
    },
    {
      "cell_type": "code",
      "execution_count": null,
      "metadata": {
        "colab": {
          "base_uri": "https://localhost:8080/"
        },
        "id": "pQAC8k_ZYUzE",
        "outputId": "9b07a840-b7d4-4b28-b111-0e322cfd1275"
      },
      "outputs": [],
      "source": [
        "model = Prophet(\n",
        "    yearly_seasonality=True,\n",
        "    weekly_seasonality=True,\n",
        "    daily_seasonality=True,\n",
        "\n",
        "    # 増加傾向の場合はmultiplicative\n",
        "    seasonality_mode='additive', # additive or multiplicative\n",
        "\n",
        "    # cap, floorを使用する場合に設定\n",
        "    # growth='logistic', # specify logistic growth\n",
        "    # 国民の祝日・休日情報\n",
        "    holidays = holidays,  \n",
        "    )\n",
        "\n",
        "# 四半期ごとの季節性追加 \n",
        "# 引数は下記参照\n",
        "# https://facebook.github.io/prophet/docs/multiplicative_seasonality.html\n",
        "# model.add_seasonality(name = 'quarterly', period=91.25, fourier_order=8, mode='additive')\n",
        "\n",
        "#fit the model with your dataframe\n",
        "model.fit(train_df.loc[:,['ds', 'y']])"
      ]
    },
    {
      "cell_type": "markdown",
      "metadata": {
        "id": "sM9NvBpoZJbY"
      },
      "source": [
        "# テスト"
      ]
    },
    {
      "cell_type": "code",
      "execution_count": null,
      "metadata": {
        "colab": {
          "base_uri": "https://localhost:8080/",
          "height": 399
        },
        "id": "_Xau7qLqZQsR",
        "outputId": "4e27ca38-c0cc-4d5a-bc72-68c111d30b65"
      },
      "outputs": [],
      "source": [
        "# test_dataのdsに合わせてpredict\n",
        "test_fcst = model.predict(\n",
        "    df = test_df\n",
        ")\n",
        "\n",
        "fig, ax = plt.subplots(figsize=(15,5), dpi=150)\n",
        "\n",
        "fig = model.plot(\n",
        "    test_fcst,\n",
        "    ax=ax)\n",
        "\n",
        "# グラフのタイトル設定\n",
        "ax.set_title(\"Number of positive people predict.\")\n",
        "# x軸の上限下限設定\n",
        "ax.set_xlim([test_fcst.head(1).ds, test_fcst.tail(1).ds])\n",
        "ax.plot(test_df[\"ds\"], test_df[\"y\"], color='r', label=\"true\")\n",
        "# gridを描画\n",
        "ax.grid(True)\n",
        "# 凡例を描画\n",
        "ax.legend(loc=0)\n",
        "\n",
        "plt.show()"
      ]
    },
    {
      "cell_type": "markdown",
      "metadata": {
        "id": "BqsHNUiNClS_"
      },
      "source": [
        "## エラー率確認"
      ]
    },
    {
      "cell_type": "code",
      "execution_count": null,
      "metadata": {
        "colab": {
          "base_uri": "https://localhost:8080/"
        },
        "id": "b9NOV8RqCo9_",
        "outputId": "871b6ddd-5af7-43a1-b1ab-d0a90dc592c3"
      },
      "outputs": [],
      "source": [
        "mse, mae, mape = calc_error_rates(\n",
        "    y_true = test_df.y,\n",
        "    y_pred = test_fcst.yhat\n",
        ")\n",
        "print(\"MSE:%f, MAE:%f, MAPE:%f\" % (mse, mae, mape) )"
      ]
    },
    {
      "cell_type": "markdown",
      "metadata": {
        "id": "hNJYzdg7HaHR"
      },
      "source": [
        "# ハイパーパラメータチューニング"
      ]
    },
    {
      "cell_type": "code",
      "execution_count": null,
      "metadata": {
        "id": "HS-lMqHaHcYF"
      },
      "outputs": [],
      "source": [
        "# MSE:5836639.659307, MAE:2070.112366, MAPE:46.448763\n",
        "# 'changepoint_prior_scale': 0.005, \n",
        "# 'seasonality_prior_scale': 5.0, \n",
        "# 'holidays_prior_scale': 20.0, \n",
        "# 'seasonality_mode': 'additive', \n",
        "# 'changepoint_range': 0.8,\n",
        "\n",
        "# MSE:5839819.916396, MAE:2079.609590, MAPE:47.021056\n",
        "# 'changepoint_prior_scale': 0.005, \n",
        "# 'seasonality_prior_scale': 1.0, \n",
        "# 'holidays_prior_scale': 25.0, \n",
        "# 'seasonality_mode': 'additive', \n",
        "# 'changepoint_range': 0.7\n",
        "\n",
        "# MSE:5902161.127703, MAE:2066.354548, MAPE:45.723594\n",
        "# 'changepoint_prior_scale': 0.005, \n",
        "# 'seasonality_prior_scale': 5.0, \n",
        "# 'holidays_prior_scale': 25.0, \n",
        "# 'seasonality_mode': 'additive', \n",
        "# 'changepoint_range': 0.8\n",
        "\n",
        "\n",
        "param_grid = {\n",
        "    # Able to tune\n",
        "    'changepoint_prior_scale':  [0.005], # default 0.05\n",
        "    'seasonality_prior_scale':  [1.0, 2.5, 5.0], # default 10\n",
        "    'holidays_prior_scale':     [20.0, 25.0, 30.0], # default 10\n",
        "    'seasonality_mode' :        ['additive'], # additive or multiplicative\n",
        "    # May be tune\n",
        "    'changepoint_range':        [0.8], # default 0.8\n",
        "    'holidays':           [holidays],\n",
        "    # 下記は下手にいじるよりseasonality_prior_scaleで調整した方が良い\n",
        "    'yearly_seasonality': [True], # default 10\n",
        "    'weekly_seasonality': [True], # default 10\n",
        "    'daily_seasonality':  [True], # default 10\n",
        "}\n",
        "\n",
        "# Generate all combinations of parameters\n",
        "all_params = [dict(zip(param_grid.keys(), v)) for v in itertools.product(*param_grid.values())]\n",
        "\n",
        "rmses = []  # Store the RMSEs for each params here"
      ]
    },
    {
      "cell_type": "code",
      "execution_count": null,
      "metadata": {
        "colab": {
          "base_uri": "https://localhost:8080/"
        },
        "id": "5G1yP909HtBT",
        "outputId": "3a91c2e6-b317-4edb-d90c-2f6eaed3d486"
      },
      "outputs": [],
      "source": [
        "train_df, test_df = build_dataset(improve_df, [\"Date\", \"Tokyo\"], \"Date\", \"Tokyo\", test_date=datetime.datetime(2022, 3, 9))\n",
        "\n",
        "for i in tqdm( range(len(all_params)) ):\n",
        "# for i, params in enumerate(all_params):\n",
        "    params = all_params[i]\n",
        "    model = Prophet(**params)\n",
        "\n",
        "    model.fit(train_df.loc[:,['ds', 'y']]) \n",
        "\n",
        "    # parallel processes, threads, dask\n",
        "    # cross validationを400日目から開始、86日間をテストデータとし、検証後54日スライド\n",
        "    df_cv = cross_validation(model, initial='400 days', period='54 days', horizon = '86 days', parallel=\"threads\")\n",
        "    df_p = performance_metrics(df_cv, rolling_window=1)\n",
        "    rmses.append(df_p['rmse'].values[0])"
      ]
    },
    {
      "cell_type": "code",
      "execution_count": null,
      "metadata": {
        "colab": {
          "base_uri": "https://localhost:8080/"
        },
        "id": "EsyBxuVBJeN9",
        "outputId": "a884f4e1-b7eb-42ed-c985-560030635992"
      },
      "outputs": [],
      "source": [
        "tuning_results = pd.DataFrame(all_params)\n",
        "tuning_results['rmse'] = rmses\n",
        "best_params = all_params[np.argmin(rmses)]\n",
        "print(best_params)"
      ]
    },
    {
      "cell_type": "markdown",
      "metadata": {
        "id": "W1Ec-hDVLDzQ"
      },
      "source": [
        "## best paramでモデル生成"
      ]
    },
    {
      "cell_type": "code",
      "execution_count": null,
      "metadata": {
        "colab": {
          "base_uri": "https://localhost:8080/"
        },
        "id": "hB1LwszDJg9D",
        "outputId": "4ec50b76-3069-4f3c-e929-68cfc69f7236"
      },
      "outputs": [],
      "source": [
        "model = Prophet(**best_params)\n",
        "\n",
        "model.fit(train_df.loc[:,['ds', 'y']]) "
      ]
    },
    {
      "cell_type": "markdown",
      "metadata": {
        "id": "Vdz3LTr2LGXy"
      },
      "source": [
        "# テスト"
      ]
    },
    {
      "cell_type": "code",
      "execution_count": null,
      "metadata": {
        "colab": {
          "base_uri": "https://localhost:8080/",
          "height": 399
        },
        "id": "O-98jm32JqkA",
        "outputId": "4f16f5d8-b999-4b25-f073-970e0323477d"
      },
      "outputs": [],
      "source": [
        "# test_dataのdsに合わせてpredict\n",
        "test_fcst = model.predict(\n",
        "    df = test_df\n",
        ")\n",
        "\n",
        "fig, ax = plt.subplots(figsize=(15,5), dpi=150)\n",
        "\n",
        "fig = model.plot(\n",
        "    test_fcst,\n",
        "    ax=ax)\n",
        "\n",
        "# グラフのタイトル設定\n",
        "ax.set_title(\"Number of positive people predict.\")\n",
        "# x軸の上限下限設定\n",
        "ax.set_xlim([test_fcst.head(1).ds, test_fcst.tail(1).ds])\n",
        "ax.plot(test_df[\"ds\"], test_df[\"y\"], color='r', label=\"true\")\n",
        "# gridを描画\n",
        "ax.grid(True)\n",
        "# 凡例を描画\n",
        "ax.legend(loc=0)\n",
        "\n",
        "plt.show()"
      ]
    },
    {
      "cell_type": "markdown",
      "metadata": {
        "id": "NqhHbHguLIAv"
      },
      "source": [
        "## エラー率確認"
      ]
    },
    {
      "cell_type": "code",
      "execution_count": null,
      "metadata": {
        "colab": {
          "base_uri": "https://localhost:8080/"
        },
        "id": "Kc-wWzoQJt5S",
        "outputId": "a95fa750-0051-473e-fab5-26172e9a797a"
      },
      "outputs": [],
      "source": [
        "mse, mae, mape = calc_error_rates(\n",
        "    y_true = test_df.y,\n",
        "    y_pred = test_fcst.yhat\n",
        ")\n",
        "print(\"MSE:%f, MAE:%f, MAPE:%f\" % (mse, mae, mape) )"
      ]
    }
  ],
  "metadata": {
    "colab": {
      "collapsed_sections": [],
      "name": "Forecasting_prophet_demo.ipynb",
      "provenance": [],
      "toc_visible": true
    },
    "kernelspec": {
      "display_name": "Python 3",
      "name": "python3"
    },
    "language_info": {
      "name": "python"
    }
  },
  "nbformat": 4,
  "nbformat_minor": 0
}
