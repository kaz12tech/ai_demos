{
  "cells": [
    {
      "cell_type": "markdown",
      "metadata": {
        "id": "ze17Whr66OiC"
      },
      "source": [
        "論文<br>\n",
        "https://arxiv.org/abs/2308.13418<br>\n",
        "GitHub<br>\n",
        "https://github.com/facebookresearch/nougat<br>\n",
        "<br>\n",
        "<a href=\"https://colab.research.google.com/github/kaz12tech/ai_demos/blob/master/Nougat_demo.ipynb\" target=\"_blank\"><img src=\"https://colab.research.google.com/assets/colab-badge.svg\" alt=\"Open In Colab\"/></a>"
      ]
    },
    {
      "cell_type": "markdown",
      "metadata": {
        "id": "GOLKpkBa6OiI"
      },
      "source": [
        "# Setup environment"
      ]
    },
    {
      "cell_type": "markdown",
      "metadata": {
        "id": "Jz8gTEgP6OiJ"
      },
      "source": [
        "## git clone"
      ]
    },
    {
      "cell_type": "code",
      "execution_count": null,
      "metadata": {
        "id": "SO7I9ozfFpmW"
      },
      "outputs": [],
      "source": []
    },
    {
      "cell_type": "markdown",
      "metadata": {
        "id": "07hg4xM8tYCV"
      },
      "source": [
        "## install libraries"
      ]
    },
    {
      "cell_type": "code",
      "execution_count": null,
      "metadata": {
        "colab": {
          "base_uri": "https://localhost:8080/"
        },
        "id": "gRHm5XmrGGNB",
        "outputId": "e73d9251-8a9a-40a0-b0f7-e95a56231099"
      },
      "outputs": [],
      "source": [
        "!pip install 'git+https://github.com/facebookresearch/nougat@a017de1f5501fbeb6cd8b7c302f9a075b2b4bee2'"
      ]
    },
    {
      "cell_type": "markdown",
      "metadata": {
        "id": "1E2Tf5qE7EjH"
      },
      "source": [
        "## import libraries"
      ]
    },
    {
      "cell_type": "code",
      "execution_count": null,
      "metadata": {
        "id": "fHJjZa2Z7Juh"
      },
      "outputs": [],
      "source": []
    },
    {
      "cell_type": "markdown",
      "metadata": {
        "id": "Pk2NNI-ElfNK"
      },
      "source": [
        "# Downlad PDF"
      ]
    },
    {
      "cell_type": "code",
      "execution_count": null,
      "metadata": {
        "colab": {
          "base_uri": "https://localhost:8080/"
        },
        "id": "k9dlg9eol7A2",
        "outputId": "0ec128a0-b921-433c-a5b8-d35004638455"
      },
      "outputs": [],
      "source": [
        "!wget \\\n",
        "  --user-agent=\"Mozilla/5.0 (Windows NT 10.0; WOW64) AppleWebKit/537.36 (KHTML, like Gecko) Chrome/51.0.2704.103 Safari/537.36\"\\\n",
        "  https://arxiv.org/pdf/2308.13418.pdf \\\n",
        "  -O ./arxiv_nougat.pdf"
      ]
    },
    {
      "cell_type": "markdown",
      "metadata": {
        "id": "4MOfqwlrmYeo"
      },
      "source": [
        "# Nougat OCR"
      ]
    },
    {
      "cell_type": "code",
      "execution_count": null,
      "metadata": {
        "colab": {
          "base_uri": "https://localhost:8080/"
        },
        "id": "05zcj_0opRxT",
        "outputId": "6f4d8330-741c-4fbd-a8c4-35d39337f260"
      },
      "outputs": [],
      "source": [
        "%%time\n",
        "\n",
        "!nougat ./arxiv_nougat.pdf \\\n",
        "  -o ./result \\\n",
        "  -m 0.1.0-small \\\n",
        "  -p 1,8-10"
      ]
    },
    {
      "cell_type": "code",
      "execution_count": null,
      "metadata": {
        "colab": {
          "base_uri": "https://localhost:8080/"
        },
        "id": "w4cTjZBzmcZC",
        "outputId": "fce9cddd-571b-4b72-cb1d-9dc6fe40bd65"
      },
      "outputs": [],
      "source": [
        "%%time\n",
        "\n",
        "!nougat ./arxiv_nougat.pdf \\\n",
        "  -o ./result_markdown \\\n",
        "  -m 0.1.0-small \\\n",
        "  -p 1,8-10 \\\n",
        "  --markdown"
      ]
    },
    {
      "cell_type": "markdown",
      "metadata": {
        "id": "t0sNSL0DosIc"
      },
      "source": [
        "## show result"
      ]
    },
    {
      "cell_type": "code",
      "execution_count": null,
      "metadata": {
        "colab": {
          "base_uri": "https://localhost:8080/"
        },
        "id": "jQI4059tpVTl",
        "outputId": "760a1acd-1beb-4582-ecea-21f8725925c2"
      },
      "outputs": [],
      "source": [
        "import pprint\n",
        "\n",
        "with open('./result/arxiv_nougat.mmd') as f:\n",
        "  s = f.read()\n",
        "\n",
        "pprint.pprint(s)"
      ]
    },
    {
      "cell_type": "code",
      "execution_count": null,
      "metadata": {
        "colab": {
          "base_uri": "https://localhost:8080/"
        },
        "id": "AaytzkOKo2DE",
        "outputId": "27cfdc3e-0538-4678-e948-c2bfa7277357"
      },
      "outputs": [],
      "source": [
        "import pprint\n",
        "\n",
        "with open('./result_markdown/arxiv_nougat.mmd') as f:\n",
        "  s = f.read()\n",
        "\n",
        "pprint.pprint(s)"
      ]
    }
  ],
  "metadata": {
    "accelerator": "GPU",
    "colab": {
      "provenance": []
    },
    "kernelspec": {
      "display_name": "Python 3.10.4 64-bit",
      "language": "python",
      "name": "python3"
    },
    "language_info": {
      "name": "python",
      "version": "3.10.4"
    },
    "vscode": {
      "interpreter": {
        "hash": "69158ccfe43d0b962045f592ede11796dd42f250837ab62152c8bc6cd100a15b"
      }
    }
  },
  "nbformat": 4,
  "nbformat_minor": 0
}
