{
  "cells": [
    {
      "cell_type": "markdown",
      "metadata": {
        "id": "9NENcrgDJv9q"
      },
      "source": [
        "論文  \n",
        "https://arxiv.org/abs/2212.00490<br>\n",
        "<br>\n",
        "GitHub<br>\n",
        "https://github.com/wyhuai/DDNM<br>\n",
        "<br>\n",
        "<a href=\"https://colab.research.google.com/github/kaz12tech/ai_demos/blob/master/DDNM_demo.ipynb\" target=\"_blank\"><img src=\"https://colab.research.google.com/assets/colab-badge.svg\" alt=\"Open In Colab\"/></a>"
      ]
    },
    {
      "cell_type": "markdown",
      "metadata": {
        "id": "LHqYjlJ4Jv9u"
      },
      "source": [
        "# 環境セットアップ"
      ]
    },
    {
      "cell_type": "markdown",
      "metadata": {
        "id": "z7jySK7RJv9v"
      },
      "source": [
        "## GPU確認"
      ]
    },
    {
      "cell_type": "code",
      "execution_count": null,
      "metadata": {
        "id": "2PcII5fLdHnJ"
      },
      "outputs": [],
      "source": [
        "!nvidia-smi"
      ]
    },
    {
      "cell_type": "markdown",
      "metadata": {
        "id": "aaAzHlBvJv9y"
      },
      "source": [
        "## GitHubからコード取得"
      ]
    },
    {
      "cell_type": "code",
      "execution_count": null,
      "metadata": {
        "id": "R-Y5auuvnnnT"
      },
      "outputs": [],
      "source": [
        "%cd /content\n",
        "\n",
        "!git clone https://github.com/wyhuai/DDNM.git\n",
        "\n",
        "# Commits on Dec 11, 2022\n",
        "%cd /content/DDNM\n",
        "!git checkout f157d760710169c9ba22a830caac9035ade71b5f"
      ]
    },
    {
      "cell_type": "markdown",
      "metadata": {
        "id": "4tp-fduPJv9z"
      },
      "source": [
        "## ライブラリのインストール"
      ]
    },
    {
      "cell_type": "code",
      "execution_count": null,
      "metadata": {
        "id": "LScsvO3UppqT"
      },
      "outputs": [],
      "source": [
        "%cd /content/DDNM\n",
        "\n",
        "!pip install blobfile==2.0.0 tqdm==4.61.1 pyYaml==6.0 pillow==7.1.2\n"
      ]
    },
    {
      "cell_type": "markdown",
      "metadata": {
        "id": "VIWoFf9MJv91"
      },
      "source": [
        "## ライブラリのインポート"
      ]
    },
    {
      "cell_type": "code",
      "execution_count": null,
      "metadata": {
        "id": "o2lxptJeo6kr"
      },
      "outputs": [],
      "source": [
        "import glob\n",
        "from PIL import Image\n",
        "from matplotlib import pyplot as plt\n",
        "import numpy as np"
      ]
    },
    {
      "cell_type": "markdown",
      "source": [
        "# 学習済みモデルのセットアップ"
      ],
      "metadata": {
        "id": "mpHfx7GjY10M"
      }
    },
    {
      "cell_type": "code",
      "source": [
        "%cd /content/DDNM\n",
        "\n",
        "# Create dir\n",
        "!mkdir -p DDNM/exp/logs/celeba DDNM/exp/logs/imagenet\n",
        "\n",
        "# Download model\n",
        "!wget -c https://image-editing-test-12345.s3-us-west-2.amazonaws.com/checkpoints/celeba_hq.ckpt \\\n",
        "      -O DDNM/exp/logs/celeba/celeba_hq.ckpt\n",
        "!wget -c https://openaipublic.blob.core.windows.net/diffusion/jul-2021/256x256_diffusion_uncond.pt \\\n",
        "      -O DDNM/exp/logs/imagenet/256x256_diffusion_uncond.pt"
      ],
      "metadata": {
        "id": "EmpEiDH6Y1G8"
      },
      "execution_count": null,
      "outputs": []
    },
    {
      "cell_type": "markdown",
      "source": [
        "# 4x Super Resolution"
      ],
      "metadata": {
        "id": "1EfLCuobZsVj"
      }
    },
    {
      "cell_type": "code",
      "source": [
        "# base path\n",
        "exp = './exp'\n",
        "# input dir {exp}/datasets/{in_dir}\n",
        "in_dir = 'celeba_hq'\n",
        "# output dir\n",
        "out_dir = 'sr_results' # {exp}/image_sample/{out_dir}\n",
        "# tasks\n",
        "tasks = 'sr_averagepooling' #@param ['cs_walshhadamard', 'cs_blockbased', 'inpainting', 'denoising', 'deblur_uni', 'deblur_gauss', 'deblur_aniso', 'sr_averagepooling', 'sr_bicubic', 'colorization', 'mask_color_sr']\n",
        "# config path configs/{config_path}\n",
        "config_path = 'celeba_hq.yml'"
      ],
      "metadata": {
        "id": "8p94n2xvc9fG"
      },
      "execution_count": null,
      "outputs": []
    },
    {
      "cell_type": "code",
      "source": [
        "%cd /content/DDNM\n",
        "\n",
        "!python main.py \\\n",
        "  --ni --simplified \\\n",
        "  --config {config_path} \\\n",
        "  --path_y {in_dir} \\\n",
        "  --eta 0.85 \\\n",
        "  --deg {tasks} \\\n",
        "  --deg_scale 4.0 --sigma_y 0 \\\n",
        "  --exp {exp} \\\n",
        "  -i {out_dir}"
      ],
      "metadata": {
        "id": "YJCtaRcFZr2l"
      },
      "execution_count": null,
      "outputs": []
    },
    {
      "cell_type": "code",
      "source": [
        "input_imgs = glob.glob(f'{exp}/image_samples/{out_dir}/Apy/Apy_*.png')\n",
        "input_imgs.sort()\n",
        "output_imgs = glob.glob(f'{exp}/image_samples/{out_dir}/*.png')\n",
        "output_imgs.sort()"
      ],
      "metadata": {
        "id": "tqyeTMKbgck7"
      },
      "execution_count": null,
      "outputs": []
    },
    {
      "cell_type": "code",
      "source": [
        "for i, o in zip(input_imgs, output_imgs):\n",
        "  in_img = Image.open(i)\n",
        "  out_img = Image.open(o)\n",
        "\n",
        "  fig = plt.figure(num=None, figsize=(12, 5))\n",
        "\n",
        "  ax = fig.add_subplot(1, 2, 1, xticks=[], yticks=[])\n",
        "  plt.imshow(np.asarray(in_img))\n",
        "  ax.set_title('input')\n",
        "\n",
        "  ax = fig.add_subplot(1, 2, 2, xticks=[], yticks=[])\n",
        "  plt.imshow(np.asarray(out_img))\n",
        "  ax.set_title('4x output')\n"
      ],
      "metadata": {
        "id": "hJvG6QS3ieTU"
      },
      "execution_count": null,
      "outputs": []
    },
    {
      "cell_type": "markdown",
      "source": [
        "# Old photo restoration"
      ],
      "metadata": {
        "id": "37LJAPQmkuUg"
      }
    },
    {
      "cell_type": "code",
      "source": [
        "# base path\n",
        "exp = './exp'\n",
        "# input dir {exp}/datasets/{in_dir}\n",
        "in_dir = 'oldphoto'\n",
        "# output dir\n",
        "out_dir = 'opr_results' # {exp}/image_sample/{out_dir}\n",
        "# tasks\n",
        "tasks = 'mask_color_sr' #@param ['cs_walshhadamard', 'cs_blockbased', 'inpainting', 'denoising', 'deblur_uni', 'deblur_gauss', 'deblur_aniso', 'sr_averagepooling', 'sr_bicubic', 'colorization', 'mask_color_sr']\n",
        "# config path configs/{config_path}\n",
        "config_path = 'oldphoto.yml'"
      ],
      "metadata": {
        "id": "cAdkkM8JlyhO"
      },
      "execution_count": null,
      "outputs": []
    },
    {
      "cell_type": "code",
      "source": [
        "%cd /content/DDNM\n",
        "\n",
        "!python main.py \\\n",
        "  --ni --simplified \\\n",
        "  --config {config_path} \\\n",
        "  --path_y {in_dir} \\\n",
        "  --eta 0.85 \\\n",
        "  --deg {tasks} \\\n",
        "  --deg_scale 2.0 --sigma_y 0.02 \\\n",
        "  --exp {exp} \\\n",
        "  -i {out_dir}"
      ],
      "metadata": {
        "id": "KRRcTooKl03k"
      },
      "execution_count": null,
      "outputs": []
    },
    {
      "cell_type": "code",
      "source": [
        "input_imgs = glob.glob(f'{exp}/image_samples/{out_dir}/Apy/Apy_*.png')\n",
        "input_imgs.sort()\n",
        "output_imgs = glob.glob(f'{exp}/image_samples/{out_dir}/*.png')\n",
        "output_imgs.sort()\n",
        "\n",
        "for i, o in zip(input_imgs, output_imgs):\n",
        "  in_img = Image.open(i)\n",
        "  out_img = Image.open(o)\n",
        "\n",
        "  fig = plt.figure(num=None, figsize=(12, 5))\n",
        "\n",
        "  ax = fig.add_subplot(1, 2, 1, xticks=[], yticks=[])\n",
        "  plt.imshow(np.asarray(in_img))\n",
        "  ax.set_title('input')\n",
        "\n",
        "  ax = fig.add_subplot(1, 2, 2, xticks=[], yticks=[])\n",
        "  plt.imshow(np.asarray(out_img))\n",
        "  ax.set_title('old photo restoration output')"
      ],
      "metadata": {
        "id": "2dXsV_19m_sw"
      },
      "execution_count": null,
      "outputs": []
    },
    {
      "cell_type": "markdown",
      "source": [
        "# Colorization"
      ],
      "metadata": {
        "id": "daKy6sUHpqDJ"
      }
    },
    {
      "cell_type": "code",
      "source": [
        "%cd /content/DDNM\n",
        "\n",
        "# defaultのテスト画像の名前変更\n",
        "!mv ./exp/datasets/imagenet/imagenet ./exp/datasets/imagenet/org_imagenet\n",
        "!mv ./exp/imagenet_val_1k.txt ./exp/org_imagenet_val_1k.txt \n",
        "\n",
        "!mkdir -p ./exp/datasets/imagenet/imagenet\n",
        "!touch ./exp/imagenet_val_1k.txt\n",
        "!echo \"test01.jpg 0\" >> /content/DDNM/exp/imagenet_val_1k.txt\n",
        "\n",
        "!wget -c https://i0.wp.com/helenbushe.com/wp-content/uploads/2016/06/12542638003_6cbe8fabc5_b-685x1024.jpg \\\n",
        "      -O ./exp/datasets/imagenet/imagenet/test01.jpg"
      ],
      "metadata": {
        "id": "z2EQlrR7qADH"
      },
      "execution_count": null,
      "outputs": []
    },
    {
      "cell_type": "code",
      "source": [
        "# base path\n",
        "exp = './exp'\n",
        "# input dir {exp}/datasets/{in_dir}\n",
        "in_dir = 'imagenet'\n",
        "# output dir\n",
        "out_dir = 'co_results' # {exp}/image_sample/{out_dir}\n",
        "# tasks\n",
        "tasks = 'colorization' #@param ['cs_walshhadamard', 'cs_blockbased', 'inpainting', 'denoising', 'deblur_uni', 'deblur_gauss', 'deblur_aniso', 'sr_averagepooling', 'sr_bicubic', 'colorization', 'mask_color_sr']\n",
        "# config path configs/{config_path}\n",
        "config_path = 'imagenet_256.yml'"
      ],
      "metadata": {
        "id": "aLMyBuOppqo9"
      },
      "execution_count": null,
      "outputs": []
    },
    {
      "cell_type": "code",
      "source": [
        "%cd /content/DDNM\n",
        "\n",
        "!python main.py \\\n",
        "  --ni --simplified \\\n",
        "  --config {config_path} \\\n",
        "  --path_y {in_dir} \\\n",
        "  --eta 0.85 \\\n",
        "  --deg {tasks} \\\n",
        "  --sigma_y 0. \\\n",
        "  --exp {exp} \\\n",
        "  -i {out_dir}"
      ],
      "metadata": {
        "id": "5SsHEaOVq5NI"
      },
      "execution_count": null,
      "outputs": []
    },
    {
      "cell_type": "code",
      "source": [
        "input_imgs = glob.glob(f'{exp}/image_samples/{out_dir}/Apy/Apy_*.png')\n",
        "input_imgs.sort()\n",
        "output_imgs = glob.glob(f'{exp}/image_samples/{out_dir}/*.png')\n",
        "output_imgs.sort()\n",
        "\n",
        "for i, o in zip(input_imgs, output_imgs):\n",
        "  in_img = Image.open(i)\n",
        "  out_img = Image.open(o)\n",
        "\n",
        "  fig = plt.figure(num=None, figsize=(12, 5))\n",
        "\n",
        "  ax = fig.add_subplot(1, 2, 1, xticks=[], yticks=[])\n",
        "  plt.imshow(np.asarray(in_img))\n",
        "  ax.set_title('input')\n",
        "\n",
        "  ax = fig.add_subplot(1, 2, 2, xticks=[], yticks=[])\n",
        "  plt.imshow(np.asarray(out_img))\n",
        "  ax.set_title('colorization output')"
      ],
      "metadata": {
        "id": "FrT0wLAYq8Hg"
      },
      "execution_count": null,
      "outputs": []
    }
  ],
  "metadata": {
    "accelerator": "GPU",
    "colab": {
      "provenance": []
    },
    "kernelspec": {
      "display_name": "Python 3.10.4 64-bit",
      "language": "python",
      "name": "python3"
    },
    "language_info": {
      "name": "python",
      "version": "3.10.4"
    },
    "orig_nbformat": 4,
    "vscode": {
      "interpreter": {
        "hash": "69158ccfe43d0b962045f592ede11796dd42f250837ab62152c8bc6cd100a15b"
      }
    }
  },
  "nbformat": 4,
  "nbformat_minor": 0
}