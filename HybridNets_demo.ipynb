{
  "cells": [
    {
      "cell_type": "markdown",
      "metadata": {
        "id": "RZdBD_DR4fnC"
      },
      "source": [
        "論文<br>\n",
        "https://arxiv.org/abs/2203.09035<br>\n",
        "<br>  \n",
        "GitHub<br>\n",
        "https://github.com/datvuthanh/HybridNets<br>\n",
        "<br>\n",
        "<a href=\"https://colab.research.google.com/github/kaz12tech/ai_demos/blob/master/HybridNets_demo.ipynb\" target=\"_blank\"><img src=\"https://colab.research.google.com/assets/colab-badge.svg\" alt=\"Open In Colab\"/></a>"
      ]
    },
    {
      "cell_type": "markdown",
      "metadata": {
        "id": "e2pkXE0u4fnF"
      },
      "source": [
        "# 環境セットアップ"
      ]
    },
    {
      "cell_type": "markdown",
      "metadata": {
        "id": "_ju4tJ294fnH"
      },
      "source": [
        "## GitHubからソースコードを取得"
      ]
    },
    {
      "cell_type": "code",
      "execution_count": null,
      "metadata": {
        "id": "aIKLQm7qRvef"
      },
      "outputs": [],
      "source": [
        "!git clone https://github.com/datvuthanh/HybridNets.git\n",
        "\n",
        "%cd /content/HybridNets\n",
        "# Commits on Feb 14, 2023\n",
        "!git checkout 1cc6a1b8b3452d6728e7e276ed3fb4c08f1d9d39"
      ]
    },
    {
      "cell_type": "markdown",
      "metadata": {
        "id": "mwrm0Vxr4fnH"
      },
      "source": [
        "## ライブラリのインストール"
      ]
    },
    {
      "cell_type": "code",
      "execution_count": null,
      "metadata": {
        "id": "P9NtSpRkvmKo"
      },
      "outputs": [],
      "source": [
        "%cd /content/HybridNets\n",
        "!apt-get install git unzip wget ffmpeg libsm6 libxext6 -y\n",
        "\n",
        "!pip install -r requirements.txt\n",
        "!pip install --upgrade gdown\n",
        "!pip install moviepy==0.2.3.5 imageio==2.4.1\n",
        "!pip install --upgrade --no-cache-dir gdown albumentations opencv-python"
      ]
    },
    {
      "cell_type": "markdown",
      "metadata": {
        "id": "gnw8nBUM4fnI"
      },
      "source": [
        "# 学習済みモデルのセットアップ"
      ]
    },
    {
      "cell_type": "code",
      "execution_count": null,
      "metadata": {
        "id": "Mah2CWE3SRvJ"
      },
      "outputs": [],
      "source": [
        "!mkdir weights\n",
        "!curl -L -o weights/hybridnets.pth https://github.com/datvuthanh/HybridNets/releases/download/v1.0/hybridnets.pth"
      ]
    },
    {
      "cell_type": "markdown",
      "metadata": {
        "id": "gd3Jamp44fnL"
      },
      "source": [
        "# predict"
      ]
    },
    {
      "cell_type": "code",
      "execution_count": null,
      "metadata": {
        "id": "IPJApueaBhsF"
      },
      "outputs": [],
      "source": [
        "# --cuda FalseでCPUのみ\n",
        "!python hybridnets_test.py --cuda True"
      ]
    },
    {
      "cell_type": "code",
      "execution_count": null,
      "metadata": {
        "id": "ekHKB0zcQD_Q"
      },
      "outputs": [],
      "source": [
        "!python hybridnets_test_videos.py --cuda True"
      ]
    },
    {
      "cell_type": "markdown",
      "metadata": {
        "id": "-S2jfmqg4fnL"
      },
      "source": [
        "## 結果の表示"
      ]
    },
    {
      "cell_type": "code",
      "execution_count": null,
      "metadata": {
        "id": "HrqDfTkQYxve"
      },
      "outputs": [],
      "source": [
        "from moviepy.editor import *\n",
        "from moviepy.video.fx.resize import resize\n",
        "clip = VideoFileClip(\"/content/HybridNets/demo_result/0.mp4\")\n",
        "clip = resize(clip, height=420)\n",
        "clip.ipython_display()"
      ]
    },
    {
      "cell_type": "markdown",
      "metadata": {
        "id": "2xUgQgLmasn6"
      },
      "source": [
        "# アップロードした動画のPredict\n",
        "使用動画<br>\n",
        "https://pixabay.com/ja/videos/%E9%AB%98%E9%80%9F%E9%81%93%E8%B7%AF-%E3%83%88%E3%83%A9%E3%83%95%E3%82%A3%E3%83%83%E3%82%AF-%E8%BB%8A-8357/"
      ]
    },
    {
      "cell_type": "code",
      "execution_count": null,
      "metadata": {
        "id": "-cuwOLn_Zwzb"
      },
      "outputs": [],
      "source": [
        "%cd /content/HybridNets\n",
        "!rm -rf upload\n",
        "!mkdir -p upload\n",
        "%cd upload\n",
        "\n",
        "import os\n",
        "from google.colab import files\n",
        "\n",
        "uploaded = files.upload()\n",
        "uploaded = list(uploaded.keys())\n",
        "file_name = uploaded[0]\n",
        "\n",
        "# 半角スペース除去\n",
        "rename = file_name.replace(\" \", \"\")\n",
        "os.rename(file_name, rename)\n",
        "\n",
        "# 切り出し\n",
        "clip_video = \"/content/HybridNets/upload/subclip.mp4\"\n",
        "clip = VideoFileClip(rename)\n",
        "# 1~7秒までを切り出し\n",
        "sub_clip = clip.subclip(1, 7)\n",
        "sub_clip.write_videofile(clip_video)"
      ]
    },
    {
      "cell_type": "markdown",
      "metadata": {
        "id": "fOo43zAJ4fnN"
      },
      "source": [
        "# predict"
      ]
    },
    {
      "cell_type": "code",
      "execution_count": null,
      "metadata": {
        "id": "BDLkcZ0JazG-"
      },
      "outputs": [],
      "source": [
        "%cd /content/HybridNets\n",
        "!python hybridnets_test_videos.py \\\n",
        "  --cuda True\\\n",
        "  --source /content/HybridNets/upload \\\n",
        "  --output /content/HybridNets/upload"
      ]
    },
    {
      "cell_type": "markdown",
      "metadata": {
        "id": "5k_uqUpQ4fnN"
      },
      "source": [
        "## 結果の表示"
      ]
    },
    {
      "cell_type": "code",
      "execution_count": null,
      "metadata": {
        "id": "KcP9REHubLYb"
      },
      "outputs": [],
      "source": [
        "clip = VideoFileClip(\"/content/HybridNets/upload/0.mp4\")\n",
        "clip = resize(clip, height=420)\n",
        "clip.ipython_display()"
      ]
    }
  ],
  "metadata": {
    "accelerator": "GPU",
    "colab": {
      "provenance": []
    },
    "kernelspec": {
      "display_name": "Python 3",
      "name": "python3"
    },
    "language_info": {
      "name": "python"
    }
  },
  "nbformat": 4,
  "nbformat_minor": 0
}