{
  "cells": [
    {
      "cell_type": "markdown",
      "metadata": {
        "id": "ze17Whr66OiC"
      },
      "source": [
        "論文<br>\n",
        "https://arxiv.org/abs/2304.06790<br>\n",
        "<br>\n",
        "GitHub<br>\n",
        "https://github.com/geekyutao/inpaint-anything<br>\n",
        "<br>\n",
        "<a href=\"https://colab.research.google.com/github/kaz12tech/ai_demos/blob/master/Inpaint_Anything_demo.ipynb\" target=\"_blank\"><img src=\"https://colab.research.google.com/assets/colab-badge.svg\" alt=\"Open In Colab\"/></a>"
      ]
    },
    {
      "cell_type": "markdown",
      "metadata": {
        "id": "GOLKpkBa6OiI"
      },
      "source": [
        "# setup environment"
      ]
    },
    {
      "cell_type": "markdown",
      "metadata": {
        "id": "Jz8gTEgP6OiJ"
      },
      "source": [
        "## git clone"
      ]
    },
    {
      "cell_type": "code",
      "execution_count": null,
      "metadata": {
        "colab": {
          "base_uri": "https://localhost:8080/"
        },
        "id": "SO7I9ozfFpmW",
        "outputId": "d366819d-6bdc-490b-82e1-91e2bbe8d1ea"
      },
      "outputs": [],
      "source": [
        "%cd /content\n",
        "\n",
        "!git clone https://github.com/geekyutao/Inpaint-Anything.git\n",
        "\n",
        "%cd /content/Inpaint-Anything\n",
        "# Commits on Apr 24, 2023\n",
        "!git checkout 6bf630535c9e3f06e01c0af63f2e206f38483c7c"
      ]
    },
    {
      "cell_type": "markdown",
      "metadata": {
        "id": "07hg4xM8tYCV"
      },
      "source": [
        "## install libraries"
      ]
    },
    {
      "cell_type": "code",
      "execution_count": null,
      "metadata": {
        "colab": {
          "base_uri": "https://localhost:8080/"
        },
        "id": "gRHm5XmrGGNB",
        "outputId": "bc54037a-e99d-4c72-97be-0696a53d837e"
      },
      "outputs": [],
      "source": [
        "%cd /content/Inpaint-Anything\n",
        "\n",
        "# change pytorch version\n",
        "!pip uninstall torch torchvision torchaudio torchtext torchdata -y\n",
        "!pip install torch==1.8.0+cu111 torchvision==0.9.0+cu111 torchaudio==0.8.0 -f https://download.pytorch.org/whl/torch_stable.html --quiet\n",
        "\n",
        "!pip uninstall yellowbrick imbalanced-learn -y\n",
        "!python -m pip install -e segment_anything\n",
        "!python -m pip install -r lama/requirements.txt\n",
        "!python -m pip install yellowbrick imbalanced-learn\n",
        "!pip install huggingface-hub"
      ]
    },
    {
      "cell_type": "markdown",
      "metadata": {
        "id": "L6sssZcc9CBF"
      },
      "source": [
        "## import libraries"
      ]
    },
    {
      "cell_type": "code",
      "execution_count": null,
      "metadata": {
        "id": "34QEYM0rp56Q"
      },
      "outputs": [],
      "source": []
    },
    {
      "cell_type": "markdown",
      "metadata": {
        "id": "2HpxxwFGYPo_"
      },
      "source": [
        "# Setup pretrained models"
      ]
    },
    {
      "cell_type": "code",
      "execution_count": null,
      "metadata": {
        "colab": {
          "base_uri": "https://localhost:8080/"
        },
        "id": "dLrvHPVpYR14",
        "outputId": "35b9204e-0d92-4154-98db-0f5e071a4b21"
      },
      "outputs": [],
      "source": [
        "%cd /content/Inpaint-Anything\n",
        "\n",
        "!mkdir -p pretrained_models\n",
        "\n",
        "!wget -c https://dl.fbaipublicfiles.com/segment_anything/sam_vit_h_4b8939.pth \\\n",
        "      -O ./pretrained_models/sam_vit_h_4b8939.pth\n",
        "\n",
        "# ダウンロード不安定なためHuggingFace使用\n",
        "# !curl -L $(yadisk-direct https://disk.yandex.ru/d/ouP6l8VJ0HpMZg) -o big-lama.zip\n",
        "# !unzip big-lama.zip\n",
        "# !mv big-lama ./pretrained_models\n",
        "!mkdir -p pretrained_models/big-lama/models\n",
        "!wget -c https://huggingface.co/camenduru/big-lama/resolve/main/big-lama/models/best.ckpt \\\n",
        "      -O pretrained_models/big-lama/models/best.ckpt\n",
        "!wget -c https://huggingface.co/camenduru/big-lama/raw/main/big-lama/config.yaml \\\n",
        "      -O pretrained_models/big-lama/config.yaml"
      ]
    },
    {
      "cell_type": "markdown",
      "metadata": {
        "id": "NRxiLMUnX2Y7"
      },
      "source": [
        "# Remove anything"
      ]
    },
    {
      "cell_type": "code",
      "execution_count": null,
      "metadata": {
        "colab": {
          "base_uri": "https://localhost:8080/"
        },
        "id": "6b6TNREZXmAh",
        "outputId": "1c600b4d-b350-49b8-bb76-0d7cf69938cb"
      },
      "outputs": [],
      "source": [
        "%cd /content/Inpaint-Anything\n",
        "\n",
        "!python remove_anything.py \\\n",
        "    --input_img ./example/remove-anything/dog.jpg \\\n",
        "    --point_coords 200 450 \\\n",
        "    --point_labels 1 \\\n",
        "    --dilate_kernel_size 15 \\\n",
        "    --output_dir ./results \\\n",
        "    --sam_model_type \"vit_h\" \\\n",
        "    --sam_ckpt ./pretrained_models/sam_vit_h_4b8939.pth \\\n",
        "    --lama_config ./lama/configs/prediction/default.yaml \\\n",
        "    --lama_ckpt ./pretrained_models/big-lama/"
      ]
    },
    {
      "cell_type": "code",
      "execution_count": null,
      "metadata": {
        "colab": {
          "base_uri": "https://localhost:8080/",
          "height": 227
        },
        "id": "mm-KRzF3myim",
        "outputId": "17256f0e-bc5d-4a53-e664-08ba78b30676"
      },
      "outputs": [],
      "source": [
        "from PIL import Image\n",
        "import matplotlib.pyplot as plt\n",
        "\n",
        "# show inference result\n",
        "fig = plt.figure(figsize=(15, 10))\n",
        "\n",
        "# input image\n",
        "ax1 = fig.add_subplot(1, 3, 1)\n",
        "plt.title('original', fontsize=16)\n",
        "ax1.axis('off')\n",
        "ax1.imshow( Image.open(\"./example/remove-anything/dog.jpg\") )\n",
        "\n",
        "ax1 = fig.add_subplot(1, 3, 2)\n",
        "plt.title('mask', fontsize=16)\n",
        "ax1.axis('off')\n",
        "ax1.imshow( Image.open(\"./results/dog/with_mask_1.png\") )\n",
        "\n",
        "ax2 = fig.add_subplot(1, 3, 3)\n",
        "plt.title('inpainted', fontsize=16)\n",
        "ax2.axis('off')\n",
        "ax2.imshow( Image.open(\"./results/dog/inpainted_with_mask_1.png\") )\n",
        "\n",
        "plt.show()"
      ]
    }
  ],
  "metadata": {
    "accelerator": "GPU",
    "colab": {
      "provenance": []
    },
    "kernelspec": {
      "display_name": "Python 3.10.4 64-bit",
      "language": "python",
      "name": "python3"
    },
    "language_info": {
      "name": "python",
      "version": "3.10.4"
    },
    "vscode": {
      "interpreter": {
        "hash": "69158ccfe43d0b962045f592ede11796dd42f250837ab62152c8bc6cd100a15b"
      }
    }
  },
  "nbformat": 4,
  "nbformat_minor": 0
}
