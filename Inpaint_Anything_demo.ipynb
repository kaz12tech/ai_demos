{
  "cells": [
    {
      "cell_type": "markdown",
      "metadata": {
        "id": "ze17Whr66OiC"
      },
      "source": [
        "論文<br>\n",
        "https://arxiv.org/abs/2304.06790<br>\n",
        "<br>\n",
        "GitHub<br>\n",
        "https://github.com/geekyutao/inpaint-anything<br>\n",
        "<br>\n",
        "<a href=\"https://colab.research.google.com/github/kaz12tech/ai_demos/blob/master/Inpaint_Anything_demo.ipynb\" target=\"_blank\"><img src=\"https://colab.research.google.com/assets/colab-badge.svg\" alt=\"Open In Colab\"/></a>"
      ]
    },
    {
      "cell_type": "markdown",
      "metadata": {
        "id": "GOLKpkBa6OiI"
      },
      "source": [
        "# setup environment"
      ]
    },
    {
      "cell_type": "markdown",
      "metadata": {
        "id": "Jz8gTEgP6OiJ"
      },
      "source": [
        "## git clone"
      ]
    },
    {
      "cell_type": "code",
      "execution_count": null,
      "metadata": {
        "colab": {
          "base_uri": "https://localhost:8080/"
        },
        "id": "SO7I9ozfFpmW",
        "outputId": "e8e0652c-c989-4e8f-a1bc-821261814e70"
      },
      "outputs": [],
      "source": [
        "%cd /content\n",
        "\n",
        "!git clone https://github.com/geekyutao/Inpaint-Anything.git\n",
        "\n",
        "%cd /content/Inpaint-Anything\n",
        "# Commits on Apr 24, 2023\n",
        "!git checkout 6bf630535c9e3f06e01c0af63f2e206f38483c7c"
      ]
    },
    {
      "cell_type": "markdown",
      "metadata": {
        "id": "07hg4xM8tYCV"
      },
      "source": [
        "## install libraries"
      ]
    },
    {
      "cell_type": "code",
      "execution_count": null,
      "metadata": {
        "colab": {
          "base_uri": "https://localhost:8080/"
        },
        "id": "gRHm5XmrGGNB",
        "outputId": "f0cff39c-6285-4b6a-c94b-146c26f92f1d"
      },
      "outputs": [],
      "source": [
        "%cd /content/Inpaint-Anything\n",
        "\n",
        "# change pytorch version\n",
        "!pip uninstall torch torchvision torchaudio torchtext torchdata -y\n",
        "!pip install torch==1.8.0+cu111 torchvision==0.9.0+cu111 torchaudio==0.8.0 -f https://download.pytorch.org/whl/torch_stable.html --quiet\n",
        "\n",
        "!pip uninstall yellowbrick imbalanced-learn -y\n",
        "!python -m pip install -e segment_anything\n",
        "!python -m pip install -r lama/requirements.txt\n",
        "!python -m pip install yellowbrick imbalanced-learn\n",
        "!pip install huggingface-hub"
      ]
    },
    {
      "cell_type": "markdown",
      "metadata": {
        "id": "L6sssZcc9CBF"
      },
      "source": [
        "## import libraries"
      ]
    },
    {
      "cell_type": "code",
      "execution_count": null,
      "metadata": {
        "id": "34QEYM0rp56Q"
      },
      "outputs": [],
      "source": [
        "import cv2\n",
        "from google.colab.patches import cv2_imshow\n",
        "\n",
        "from PIL import Image\n",
        "import matplotlib.pyplot as plt"
      ]
    },
    {
      "cell_type": "markdown",
      "metadata": {
        "id": "2HpxxwFGYPo_"
      },
      "source": [
        "# Setup pretrained models"
      ]
    },
    {
      "cell_type": "code",
      "execution_count": null,
      "metadata": {
        "colab": {
          "base_uri": "https://localhost:8080/"
        },
        "id": "dLrvHPVpYR14",
        "outputId": "8556fe31-65ff-456a-8172-e6ad8c9b167c"
      },
      "outputs": [],
      "source": [
        "%cd /content/Inpaint-Anything\n",
        "\n",
        "!mkdir -p pretrained_models\n",
        "\n",
        "!wget -c https://dl.fbaipublicfiles.com/segment_anything/sam_vit_h_4b8939.pth \\\n",
        "      -O ./pretrained_models/sam_vit_h_4b8939.pth\n",
        "\n",
        "# ダウンロード不安定なためHuggingFace使用\n",
        "# !curl -L $(yadisk-direct https://disk.yandex.ru/d/ouP6l8VJ0HpMZg) -o big-lama.zip\n",
        "# !unzip big-lama.zip\n",
        "# !mv big-lama ./pretrained_models\n",
        "!mkdir -p pretrained_models/big-lama/models\n",
        "!wget -c https://huggingface.co/camenduru/big-lama/resolve/main/big-lama/models/best.ckpt \\\n",
        "      -O pretrained_models/big-lama/models/best.ckpt\n",
        "!wget -c https://huggingface.co/camenduru/big-lama/raw/main/big-lama/config.yaml \\\n",
        "      -O pretrained_models/big-lama/config.yaml"
      ]
    },
    {
      "cell_type": "markdown",
      "metadata": {
        "id": "NRxiLMUnX2Y7"
      },
      "source": [
        "# Remove anything"
      ]
    },
    {
      "cell_type": "code",
      "execution_count": null,
      "metadata": {
        "colab": {
          "base_uri": "https://localhost:8080/"
        },
        "id": "6b6TNREZXmAh",
        "outputId": "37afa6bc-45e5-44bc-c57a-086d7135c394"
      },
      "outputs": [],
      "source": [
        "%cd /content/Inpaint-Anything\n",
        "\n",
        "!python remove_anything.py \\\n",
        "    --input_img ./example/remove-anything/dog.jpg \\\n",
        "    --point_coords 200 450 \\\n",
        "    --point_labels 1 \\\n",
        "    --dilate_kernel_size 15 \\\n",
        "    --output_dir ./results \\\n",
        "    --sam_model_type \"vit_h\" \\\n",
        "    --sam_ckpt ./pretrained_models/sam_vit_h_4b8939.pth \\\n",
        "    --lama_config ./lama/configs/prediction/default.yaml \\\n",
        "    --lama_ckpt ./pretrained_models/big-lama/"
      ]
    },
    {
      "cell_type": "code",
      "execution_count": null,
      "metadata": {
        "colab": {
          "base_uri": "https://localhost:8080/",
          "height": 227
        },
        "id": "mm-KRzF3myim",
        "outputId": "c2b8c3d3-168b-48f3-92f1-2264a92767d1"
      },
      "outputs": [],
      "source": [
        "# show inference result\n",
        "fig = plt.figure(figsize=(15, 10))\n",
        "\n",
        "# input image\n",
        "ax1 = fig.add_subplot(1, 3, 1)\n",
        "plt.title('original', fontsize=16)\n",
        "ax1.axis('off')\n",
        "ax1.imshow( Image.open(\"./example/remove-anything/dog.jpg\") )\n",
        "\n",
        "ax1 = fig.add_subplot(1, 3, 2)\n",
        "plt.title('mask', fontsize=16)\n",
        "ax1.axis('off')\n",
        "ax1.imshow( Image.open(\"./results/dog/with_mask_1.png\") )\n",
        "\n",
        "ax2 = fig.add_subplot(1, 3, 3)\n",
        "plt.title('inpainted', fontsize=16)\n",
        "ax2.axis('off')\n",
        "ax2.imshow( Image.open(\"./results/dog/inpainted_with_mask_1.png\") )\n",
        "\n",
        "plt.show()"
      ]
    },
    {
      "attachments": {},
      "cell_type": "markdown",
      "metadata": {
        "id": "6SaSwmhtdfpS"
      },
      "source": [
        "# Remove anything 2"
      ]
    },
    {
      "cell_type": "code",
      "execution_count": null,
      "metadata": {
        "colab": {
          "base_uri": "https://localhost:8080/"
        },
        "id": "8F6sW9hJd5GD",
        "outputId": "67434ceb-5ed4-486a-b0d5-5ae267b8d9ed"
      },
      "outputs": [],
      "source": [
        "!wget -c https://www.pakutaso.com/shared/img/thumb/JK92_udekumu20150208091355_TP_V4.jpg \\\n",
        "      -O ./test01.jpg"
      ]
    },
    {
      "cell_type": "code",
      "execution_count": null,
      "metadata": {
        "id": "Nk9oiq20emQf"
      },
      "outputs": [],
      "source": [
        "point_x = 375 #@param {type:\"slider\", min:0, max:800, step:1}\n",
        "point_y = 120 #@param {type:\"slider\", min:0, max:462, step:1}"
      ]
    },
    {
      "cell_type": "code",
      "execution_count": null,
      "metadata": {
        "colab": {
          "base_uri": "https://localhost:8080/",
          "height": 479
        },
        "id": "x1HqnC0veFLA",
        "outputId": "f0fb5c8b-a3e4-49e0-98ec-459ee1a1a639"
      },
      "outputs": [],
      "source": [
        "img = cv2.imread('./test01.jpg')\n",
        "\n",
        "cv2.circle(\n",
        "    img,  \n",
        "    (point_x, point_y), # 座標\n",
        "    5,                  # 円の半径 \n",
        "    (0,0,255),          # カラー\n",
        "    -1                  # 太さ\n",
        "    ) \n",
        "\n",
        "cv2_imshow(img)"
      ]
    },
    {
      "cell_type": "code",
      "execution_count": null,
      "metadata": {
        "colab": {
          "base_uri": "https://localhost:8080/"
        },
        "id": "rmIE25K0fpj6",
        "outputId": "4ab0778b-0783-44aa-ebbc-60443d31850c"
      },
      "outputs": [],
      "source": [
        "%cd /content/Inpaint-Anything\n",
        "\n",
        "!python remove_anything.py \\\n",
        "    --input_img ./test01.jpg \\\n",
        "    --point_coords {point_x} {point_y} \\\n",
        "    --point_labels 1 \\\n",
        "    --dilate_kernel_size 15 \\\n",
        "    --output_dir ./results \\\n",
        "    --sam_model_type \"vit_h\" \\\n",
        "    --sam_ckpt ./pretrained_models/sam_vit_h_4b8939.pth \\\n",
        "    --lama_config ./lama/configs/prediction/default.yaml \\\n",
        "    --lama_ckpt ./pretrained_models/big-lama/"
      ]
    },
    {
      "cell_type": "code",
      "execution_count": null,
      "metadata": {
        "colab": {
          "base_uri": "https://localhost:8080/",
          "height": 204
        },
        "id": "VECvUCeSkFCG",
        "outputId": "5a894c8b-a272-4d1a-db2f-63d822103f1c"
      },
      "outputs": [],
      "source": [
        "# show inference result\n",
        "fig = plt.figure(figsize=(15, 10))\n",
        "\n",
        "# input image\n",
        "ax1 = fig.add_subplot(1, 3, 1)\n",
        "plt.title('original', fontsize=16)\n",
        "ax1.axis('off')\n",
        "ax1.imshow( Image.open(\"./test01.jpg\") )\n",
        "\n",
        "ax1 = fig.add_subplot(1, 3, 2)\n",
        "plt.title('mask', fontsize=16)\n",
        "ax1.axis('off')\n",
        "ax1.imshow( Image.open(\"./results/test01/with_mask_2.png\") )\n",
        "\n",
        "ax2 = fig.add_subplot(1, 3, 3)\n",
        "plt.title('inpainted', fontsize=16)\n",
        "ax2.axis('off')\n",
        "ax2.imshow( Image.open(\"./results/test01/inpainted_with_mask_2.png\") )\n",
        "\n",
        "plt.show()"
      ]
    }
  ],
  "metadata": {
    "accelerator": "GPU",
    "colab": {
      "provenance": []
    },
    "kernelspec": {
      "display_name": "Python 3.10.4 64-bit",
      "language": "python",
      "name": "python3"
    },
    "language_info": {
      "name": "python",
      "version": "3.10.4"
    },
    "vscode": {
      "interpreter": {
        "hash": "69158ccfe43d0b962045f592ede11796dd42f250837ab62152c8bc6cd100a15b"
      }
    }
  },
  "nbformat": 4,
  "nbformat_minor": 0
}
