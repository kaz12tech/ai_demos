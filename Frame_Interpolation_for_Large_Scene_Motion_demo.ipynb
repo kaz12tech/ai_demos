{
  "cells": [
    {
      "cell_type": "markdown",
      "metadata": {
        "id": "l3iDngOuTOcy"
      },
      "source": [
        "論文  \n",
        "https://arxiv.org/abs/2202.04901  \n",
        "  \n",
        "GitHub  \n",
        "https://github.com/google-research/frame-interpolation  \n",
        "  \n",
        "<a href=\"https://colab.research.google.com/github/kaz12tech/ai_demos/blob/master/Frame_Interpolation_for_Large_Scene_Motion.ipynb\" target=\"_blank\"><img src=\"https://colab.research.google.com/assets/colab-badge.svg\" alt=\"Open In Colab\"/></a>"
      ]
    },
    {
      "cell_type": "markdown",
      "metadata": {
        "id": "39JlgMiNTOc4"
      },
      "source": [
        "# ランタイムの設定\n",
        "「ランタイム」→「ランタイムのタイプを変更」→「ハードウェアアクセラレータ」をGPUに変更"
      ]
    },
    {
      "cell_type": "markdown",
      "metadata": {
        "id": "qzColHIJTOc5"
      },
      "source": [
        "# 実行方法\n",
        "「ランタイム」→「すべてのセルを実行」を選択"
      ]
    },
    {
      "cell_type": "code",
      "execution_count": null,
      "metadata": {
        "id": "m0RHOC3STOc6"
      },
      "outputs": [],
      "source": [
        "!nvidia-smi"
      ]
    },
    {
      "cell_type": "markdown",
      "metadata": {
        "id": "hCVmfemRTOc7"
      },
      "source": [
        "# GitHubからFILMのソースコードを取得"
      ]
    },
    {
      "cell_type": "code",
      "execution_count": null,
      "metadata": {
        "id": "5kaQH9a2TOc8"
      },
      "outputs": [],
      "source": [
        "%cd /content/\n",
        "\n",
        "!git clone https://github.com/google-research/frame-interpolation frame_interpolation\n",
        "\n",
        "\n",
        "%cd /content/frame_interpolation\n",
        "# Commits on Jan 14, 2023\n",
        "!git checkout 69f8708f08e62c2edf46a27616a4bfcf083e2076"
      ]
    },
    {
      "cell_type": "markdown",
      "metadata": {
        "id": "0IlFyjOXTcAu"
      },
      "source": [
        "# ライブラリのインストール"
      ]
    },
    {
      "cell_type": "code",
      "execution_count": null,
      "metadata": {
        "id": "f5L__goQTe23"
      },
      "outputs": [],
      "source": [
        "%cd /content/frame_interpolation\n",
        "\n",
        "!pip install apache-beam==2.48.0 mediapy==1.1.8\n",
        "!apt-get install ffmpeg\n",
        "!pip install --upgrade gdown"
      ]
    },
    {
      "cell_type": "markdown",
      "metadata": {
        "id": "fE240tomUbTn"
      },
      "source": [
        "# 学習済みモデルのロード"
      ]
    },
    {
      "cell_type": "code",
      "execution_count": null,
      "metadata": {
        "id": "WpHB0L0wUHFw"
      },
      "outputs": [],
      "source": [
        "%cd /content/frame_interpolation\n",
        "!mkdir pretrained_models\n",
        "\n",
        "!gdown https://drive.google.com/drive/folders/131_--QrieM4aQbbLWrUtbO2cGbX8-war -O ./pretrained_models --folder\n",
        "!gdown https://drive.google.com/drive/folders/1gKgBfCQyOeweALLf7YAzWqh3ZkPgu5e5 -O ./pretrained_models --folder"
      ]
    },
    {
      "cell_type": "markdown",
      "metadata": {
        "id": "FkeqnIsrjGiT"
      },
      "source": [
        "# One mid-frame interpolation(1枚の中間フレーム補完)"
      ]
    },
    {
      "cell_type": "code",
      "execution_count": null,
      "metadata": {
        "id": "z2S60dagjJrg"
      },
      "outputs": [],
      "source": [
        "%cd /content/frame_interpolation\n",
        "\n",
        "!python3 -m eval.interpolator_test \\\n",
        "     --frame1 ./photos/one.png \\\n",
        "     --frame2 ./photos/two.png \\\n",
        "     --model_path ./pretrained_models/Style/saved_model \\\n",
        "     --output_frame ./photos/middle.png"
      ]
    },
    {
      "cell_type": "markdown",
      "metadata": {
        "id": "SAPQJcvJnKQ2"
      },
      "source": [
        "# Many in-between frames interpolation(複数枚の中間フレーム補完)"
      ]
    },
    {
      "cell_type": "code",
      "execution_count": null,
      "metadata": {
        "id": "ct-Ai-wenKx6"
      },
      "outputs": [],
      "source": [
        "%cd /content/frame_interpolation\n",
        "\n",
        "!python3 -m eval.interpolator_cli \\\n",
        "     --pattern /content/frame_interpolation/photos \\\n",
        "     --model_path ./pretrained_models/Style/saved_model \\\n",
        "     --times_to_interpolate 6 \\\n",
        "     --output_video"
      ]
    },
    {
      "cell_type": "code",
      "execution_count": null,
      "metadata": {
        "id": "ECFiJT3EqKrF"
      },
      "outputs": [],
      "source": [
        "from moviepy.editor import *\n",
        "from moviepy.video.fx.resize import resize\n",
        "\n",
        "clip = VideoFileClip(\"./photos/interpolated.mp4\")\n",
        "# 表示用にリサイズ\n",
        "clip = resize(clip, height=400)\n",
        "clip.ipython_display()\n"
      ]
    },
    {
      "cell_type": "markdown",
      "metadata": {
        "id": "GVYW7Ln3vFyh"
      },
      "source": [
        "# 任意の動画のフレームを切り出し中間フレームを補完させてみる\n",
        "使用動画  \n",
        "https://pixabay.com/ja/videos/%E5%A5%B3%E6%80%A7-%E7%AC%91%E9%A1%94-%E5%96%9C%E3%81%B3-%E5%B9%B8%E7%A6%8F-%E5%85%AC%E5%9C%92-83860/"
      ]
    },
    {
      "cell_type": "code",
      "execution_count": null,
      "metadata": {
        "id": "HdC0JKSZvNAU"
      },
      "outputs": [],
      "source": [
        "%cd /content/frame_interpolation/\n",
        "!mkdir -p videos/frames\n",
        "%cd videos\n",
        "\n",
        "from google.colab import files\n",
        "\n",
        "uploaded = files.upload()\n",
        "uploaded = list(uploaded.keys())\n",
        "file_name = uploaded[0]"
      ]
    },
    {
      "cell_type": "markdown",
      "metadata": {
        "id": "dlRM1rr6wiyZ"
      },
      "source": [
        "## 動画をフレームに分割"
      ]
    },
    {
      "cell_type": "code",
      "execution_count": null,
      "metadata": {
        "id": "8S0UKBgEyCes"
      },
      "outputs": [],
      "source": [
        "%cd /content/frame_interpolation/videos\n",
        "\n",
        "!ffmpeg -i {file_name} /content/frame_interpolation/videos/frames/frame_%d.png"
      ]
    },
    {
      "cell_type": "code",
      "execution_count": null,
      "metadata": {
        "id": "bq1u1bf10VoD"
      },
      "outputs": [],
      "source": [
        "# frame_1からframe_15の中間フレームを補完させる\n",
        "!rm -rf /content/frame_interpolation/videos/target_frames\n",
        "%cd /content/frame_interpolation/videos\n",
        "!mkdir target_frames\n",
        "!cp frames/frame_1.png target_frames\n",
        "!cp frames/frame_15.png target_frames"
      ]
    },
    {
      "cell_type": "code",
      "execution_count": null,
      "metadata": {
        "id": "lBIbMdUY0zoZ"
      },
      "outputs": [],
      "source": [
        "%cd /content/frame_interpolation\n",
        "\n",
        "!python3 -m eval.interpolator_cli \\\n",
        "     --pattern \"/content/frame_interpolation/videos/target_frames\" \\\n",
        "     --model_path ./pretrained_models/Style/saved_model \\\n",
        "     --times_to_interpolate 6 \\\n",
        "     --output_video"
      ]
    },
    {
      "cell_type": "code",
      "execution_count": null,
      "metadata": {
        "id": "wLgsHsP706yh"
      },
      "outputs": [],
      "source": [
        "from moviepy.editor import *\n",
        "from moviepy.video.fx.resize import resize\n",
        "\n",
        "clip = VideoFileClip(\"/content/frame_interpolation/videos/target_frames/interpolated.mp4\")\n",
        "# 表示用にリサイズ\n",
        "clip = resize(clip, height=520)\n",
        "clip.ipython_display()\n"
      ]
    }
  ],
  "metadata": {
    "accelerator": "GPU",
    "colab": {
      "provenance": []
    },
    "kernelspec": {
      "display_name": "Python 3",
      "name": "python3"
    },
    "language_info": {
      "name": "python"
    }
  },
  "nbformat": 4,
  "nbformat_minor": 0
}