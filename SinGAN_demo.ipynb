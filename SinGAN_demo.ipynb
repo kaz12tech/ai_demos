{
  "cells": [
    {
      "cell_type": "markdown",
      "metadata": {
        "id": "YiIyufd1P_cE"
      },
      "source": [
        "論文<br>\n",
        "https://arxiv.org/abs/1905.01164<br>\n",
        "<br>\n",
        "GitHub<br>\n",
        "https://github.com/tamarott/SinGAN<br>\n",
        "<br>\n",
        "<a href=\"https://colab.research.google.com/github/kaz12tech/ai_demos/blob/master/SinGAN_demo.ipynb\" target=\"_blank\"><img src=\"https://colab.research.google.com/assets/colab-badge.svg\" alt=\"Open In Colab\"/></a>"
      ]
    },
    {
      "cell_type": "markdown",
      "metadata": {
        "id": "bdsUQtduP_cJ"
      },
      "source": [
        "## 環境セットアップ"
      ]
    },
    {
      "cell_type": "markdown",
      "metadata": {
        "id": "7o9GvMNjP_cJ"
      },
      "source": [
        "## GPU確認"
      ]
    },
    {
      "cell_type": "code",
      "execution_count": null,
      "metadata": {
        "colab": {
          "base_uri": "https://localhost:8080/"
        },
        "id": "2PcII5fLdHnJ",
        "outputId": "ea0ec074-e806-4a6c-964d-9ce30c5bf666"
      },
      "outputs": [],
      "source": [
        "!nvidia-smi"
      ]
    },
    {
      "cell_type": "markdown",
      "metadata": {
        "id": "W_jC04mAP_cL"
      },
      "source": [
        "## GitHubからコード取得"
      ]
    },
    {
      "cell_type": "code",
      "execution_count": null,
      "metadata": {
        "colab": {
          "base_uri": "https://localhost:8080/"
        },
        "id": "R-Y5auuvnnnT",
        "outputId": "99f5b4e9-54e6-4376-b3f2-627782bb18dc"
      },
      "outputs": [],
      "source": [
        "%cd /content\n",
        "\n",
        "!git clone https://github.com/tamarott/SinGAN.git"
      ]
    },
    {
      "cell_type": "markdown",
      "metadata": {
        "id": "uWdz6XOAP_cL"
      },
      "source": [
        "## ライブラリのインストール"
      ]
    },
    {
      "cell_type": "code",
      "execution_count": null,
      "metadata": {
        "colab": {
          "base_uri": "https://localhost:8080/"
        },
        "id": "LScsvO3UppqT",
        "outputId": "7592758f-6f94-42a8-a085-6a33bca2d77e"
      },
      "outputs": [],
      "source": [
        "%cd /content/SinGAN\n",
        "\n",
        "!pip uninstall torch torchvision -y\n",
        "!pip install torch==1.4.0 torchvision==0.5.0\n",
        "!pip install -r requirements.txt"
      ]
    },
    {
      "cell_type": "code",
      "execution_count": null,
      "metadata": {
        "colab": {
          "base_uri": "https://localhost:8080/"
        },
        "id": "Q34odjYFXk7n",
        "outputId": "668172af-ee8a-403d-d0f9-1ce593823574"
      },
      "outputs": [],
      "source": [
        "%cd /content/SinGAN\n",
        "\n",
        "!python animation.py --input_name \"./lightning1.png\""
      ]
    }
  ],
  "metadata": {
    "accelerator": "GPU",
    "colab": {
      "collapsed_sections": [],
      "name": "SinGAN_demo.ipynb",
      "provenance": []
    },
    "kernelspec": {
      "display_name": "Python 3",
      "name": "python3"
    },
    "language_info": {
      "name": "python"
    },
    "orig_nbformat": 4
  },
  "nbformat": 4,
  "nbformat_minor": 0
}
