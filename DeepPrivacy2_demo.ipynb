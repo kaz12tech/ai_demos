{
  "cells": [
    {
      "cell_type": "markdown",
      "metadata": {
        "id": "9NENcrgDJv9q"
      },
      "source": [
        "論文  \n",
        "https://arxiv.org/abs/2211.09454<br>\n",
        "<br>\n",
        "GitHub<br>\n",
        "https://github.com/hukkelas/deep_privacy2<br>\n",
        "<br>\n",
        "<a href=\"https://colab.research.google.com/github/kaz12tech/ai_demos/blob/master/DeepPrivacy2_demo.ipynb\" target=\"_blank\"><img src=\"https://colab.research.google.com/assets/colab-badge.svg\" alt=\"Open In Colab\"/></a>"
      ]
    },
    {
      "cell_type": "markdown",
      "metadata": {
        "id": "LHqYjlJ4Jv9u"
      },
      "source": [
        "# 環境セットアップ"
      ]
    },
    {
      "cell_type": "markdown",
      "metadata": {
        "id": "z7jySK7RJv9v"
      },
      "source": [
        "## GPU確認"
      ]
    },
    {
      "cell_type": "code",
      "execution_count": null,
      "metadata": {
        "id": "2PcII5fLdHnJ"
      },
      "outputs": [],
      "source": [
        "!nvidia-smi"
      ]
    },
    {
      "cell_type": "markdown",
      "metadata": {
        "id": "aaAzHlBvJv9y"
      },
      "source": [
        "## GitHubからコード取得"
      ]
    },
    {
      "cell_type": "code",
      "execution_count": null,
      "metadata": {
        "id": "R-Y5auuvnnnT"
      },
      "outputs": [],
      "source": [
        "%cd /content\n",
        "\n",
        "!git clone https://github.com/hukkelas/deep_privacy2.git\n",
        "\n",
        "# Commits on Nov 30, 2022\n",
        "%cd /content/deep_privacy2\n",
        "!git checkout a06b4feaef04326504da836ce8fdecad726ba2db"
      ]
    },
    {
      "cell_type": "markdown",
      "metadata": {
        "id": "4tp-fduPJv9z"
      },
      "source": [
        "## ライブラリのインストール"
      ]
    },
    {
      "cell_type": "code",
      "execution_count": null,
      "metadata": {
        "id": "LScsvO3UppqT"
      },
      "outputs": [],
      "source": [
        "%cd /content/deep_privacy2\n",
        "\n",
        "!pip install -e .\n",
        "\n",
        "!pip install moviepy==0.2.3.5 imageio==2.4.1\n",
        "!pip install yt-dlp"
      ]
    },
    {
      "cell_type": "code",
      "execution_count": null,
      "metadata": {
        "id": "cXwOWhbxKwnY"
      },
      "outputs": [],
      "source": [
        "raise Exception('Restart RUNTIME')"
      ]
    },
    {
      "cell_type": "markdown",
      "metadata": {
        "id": "VIWoFf9MJv91"
      },
      "source": [
        "## ライブラリのインポート"
      ]
    },
    {
      "cell_type": "code",
      "execution_count": null,
      "metadata": {
        "id": "o2lxptJeo6kr"
      },
      "outputs": [],
      "source": [
        "from yt_dlp import YoutubeDL\n",
        "from moviepy.video.fx.resize import resize\n",
        "from moviepy.editor import VideoFileClip\n",
        "\n",
        "from PIL import Image\n",
        "import IPython"
      ]
    },
    {
      "cell_type": "markdown",
      "metadata": {
        "id": "v04JFalnG2g0"
      },
      "source": [
        "# テスト画像のセットアップ"
      ]
    },
    {
      "cell_type": "code",
      "execution_count": null,
      "metadata": {
        "id": "jfAxFeCyG5zP"
      },
      "outputs": [],
      "source": [
        "%cd /content/deep_privacy2\n",
        "\n",
        "!mkdir inputs outputs\n",
        "\n",
        "!wget -c https://www.pakutaso.com/shared/img/thumb/ramenPAR566252447_TP_V4.jpg \\\n",
        "      -O ./inputs/test_01.jpg"
      ]
    },
    {
      "cell_type": "code",
      "execution_count": null,
      "metadata": {
        "id": "GZ8ptuVwHQiO"
      },
      "outputs": [],
      "source": [
        "%cd /content/deep_privacy2\n",
        "\n",
        "im = Image.open('./inputs/test_01.jpg')\n",
        "IPython.display.display(im)"
      ]
    },
    {
      "cell_type": "markdown",
      "metadata": {
        "id": "tuaMaj45p8vi"
      },
      "source": [
        "# テスト動画のセットアップ"
      ]
    },
    {
      "cell_type": "code",
      "execution_count": null,
      "metadata": {
        "id": "06KAqwrZp_Eh"
      },
      "outputs": [],
      "source": [
        "video_url = 'https://www.youtube.com/watch?v=9FD-vnjrD3I' #@param {type:\"string\"}\n",
        "\n",
        "#@markdown 動画の切り抜き範囲(秒)を指定してください。\\\n",
        "#@markdown 30秒以上の場合OOM発生の可能性が高いため注意\n",
        "start_sec =  1#@param {type:\"integer\"}\n",
        "end_sec =  6#@param {type:\"integer\"}\n",
        "\n",
        "(start_pt, end_pt) = (start_sec, end_sec)"
      ]
    },
    {
      "cell_type": "code",
      "execution_count": null,
      "metadata": {
        "colab": {
          "base_uri": "https://localhost:8080/"
        },
        "id": "LABgfHjjrbqm",
        "outputId": "39fdbc89-c1c1-40c9-9637-44a349affdce"
      },
      "outputs": [],
      "source": [
        "%cd /content/deep_privacy2\n",
        "\n",
        "!mkdir test_files\n",
        "\n",
        "download_resolution = 720\n",
        "full_video_path = './inputs/full_video.mp4'\n",
        "input_clip_path = './inputs/clip_video.mp4'\n",
        "\n",
        "# 動画ダウンロード\n",
        "ydl_opts = {'format': f'best[height<={download_resolution}]', 'overwrites': True, 'outtmpl': full_video_path}\n",
        "with YoutubeDL(ydl_opts) as ydl:\n",
        "    ydl.download([video_url])\n",
        "\n",
        "# 指定区間切り抜き\n",
        "with VideoFileClip(full_video_path) as video:\n",
        "    subclip = video.subclip(start_pt, end_pt)\n",
        "    subclip.write_videofile(input_clip_path)"
      ]
    },
    {
      "cell_type": "code",
      "execution_count": null,
      "metadata": {
        "colab": {
          "base_uri": "https://localhost:8080/",
          "height": 282
        },
        "id": "j4WSGneqvvH8",
        "outputId": "13439a4b-26cb-43d3-f4b4-eb43589eca95"
      },
      "outputs": [],
      "source": [
        "# 動画の確認\n",
        "clip = VideoFileClip(input_clip_path)\n",
        "clip = resize(clip, height=420)\n",
        "clip.ipython_display()"
      ]
    },
    {
      "cell_type": "markdown",
      "metadata": {
        "id": "SsWrmMRnH00e"
      },
      "source": [
        "# Anonymization"
      ]
    },
    {
      "cell_type": "markdown",
      "metadata": {
        "id": "tYjMA7CuLQS6"
      },
      "source": [
        "## Full body"
      ]
    },
    {
      "cell_type": "code",
      "execution_count": null,
      "metadata": {
        "colab": {
          "base_uri": "https://localhost:8080/"
        },
        "id": "UqR-XL0ZH6pV",
        "outputId": "d87ff0b5-69f3-4731-a209-9d061636a343"
      },
      "outputs": [],
      "source": [
        "%cd /content/deep_privacy2\n",
        "\n",
        "!python3 anonymize.py \\\n",
        "  configs/anonymizers/FB_cse.py \\\n",
        "  -i ./inputs/test_01.jpg \\\n",
        "  -o ./outputs/FB_cse_test_01.jpg\n"
      ]
    },
    {
      "cell_type": "code",
      "execution_count": null,
      "metadata": {
        "colab": {
          "base_uri": "https://localhost:8080/",
          "height": 568
        },
        "id": "YThRFRotK5_M",
        "outputId": "e603479d-2c07-40bd-8b96-7f5d439be835"
      },
      "outputs": [],
      "source": [
        "%cd /content/deep_privacy2\n",
        "\n",
        "im = Image.open('./outputs/FB_cse_test_01.jpg')\n",
        "IPython.display.display(im)"
      ]
    },
    {
      "cell_type": "markdown",
      "metadata": {
        "id": "EUoDAU4yMbK5"
      },
      "source": [
        "## Face"
      ]
    },
    {
      "cell_type": "code",
      "execution_count": null,
      "metadata": {
        "colab": {
          "base_uri": "https://localhost:8080/"
        },
        "id": "CewDmcOHLTrl",
        "outputId": "6b2c53f9-effe-4b4f-f4a3-3fab6714d72f"
      },
      "outputs": [],
      "source": [
        "%cd /content/deep_privacy2\n",
        "\n",
        "!python3 anonymize.py \\\n",
        "  configs/anonymizers/face.py \\\n",
        "  -i ./inputs/test_01.jpg \\\n",
        "  -o ./outputs/face_test_01.jpg\n"
      ]
    },
    {
      "cell_type": "code",
      "execution_count": null,
      "metadata": {
        "colab": {
          "base_uri": "https://localhost:8080/",
          "height": 568
        },
        "id": "ZN0J0ZHvLWbV",
        "outputId": "192c3ae3-b662-4a68-8f3c-02a9aac7aca1"
      },
      "outputs": [],
      "source": [
        "%cd /content/deep_privacy2\n",
        "\n",
        "im = Image.open('./outputs/face_test_01.jpg')\n",
        "IPython.display.display(im)"
      ]
    },
    {
      "cell_type": "markdown",
      "metadata": {
        "id": "UO6okFk2Mc0U"
      },
      "source": [
        "## Video Face"
      ]
    },
    {
      "cell_type": "code",
      "execution_count": null,
      "metadata": {
        "colab": {
          "base_uri": "https://localhost:8080/"
        },
        "id": "Y13wE1VUMiR-",
        "outputId": "9798c6c0-365c-488c-9d17-e1c1f7f41b55"
      },
      "outputs": [],
      "source": [
        "%cd /content/deep_privacy2\n",
        "\n",
        "!python3 anonymize.py \\\n",
        "  configs/anonymizers/face.py \\\n",
        "  -i ./inputs/clip_video.mp4 \\\n",
        "  -o ./outputs/face_clip_video.mp4\n"
      ]
    },
    {
      "cell_type": "code",
      "execution_count": null,
      "metadata": {
        "colab": {
          "base_uri": "https://localhost:8080/",
          "height": 552
        },
        "id": "WYlcLos-MsW_",
        "outputId": "0d836de5-7c34-490e-cc83-717ed12ab33a"
      },
      "outputs": [],
      "source": [
        "# 動画の確認\n",
        "clip = VideoFileClip('./outputs/face_clip_video.mp4')\n",
        "clip = resize(clip, height=420)\n",
        "clip.ipython_display()"
      ]
    }
  ],
  "metadata": {
    "accelerator": "GPU",
    "colab": {
      "provenance": []
    },
    "kernelspec": {
      "display_name": "Python 3.10.4 64-bit",
      "language": "python",
      "name": "python3"
    },
    "language_info": {
      "name": "python",
      "version": "3.10.4"
    },
    "orig_nbformat": 4,
    "vscode": {
      "interpreter": {
        "hash": "69158ccfe43d0b962045f592ede11796dd42f250837ab62152c8bc6cd100a15b"
      }
    }
  },
  "nbformat": 4,
  "nbformat_minor": 0
}
