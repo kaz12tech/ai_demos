{
  "cells": [
    {
      "cell_type": "markdown",
      "metadata": {
        "id": "cNz-yh2HFz_G"
      },
      "source": [
        "論文<br>\n",
        "https://arxiv.org/abs/2012.10296<br>\n",
        "<br>\n",
        "GitHub<br>\n",
        "https://github.com/compphoto/BoostingMonocularDepth<br>\n",
        "<br>\n",
        "<a href=\"https://colab.research.google.com/github/kaz12tech/ai_demos/blob/master/BoostingMonocularDepth_demo.ipynb\" target=\"_blank\"><img src=\"https://colab.research.google.com/assets/colab-badge.svg\" alt=\"Open In Colab\"/></a>"
      ]
    },
    {
      "cell_type": "markdown",
      "metadata": {
        "id": "PIyC-kLNGZiQ"
      },
      "source": [
        "# ランタイムの設定\n",
        "「ランタイム」→「ランタイムのタイプを変更」→「ハードウェアアクセラレータ」をGPUに変更"
      ]
    },
    {
      "cell_type": "markdown",
      "metadata": {
        "id": "amOVuN1yGsZI"
      },
      "source": [
        "# 実行方法\n",
        "「ランタイム」→「すべてのセルを実行」を選択"
      ]
    },
    {
      "cell_type": "markdown",
      "metadata": {
        "id": "PKo4CcvmGwJ-"
      },
      "source": [
        "# 環境セットアップ"
      ]
    },
    {
      "cell_type": "code",
      "execution_count": null,
      "metadata": {
        "colab": {
          "base_uri": "https://localhost:8080/"
        },
        "id": "2tr1tqeCq6vw",
        "outputId": "ef76c3f1-dbfc-40d1-84b4-82b481d9a492"
      },
      "outputs": [],
      "source": [
        "!nvidia-smi"
      ]
    },
    {
      "cell_type": "markdown",
      "metadata": {
        "id": "OEdxoG5jrCc5"
      },
      "source": [
        "## GithubからCode clone"
      ]
    },
    {
      "cell_type": "code",
      "execution_count": null,
      "metadata": {
        "colab": {
          "base_uri": "https://localhost:8080/"
        },
        "id": "wBphrlXDrHWc",
        "outputId": "a001b0aa-f21e-4520-d5aa-c3576c6f18d9"
      },
      "outputs": [],
      "source": [
        "%cd /content\n",
        "\n",
        "!git clone https://github.com/compphoto/BoostingMonocularDepth.git"
      ]
    },
    {
      "cell_type": "markdown",
      "metadata": {
        "id": "baPoVAl_q8wu"
      },
      "source": [
        "## ライブラリのインストール"
      ]
    },
    {
      "cell_type": "code",
      "execution_count": null,
      "metadata": {
        "id": "zt4EMaozq9pj"
      },
      "outputs": [],
      "source": []
    },
    {
      "cell_type": "markdown",
      "metadata": {
        "id": "bQI43xjHsugU"
      },
      "source": [
        "## ライブラリのインポート"
      ]
    },
    {
      "cell_type": "code",
      "execution_count": null,
      "metadata": {
        "id": "BR0M9Wg8sv8q"
      },
      "outputs": [],
      "source": [
        "from PIL import Image\n",
        "from matplotlib import pyplot as plt\n",
        "import numpy as np"
      ]
    },
    {
      "cell_type": "markdown",
      "metadata": {
        "id": "mK43dSaxaU3X"
      },
      "source": [
        "# 学習済みモデルのセットアップ"
      ]
    },
    {
      "cell_type": "code",
      "execution_count": null,
      "metadata": {
        "colab": {
          "base_uri": "https://localhost:8080/"
        },
        "id": "n4GJMZLaaXJS",
        "outputId": "0a8d2da8-10a1-4022-cf27-164a543485da"
      },
      "outputs": [],
      "source": [
        "%cd /content/BoostingMonocularDepth\n",
        "\n",
        "# Download Merge model weights\n",
        "!mkdir -p pix2pix/checkpoints/mergemodel/\n",
        "!wget -c https://sfu.ca/~yagiz/CVPR21/latest_net_G.pth \\\n",
        "      -O pix2pix/checkpoints/mergemodel/latest_net_G.pth\n",
        "\n",
        "# Download Midas model weights\n",
        "!wget -c https://github.com/AlexeyAB/MiDaS/releases/download/midas_dpt/midas_v21-f6b98070.pt \\\n",
        "      -O midas/model.pt\n",
        "\n",
        "# Download LeRes model weights\n",
        "!wget -c https://cloudstor.aarnet.edu.au/plus/s/lTIJF4vrvHCAI31/download \\\n",
        "      -O res101.pth"
      ]
    },
    {
      "cell_type": "markdown",
      "metadata": {
        "id": "fSR80_YNsJ8z"
      },
      "source": [
        "# テスト画像のセットアップ\n",
        "[使用画像](https://www.pakutaso.com/20170305066post-10557.html)"
      ]
    },
    {
      "cell_type": "code",
      "execution_count": null,
      "metadata": {
        "id": "neOsJfLujXY4"
      },
      "outputs": [],
      "source": [
        "img_url = 'https://www.pakutaso.com/shared/img/thumb/pakuphoto39890PAR57308_TP_V.jpg' # @param {type:'string'}"
      ]
    },
    {
      "cell_type": "code",
      "execution_count": null,
      "metadata": {
        "colab": {
          "base_uri": "https://localhost:8080/"
        },
        "id": "Ag3FeDoFsPlB",
        "outputId": "9e1020cf-d3d7-45ec-e0bd-4f868c7072de"
      },
      "outputs": [],
      "source": [
        "%cd /content/BoostingMonocularDepth\n",
        "\n",
        "# ディレクトリ作成\n",
        "!mkdir -p inputs\n",
        "!mkdir -p outputs_midas\n",
        "!mkdir -p outputs_leres\n",
        "\n",
        "!wget -c {img_url} \\\n",
        "      -O inputs/test_01.jpg"
      ]
    },
    {
      "cell_type": "markdown",
      "metadata": {
        "id": "EAcQg_oobUZ-"
      },
      "source": [
        "# MiDas"
      ]
    },
    {
      "cell_type": "code",
      "execution_count": null,
      "metadata": {
        "colab": {
          "base_uri": "https://localhost:8080/"
        },
        "id": "EViDxmWKbarc",
        "outputId": "c15140bd-e677-4672-bf6e-b8aaf5ac8fb2"
      },
      "outputs": [],
      "source": [
        "!python run.py --Final --data_dir ./inputs --output_dir  ./outputs_midas/ --depthNet 0"
      ]
    },
    {
      "cell_type": "code",
      "execution_count": null,
      "metadata": {
        "colab": {
          "base_uri": "https://localhost:8080/",
          "height": 271
        },
        "id": "7B3Zi_oOfVOK",
        "outputId": "a21349f0-8dc1-4f66-91ad-244d546a45e5"
      },
      "outputs": [],
      "source": [
        "input = Image.open('./inputs/test_01.jpg')\n",
        "midas_output = Image.open('./outputs_midas/test_01.png')\n",
        "\n",
        "fig = plt.figure(num=None, figsize=(12, 5))\n",
        "\n",
        "ax = fig.add_subplot(1, 2, 1, xticks=[], yticks=[])\n",
        "plt.imshow(np.asarray(input))\n",
        "ax.set_title('input')\n",
        "\n",
        "ax = fig.add_subplot(1, 2, 2, xticks=[], yticks=[])\n",
        "plt.imshow(np.asarray(midas_output))\n",
        "ax.set_title('midas output')"
      ]
    },
    {
      "cell_type": "markdown",
      "metadata": {
        "id": "gv54BxZbbW5k"
      },
      "source": [
        "# LeRes"
      ]
    },
    {
      "cell_type": "code",
      "execution_count": null,
      "metadata": {
        "colab": {
          "base_uri": "https://localhost:8080/"
        },
        "id": "3tYH-6x-bcwj",
        "outputId": "782ed1fd-e36a-4574-97b5-3f4c1e076522"
      },
      "outputs": [],
      "source": [
        "!python run.py --Final --data_dir ./inputs --output_dir  ./outputs_leres/ --depthNet 2"
      ]
    },
    {
      "cell_type": "code",
      "execution_count": null,
      "metadata": {
        "colab": {
          "base_uri": "https://localhost:8080/",
          "height": 271
        },
        "id": "OXJ7WaWdh6MK",
        "outputId": "46c534d9-e997-4864-8312-cf2597488817"
      },
      "outputs": [],
      "source": [
        "input = Image.open('./inputs/test_01.jpg')\n",
        "midas_output = Image.open('./outputs_leres/test_01.png')\n",
        "\n",
        "fig = plt.figure(num=None, figsize=(12, 5))\n",
        "\n",
        "ax = fig.add_subplot(1, 2, 1, xticks=[], yticks=[])\n",
        "plt.imshow(np.asarray(input))\n",
        "ax.set_title('input')\n",
        "\n",
        "ax = fig.add_subplot(1, 2, 2, xticks=[], yticks=[])\n",
        "plt.imshow(np.asarray(midas_output))\n",
        "ax.set_title('leres output')"
      ]
    }
  ],
  "metadata": {
    "accelerator": "GPU",
    "colab": {
      "collapsed_sections": [
        "PIyC-kLNGZiQ",
        "amOVuN1yGsZI"
      ],
      "name": "BoostingMonocularDepth_demo.ipynb",
      "provenance": []
    },
    "kernelspec": {
      "display_name": "Python 3.10.4 64-bit",
      "language": "python",
      "name": "python3"
    },
    "language_info": {
      "codemirror_mode": {
        "name": "ipython",
        "version": 3
      },
      "file_extension": ".py",
      "mimetype": "text/x-python",
      "name": "python",
      "nbconvert_exporter": "python",
      "pygments_lexer": "ipython3",
      "version": "3.10.4"
    },
    "vscode": {
      "interpreter": {
        "hash": "69158ccfe43d0b962045f592ede11796dd42f250837ab62152c8bc6cd100a15b"
      }
    }
  },
  "nbformat": 4,
  "nbformat_minor": 0
}
