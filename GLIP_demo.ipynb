{
  "cells": [
    {
      "cell_type": "markdown",
      "metadata": {
        "id": "G9fueCPLFKin"
      },
      "source": [
        "Deprecated<br>\n",
        "<br>\n",
        "GitHub<br>\n",
        "https://github.com/microsoft/GLIP<br>\n",
        "論文<br>\n",
        "https://arxiv.org/abs/2206.05836<br>\n",
        "<br>\n",
        "<a href=\"https://colab.research.google.com/github/kaz12tech/ai_demos/blob/master/GLIP_demo.ipynb\" target=\"_blank\"><img src=\"https://colab.research.google.com/assets/colab-badge.svg\" alt=\"Open In Colab\"/></a>"
      ]
    },
    {
      "cell_type": "markdown",
      "metadata": {
        "id": "894c0QeEFKit"
      },
      "source": [
        "# 環境セットアップ"
      ]
    },
    {
      "cell_type": "markdown",
      "metadata": {
        "id": "fjsKertXalHM"
      },
      "source": [
        "## downgrade python version"
      ]
    },
    {
      "cell_type": "code",
      "execution_count": null,
      "metadata": {
        "colab": {
          "base_uri": "https://localhost:8080/"
        },
        "id": "ggFZ2lxpaoR9",
        "outputId": "24272f7d-3bd4-4498-e1ad-d94ea4669a47"
      },
      "outputs": [],
      "source": [
        "!python --version"
      ]
    },
    {
      "cell_type": "code",
      "execution_count": null,
      "metadata": {
        "colab": {
          "base_uri": "https://localhost:8080/"
        },
        "id": "WVt1-GvpapfJ",
        "outputId": "ae93518b-99d9-4ba9-d29c-2f6a83f1f944"
      },
      "outputs": [],
      "source": [
        "# intall miniconda\n",
        "!wget -c https://repo.continuum.io/miniconda/Miniconda3-latest-Linux-x86_64.sh\n",
        "!chmod +x Miniconda3-latest-Linux-x86_64.sh\n",
        "!bash ./Miniconda3-latest-Linux-x86_64.sh -b -f -p /usr/local\n",
        "\n",
        "# update conda\n",
        "!conda init bash\n",
        "!conda update -n base -c defaults conda -y"
      ]
    },
    {
      "cell_type": "code",
      "execution_count": null,
      "metadata": {
        "colab": {
          "base_uri": "https://localhost:8080/"
        },
        "id": "jWekNOsEa4R1",
        "outputId": "ea440f1b-85d4-4576-f544-230c60a98d0f"
      },
      "outputs": [],
      "source": [
        "# install python3.8 with conda\n",
        "!conda install python=3.8 -y"
      ]
    },
    {
      "cell_type": "code",
      "execution_count": null,
      "metadata": {
        "colab": {
          "base_uri": "https://localhost:8080/"
        },
        "id": "Ib4bfIoCa_IK",
        "outputId": "e3058428-8b47-4675-8f77-ead9518dbe08"
      },
      "outputs": [],
      "source": [
        "!python --version"
      ]
    },
    {
      "cell_type": "markdown",
      "metadata": {
        "id": "9NjuSOSFCk8j"
      },
      "source": [
        "## change sys.path"
      ]
    },
    {
      "cell_type": "code",
      "execution_count": null,
      "metadata": {
        "colab": {
          "base_uri": "https://localhost:8080/"
        },
        "id": "VJxR8PZQbqpt",
        "outputId": "e6e664ce-98ba-45b1-b3e2-1cc6c6479332"
      },
      "outputs": [],
      "source": [
        "import sys\n",
        "import pprint\n",
        "\n",
        "pprint.pprint(sys.path)\n",
        "\n",
        "# add import path\n",
        "sys.path.append('/usr/local/lib/python3.8/site-packages')\n",
        "\n",
        "pprint.pprint(sys.path)"
      ]
    },
    {
      "cell_type": "markdown",
      "metadata": {
        "id": "TmL3LoMMGcNF"
      },
      "source": [
        "## Githubからソースコード取得"
      ]
    },
    {
      "cell_type": "code",
      "execution_count": null,
      "metadata": {
        "colab": {
          "base_uri": "https://localhost:8080/"
        },
        "id": "tthUF7D6FKiu",
        "outputId": "d0c492b7-e872-4e85-83ef-4740eda9f591"
      },
      "outputs": [],
      "source": [
        "%cd /content\n",
        "\n",
        "!git clone https://github.com/microsoft/GLIP.git\n",
        "\n",
        "# Commits on Jun 27, 2023\n",
        "%cd /content/GLIP\n",
        "!git checkout a5f302bfd4c5c67010e29f779e3b0bde94e89985"
      ]
    },
    {
      "cell_type": "markdown",
      "metadata": {
        "id": "2-2Fh1sOHdnn"
      },
      "source": [
        "## ライブラリのインストール"
      ]
    },
    {
      "cell_type": "markdown",
      "metadata": {
        "id": "NlwUaArS2RhU"
      },
      "source": [
        "## downgrade cuda and gcc/g++"
      ]
    },
    {
      "cell_type": "code",
      "execution_count": null,
      "metadata": {
        "colab": {
          "base_uri": "https://localhost:8080/"
        },
        "id": "A-Tvkuzx1j5U",
        "outputId": "7f49460f-c704-46df-acb4-3e187d01dd6d"
      },
      "outputs": [],
      "source": [
        "!nvcc --version\n",
        "!gcc -v"
      ]
    },
    {
      "cell_type": "code",
      "execution_count": null,
      "metadata": {
        "colab": {
          "base_uri": "https://localhost:8080/"
        },
        "id": "gzhjun-J2CzX",
        "outputId": "c8d7da10-b386-4f49-cc67-d740318591ae"
      },
      "outputs": [],
      "source": [
        "# downgrade cuda\n",
        "!apt-get update -y\n",
        "!apt-get --purge remove \"*cublas*\" \"cuda*\" \"nsight*\"\n",
        "!nvcc --version\n",
        "\n",
        "!wget https://developer.download.nvidia.com/compute/cuda/repos/ubuntu1804/x86_64/cuda-ubuntu1804.pin\n",
        "!mv cuda-ubuntu1804.pin /etc/apt/preferences.d/cuda-repository-pin-600\n",
        "!wget https://developer.download.nvidia.com/compute/cuda/10.2/Prod/local_installers/cuda-repo-ubuntu1804-10-2-local-10.2.89-440.33.01_1.0-1_amd64.deb\n",
        "!dpkg -i cuda-repo-ubuntu1804-10-2-local-10.2.89-440.33.01_1.0-1_amd64.deb\n",
        "!apt-key add /var/cuda-repo-10-2-local-10.2.89-440.33.01/7fa2af80.pub\n",
        "!apt-get update\n",
        "!apt-get -y install cuda=10.2.89-1"
      ]
    },
    {
      "cell_type": "code",
      "execution_count": null,
      "metadata": {
        "colab": {
          "base_uri": "https://localhost:8080/"
        },
        "id": "vJWEl5FJIdlA",
        "outputId": "5cb2d947-4c55-4cbf-9646-4f13c7019280"
      },
      "outputs": [],
      "source": [
        "# downgrade g++, gcc\n",
        "!wget -c http://archive.ubuntu.com/ubuntu/pool/universe/g/gcc-5/gcc-5-base_5.5.0-12ubuntu1_amd64.deb\n",
        "!wget -c http://archive.ubuntu.com/ubuntu/pool/universe/i/isl-0.18/libisl15_0.18-4_amd64.deb\n",
        "!wget -c http://archive.ubuntu.com/ubuntu/pool/universe/g/gcc-5/cpp-5_5.5.0-12ubuntu1_amd64.deb\n",
        "!wget -c http://archive.ubuntu.com/ubuntu/pool/universe/g/gcc-5/libasan2_5.5.0-12ubuntu1_amd64.deb\n",
        "!wget -c http://archive.ubuntu.com/ubuntu/pool/universe/g/gcc-5/libmpx0_5.5.0-12ubuntu1_amd64.deb\n",
        "!wget -c http://archive.ubuntu.com/ubuntu/pool/universe/g/gcc-5/libgcc-5-dev_5.5.0-12ubuntu1_amd64.deb\n",
        "!wget -c http://archive.ubuntu.com/ubuntu/pool/universe/g/gcc-5/gcc-5_5.5.0-12ubuntu1_amd64.deb\n",
        "!wget -c http://archive.ubuntu.com/ubuntu/pool/universe/g/gcc-5/libstdc++-5-dev_5.5.0-12ubuntu1_amd64.deb\n",
        "!wget -c http://archive.ubuntu.com/ubuntu/pool/universe/g/gcc-5/g++-5_5.5.0-12ubuntu1_amd64.deb\n",
        "\n",
        "!sudo apt install \\\n",
        "  ./g++-5_5.5.0-12ubuntu1_amd64.deb \\\n",
        "  ./gcc-5_5.5.0-12ubuntu1_amd64.deb \\\n",
        "  ./gcc-5-base_5.5.0-12ubuntu1_amd64.deb \\\n",
        "  ./cpp-5_5.5.0-12ubuntu1_amd64.deb \\\n",
        "  ./libisl15_0.18-4_amd64.deb \\\n",
        "  ./libgcc-5-dev_5.5.0-12ubuntu1_amd64.deb \\\n",
        "  ./libasan2_5.5.0-12ubuntu1_amd64.deb \\\n",
        "  ./libmpx0_5.5.0-12ubuntu1_amd64.deb \\\n",
        "  ./libstdc++-5-dev_5.5.0-12ubuntu1_amd64.deb"
      ]
    },
    {
      "cell_type": "code",
      "execution_count": null,
      "metadata": {
        "id": "y4BJHEU9KeyC"
      },
      "outputs": [],
      "source": [
        "!ln -s /usr/bin/gcc-5 /usr/local/cuda/bin/gcc;\n",
        "!ln -s /usr/bin/g++-5 /usr/local/cuda/bin/g++;"
      ]
    },
    {
      "cell_type": "code",
      "execution_count": null,
      "metadata": {
        "colab": {
          "base_uri": "https://localhost:8080/"
        },
        "id": "Ckh58g-m7Ftj",
        "outputId": "8aeb061b-1cbc-4f3e-c4d6-44479c73977b"
      },
      "outputs": [],
      "source": [
        "!nvcc --version\n",
        "!gcc -v"
      ]
    },
    {
      "cell_type": "markdown",
      "metadata": {
        "id": "qyDprTlv2VGp"
      },
      "source": [
        "## install libs"
      ]
    },
    {
      "cell_type": "code",
      "execution_count": null,
      "metadata": {
        "colab": {
          "base_uri": "https://localhost:8080/",
          "height": 1000
        },
        "id": "AP8SsHYvHfkR",
        "outputId": "fb686e4c-0024-4eb5-e02f-9580f20974c8"
      },
      "outputs": [],
      "source": [
        "%cd /content/GLIP\n",
        "\n",
        "!pip install torch==1.9.0+cu102 torchvision==0.10.0+cu102 torchaudio==0.9.0 -f https://download.pytorch.org/whl/torch_stable.html\n",
        "!pip install einops shapely timm yacs tensorboardX ftfy prettytable pymongo opencv-python chardet\n",
        "!pip install transformers==4.18.0"
      ]
    },
    {
      "cell_type": "code",
      "execution_count": null,
      "metadata": {
        "colab": {
          "base_uri": "https://localhost:8080/"
        },
        "id": "47q0BurDCrWX",
        "outputId": "8fe1c105-d332-496f-c8d3-57d996b23ee3"
      },
      "outputs": [],
      "source": [
        "%cd /content/GLIP\n",
        "\n",
        "!python setup.py build develop --user"
      ]
    },
    {
      "cell_type": "markdown",
      "metadata": {
        "id": "Gv7uc__wHuWd"
      },
      "source": [
        "## ライブラリのインポート"
      ]
    },
    {
      "cell_type": "code",
      "execution_count": null,
      "metadata": {
        "colab": {
          "base_uri": "https://localhost:8080/"
        },
        "id": "yayN7u44HwTZ",
        "outputId": "7fe904ea-7980-4e2b-fcc0-5c42a00166b3"
      },
      "outputs": [],
      "source": [
        "%cd /content/GLIP\n",
        "\n",
        "import matplotlib.pyplot as plt\n",
        "import matplotlib.pylab as pylab\n",
        "\n",
        "import requests\n",
        "from io import BytesIO\n",
        "from PIL import Image\n",
        "import numpy as np\n",
        "pylab.rcParams['figure.figsize'] = 20, 12\n",
        "from maskrcnn_benchmark.config import cfg\n",
        "# from maskrcnn_benchmark.engine.predictor_glip import GLIPDemo"
      ]
    },
    {
      "cell_type": "code",
      "execution_count": null,
      "metadata": {
        "colab": {
          "base_uri": "https://localhost:8080/",
          "height": 507
        },
        "id": "BKlnYvSO_ySL",
        "outputId": "ce3357e3-54c8-4827-b359-ac8c778af9db"
      },
      "outputs": [],
      "source": [
        "!sed -i ./maskrcnn_benchmark/engine/predictor_glip.py -e \"s/from transformers import AutoTokenizer/# from transformers import AutoTokenizer/g\"\n",
        "\n",
        "cfg.MODEL.LANGUAGE_BACKBONE.TOKENIZER_TYPE = 'clip'\n",
        "from maskrcnn_benchmark.engine.predictor_glip import GLIPDemo"
      ]
    },
    {
      "cell_type": "markdown",
      "metadata": {
        "id": "01Ob2n4qxQW9"
      },
      "source": [
        "# 学習済みモデルのセットアップ"
      ]
    },
    {
      "cell_type": "code",
      "execution_count": null,
      "metadata": {
        "id": "W_Bu70txxjNW"
      },
      "outputs": [],
      "source": [
        "%cd /content/GLIP\n",
        "!mkdir MODEL\n",
        "\n",
        "# !wget -c https://penzhanwu2bbs.blob.core.windows.net/data/GLIPv1_Open/models/glip_tiny_model_o365_goldg_cc_sbu.pth \\\n",
        "#       -O MODEL/glip_tiny_model_o365_goldg_cc_sbu.pth\n",
        "\n",
        "!wget -c https://huggingface.co/harold/GLIP/blob/main/glip_tiny_model_o365_goldg_cc_sbu_lvisbest.pth \\\n",
        "      -O MODEL/glip_tiny_model_o365_goldg_cc_sbu.pth"
      ]
    },
    {
      "cell_type": "markdown",
      "metadata": {
        "id": "pjuNisA2yPlF"
      },
      "source": [
        "# Utility関数定義"
      ]
    },
    {
      "cell_type": "code",
      "execution_count": null,
      "metadata": {
        "id": "UbRvNxvvyOZs"
      },
      "outputs": [],
      "source": [
        "def load(url):\n",
        "    \"\"\"\n",
        "    Given an url of an image, downloads the image and\n",
        "    returns a PIL image\n",
        "    \"\"\"\n",
        "    response = requests.get(url)\n",
        "    pil_image = Image.open(BytesIO(response.content)).convert(\"RGB\")\n",
        "    # convert to BGR format\n",
        "    image = np.array(pil_image)[:, :, [2, 1, 0]]\n",
        "    return image\n",
        "\n",
        "def imshow(img, caption):\n",
        "    plt.imshow(img[:, :, [2, 1, 0]])\n",
        "    plt.axis(\"off\")\n",
        "    plt.figtext(0.5, 0.09, caption, wrap=True, horizontalalignment='center', fontsize=20)"
      ]
    },
    {
      "cell_type": "markdown",
      "metadata": {
        "id": "1r1URQ4zyY1S"
      },
      "source": [
        "# build model"
      ]
    },
    {
      "cell_type": "code",
      "execution_count": null,
      "metadata": {
        "id": "koDQzF6Myb2c"
      },
      "outputs": [],
      "source": [
        "%cd /content/GLIP\n",
        "\n",
        "config_file = \"configs/pretrain/glip_Swin_T_O365_GoldG.yaml\"\n",
        "weight_file = \"MODEL/glip_tiny_model_o365_goldg_cc_sbu.pth\"\n",
        "\n",
        "cfg.local_rank = 0\n",
        "cfg.num_gpus = 1\n",
        "cfg.merge_from_file(config_file)\n",
        "cfg.merge_from_list([\"MODEL.WEIGHT\", weight_file])\n",
        "cfg.merge_from_list([\"MODEL.DEVICE\", \"cuda\"])\n",
        "\n",
        "glip_demo = GLIPDemo(\n",
        "  cfg,\n",
        "  min_image_size=800,\n",
        "  confidence_threshold=0.7,\n",
        "  show_mask_heatmaps=False,\n",
        ")"
      ]
    },
    {
      "cell_type": "markdown",
      "metadata": {
        "id": "vRj6q2QRymdP"
      },
      "source": [
        "# image, captionの設定"
      ]
    },
    {
      "cell_type": "code",
      "execution_count": null,
      "metadata": {
        "id": "FmUL4GOGylsc"
      },
      "outputs": [],
      "source": [
        "img_url = 'https://www.pakutaso.com/shared/img/thumb/smIMGL4174_TP_V.jpg' #@param {type:'string'}\n",
        "caption = 'yellow fruit' #@param {type:'string'}"
      ]
    },
    {
      "cell_type": "markdown",
      "metadata": {
        "id": "TzUATGF0zFFW"
      },
      "source": [
        "# Object detection"
      ]
    },
    {
      "cell_type": "code",
      "execution_count": null,
      "metadata": {
        "id": "mzjew69L4hH3"
      },
      "outputs": [],
      "source": [
        "glip_demo.color = 128"
      ]
    },
    {
      "cell_type": "code",
      "execution_count": null,
      "metadata": {
        "id": "jIfWMoQ7yr1s"
      },
      "outputs": [],
      "source": [
        "image = load(img_url)\n",
        "result, _ = glip_demo.run_on_web_image(image, caption, 0.5)\n",
        "imshow(result, caption)"
      ]
    }
  ],
  "metadata": {
    "accelerator": "GPU",
    "colab": {
      "provenance": []
    },
    "kernelspec": {
      "display_name": "Python 3",
      "name": "python3"
    },
    "language_info": {
      "name": "python"
    }
  },
  "nbformat": 4,
  "nbformat_minor": 0
}
