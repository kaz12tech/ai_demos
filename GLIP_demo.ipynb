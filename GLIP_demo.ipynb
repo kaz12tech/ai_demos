{
  "cells": [
    {
      "cell_type": "markdown",
      "metadata": {
        "id": "G9fueCPLFKin"
      },
      "source": [
        "GitHub<br>\n",
        "https://github.com/microsoft/GLIP<br>\n",
        "論文<br>\n",
        "https://arxiv.org/abs/2206.05836<br>\n",
        "<br>\n",
        "<a href=\"https://colab.research.google.com/github/kaz12tech/ai_demos/blob/master/GLIP_demo.ipynb\" target=\"_blank\"><img src=\"https://colab.research.google.com/assets/colab-badge.svg\" alt=\"Open In Colab\"/></a>"
      ]
    },
    {
      "cell_type": "markdown",
      "metadata": {
        "id": "894c0QeEFKit"
      },
      "source": [
        "# 環境セットアップ"
      ]
    },
    {
      "cell_type": "markdown",
      "metadata": {
        "id": "TmL3LoMMGcNF"
      },
      "source": [
        "## Githubからソースコード取得"
      ]
    },
    {
      "cell_type": "code",
      "execution_count": null,
      "metadata": {
        "colab": {
          "base_uri": "https://localhost:8080/"
        },
        "id": "tthUF7D6FKiu",
        "outputId": "8008a285-9578-46f1-c94c-fb1430b594d8"
      },
      "outputs": [],
      "source": [
        "%cd /content\n",
        "\n",
        "!git clone https://github.com/microsoft/GLIP.git"
      ]
    },
    {
      "cell_type": "markdown",
      "metadata": {
        "id": "2-2Fh1sOHdnn"
      },
      "source": [
        "## ライブラリのインストール"
      ]
    },
    {
      "cell_type": "code",
      "execution_count": null,
      "metadata": {
        "colab": {
          "base_uri": "https://localhost:8080/"
        },
        "id": "AP8SsHYvHfkR",
        "outputId": "46147e2f-927d-4886-af71-3c7467577a2a"
      },
      "outputs": [],
      "source": [
        "%cd /content/GLIP\n",
        "\n",
        "!pip install torch==1.9.0+cu102 torchvision==0.10.0+cu102 torchaudio==0.9.0 -f https://download.pytorch.org/whl/torch_stable.html\n",
        "!pip install einops shapely timm yacs tensorboardX ftfy prettytable pymongo\n",
        "!pip install transformers\n",
        "\n",
        "!python setup.py build develop --user"
      ]
    },
    {
      "cell_type": "markdown",
      "metadata": {
        "id": "Gv7uc__wHuWd"
      },
      "source": [
        "## ライブラリのインポート"
      ]
    },
    {
      "cell_type": "code",
      "execution_count": null,
      "metadata": {
        "colab": {
          "base_uri": "https://localhost:8080/"
        },
        "id": "yayN7u44HwTZ",
        "outputId": "5747e06e-cc83-4f69-d21f-198440a83847"
      },
      "outputs": [],
      "source": [
        "%cd /content/GLIP\n",
        "\n",
        "import matplotlib.pyplot as plt\n",
        "import matplotlib.pylab as pylab\n",
        "\n",
        "import requests\n",
        "from io import BytesIO\n",
        "from PIL import Image\n",
        "import numpy as np\n",
        "pylab.rcParams['figure.figsize'] = 20, 12\n",
        "from maskrcnn_benchmark.config import cfg\n",
        "from maskrcnn_benchmark.engine.predictor_glip import GLIPDemo"
      ]
    },
    {
      "cell_type": "markdown",
      "metadata": {
        "id": "01Ob2n4qxQW9"
      },
      "source": [
        "# 学習済みモデルのセットアップ"
      ]
    },
    {
      "cell_type": "code",
      "execution_count": null,
      "metadata": {
        "colab": {
          "base_uri": "https://localhost:8080/"
        },
        "id": "W_Bu70txxjNW",
        "outputId": "5308aa32-cc73-4023-93f4-9b5ae421b5b5"
      },
      "outputs": [],
      "source": [
        "%cd /content/GLIP\n",
        "!mkdir MODEL\n",
        "\n",
        "!wget -c https://penzhanwu2bbs.blob.core.windows.net/data/GLIPv1_Open/models/glip_tiny_model_o365_goldg_cc_sbu.pth \\\n",
        "      -O MODEL/glip_tiny_model_o365_goldg_cc_sbu.pth\n"
      ]
    },
    {
      "cell_type": "markdown",
      "metadata": {
        "id": "pjuNisA2yPlF"
      },
      "source": [
        "# Utility関数定義"
      ]
    },
    {
      "cell_type": "code",
      "execution_count": null,
      "metadata": {
        "id": "UbRvNxvvyOZs"
      },
      "outputs": [],
      "source": [
        "def load(url):\n",
        "    \"\"\"\n",
        "    Given an url of an image, downloads the image and\n",
        "    returns a PIL image\n",
        "    \"\"\"\n",
        "    response = requests.get(url)\n",
        "    pil_image = Image.open(BytesIO(response.content)).convert(\"RGB\")\n",
        "    # convert to BGR format\n",
        "    image = np.array(pil_image)[:, :, [2, 1, 0]]\n",
        "    return image\n",
        "\n",
        "def imshow(img, caption):\n",
        "    plt.imshow(img[:, :, [2, 1, 0]])\n",
        "    plt.axis(\"off\")\n",
        "    plt.figtext(0.5, 0.09, caption, wrap=True, horizontalalignment='center', fontsize=20)"
      ]
    },
    {
      "cell_type": "markdown",
      "metadata": {
        "id": "1r1URQ4zyY1S"
      },
      "source": [
        "# build model"
      ]
    },
    {
      "cell_type": "code",
      "execution_count": null,
      "metadata": {
        "colab": {
          "base_uri": "https://localhost:8080/"
        },
        "id": "koDQzF6Myb2c",
        "outputId": "96495792-53e6-4da3-846f-e3c43d64772d"
      },
      "outputs": [],
      "source": [
        "%cd /content/GLIP\n",
        "\n",
        "config_file = \"configs/pretrain/glip_Swin_T_O365_GoldG.yaml\"\n",
        "weight_file = \"MODEL/glip_tiny_model_o365_goldg_cc_sbu.pth\"\n",
        "\n",
        "cfg.local_rank = 0\n",
        "cfg.num_gpus = 1\n",
        "cfg.merge_from_file(config_file)\n",
        "cfg.merge_from_list([\"MODEL.WEIGHT\", weight_file])\n",
        "cfg.merge_from_list([\"MODEL.DEVICE\", \"cuda\"])\n",
        "\n",
        "glip_demo = GLIPDemo(\n",
        "  cfg,\n",
        "  min_image_size=800,\n",
        "  confidence_threshold=0.7,\n",
        "  show_mask_heatmaps=False,\n",
        ")"
      ]
    },
    {
      "cell_type": "markdown",
      "metadata": {
        "id": "vRj6q2QRymdP"
      },
      "source": [
        "# image, captionの設定"
      ]
    },
    {
      "cell_type": "code",
      "execution_count": null,
      "metadata": {
        "id": "FmUL4GOGylsc"
      },
      "outputs": [],
      "source": [
        "img_url = 'https://www.pakutaso.com/shared/img/thumb/smIMGL4174_TP_V.jpg' #@param {type:'string'}\n",
        "caption = 'yellow fruit' #@param {type:'string'}"
      ]
    },
    {
      "cell_type": "markdown",
      "metadata": {
        "id": "TzUATGF0zFFW"
      },
      "source": [
        "# Object detection"
      ]
    },
    {
      "cell_type": "code",
      "execution_count": null,
      "metadata": {
        "id": "mzjew69L4hH3"
      },
      "outputs": [],
      "source": [
        "glip_demo.color = 128"
      ]
    },
    {
      "cell_type": "code",
      "execution_count": null,
      "metadata": {
        "colab": {
          "base_uri": "https://localhost:8080/",
          "height": 846
        },
        "id": "jIfWMoQ7yr1s",
        "outputId": "e872e39a-159e-453b-89fb-23f789a97b9d"
      },
      "outputs": [],
      "source": [
        "image = load(img_url)\n",
        "result, _ = glip_demo.run_on_web_image(image, caption, 0.5)\n",
        "imshow(result, caption)"
      ]
    }
  ],
  "metadata": {
    "accelerator": "GPU",
    "colab": {
      "collapsed_sections": [],
      "name": "GLIP_demo.ipynb",
      "provenance": []
    },
    "kernelspec": {
      "display_name": "Python 3",
      "name": "python3"
    },
    "language_info": {
      "name": "python"
    }
  },
  "nbformat": 4,
  "nbformat_minor": 0
}
