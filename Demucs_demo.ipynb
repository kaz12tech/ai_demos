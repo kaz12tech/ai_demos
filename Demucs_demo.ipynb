{
  "cells": [
    {
      "cell_type": "markdown",
      "metadata": {
        "id": "cNz-yh2HFz_G"
      },
      "source": [
        "論文<br>\n",
        "https://arxiv.org/abs/2111.03600<br>\n",
        "<br>\n",
        "GitHub<br>\n",
        "https://github.com/facebookresearch/demucs<br>\n",
        "<br>\n",
        "<a href=\"https://colab.research.google.com/github/kaz12tech/ai_demos/blob/master/Demucs_demo.ipynb\" target=\"_blank\"><img src=\"https://colab.research.google.com/assets/colab-badge.svg\" alt=\"Open In Colab\"/></a>"
      ]
    },
    {
      "cell_type": "markdown",
      "metadata": {
        "id": "PIyC-kLNGZiQ"
      },
      "source": [
        "# ランタイムの設定\n",
        "「ランタイム」→「ランタイムのタイプを変更」→「ハードウェアアクセラレータ」をGPUに変更"
      ]
    },
    {
      "cell_type": "markdown",
      "metadata": {
        "id": "amOVuN1yGsZI"
      },
      "source": [
        "# 実行方法\n",
        "「ランタイム」→「すべてのセルを実行」を選択"
      ]
    },
    {
      "cell_type": "markdown",
      "metadata": {
        "id": "PKo4CcvmGwJ-"
      },
      "source": [
        "# 環境セットアップ"
      ]
    },
    {
      "cell_type": "code",
      "execution_count": null,
      "metadata": {
        "id": "2tr1tqeCq6vw"
      },
      "outputs": [],
      "source": [
        "!nvidia-smi"
      ]
    },
    {
      "cell_type": "markdown",
      "metadata": {
        "id": "OEdxoG5jrCc5"
      },
      "source": [
        "## GithubからCode clone"
      ]
    },
    {
      "cell_type": "code",
      "execution_count": null,
      "metadata": {
        "id": "wBphrlXDrHWc"
      },
      "outputs": [],
      "source": [
        "%cd /content"
      ]
    },
    {
      "cell_type": "markdown",
      "metadata": {
        "id": "baPoVAl_q8wu"
      },
      "source": [
        "## ライブラリのインストール"
      ]
    },
    {
      "cell_type": "code",
      "execution_count": null,
      "metadata": {
        "colab": {
          "base_uri": "https://localhost:8080/",
          "height": 1000
        },
        "id": "zt4EMaozq9pj",
        "outputId": "59ed4db1-c54d-4d31-cb79-67309abb06b6"
      },
      "outputs": [],
      "source": [
        "!pip install demucs\n",
        "!pip install yt-dlp moviepy\n",
        "!pip install imageio==2.4.1"
      ]
    },
    {
      "cell_type": "markdown",
      "metadata": {
        "id": "bQI43xjHsugU"
      },
      "source": [
        "## ライブラリのインポート"
      ]
    },
    {
      "cell_type": "code",
      "execution_count": null,
      "metadata": {
        "colab": {
          "base_uri": "https://localhost:8080/"
        },
        "id": "BR0M9Wg8sv8q",
        "outputId": "dab4e1d2-2a20-4aef-dd45-08cb273b77b5"
      },
      "outputs": [],
      "source": [
        "from yt_dlp import YoutubeDL\n",
        "\n",
        "from moviepy.video.fx.resize import resize\n",
        "from moviepy.editor import VideoFileClip, AudioFileClip, ImageSequenceClip, CompositeAudioClip\n",
        "from moviepy.video.io.ffmpeg_tools import ffmpeg_extract_subclip\n",
        "import IPython.display as ipd"
      ]
    },
    {
      "cell_type": "markdown",
      "metadata": {
        "id": "fSR80_YNsJ8z"
      },
      "source": [
        "# テスト動画のセットアップ"
      ]
    },
    {
      "cell_type": "code",
      "execution_count": null,
      "metadata": {
        "id": "Ag3FeDoFsPlB"
      },
      "outputs": [],
      "source": [
        "video_url = 'https://www.youtube.com/watch?v=bnzPJhW9XQg' #@param {type:\"string\"}\n",
        "\n",
        "#@markdown 動画の切り抜き範囲(秒)を指定してください。\\\n",
        "#@markdown 30秒以上の場合OOM発生の可能性が高いため注意\n",
        "start_sec =  74#@param {type:\"integer\"}\n",
        "end_sec =  104#@param {type:\"integer\"}\n",
        "\n",
        "(start_pt, end_pt) = (start_sec, end_sec)"
      ]
    },
    {
      "cell_type": "markdown",
      "metadata": {
        "id": "dysmy4wDO9T6"
      },
      "source": [
        "## ダウンロード"
      ]
    },
    {
      "cell_type": "code",
      "execution_count": null,
      "metadata": {
        "colab": {
          "base_uri": "https://localhost:8080/"
        },
        "id": "9bOLEpQ8J9Ml",
        "outputId": "8d0e7a38-3aee-4ccf-b923-ca839689406e"
      },
      "outputs": [],
      "source": [
        "!mkdir -p /content/videos /content/audios\n",
        "\n",
        "download_resolution = 360\n",
        "full_video_path = '/content/videos/full_video.mp4'\n",
        "input_clip_path = '/content/videos/input_clip.mp4'\n",
        "input_audio_path = '/content/audios/input_clip.wav'\n",
        "\n",
        "# 動画ダウンロード\n",
        "ydl_opts = {'format': f'best[height<={download_resolution}]', 'overwrites': True, 'outtmpl': full_video_path}\n",
        "with YoutubeDL(ydl_opts) as ydl:\n",
        "    ydl.download([video_url])"
      ]
    },
    {
      "cell_type": "markdown",
      "metadata": {
        "id": "dbqo4D93O_as"
      },
      "source": [
        "## clip"
      ]
    },
    {
      "cell_type": "code",
      "execution_count": null,
      "metadata": {
        "colab": {
          "base_uri": "https://localhost:8080/"
        },
        "id": "DBxNatAVKPqi",
        "outputId": "778d1b9a-8eef-4dce-921d-23ee4c8a7433"
      },
      "outputs": [],
      "source": [
        "# 指定区間切り抜き\n",
        "with VideoFileClip(full_video_path) as video:\n",
        "    subclip = video.subclip(start_pt, end_pt)\n",
        "    subclip.write_videofile(input_clip_path)"
      ]
    },
    {
      "cell_type": "markdown",
      "metadata": {
        "id": "TRsMU7hoPBGP"
      },
      "source": [
        "## 音声ファイル保存"
      ]
    },
    {
      "cell_type": "code",
      "execution_count": null,
      "metadata": {
        "colab": {
          "base_uri": "https://localhost:8080/",
          "height": 130
        },
        "id": "2Zdt6wYmKw6q",
        "outputId": "00271fc0-38bc-4f1e-f0ff-87092943a9d6"
      },
      "outputs": [],
      "source": [
        "# 音声抽出\n",
        "clip = VideoFileClip(input_clip_path)\n",
        "clip.audio.write_audiofile(input_audio_path, codec='pcm_s16le')\n",
        "\n",
        "ipd.Audio(input_audio_path, rate=44100)"
      ]
    },
    {
      "cell_type": "markdown",
      "metadata": {
        "id": "ur7e7rgWPFkG"
      },
      "source": [
        "# 音源分離"
      ]
    },
    {
      "cell_type": "code",
      "execution_count": null,
      "metadata": {
        "colab": {
          "base_uri": "https://localhost:8080/"
        },
        "id": "98-2fRorMv8E",
        "outputId": "dabbb9f5-4cd6-408c-e7c2-baec4059f718"
      },
      "outputs": [],
      "source": [
        "!python3 -m demucs --two-stems=vocals {input_audio_path}"
      ]
    },
    {
      "cell_type": "markdown",
      "metadata": {
        "id": "r362YtscPH0N"
      },
      "source": [
        "## ボーカル再生"
      ]
    },
    {
      "cell_type": "code",
      "execution_count": null,
      "metadata": {
        "colab": {
          "base_uri": "https://localhost:8080/",
          "height": 76
        },
        "id": "FP9HonivPJOt",
        "outputId": "b7abafbb-1696-4cf1-85f1-8e543500d2a8"
      },
      "outputs": [],
      "source": [
        "vocal_wav = '/content/separated/mdx_extra_q/input_clip/vocals.wav'\n",
        "ipd.Audio(vocal_wav, rate=44100)"
      ]
    },
    {
      "cell_type": "markdown",
      "metadata": {
        "id": "klgYTl4lPf6Z"
      },
      "source": [
        "## ボーカルのみの動画を作成"
      ]
    },
    {
      "cell_type": "code",
      "execution_count": null,
      "metadata": {
        "colab": {
          "base_uri": "https://localhost:8080/"
        },
        "id": "MiCI97YxPin6",
        "outputId": "fbdcc48c-ca50-46c8-f548-afcdee5d58b7"
      },
      "outputs": [],
      "source": [
        "vocal_video = '/content/vocal.mp4'\n",
        "\n",
        "videoclip = VideoFileClip(input_clip_path)\n",
        "audioclip = AudioFileClip(vocal_wav)\n",
        "\n",
        "new_audioclip = CompositeAudioClip([audioclip])\n",
        "videoclip.audio = new_audioclip\n",
        "videoclip.write_videofile(vocal_video)"
      ]
    },
    {
      "cell_type": "code",
      "execution_count": null,
      "metadata": {
        "colab": {
          "base_uri": "https://localhost:8080/",
          "height": 478
        },
        "id": "4uXpufmwP0iz",
        "outputId": "10a97b74-7c1f-4101-e9c7-ac554a9fefe2"
      },
      "outputs": [],
      "source": [
        "clip = VideoFileClip(vocal_video)\n",
        "  \n",
        "clip = resize(clip, height=420)\n",
        "clip.ipython_display()"
      ]
    }
  ],
  "metadata": {
    "accelerator": "GPU",
    "colab": {
      "collapsed_sections": [
        "PIyC-kLNGZiQ",
        "amOVuN1yGsZI"
      ],
      "name": "Demucs_demo.ipynb",
      "provenance": []
    },
    "kernelspec": {
      "display_name": "Python 3.10.4 64-bit",
      "language": "python",
      "name": "python3"
    },
    "language_info": {
      "codemirror_mode": {
        "name": "ipython",
        "version": 3
      },
      "file_extension": ".py",
      "mimetype": "text/x-python",
      "name": "python",
      "nbconvert_exporter": "python",
      "pygments_lexer": "ipython3",
      "version": "3.10.4"
    },
    "vscode": {
      "interpreter": {
        "hash": "69158ccfe43d0b962045f592ede11796dd42f250837ab62152c8bc6cd100a15b"
      }
    }
  },
  "nbformat": 4,
  "nbformat_minor": 0
}
