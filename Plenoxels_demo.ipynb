{
  "cells": [
    {
      "cell_type": "markdown",
      "metadata": {
        "id": "AzA7D_5U4ZCb"
      },
      "source": [
        "論文  \n",
        "https://arxiv.org/abs/2112.05131  \n",
        "  \n",
        "GitHub  \n",
        "https://github.com/sxyu/svox2  \n",
        "  \n",
        "<a href=\"https://colab.research.google.com/github/kaz12tech/ai_demos/blob/master/Plenoxels_demo.ipynb\" target=\"_blank\"><img src=\"https://colab.research.google.com/assets/colab-badge.svg\" alt=\"Open In Colab\"/></a>"
      ]
    },
    {
      "cell_type": "markdown",
      "metadata": {
        "id": "y_L3U0xl4ZCe"
      },
      "source": [
        "# ランタイムの設定\n",
        "「ランタイム」→「ランタイムのタイプを変更」→「ハードウェアアクセラレータ」をGPUに変更"
      ]
    },
    {
      "cell_type": "markdown",
      "metadata": {
        "id": "ICKFXCTV4ZCg"
      },
      "source": [
        "# 実行方法\n",
        "「ランタイム」→「すべてのセルを実行」を選択"
      ]
    },
    {
      "cell_type": "markdown",
      "metadata": {
        "id": "P-jy3f_w4ZCg"
      },
      "source": [
        "# GPU確認"
      ]
    },
    {
      "cell_type": "code",
      "execution_count": null,
      "metadata": {
        "colab": {
          "base_uri": "https://localhost:8080/"
        },
        "id": "kNjB8L3X4ZCh",
        "outputId": "50e6b09c-2dda-49a3-dd66-78ff7bbc3103"
      },
      "outputs": [],
      "source": [
        "!nvidia-smi"
      ]
    },
    {
      "cell_type": "markdown",
      "metadata": {
        "id": "DZ03KqwrGof0"
      },
      "source": [
        "# GoogleDriveのマウント"
      ]
    },
    {
      "cell_type": "code",
      "execution_count": null,
      "metadata": {
        "colab": {
          "base_uri": "https://localhost:8080/"
        },
        "id": "DQvO6TunGn05",
        "outputId": "46377b2a-6c79-4c90-f5b4-00f56934b728"
      },
      "outputs": [],
      "source": [
        "from google.colab import drive\n",
        "drive.mount('/content/drive')"
      ]
    },
    {
      "cell_type": "markdown",
      "metadata": {
        "id": "UKRsZxQs4ZCi"
      },
      "source": [
        "# GitHubからPlenoxelsのソースコードを取得"
      ]
    },
    {
      "cell_type": "code",
      "execution_count": null,
      "metadata": {
        "colab": {
          "base_uri": "https://localhost:8080/"
        },
        "id": "8lDsOunm4ZCj",
        "outputId": "ab45525d-62f0-4162-e450-be0a31d401ac"
      },
      "outputs": [],
      "source": [
        "%cd /content/\n",
        "\n",
        "!git clone https://github.com/sxyu/svox2.git"
      ]
    },
    {
      "cell_type": "code",
      "execution_count": null,
      "metadata": {
        "id": "m96BO0z1_JX6"
      },
      "outputs": [],
      "source": [
        "!sed -E -i \"s/\\{minv=:/minv=\\{minv:/g\"    /content/svox2/opt/opt.py \n",
        "!sed -E -i \"s/\\{meanv=:/meanv=\\{meanv:/g\" /content/svox2/opt/opt.py \n",
        "!sed -E -i \"s/\\{maxv=:/maxv=\\{maxv:/g\"    /content/svox2/opt/opt.py \n",
        "!sed -E -i \"s/\\{minv=:/minv=\\{minv:/g\"    /content/svox2/opt/render_imgs.py \n",
        "!sed -E -i \"s/\\{meanv=:/meanv=\\{meanv:/g\" /content/svox2/opt/render_imgs.py \n",
        "!sed -E -i \"s/\\{maxv=:/maxv=\\{maxv:/g\"    /content/svox2/opt/render_imgs.py "
      ]
    },
    {
      "cell_type": "markdown",
      "metadata": {
        "id": "qbF9na1649Cg"
      },
      "source": [
        "# ライブラリのインストール"
      ]
    },
    {
      "cell_type": "code",
      "execution_count": null,
      "metadata": {
        "colab": {
          "base_uri": "https://localhost:8080/",
          "height": 1000
        },
        "id": "7NNxBjDN475O",
        "outputId": "b090b381-650b-47f9-be4a-2f638bc8ce0b"
      },
      "outputs": [],
      "source": [
        "%cd /content/svox2\n",
        "!apt install ninja-build -y\n",
        "!pip install imageio-ffmpeg\n",
        "!pip install ipdb\n",
        "!pip install lpips\n",
        "!pip install pymcubes\n",
        "\n",
        "!pip install ."
      ]
    },
    {
      "cell_type": "markdown",
      "metadata": {
        "id": "A1-I1eWCMESQ"
      },
      "source": [
        "# ライブラリのインポート"
      ]
    },
    {
      "cell_type": "code",
      "execution_count": null,
      "metadata": {
        "colab": {
          "base_uri": "https://localhost:8080/"
        },
        "id": "S61FL0CZMGcj",
        "outputId": "ccf15c77-1347-45c3-ccc5-0273e140e1cd"
      },
      "outputs": [],
      "source": [
        "import os\n",
        "from moviepy.editor import *\n",
        "from moviepy.video.fx.resize import resize"
      ]
    },
    {
      "cell_type": "markdown",
      "metadata": {
        "id": "a0TcvrZo6Brm"
      },
      "source": [
        "# 学習済みモデルのダウンロード\n",
        "gdownを使用してダウンロードできないため  \n",
        "https://drive.google.com/drive/folders/1SOEJDw8mot7kf5viUK9XryOAmZGe_vvE のckpt_syn.tar.gzを右クリックし「ドライブにショートカットを追加」を選択し、マイドライブを選択後、「ショートカットを追加」  \n",
        "自身のGoogle Driveにショートカットを作成  "
      ]
    },
    {
      "cell_type": "code",
      "execution_count": null,
      "metadata": {
        "colab": {
          "base_uri": "https://localhost:8080/"
        },
        "id": "ukIsH0C96D52",
        "outputId": "4ff5eaaa-263c-4b11-f7fe-71c5ebd6e16f"
      },
      "outputs": [],
      "source": [
        "%cd /content/svox2\n",
        "!mkdir ckpt\n",
        "%cd ckpt\n",
        "\n",
        "if not os.path.exists(\"/content/svox2/ckpt/ckpt_syn.tar.gz\"):\n",
        "  !cp /content/drive/MyDrive/ckpt_syn.tar.gz /content/svox2/ckpt\n",
        "!tar -xvf ./ckpt_syn.tar.gz > /dev/null"
      ]
    },
    {
      "cell_type": "markdown",
      "metadata": {
        "id": "dRAI3ZBqKg_I"
      },
      "source": [
        "# データセットのダウンロード\n",
        "gdownを使用してダウンロードできないため  \n",
        "https://drive.google.com/drive/folders/128yBriW1IG_3NJ5Rp7APSTZsJqdJdfc1 のnerf_synthetic.zipを右クリックし「ドライブにショートカットを追加」を選択し、マイドライブを選択後、「ショートカットを追加」  \n",
        "自身のGoogle Driveにショートカットを作成  "
      ]
    },
    {
      "cell_type": "code",
      "execution_count": null,
      "metadata": {
        "colab": {
          "base_uri": "https://localhost:8080/"
        },
        "id": "XnEAYnLEKeya",
        "outputId": "a2268186-3118-4f2a-925e-f5123cf28aff"
      },
      "outputs": [],
      "source": [
        "%cd /content/svox2/\n",
        "!mkdir datasets\n",
        "%cd datasets\n",
        "\n",
        "if not os.path.exists(\"/content/svox2/datasets/nerf_synthetic.zip\"):\n",
        "  !cp /content/drive/MyDrive/nerf_synthetic.zip /content/svox2/datasets/\n",
        "!unzip ./nerf_synthetic.zip > /dev/null"
      ]
    },
    {
      "cell_type": "markdown",
      "metadata": {
        "id": "LXh32gxmI2Ev"
      },
      "source": [
        "# 自由視点画像の生成"
      ]
    },
    {
      "cell_type": "code",
      "execution_count": null,
      "metadata": {
        "colab": {
          "base_uri": "https://localhost:8080/"
        },
        "id": "p3rpWSs0I6mI",
        "outputId": "8b1b5872-0854-46d5-aea7-23fc8966a6cf"
      },
      "outputs": [],
      "source": [
        "%cd /content/svox2/\n",
        "!mkdir -p /content/svox2/results/hotdog\n",
        "!cp /content/svox2/ckpt/256_to_512_fasttv/hotdog/ckpt.npz /content/svox2/results/hotdog"
      ]
    },
    {
      "cell_type": "code",
      "execution_count": null,
      "metadata": {
        "colab": {
          "base_uri": "https://localhost:8080/"
        },
        "id": "6B5_P2DPcQ45",
        "outputId": "9bdfff01-5d83-475b-8c15-5f6667083722"
      },
      "outputs": [],
      "source": [
        "%%time\n",
        "\n",
        "%cd /content/svox2/opt\n",
        "\n",
        "!python render_imgs.py /content/svox2/results/hotdog/ckpt.npz /content/svox2/datasets/nerf_synthetic/hotdog/"
      ]
    },
    {
      "cell_type": "markdown",
      "metadata": {
        "id": "ANrHoGs5DOqo"
      },
      "source": [
        "## 自由視点画像の表示"
      ]
    },
    {
      "cell_type": "code",
      "execution_count": null,
      "metadata": {
        "colab": {
          "base_uri": "https://localhost:8080/",
          "height": 476
        },
        "id": "1bdKvRmqDTzZ",
        "outputId": "8dacb23a-bfaf-482b-ead7-4ee8aef18ba6"
      },
      "outputs": [],
      "source": [
        "%cd /content/svox2/\n",
        "\n",
        "results_video = \"/content/svox2/results/hotdog/test_renders.mp4\"\n",
        "clip = VideoFileClip(results_video)\n",
        "clip = resize(clip, height=420)\n",
        "clip.ipython_display()"
      ]
    },
    {
      "cell_type": "code",
      "execution_count": null,
      "metadata": {
        "colab": {
          "base_uri": "https://localhost:8080/"
        },
        "id": "P7R2PSiJe6e0",
        "outputId": "11d9feb8-0a41-4cb6-c04e-87ee4c6cb36c"
      },
      "outputs": [],
      "source": [
        "%cd /content/svox2/\n",
        "!mkdir -p /content/svox2/results/materials\n",
        "!cp /content/svox2/ckpt/256_to_512_fasttv/materials/ckpt.npz /content/svox2/results/materials"
      ]
    },
    {
      "cell_type": "code",
      "execution_count": null,
      "metadata": {
        "colab": {
          "base_uri": "https://localhost:8080/"
        },
        "id": "AFejSEtTfNN5",
        "outputId": "ce771380-c5a0-40da-d067-47b8680ea3d3"
      },
      "outputs": [],
      "source": [
        "%%time\n",
        "\n",
        "%cd /content/svox2/opt\n",
        "\n",
        "!python render_imgs_circle.py /content/svox2/results/materials/ckpt.npz /content/svox2/datasets/nerf_synthetic/materials/"
      ]
    },
    {
      "cell_type": "code",
      "execution_count": null,
      "metadata": {
        "colab": {
          "base_uri": "https://localhost:8080/",
          "height": 476
        },
        "id": "bU9iUUMmfXjT",
        "outputId": "9ca0ee6e-8063-4e0d-917f-8d77fc2f04bf"
      },
      "outputs": [],
      "source": [
        "%cd /content/svox2/\n",
        "\n",
        "results_video = \"/content/svox2/results/materials/circle_renders.mp4\"\n",
        "clip = VideoFileClip(results_video)\n",
        "clip = resize(clip, height=420)\n",
        "clip.ipython_display()"
      ]
    }
  ],
  "metadata": {
    "accelerator": "GPU",
    "colab": {
      "collapsed_sections": [],
      "name": "Plenoxels_demo.ipynb",
      "provenance": []
    },
    "kernelspec": {
      "display_name": "Python 3",
      "name": "python3"
    },
    "language_info": {
      "name": "python"
    },
    "orig_nbformat": 4
  },
  "nbformat": 4,
  "nbformat_minor": 0
}
