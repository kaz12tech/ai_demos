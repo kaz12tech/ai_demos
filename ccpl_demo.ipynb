{
  "cells": [
    {
      "cell_type": "markdown",
      "metadata": {
        "id": "ze17Whr66OiC"
      },
      "source": [
        "論文<br>\n",
        "https://arxiv.org/abs/2207.04808<br>\n",
        "<br>\n",
        "GitHub<br>\n",
        "https://github.com/JarrentWu1031/CCPL<br>\n",
        "<br>\n",
        "<a href=\"https://colab.research.google.com/github/kaz12tech/ai_demos/blob/master/ccpl_demo.ipynb\" target=\"_blank\"><img src=\"https://colab.research.google.com/assets/colab-badge.svg\" alt=\"Open In Colab\"/></a>"
      ]
    },
    {
      "cell_type": "markdown",
      "metadata": {
        "id": "GOLKpkBa6OiI"
      },
      "source": [
        "# 環境セットアップ"
      ]
    },
    {
      "cell_type": "markdown",
      "metadata": {
        "id": "Jz8gTEgP6OiJ"
      },
      "source": [
        "## GitHubからソースコードを取得"
      ]
    },
    {
      "cell_type": "code",
      "execution_count": null,
      "metadata": {
        "colab": {
          "base_uri": "https://localhost:8080/"
        },
        "id": "SO7I9ozfFpmW",
        "outputId": "675a4eef-b2c5-4030-a64b-ad9dbef440cc"
      },
      "outputs": [],
      "source": [
        "%cd /content\n",
        "\n",
        "!git clone https://github.com/JarrentWu1031/CCPL.git"
      ]
    },
    {
      "cell_type": "markdown",
      "metadata": {
        "id": "07hg4xM8tYCV"
      },
      "source": [
        "## ライブラリのインストール"
      ]
    },
    {
      "cell_type": "code",
      "execution_count": null,
      "metadata": {
        "colab": {
          "base_uri": "https://localhost:8080/"
        },
        "id": "gRHm5XmrGGNB",
        "outputId": "2d12d732-9d96-49d9-8ed1-c056ab9106c1"
      },
      "outputs": [],
      "source": [
        "%cd /content/CCPL\n",
        "\n",
        "!pip install --upgrade gdown\n",
        "!pip install -r requirements.txt\n",
        "\n",
        "!pip install moviepy==0.2.3.5 imageio==2.4.1\n",
        "!pip install yt-dlp"
      ]
    },
    {
      "cell_type": "markdown",
      "metadata": {
        "id": "L6sssZcc9CBF"
      },
      "source": [
        "## ライブラリをインポート"
      ]
    },
    {
      "cell_type": "code",
      "execution_count": null,
      "metadata": {
        "colab": {
          "base_uri": "https://localhost:8080/"
        },
        "id": "oeUH114h9AEa",
        "outputId": "f3d4e1b8-3373-4039-8c5a-fa109ec3ba93"
      },
      "outputs": [],
      "source": [
        "import os\n",
        "\n",
        "from yt_dlp import YoutubeDL\n",
        "from moviepy.video.fx.resize import resize\n",
        "from moviepy.editor import VideoFileClip\n",
        "\n",
        "from PIL import Image\n",
        "import IPython"
      ]
    },
    {
      "cell_type": "markdown",
      "metadata": {
        "id": "1E2Tf5qE7EjH"
      },
      "source": [
        "# 学習済みモデルのダウンロード"
      ]
    },
    {
      "cell_type": "code",
      "execution_count": null,
      "metadata": {
        "colab": {
          "base_uri": "https://localhost:8080/"
        },
        "id": "fHJjZa2Z7Juh",
        "outputId": "97e24bbe-b08e-4bf0-b511-3ea0ec766052"
      },
      "outputs": [],
      "source": [
        "%cd /content/CCPL\n",
        "!mkdir -p pretrained/art pretrained/photo models\n",
        "\n",
        "# https://drive.google.com/drive/folders/1XxhpzFqCVvboIyXKLfb2ocJZabPYu3pi\n",
        "art_decoder_ckpt = 'pretrained/art/decoder_iter_160000.pth.tar'\n",
        "if not os.path.exists(art_decoder_ckpt):\n",
        "  !gdown --id 1QSTHPqhsyReU4BKtCQIWJC5tL1nXBUOt \\\n",
        "          -O {art_decoder_ckpt}\n",
        "\n",
        "art_sct_ckpt = 'pretrained/art/sct_iter_160000.pth.tar'\n",
        "if not os.path.exists(art_sct_ckpt):\n",
        "  !gdown --id 1ccA2Slqr8wptQtFjs7kHCkemKxT642Ud \\\n",
        "          -O {art_sct_ckpt}\n",
        "\n",
        "photo_decoder_ckpt = 'pretrained/photo/decoder_iter_160000.pth.tar'\n",
        "if not os.path.exists(photo_decoder_ckpt):\n",
        "  !gdown --id 1GothVHT9sWCwrggQWEdTchVu3FlPx9Fx \\\n",
        "          -O {photo_decoder_ckpt}\n",
        "\n",
        "photo_sct_ckpt = 'pretrained/photo/sct_iter_160000.pth.tar'\n",
        "if not os.path.exists(photo_sct_ckpt):\n",
        "  !gdown --id 1LHAbK4gUlmY2QWHKzf6gfUOSiGKxvETv \\\n",
        "          -O {photo_sct_ckpt}\n",
        "\n",
        "\n",
        "vgg_ckpt = 'models/vgg_normalised.pth'\n",
        "if not os.path.exists(vgg_ckpt):\n",
        "  !gdown --id 1EpkBA2K2eYILDSyPTt0fztz59UjAIpZU \\\n",
        "          -O {vgg_ckpt}"
      ]
    },
    {
      "cell_type": "markdown",
      "metadata": {
        "id": "PEBHra___rnd"
      },
      "source": [
        "# テスト画像取得"
      ]
    },
    {
      "cell_type": "code",
      "execution_count": null,
      "metadata": {
        "colab": {
          "base_uri": "https://localhost:8080/"
        },
        "id": "S1BHfmN9_tzN",
        "outputId": "6540c427-3a2f-43d4-bc0f-ccd0c427047d"
      },
      "outputs": [],
      "source": [
        "%cd /content/CCPL\n",
        "\n",
        "!mkdir test_img\n",
        "\n",
        "!wget -c https://www.pakutaso.com/shared/img/thumb/TSJ86_date20150208082618_TP_V4.jpg \\\n",
        "      -O test_img/test_01.jpg"
      ]
    },
    {
      "cell_type": "markdown",
      "metadata": {
        "id": "GrUtDf6yBs3b"
      },
      "source": [
        "# テスト動画取得"
      ]
    },
    {
      "cell_type": "code",
      "execution_count": null,
      "metadata": {
        "id": "J5XpvAncB2Sy"
      },
      "outputs": [],
      "source": [
        "video_url = 'https://www.youtube.com/watch?v=8tOIjOPZ5sA' #@param {type:\"string\"}\n",
        "\n",
        "#@markdown 動画の切り抜き範囲(秒)を指定してください。\\\n",
        "#@markdown 30秒以上の場合OOM発生の可能性が高いため注意\n",
        "start_sec =  31#@param {type:\"integer\"}\n",
        "end_sec =  33#@param {type:\"integer\"}\n",
        "\n",
        "(start_pt, end_pt) = (start_sec, end_sec)"
      ]
    },
    {
      "cell_type": "code",
      "execution_count": null,
      "metadata": {
        "colab": {
          "base_uri": "https://localhost:8080/"
        },
        "id": "SHi-8Se0Bxqe",
        "outputId": "129a4a4f-aa79-410e-f2ce-8f4c95b6bfb8"
      },
      "outputs": [],
      "source": [
        "%cd /content/CCPL\n",
        "\n",
        "!mkdir -p test_video/frames\n",
        "\n",
        "download_resolution = 720\n",
        "full_video_path = '/content/CCPL/test_video/full_video.mp4'\n",
        "input_clip_path = '/content/CCPL/test_video/clip_video.mp4'\n",
        "\n",
        "# 動画ダウンロード\n",
        "ydl_opts = {'format': f'best[height<={download_resolution}]', 'overwrites': True, 'outtmpl': full_video_path}\n",
        "with YoutubeDL(ydl_opts) as ydl:\n",
        "    ydl.download([video_url])\n",
        "\n",
        "# 指定区間切り抜き\n",
        "with VideoFileClip(full_video_path) as video:\n",
        "    subclip = video.subclip(start_pt, end_pt)\n",
        "    subclip.write_videofile(input_clip_path)"
      ]
    },
    {
      "cell_type": "markdown",
      "metadata": {
        "id": "o95K6VD7BNa8"
      },
      "source": [
        "# Style Transfer Image"
      ]
    },
    {
      "cell_type": "code",
      "execution_count": null,
      "metadata": {
        "colab": {
          "base_uri": "https://localhost:8080/"
        },
        "id": "Q1p72YbC9cmA",
        "outputId": "c8712a0a-f707-4915-e339-a989034cee18"
      },
      "outputs": [],
      "source": [
        "%cd /content/CCPL\n",
        "\n",
        "# testing_mode art or pho\n",
        "!python ./test.py \\\n",
        "  --vgg models/vgg_normalised.pth \\\n",
        "  --SCT pretrained/photo/sct_iter_160000.pth.tar \\\n",
        "  --decoder pretrained/photo/decoder_iter_160000.pth.tar \\\n",
        "  --content test_img/test_01.jpg \\\n",
        "  --style input/style/sketch.png \\\n",
        "  --testing_mode pho \\\n",
        "  --output outputs/imgs"
      ]
    },
    {
      "cell_type": "code",
      "execution_count": null,
      "metadata": {
        "colab": {
          "base_uri": "https://localhost:8080/",
          "height": 785
        },
        "id": "JCjfJapbAeyb",
        "outputId": "12cbae77-e311-43cd-8b47-85029da9a5f8"
      },
      "outputs": [],
      "source": [
        "im = Image.open('/content/CCPL/outputs/imgs/test_01_stylized_sketch.jpg')\n",
        "IPython.display.display(im)"
      ]
    },
    {
      "cell_type": "markdown",
      "metadata": {
        "id": "dtehwE8nBQej"
      },
      "source": [
        "# Style Transfer Video"
      ]
    },
    {
      "cell_type": "markdown",
      "metadata": {
        "id": "UZxbepY8CxL1"
      },
      "source": [
        "## Frame画像生成"
      ]
    },
    {
      "cell_type": "code",
      "execution_count": null,
      "metadata": {
        "colab": {
          "base_uri": "https://localhost:8080/"
        },
        "id": "xVGUwZqDCyxl",
        "outputId": "f7628bd6-5e79-4085-8590-aadb5ffb83f9"
      },
      "outputs": [],
      "source": [
        "%cd /content/CCPL\n",
        "\n",
        "!ffmpeg -i {input_clip_path} test_video/frames/%06d.png"
      ]
    },
    {
      "cell_type": "code",
      "execution_count": null,
      "metadata": {
        "id": "Wgp0P4ojD030"
      },
      "outputs": [],
      "source": [
        "!sed -i /content/CCPL/test_video_frame.py -e \"s/transforms.Scale/transforms.Resize/g\""
      ]
    },
    {
      "cell_type": "code",
      "execution_count": null,
      "metadata": {
        "colab": {
          "base_uri": "https://localhost:8080/"
        },
        "id": "EASn8_eaDHCv",
        "outputId": "34fc7234-51f6-44ad-e41b-792105093702"
      },
      "outputs": [],
      "source": [
        "!python ./test_video_frame.py \\\n",
        "  --vgg models/vgg_normalised.pth \\\n",
        "  --SCT pretrained/art/sct_iter_160000.pth.tar \\\n",
        "  --decoder pretrained/art/decoder_iter_160000.pth.tar \\\n",
        "  --content_dir test_video/frames \\\n",
        "  --style_path input/style/4.jpg \\\n",
        "  --testing_mode art \\\n",
        "  --output outputs/videos/art \\\n",
        "  --preserve_color"
      ]
    },
    {
      "cell_type": "code",
      "execution_count": null,
      "metadata": {
        "colab": {
          "base_uri": "https://localhost:8080/",
          "height": 460
        },
        "id": "BmRHDyNsEyZ3",
        "outputId": "28733f5b-b6cb-4277-d5a1-1e0af5cafb8c"
      },
      "outputs": [],
      "source": [
        "clip = VideoFileClip(\"outputs/videos/art/transfer.avi\")\n",
        "clip = resize(clip, height=420)\n",
        "clip.ipython_display()"
      ]
    },
    {
      "cell_type": "code",
      "execution_count": null,
      "metadata": {
        "colab": {
          "base_uri": "https://localhost:8080/"
        },
        "id": "9-9GWfKZGWrl",
        "outputId": "892b61a8-73a4-4276-ce5c-82805d1245ee"
      },
      "outputs": [],
      "source": [
        "!python ./test_video_frame.py \\\n",
        "  --vgg models/vgg_normalised.pth \\\n",
        "  --SCT pretrained/photo/sct_iter_160000.pth.tar \\\n",
        "  --decoder pretrained/photo/decoder_iter_160000.pth.tar \\\n",
        "  --content_dir test_video/frames \\\n",
        "  --style_path input/style/brushstrokes.jpg \\\n",
        "  --testing_mode pho \\\n",
        "  --preserve_color \\\n",
        "  --output outputs/videos/pho \\\n",
        "  --preserve_color"
      ]
    },
    {
      "cell_type": "code",
      "execution_count": null,
      "metadata": {
        "colab": {
          "base_uri": "https://localhost:8080/",
          "height": 460
        },
        "id": "nyAq0KVuGZle",
        "outputId": "23315ca7-d8bf-4750-f73d-cc5ca4b816f8"
      },
      "outputs": [],
      "source": [
        "clip = VideoFileClip(\"outputs/videos/pho/transfer.avi\")\n",
        "clip = resize(clip, height=420)\n",
        "clip.ipython_display()"
      ]
    }
  ],
  "metadata": {
    "accelerator": "GPU",
    "colab": {
      "collapsed_sections": [],
      "provenance": []
    },
    "kernelspec": {
      "display_name": "Python 3.10.4 64-bit",
      "language": "python",
      "name": "python3"
    },
    "language_info": {
      "name": "python",
      "version": "3.10.4"
    },
    "vscode": {
      "interpreter": {
        "hash": "69158ccfe43d0b962045f592ede11796dd42f250837ab62152c8bc6cd100a15b"
      }
    }
  },
  "nbformat": 4,
  "nbformat_minor": 0
}
