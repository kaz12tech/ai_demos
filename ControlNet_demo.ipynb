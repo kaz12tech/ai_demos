{
  "cells": [
    {
      "attachments": {},
      "cell_type": "markdown",
      "metadata": {
        "id": "9NENcrgDJv9q"
      },
      "source": [
        "論文<br>\n",
        "<br>\n",
        "<br>\n",
        "GitHub<br>\n",
        "https://github.com/lllyasviel/ControlNet<br>\n",
        "<br>\n",
        "<a href=\"https://colab.research.google.com/github/kaz12tech/ai_demos/blob/master/ControlNet_demo.ipynb\" target=\"_blank\"><img src=\"https://colab.research.google.com/assets/colab-badge.svg\" alt=\"Open In Colab\"/></a>"
      ]
    },
    {
      "cell_type": "markdown",
      "metadata": {
        "id": "LHqYjlJ4Jv9u"
      },
      "source": [
        "# setup environment"
      ]
    },
    {
      "cell_type": "markdown",
      "metadata": {
        "id": "z7jySK7RJv9v"
      },
      "source": [
        "## check GPU"
      ]
    },
    {
      "cell_type": "code",
      "execution_count": null,
      "metadata": {
        "id": "2PcII5fLdHnJ"
      },
      "outputs": [],
      "source": [
        "!nvidia-smi"
      ]
    },
    {
      "cell_type": "markdown",
      "metadata": {
        "id": "aaAzHlBvJv9y"
      },
      "source": [
        "## clone code from Github"
      ]
    },
    {
      "cell_type": "code",
      "execution_count": null,
      "metadata": {
        "id": "R-Y5auuvnnnT"
      },
      "outputs": [],
      "source": [
        "%cd /content\n",
        "\n",
        "!git clone https://github.com/lllyasviel/ControlNet.git\n",
        "\n",
        "# Commits on Feb 15, 2023\n",
        "%cd /content/ControlNet\n",
        "!git checkout f8a359543a6bbc1080b81401d40323cb61822f13"
      ]
    },
    {
      "cell_type": "markdown",
      "metadata": {
        "id": "4tp-fduPJv9z"
      },
      "source": [
        "## install libraries"
      ]
    },
    {
      "cell_type": "code",
      "execution_count": null,
      "metadata": {
        "id": "LScsvO3UppqT"
      },
      "outputs": [],
      "source": [
        "%cd /content/ControlNet\n",
        "\n",
        "!pip uninstall torch torchtext -y\n",
        "!pip install torch==1.12.1 torchvision==0.13.1 torchaudio==0.12.1\n",
        "!pip install omegaconf==2.1.1 einops==0.3.0\n",
        "!pip install pytorch-lightning==1.5.0\n",
        "!pip install transformers==4.19.2 open_clip_torch==2.0.2"
      ]
    },
    {
      "cell_type": "markdown",
      "metadata": {
        "id": "VIWoFf9MJv91"
      },
      "source": [
        "## import library"
      ]
    },
    {
      "cell_type": "code",
      "execution_count": null,
      "metadata": {
        "id": "o2lxptJeo6kr"
      },
      "outputs": [],
      "source": [
        "%cd /content/ControlNet\n",
        "\n",
        "import numpy as np\n",
        "from PIL import Image as PilImage\n",
        "import einops\n",
        "import matplotlib.pyplot as plt\n",
        "\n",
        "from IPython.display import HTML, Image\n",
        "from google.colab.output import eval_js\n",
        "from base64 import b64decode\n",
        "\n",
        "import torch\n",
        "from pytorch_lightning import seed_everything\n",
        "\n",
        "from cldm.model import create_model, load_state_dict\n",
        "from ldm.models.diffusion.ddim import DDIMSampler\n",
        "\n",
        "from annotator.util import resize_image, HWC3"
      ]
    },
    {
      "cell_type": "markdown",
      "metadata": {
        "id": "Ddr9r56GZqWA"
      },
      "source": [
        "# load model"
      ]
    },
    {
      "cell_type": "code",
      "execution_count": null,
      "metadata": {
        "id": "3qILO8eAZszC"
      },
      "outputs": [],
      "source": [
        "%cd /content/ControlNet\n",
        "\n",
        "# download model from huggingface\n",
        "!wget -c https://huggingface.co/lllyasviel/ControlNet/resolve/main/models/control_sd15_scribble.pth \\\n",
        "      -O ./models/control_sd15_scribble.pth"
      ]
    },
    {
      "cell_type": "code",
      "execution_count": null,
      "metadata": {
        "id": "WGVEiq2yQJ2b"
      },
      "outputs": [],
      "source": [
        "%cd /content/ControlNet\n",
        "\n",
        "model = create_model('./models/cldm_v15.yaml')\n",
        "model.load_state_dict(load_state_dict('./models/control_sd15_scribble.pth', location='cuda'))\n",
        "model = model.cuda()\n",
        "ddim_sampler = DDIMSampler(model)"
      ]
    },
    {
      "cell_type": "markdown",
      "metadata": {
        "id": "SfvCQqVOZ2lT"
      },
      "source": [
        "# setup prompt"
      ]
    },
    {
      "cell_type": "code",
      "execution_count": null,
      "metadata": {
        "id": "4omhI_hyW9AZ"
      },
      "outputs": [],
      "source": [
        "prompt = 'Rainbow turtle with shiny back' # @param {type:\"string\"}"
      ]
    },
    {
      "cell_type": "code",
      "execution_count": null,
      "metadata": {
        "id": "lWqh2-UzXQaC"
      },
      "outputs": [],
      "source": [
        "# active and negative prompt\n",
        "a_prompt = 'best quality, extremely detailed'\n",
        "n_prompt = 'longbody, lowres, bad anatomy, bad hands, missing fingers, extra digit, fewer digits, cropped, worst quality, low quality'"
      ]
    },
    {
      "cell_type": "markdown",
      "metadata": {
        "id": "iEgEPS6MaD_R"
      },
      "source": [
        "# setup config"
      ]
    },
    {
      "cell_type": "code",
      "execution_count": null,
      "metadata": {
        "id": "bduz3oS2WJVF"
      },
      "outputs": [],
      "source": [
        "image_resolution = 512\n",
        "num_samples = 1\n",
        "seed = 12\n",
        "ddim_steps = 20\n",
        "eta = 0.0\n",
        "scale = 9.0"
      ]
    },
    {
      "cell_type": "markdown",
      "metadata": {
        "id": "YisAba19aGE5"
      },
      "source": [
        "# setup image"
      ]
    },
    {
      "cell_type": "code",
      "execution_count": null,
      "metadata": {
        "id": "-XBGo4nxaOMb"
      },
      "outputs": [],
      "source": [
        "img_path = '/content/ControlNet/test_imgs/user_1.png'\n",
        "PilImage.open(img_path)"
      ]
    },
    {
      "cell_type": "markdown",
      "metadata": {
        "id": "9KmJk2QzaaQf"
      },
      "source": [
        "# Scribble to Image"
      ]
    },
    {
      "cell_type": "code",
      "execution_count": null,
      "metadata": {
        "id": "eUKgdccWV81q"
      },
      "outputs": [],
      "source": [
        "def inference(img_path, prompt):\n",
        "  # preprocess image\n",
        "  input_img = np.array(PilImage.open(img_path))\n",
        "  img = resize_image(HWC3(input_img), image_resolution)\n",
        "  H, W, C = img.shape\n",
        "\n",
        "  # initialize detect map\n",
        "  detected_map = np.zeros_like(img, dtype=np.uint8)\n",
        "  detected_map[np.min(img, axis=2) < 127] = 255\n",
        "  control = torch.from_numpy(detected_map.copy()).float().cuda() / 255.0\n",
        "  control = torch.stack([control for _ in range(num_samples)], dim=0)\n",
        "  control = einops.rearrange(control, 'b h w c -> b c h w').clone()\n",
        "\n",
        "  # set random seed\n",
        "  seed_everything(seed)\n",
        "\n",
        "  # get conftioning and unconditioning\n",
        "  cond = {\"c_concat\": [control], \"c_crossattn\": [model.get_learned_conditioning([prompt + ', ' + a_prompt] * num_samples)]}\n",
        "  un_cond = {\"c_concat\": [control], \"c_crossattn\": [model.get_learned_conditioning([n_prompt] * num_samples)]}\n",
        "  shape = (4, H // 8, W // 8)\n",
        "\n",
        "  # sampling\n",
        "  samples, intermediates = ddim_sampler.sample(\n",
        "      ddim_steps, num_samples,\n",
        "      shape, cond, verbose=False, eta=eta,\n",
        "      unconditional_guidance_scale=scale,\n",
        "      unconditional_conditioning=un_cond)\n",
        "  \n",
        "  # post process\n",
        "  x_samples = model.decode_first_stage(samples)\n",
        "  x_samples = (einops.rearrange(x_samples, 'b c h w -> b h w c') * 127.5 + 127.5).cpu().numpy().clip(0, 255).astype(np.uint8)\n",
        "\n",
        "  results = [x_samples[i] for i in range(num_samples)]\n",
        "  np_imgs = [255 - detected_map] + results\n",
        "\n",
        "  return np_imgs"
      ]
    },
    {
      "cell_type": "code",
      "execution_count": null,
      "metadata": {
        "id": "MLK75E_vX1MU"
      },
      "outputs": [],
      "source": [
        "np_imgs = inference(img_path, prompt)"
      ]
    },
    {
      "cell_type": "code",
      "execution_count": null,
      "metadata": {
        "id": "jrLExaIfYHgg"
      },
      "outputs": [],
      "source": [
        "src = PilImage.fromarray(np_imgs[0])\n",
        "dst = PilImage.fromarray(np_imgs[1])"
      ]
    },
    {
      "cell_type": "code",
      "execution_count": null,
      "metadata": {
        "id": "4CXSaltjYupF"
      },
      "outputs": [],
      "source": [
        "fig = plt.figure(figsize=(25, 10))\n",
        "\n",
        "ax1 = fig.add_subplot(1, 2, 1)\n",
        "plt.title('Scribble image', fontsize=16)\n",
        "ax1.axis('off')\n",
        "ax1.imshow(src)\n",
        "\n",
        "ax2 = fig.add_subplot(1, 2, 2)\n",
        "plt.title('Generate image', fontsize=16)\n",
        "ax2.axis('off')\n",
        "ax2.imshow(dst)\n",
        "\n",
        "plt.show()"
      ]
    },
    {
      "cell_type": "markdown",
      "metadata": {
        "id": "P1ZBAgeBetfI"
      },
      "source": [
        "# let's do scribble on google colab"
      ]
    },
    {
      "cell_type": "code",
      "execution_count": null,
      "metadata": {
        "id": "4PK8uJCHcG__"
      },
      "outputs": [],
      "source": [
        "canvas_html = \"\"\"\n",
        "<canvas width=%d height=%d></canvas>\n",
        "<button>Finish</button>\n",
        "<script>\n",
        "var canvas = document.querySelector('canvas')\n",
        "var ctx = canvas.getContext('2d')\n",
        "ctx.lineWidth = %d\n",
        "var button = document.querySelector('button')\n",
        "var mouse = {x: 0, y: 0}\n",
        "canvas.addEventListener('mousemove', function(e) {\n",
        "  mouse.x = e.pageX - this.offsetLeft\n",
        "  mouse.y = e.pageY - this.offsetTop\n",
        "})\n",
        "canvas.onmousedown = ()=>{\n",
        "  ctx.beginPath()\n",
        "  ctx.moveTo(mouse.x, mouse.y)\n",
        "  canvas.addEventListener('mousemove', onPaint)\n",
        "}\n",
        "canvas.onmouseup = ()=>{\n",
        "  canvas.removeEventListener('mousemove', onPaint)\n",
        "}\n",
        "var onPaint = ()=>{\n",
        "  ctx.lineTo(mouse.x, mouse.y)\n",
        "  ctx.stroke()\n",
        "}\n",
        "var data = new Promise(resolve=>{\n",
        "  button.onclick = ()=>{\n",
        "    resolve(canvas.toDataURL('image/png'))\n",
        "  }\n",
        "})\n",
        "</script>\n",
        "\"\"\""
      ]
    },
    {
      "cell_type": "code",
      "execution_count": null,
      "metadata": {
        "id": "gNa5UjSpcJUb"
      },
      "outputs": [],
      "source": [
        "def draw(filename='drawing.png', w=512, h=512, line_width=1):\n",
        "  display(HTML(canvas_html % (w, h, line_width)))\n",
        "  data = eval_js(\"data\")\n",
        "  binary = b64decode(data.split(',')[1])\n",
        "  with open(filename, 'wb') as f:\n",
        "    f.write(binary)\n",
        "  return len(binary)"
      ]
    },
    {
      "cell_type": "code",
      "execution_count": null,
      "metadata": {
        "colab": {
          "base_uri": "https://localhost:8080/",
          "height": 554
        },
        "id": "Y48Mt6VIcfUM",
        "outputId": "ba2a7c57-69c8-4c7c-d6f7-89122ab2ff7a"
      },
      "outputs": [],
      "source": [
        "draw()"
      ]
    },
    {
      "cell_type": "code",
      "execution_count": null,
      "metadata": {
        "colab": {
          "base_uri": "https://localhost:8080/",
          "height": 529
        },
        "id": "STw-b28ze_WR",
        "outputId": "646315d6-b596-495c-deea-fce17a517393"
      },
      "outputs": [],
      "source": [
        "img_path = 'drawing.png'\n",
        "PilImage.open(img_path)"
      ]
    },
    {
      "cell_type": "code",
      "execution_count": null,
      "metadata": {
        "id": "4ZNH6ufdfHUw"
      },
      "outputs": [],
      "source": [
        "prompt = 'Fansy cute girl, 4K, art' # @param {type:\"string\"}"
      ]
    },
    {
      "cell_type": "code",
      "execution_count": null,
      "metadata": {
        "colab": {
          "base_uri": "https://localhost:8080/"
        },
        "id": "_Pyn1iEDfQIR",
        "outputId": "9f6cd4d9-5958-4226-ecd2-c0b6e76e91df"
      },
      "outputs": [],
      "source": [
        "np_imgs = inference(img_path, prompt)"
      ]
    },
    {
      "cell_type": "code",
      "execution_count": null,
      "metadata": {
        "colab": {
          "base_uri": "https://localhost:8080/",
          "height": 503
        },
        "id": "4z05khnAfSf4",
        "outputId": "4b5acb8c-e608-4250-de4a-460e47aa4243"
      },
      "outputs": [],
      "source": [
        "src = PilImage.fromarray(np_imgs[0])\n",
        "dst = PilImage.fromarray(np_imgs[1])\n",
        "\n",
        "fig = plt.figure(figsize=(25, 10))\n",
        "\n",
        "ax1 = fig.add_subplot(1, 2, 1)\n",
        "plt.title('Scribble image', fontsize=16)\n",
        "ax1.axis('off')\n",
        "ax1.imshow(src)\n",
        "\n",
        "ax2 = fig.add_subplot(1, 2, 2)\n",
        "plt.title('Generate image', fontsize=16)\n",
        "ax2.axis('off')\n",
        "ax2.imshow(dst)\n",
        "\n",
        "plt.show()"
      ]
    }
  ],
  "metadata": {
    "accelerator": "GPU",
    "colab": {
      "provenance": [],
      "toc_visible": true
    },
    "gpuClass": "standard",
    "kernelspec": {
      "display_name": "Python 3.10.4 64-bit",
      "language": "python",
      "name": "python3"
    },
    "language_info": {
      "name": "python",
      "version": "3.10.4"
    },
    "orig_nbformat": 4,
    "vscode": {
      "interpreter": {
        "hash": "69158ccfe43d0b962045f592ede11796dd42f250837ab62152c8bc6cd100a15b"
      }
    }
  },
  "nbformat": 4,
  "nbformat_minor": 0
}
