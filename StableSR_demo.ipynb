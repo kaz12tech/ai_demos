{
  "cells": [
    {
      "cell_type": "markdown",
      "metadata": {
        "id": "ze17Whr66OiC"
      },
      "source": [
        "OutOfMemory<br>\n",
        "<br>\n",
        "論文<br>\n",
        "https://arxiv.org/abs/2305.07015<br>\n",
        "<br>\n",
        "GitHub<br>\n",
        "https://github.com/IceClear/StableSR<br>\n",
        "<br>\n",
        "<a href=\"https://colab.research.google.com/github/kaz12tech/ai_demos/blob/master/StableSR_demo.ipynb\" target=\"_blank\"><img src=\"https://colab.research.google.com/assets/colab-badge.svg\" alt=\"Open In Colab\"/></a>"
      ]
    },
    {
      "cell_type": "markdown",
      "metadata": {
        "id": "GOLKpkBa6OiI"
      },
      "source": [
        "# setup environment"
      ]
    },
    {
      "cell_type": "markdown",
      "metadata": {
        "id": "Jz8gTEgP6OiJ"
      },
      "source": [
        "## git clone"
      ]
    },
    {
      "cell_type": "code",
      "execution_count": null,
      "metadata": {
        "colab": {
          "base_uri": "https://localhost:8080/"
        },
        "id": "SO7I9ozfFpmW",
        "outputId": "9f045b09-02da-4297-8938-69a18679319b"
      },
      "outputs": [],
      "source": [
        "%cd /content\n",
        "\n",
        "!git clone https://github.com/IceClear/StableSR.git\n",
        "\n",
        "%cd /content/StableSR\n",
        "# Commits on Jul 31, 2023\n",
        "!git checkout 4796ae29e2ab80bd34873ec781ea69901292a122"
      ]
    },
    {
      "cell_type": "markdown",
      "metadata": {
        "id": "07hg4xM8tYCV"
      },
      "source": [
        "## install libraries"
      ]
    },
    {
      "cell_type": "code",
      "execution_count": null,
      "metadata": {
        "colab": {
          "base_uri": "https://localhost:8080/",
          "height": 1000
        },
        "id": "gRHm5XmrGGNB",
        "outputId": "cde4e4f5-8177-40dc-a3fb-90e4223af46c"
      },
      "outputs": [],
      "source": [
        "%cd /content/StableSR\n",
        "\n",
        "# change pytorch version\n",
        "!pip uninstall torch torchaudio torchdata torchmetrics torchsummary torch torchtext torchvision -y\n",
        "!pip install torch==1.12.1+cu116 torchvision==0.13.1+cu116 torchaudio==0.12.1 torchtext torchdata torchmetrics torchsummary xformers --extra-index-url https://download.pytorch.org/whl/cu116\n",
        "\n",
        "# install taming & clip\n",
        "!pip install -e git+https://github.com/CompVis/taming-transformers.git@master#egg=taming-transformers\n",
        "!pip install -e git+https://github.com/openai/CLIP.git@main#egg=clip\n",
        "!pip install -e .\n",
        "\n",
        "# install other library\n",
        "!pip install omegaconf\n",
        "!pip install einops\n",
        "!pip install opencv-python\n",
        "!pip install scipy\n",
        "!pip install scikit-image\n",
        "!pip install matplotlib\n",
        "!pip install scikit-learn\n",
        "!pip install transformers\n",
        "!pip install kornia\n",
        "!pip install open_clip_torch==2.0.2\n",
        "!pip install pip install -U xformers\n",
        "!pip install torchmetrics==0.6.0\n",
        "!pip install pytorch-lightning==1.4.2"
      ]
    },
    {
      "cell_type": "markdown",
      "metadata": {
        "id": "1E2Tf5qE7EjH"
      },
      "source": [
        "# download pretrain models"
      ]
    },
    {
      "cell_type": "code",
      "execution_count": null,
      "metadata": {
        "colab": {
          "base_uri": "https://localhost:8080/"
        },
        "id": "fHJjZa2Z7Juh",
        "outputId": "2277591a-1d2b-4575-c453-6e06231d3a2f"
      },
      "outputs": [],
      "source": [
        "%cd /content/StableSR\n",
        "\n",
        "# Download the pre-trained model\n",
        "!wget https://huggingface.co/Iceclear/StableSR/resolve/main/stablesr_000117.ckpt\n",
        "!wget https://huggingface.co/Iceclear/StableSR/resolve/main/vqgan_cfw_00011.ckpt"
      ]
    },
    {
      "cell_type": "markdown",
      "metadata": {
        "id": "0uWlcH4TqHLD"
      },
      "source": [
        "# download input image"
      ]
    },
    {
      "cell_type": "code",
      "execution_count": null,
      "metadata": {
        "colab": {
          "base_uri": "https://localhost:8080/"
        },
        "id": "MYr7D2A0qKjI",
        "outputId": "8e04dd41-5e9b-4f78-91a0-6a1c89417408"
      },
      "outputs": [],
      "source": [
        "%cd /content/StableSR\n",
        "\n",
        "!mkdir -p inputs/downloads\n",
        "\n",
        "!wget -c https://pbs.twimg.com/profile_images/702543084668776448/CXqtYbNg_400x400.jpg \\\n",
        "      -O ./inputs/downloads/test01.jpg"
      ]
    },
    {
      "cell_type": "markdown",
      "metadata": {
        "id": "yb7cO4J4qTkA"
      },
      "source": [
        "# Setup config"
      ]
    },
    {
      "cell_type": "code",
      "execution_count": null,
      "metadata": {
        "id": "Z5T6Zv7QqU0P"
      },
      "outputs": [],
      "source": [
        "#@markdown `DDPM_STEPS`: Number of DDPM steps for sampling<br>\n",
        "DDPM_STEPS = 200 #@param {type:\"slider\", min:10, max:1000, step:10}\n",
        "#@markdown `FIDELITY_WEIGHT`: Balance the quality (lower number) and fidelity (higher number)<br>\n",
        "FIDELITY_WEIGHT = 0.97 #@param {type:\"slider\", min:0, max:1, step:0.01}\n",
        "#@markdown `UPSCALE`: The upscale for super-resolution, 4x SR by default<br>\n",
        "UPSCALE = 4.0 #@param {type:\"slider\", min:1.0, max:16.0, step:0.5}\n",
        "#@markdown `SEED`: The random seed for sampling<br>\n",
        "SEED = 42 #@param {type:\"slider\", min:0, max:10000, step:1}\n",
        "#@markdown `TILE_OVERLAP`: The overlap between tiles, betwwen 0 to 64<br>\n",
        "TILE_OVERLAP = 32 #@param {type:\"slider\", min:0, max:60, step:2}\n",
        "#@markdown `VQGANTILE_SIZE`: The size for VQGAN tile operation in pixel, min 512.<br>\n",
        "VQGANTILE_SIZE = 1280 #@param {type:\"slider\", min:512, max:2000, step:2}\n",
        "\n",
        "VQGANTILE_STRIDE = int(VQGANTILE_SIZE * 0.9)"
      ]
    },
    {
      "cell_type": "markdown",
      "metadata": {
        "id": "FEm20rpPqZBk"
      },
      "source": [
        "# Super Resolution"
      ]
    },
    {
      "cell_type": "code",
      "execution_count": null,
      "metadata": {
        "colab": {
          "base_uri": "https://localhost:8080/"
        },
        "id": "01-RelFAqavx",
        "outputId": "5da8c94c-598b-4c1d-ec20-ce581a8da623"
      },
      "outputs": [],
      "source": [
        "!python scripts/sr_val_ddpm_text_T_vqganfin_old.py \\\n",
        "  --config configs/stableSRNew/v2-finetune_text_T_512.yaml \\\n",
        "  --ckpt './stablesr_000117.ckpt' \\\n",
        "  --vqgan_ckpt './vqgan_cfw_00011.ckpt' \\\n",
        "  --init-img 'inputs/downloads' \\\n",
        "  --outdir 'outputs/downloads' \\\n",
        "  --ddpm_steps {DDPM_STEPS} \\\n",
        "  --dec_w {FIDELITY_WEIGHT} \\\n",
        "  --seed {SEED} \\\n",
        "  --colorfix_type 'adain'"
      ]
    }
  ],
  "metadata": {
    "accelerator": "GPU",
    "colab": {
      "provenance": [],
      "toc_visible": true
    },
    "kernelspec": {
      "display_name": "Python 3.10.4 64-bit",
      "language": "python",
      "name": "python3"
    },
    "language_info": {
      "name": "python",
      "version": "3.10.4"
    },
    "vscode": {
      "interpreter": {
        "hash": "69158ccfe43d0b962045f592ede11796dd42f250837ab62152c8bc6cd100a15b"
      }
    }
  },
  "nbformat": 4,
  "nbformat_minor": 0
}
