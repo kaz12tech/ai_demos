{
  "cells": [
    {
      "cell_type": "markdown",
      "metadata": {
        "id": "9NENcrgDJv9q"
      },
      "source": [
        "論文<br>\n",
        "https://arxiv.org/abs/2210.02347<br>\n",
        "<br>\n",
        "GitHub  \n",
        "https://github.com/justinpinkney/clip2latent<br>\n",
        "<br>\n",
        "<a href=\"https://colab.research.google.com/github/kaz12tech/ai_demos/blob/master/clip2latent_demo.ipynb\" target=\"_blank\"><img src=\"https://colab.research.google.com/assets/colab-badge.svg\" alt=\"Open In Colab\"/></a>"
      ]
    },
    {
      "cell_type": "markdown",
      "metadata": {
        "id": "LHqYjlJ4Jv9u"
      },
      "source": [
        "# 環境セットアップ"
      ]
    },
    {
      "cell_type": "markdown",
      "metadata": {
        "id": "z7jySK7RJv9v"
      },
      "source": [
        "## GPU確認"
      ]
    },
    {
      "cell_type": "code",
      "execution_count": null,
      "metadata": {
        "colab": {
          "base_uri": "https://localhost:8080/"
        },
        "id": "2PcII5fLdHnJ",
        "outputId": "c6ef412d-6194-4f51-855b-a8945d1642a2"
      },
      "outputs": [],
      "source": [
        "!nvidia-smi"
      ]
    },
    {
      "cell_type": "markdown",
      "metadata": {
        "id": "aaAzHlBvJv9y"
      },
      "source": [
        "## GitHubからコード取得"
      ]
    },
    {
      "cell_type": "code",
      "execution_count": null,
      "metadata": {
        "colab": {
          "base_uri": "https://localhost:8080/"
        },
        "id": "R-Y5auuvnnnT",
        "outputId": "825703ce-4492-4ca7-fd42-e2ae1c2f6a66"
      },
      "outputs": [],
      "source": [
        "%cd /content\n",
        "\n",
        "!git clone https://github.com/justinpinkney/clip2latent.git\n",
        "\n",
        "# Commits on Oct 7, 2022\n",
        "%cd /content/clip2latent\n",
        "!git checkout fc18ab19ec03f8a4fd4d6ac0e04f2b34db696946"
      ]
    },
    {
      "cell_type": "markdown",
      "metadata": {
        "id": "4tp-fduPJv9z"
      },
      "source": [
        "## ライブラリのインストール"
      ]
    },
    {
      "cell_type": "code",
      "execution_count": null,
      "metadata": {
        "colab": {
          "base_uri": "https://localhost:8080/",
          "height": 1000
        },
        "id": "LScsvO3UppqT",
        "outputId": "d25824f3-da25-4505-f908-a6c8b30de1c8"
      },
      "outputs": [],
      "source": [
        "%cd /content/clip2latent\n",
        "\n",
        "# install requirements\n",
        "!pip install -r requirements-colab.txt"
      ]
    },
    {
      "cell_type": "markdown",
      "metadata": {
        "id": "E3YlF1ko5rnk"
      },
      "source": [
        "## ライブラリのインポート"
      ]
    },
    {
      "cell_type": "code",
      "execution_count": null,
      "metadata": {
        "colab": {
          "base_uri": "https://localhost:8080/"
        },
        "id": "hQ9msu7a5tFA",
        "outputId": "d3c589fb-a9a0-433a-db59-397795db19cd"
      },
      "outputs": [],
      "source": [
        "import torch\n",
        "from clip2latent import models\n",
        "from PIL import Image\n",
        "\n",
        "device = 'cuda' if torch.cuda.is_available() else \"cpu\"\n",
        "print(\"using device is\", device)"
      ]
    },
    {
      "cell_type": "markdown",
      "metadata": {
        "id": "uuGHEYmz534p"
      },
      "source": [
        "# 学習済みモデルのセットアップ"
      ]
    },
    {
      "cell_type": "code",
      "execution_count": null,
      "metadata": {
        "id": "O0NptEZp6KbI"
      },
      "outputs": [],
      "source": [
        "model_choices = {\n",
        "    \"faces\": {\n",
        "        \"checkpoint\": \"https://huggingface.co/lambdalabs/clip2latent/resolve/main/ffhq-sg2-510.ckpt\",\n",
        "        \"config\": \"https://huggingface.co/lambdalabs/clip2latent/resolve/main/ffhq-sg2-510.yaml\",\n",
        "        },\n",
        "    \"landscape\": {\n",
        "        \"checkpoint\": \"https://huggingface.co/lambdalabs/clip2latent/resolve/main/lhq-sg3-410.ckpt\",\n",
        "        \"config\": \"https://huggingface.co/lambdalabs/clip2latent/resolve/main/lhq-sg3-410.yaml\",\n",
        "    }\n",
        "}"
      ]
    },
    {
      "cell_type": "code",
      "execution_count": null,
      "metadata": {
        "id": "XsaV7X9s6QOg"
      },
      "outputs": [],
      "source": [
        "chosen_model = \"faces\" #@param ['faces', 'landscape']"
      ]
    },
    {
      "cell_type": "code",
      "execution_count": null,
      "metadata": {
        "colab": {
          "base_uri": "https://localhost:8080/",
          "height": 104,
          "referenced_widgets": [
            "6457b9972f66450fa7399849f78867ef",
            "3555af75dca6408fb4b99419bf2bdb27",
            "cfbcdf521c3b4edf9d96b4a389ef270b",
            "5e0c1995d500421e9ad12833e5cbd684",
            "2752415e9c244f908e84be7c1feefc5b",
            "ee740a5617174f8f9e2bbdb0b2efe931",
            "6c90a17e0a2046e5b075a9ed7b019913",
            "3f90d68db22d4027a4523c047f9a65c7",
            "6c0858e53f854a70bd11ba43cfcf1809",
            "c377801e1e124831a83c41299ba6871c",
            "2996025961424172ba4206d4ff7cd66c"
          ]
        },
        "id": "Mid5JeHm6O5o",
        "outputId": "584f37c7-aeb0-46cf-e120-001f70427da9"
      },
      "outputs": [],
      "source": [
        "checkpoint = model_choices[chosen_model][\"checkpoint\"]\n",
        "cfg_file = model_choices[chosen_model][\"config\"]\n",
        "model = models.Clip2StyleGAN(cfg_file, device, checkpoint)"
      ]
    },
    {
      "cell_type": "markdown",
      "metadata": {
        "id": "6UF8Dj9x8R7Y"
      },
      "source": [
        "# Text to Image"
      ]
    },
    {
      "cell_type": "code",
      "execution_count": null,
      "metadata": {
        "id": "iJF6p9Jx8Uid"
      },
      "outputs": [],
      "source": [
        "prompt = \"Photo of happy pierced blonde woman at shrine\" #@param {type:\"string\"}"
      ]
    },
    {
      "cell_type": "code",
      "execution_count": null,
      "metadata": {
        "id": "7sDL3ZWt80Ui"
      },
      "outputs": [],
      "source": [
        "@torch.no_grad()\n",
        "def infer(model, prompt, n_samples, scale, skips=250):\n",
        "    images, clip_score = model(prompt, n_samples_per_txt=n_samples, cond_scale=scale, skips=skips, clip_sort=True)\n",
        "    images = images.cpu()\n",
        "    make_im = lambda x: (255*x.clamp(-1, 1)/2 + 127.5).to(torch.uint8).permute(1,2,0).numpy()\n",
        "    images = [Image.fromarray(make_im(x)) for x in images]\n",
        "    return images, clip_score"
      ]
    },
    {
      "cell_type": "code",
      "execution_count": null,
      "metadata": {
        "colab": {
          "base_uri": "https://localhost:8080/"
        },
        "id": "W-_q9bbB8weM",
        "outputId": "a0073126-cea0-4464-888e-0a272774b681"
      },
      "outputs": [],
      "source": [
        "%%time\n",
        "\n",
        "outputs, clip_score = infer(model, prompt, 2, 2)"
      ]
    },
    {
      "cell_type": "code",
      "execution_count": null,
      "metadata": {
        "colab": {
          "base_uri": "https://localhost:8080/",
          "height": 565
        },
        "id": "mBaG1IT883wc",
        "outputId": "41595ffc-5884-4c61-d27d-54ca92f7e885"
      },
      "outputs": [],
      "source": [
        "for o, s in zip(outputs, clip_score):\n",
        "  display(o.resize((256, 256)))\n",
        "  print(f\"CLIP similarity score = {s.item()}\")"
      ]
    }
  ],
  "metadata": {
    "accelerator": "GPU",
    "colab": {
      "collapsed_sections": [],
      "provenance": []
    },
    "kernelspec": {
      "display_name": "Python 3.10.4 64-bit",
      "language": "python",
      "name": "python3"
    },
    "language_info": {
      "name": "python",
      "version": "3.10.4"
    },
    "orig_nbformat": 4,
    "vscode": {
      "interpreter": {
        "hash": "69158ccfe43d0b962045f592ede11796dd42f250837ab62152c8bc6cd100a15b"
      }
    },
    "widgets": {
      "application/vnd.jupyter.widget-state+json": {
        "2752415e9c244f908e84be7c1feefc5b": {
          "model_module": "@jupyter-widgets/base",
          "model_module_version": "1.2.0",
          "model_name": "LayoutModel",
          "state": {
            "_model_module": "@jupyter-widgets/base",
            "_model_module_version": "1.2.0",
            "_model_name": "LayoutModel",
            "_view_count": null,
            "_view_module": "@jupyter-widgets/base",
            "_view_module_version": "1.2.0",
            "_view_name": "LayoutView",
            "align_content": null,
            "align_items": null,
            "align_self": null,
            "border": null,
            "bottom": null,
            "display": null,
            "flex": null,
            "flex_flow": null,
            "grid_area": null,
            "grid_auto_columns": null,
            "grid_auto_flow": null,
            "grid_auto_rows": null,
            "grid_column": null,
            "grid_gap": null,
            "grid_row": null,
            "grid_template_areas": null,
            "grid_template_columns": null,
            "grid_template_rows": null,
            "height": null,
            "justify_content": null,
            "justify_items": null,
            "left": null,
            "margin": null,
            "max_height": null,
            "max_width": null,
            "min_height": null,
            "min_width": null,
            "object_fit": null,
            "object_position": null,
            "order": null,
            "overflow": null,
            "overflow_x": null,
            "overflow_y": null,
            "padding": null,
            "right": null,
            "top": null,
            "visibility": null,
            "width": null
          }
        },
        "2996025961424172ba4206d4ff7cd66c": {
          "model_module": "@jupyter-widgets/controls",
          "model_module_version": "1.5.0",
          "model_name": "DescriptionStyleModel",
          "state": {
            "_model_module": "@jupyter-widgets/controls",
            "_model_module_version": "1.5.0",
            "_model_name": "DescriptionStyleModel",
            "_view_count": null,
            "_view_module": "@jupyter-widgets/base",
            "_view_module_version": "1.2.0",
            "_view_name": "StyleView",
            "description_width": ""
          }
        },
        "3555af75dca6408fb4b99419bf2bdb27": {
          "model_module": "@jupyter-widgets/controls",
          "model_module_version": "1.5.0",
          "model_name": "HTMLModel",
          "state": {
            "_dom_classes": [],
            "_model_module": "@jupyter-widgets/controls",
            "_model_module_version": "1.5.0",
            "_model_name": "HTMLModel",
            "_view_count": null,
            "_view_module": "@jupyter-widgets/controls",
            "_view_module_version": "1.5.0",
            "_view_name": "HTMLView",
            "description": "",
            "description_tooltip": null,
            "layout": "IPY_MODEL_ee740a5617174f8f9e2bbdb0b2efe931",
            "placeholder": "​",
            "style": "IPY_MODEL_6c90a17e0a2046e5b075a9ed7b019913",
            "value": "100%"
          }
        },
        "3f90d68db22d4027a4523c047f9a65c7": {
          "model_module": "@jupyter-widgets/base",
          "model_module_version": "1.2.0",
          "model_name": "LayoutModel",
          "state": {
            "_model_module": "@jupyter-widgets/base",
            "_model_module_version": "1.2.0",
            "_model_name": "LayoutModel",
            "_view_count": null,
            "_view_module": "@jupyter-widgets/base",
            "_view_module_version": "1.2.0",
            "_view_name": "LayoutView",
            "align_content": null,
            "align_items": null,
            "align_self": null,
            "border": null,
            "bottom": null,
            "display": null,
            "flex": null,
            "flex_flow": null,
            "grid_area": null,
            "grid_auto_columns": null,
            "grid_auto_flow": null,
            "grid_auto_rows": null,
            "grid_column": null,
            "grid_gap": null,
            "grid_row": null,
            "grid_template_areas": null,
            "grid_template_columns": null,
            "grid_template_rows": null,
            "height": null,
            "justify_content": null,
            "justify_items": null,
            "left": null,
            "margin": null,
            "max_height": null,
            "max_width": null,
            "min_height": null,
            "min_width": null,
            "object_fit": null,
            "object_position": null,
            "order": null,
            "overflow": null,
            "overflow_x": null,
            "overflow_y": null,
            "padding": null,
            "right": null,
            "top": null,
            "visibility": null,
            "width": null
          }
        },
        "5e0c1995d500421e9ad12833e5cbd684": {
          "model_module": "@jupyter-widgets/controls",
          "model_module_version": "1.5.0",
          "model_name": "HTMLModel",
          "state": {
            "_dom_classes": [],
            "_model_module": "@jupyter-widgets/controls",
            "_model_module_version": "1.5.0",
            "_model_name": "HTMLModel",
            "_view_count": null,
            "_view_module": "@jupyter-widgets/controls",
            "_view_module_version": "1.5.0",
            "_view_name": "HTMLView",
            "description": "",
            "description_tooltip": null,
            "layout": "IPY_MODEL_c377801e1e124831a83c41299ba6871c",
            "placeholder": "​",
            "style": "IPY_MODEL_2996025961424172ba4206d4ff7cd66c",
            "value": " 373M/373M [00:18&lt;00:00, 32.7MB/s]"
          }
        },
        "6457b9972f66450fa7399849f78867ef": {
          "model_module": "@jupyter-widgets/controls",
          "model_module_version": "1.5.0",
          "model_name": "HBoxModel",
          "state": {
            "_dom_classes": [],
            "_model_module": "@jupyter-widgets/controls",
            "_model_module_version": "1.5.0",
            "_model_name": "HBoxModel",
            "_view_count": null,
            "_view_module": "@jupyter-widgets/controls",
            "_view_module_version": "1.5.0",
            "_view_name": "HBoxView",
            "box_style": "",
            "children": [
              "IPY_MODEL_3555af75dca6408fb4b99419bf2bdb27",
              "IPY_MODEL_cfbcdf521c3b4edf9d96b4a389ef270b",
              "IPY_MODEL_5e0c1995d500421e9ad12833e5cbd684"
            ],
            "layout": "IPY_MODEL_2752415e9c244f908e84be7c1feefc5b"
          }
        },
        "6c0858e53f854a70bd11ba43cfcf1809": {
          "model_module": "@jupyter-widgets/controls",
          "model_module_version": "1.5.0",
          "model_name": "ProgressStyleModel",
          "state": {
            "_model_module": "@jupyter-widgets/controls",
            "_model_module_version": "1.5.0",
            "_model_name": "ProgressStyleModel",
            "_view_count": null,
            "_view_module": "@jupyter-widgets/base",
            "_view_module_version": "1.2.0",
            "_view_name": "StyleView",
            "bar_color": null,
            "description_width": ""
          }
        },
        "6c90a17e0a2046e5b075a9ed7b019913": {
          "model_module": "@jupyter-widgets/controls",
          "model_module_version": "1.5.0",
          "model_name": "DescriptionStyleModel",
          "state": {
            "_model_module": "@jupyter-widgets/controls",
            "_model_module_version": "1.5.0",
            "_model_name": "DescriptionStyleModel",
            "_view_count": null,
            "_view_module": "@jupyter-widgets/base",
            "_view_module_version": "1.2.0",
            "_view_name": "StyleView",
            "description_width": ""
          }
        },
        "c377801e1e124831a83c41299ba6871c": {
          "model_module": "@jupyter-widgets/base",
          "model_module_version": "1.2.0",
          "model_name": "LayoutModel",
          "state": {
            "_model_module": "@jupyter-widgets/base",
            "_model_module_version": "1.2.0",
            "_model_name": "LayoutModel",
            "_view_count": null,
            "_view_module": "@jupyter-widgets/base",
            "_view_module_version": "1.2.0",
            "_view_name": "LayoutView",
            "align_content": null,
            "align_items": null,
            "align_self": null,
            "border": null,
            "bottom": null,
            "display": null,
            "flex": null,
            "flex_flow": null,
            "grid_area": null,
            "grid_auto_columns": null,
            "grid_auto_flow": null,
            "grid_auto_rows": null,
            "grid_column": null,
            "grid_gap": null,
            "grid_row": null,
            "grid_template_areas": null,
            "grid_template_columns": null,
            "grid_template_rows": null,
            "height": null,
            "justify_content": null,
            "justify_items": null,
            "left": null,
            "margin": null,
            "max_height": null,
            "max_width": null,
            "min_height": null,
            "min_width": null,
            "object_fit": null,
            "object_position": null,
            "order": null,
            "overflow": null,
            "overflow_x": null,
            "overflow_y": null,
            "padding": null,
            "right": null,
            "top": null,
            "visibility": null,
            "width": null
          }
        },
        "cfbcdf521c3b4edf9d96b4a389ef270b": {
          "model_module": "@jupyter-widgets/controls",
          "model_module_version": "1.5.0",
          "model_name": "FloatProgressModel",
          "state": {
            "_dom_classes": [],
            "_model_module": "@jupyter-widgets/controls",
            "_model_module_version": "1.5.0",
            "_model_name": "FloatProgressModel",
            "_view_count": null,
            "_view_module": "@jupyter-widgets/controls",
            "_view_module_version": "1.5.0",
            "_view_name": "ProgressView",
            "bar_style": "success",
            "description": "",
            "description_tooltip": null,
            "layout": "IPY_MODEL_3f90d68db22d4027a4523c047f9a65c7",
            "max": 390606755,
            "min": 0,
            "orientation": "horizontal",
            "style": "IPY_MODEL_6c0858e53f854a70bd11ba43cfcf1809",
            "value": 390606755
          }
        },
        "ee740a5617174f8f9e2bbdb0b2efe931": {
          "model_module": "@jupyter-widgets/base",
          "model_module_version": "1.2.0",
          "model_name": "LayoutModel",
          "state": {
            "_model_module": "@jupyter-widgets/base",
            "_model_module_version": "1.2.0",
            "_model_name": "LayoutModel",
            "_view_count": null,
            "_view_module": "@jupyter-widgets/base",
            "_view_module_version": "1.2.0",
            "_view_name": "LayoutView",
            "align_content": null,
            "align_items": null,
            "align_self": null,
            "border": null,
            "bottom": null,
            "display": null,
            "flex": null,
            "flex_flow": null,
            "grid_area": null,
            "grid_auto_columns": null,
            "grid_auto_flow": null,
            "grid_auto_rows": null,
            "grid_column": null,
            "grid_gap": null,
            "grid_row": null,
            "grid_template_areas": null,
            "grid_template_columns": null,
            "grid_template_rows": null,
            "height": null,
            "justify_content": null,
            "justify_items": null,
            "left": null,
            "margin": null,
            "max_height": null,
            "max_width": null,
            "min_height": null,
            "min_width": null,
            "object_fit": null,
            "object_position": null,
            "order": null,
            "overflow": null,
            "overflow_x": null,
            "overflow_y": null,
            "padding": null,
            "right": null,
            "top": null,
            "visibility": null,
            "width": null
          }
        }
      }
    }
  },
  "nbformat": 4,
  "nbformat_minor": 0
}
