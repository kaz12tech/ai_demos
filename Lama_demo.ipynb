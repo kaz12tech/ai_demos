{
  "cells": [
    {
      "cell_type": "markdown",
      "metadata": {
        "id": "ze17Whr66OiC"
      },
      "source": [
        "論文<br>\n",
        "https://arxiv.org/abs/2109.07161<br>\n",
        "<br>\n",
        "GitHub<br>\n",
        "https://github.com/saic-mdal/lama<br>\n",
        "<br>\n",
        "<a href=\"https://colab.research.google.com/github/kaz12tech/ai_demos/blob/master/Lama_demo.ipynb\" target=\"_blank\"><img src=\"https://colab.research.google.com/assets/colab-badge.svg\" alt=\"Open In Colab\"/></a>"
      ]
    },
    {
      "cell_type": "markdown",
      "metadata": {
        "id": "GOLKpkBa6OiI"
      },
      "source": [
        "# 環境セットアップ"
      ]
    },
    {
      "cell_type": "markdown",
      "metadata": {
        "id": "Jz8gTEgP6OiJ"
      },
      "source": [
        "## GitHubからソースコードを取得"
      ]
    },
    {
      "cell_type": "code",
      "execution_count": null,
      "metadata": {
        "id": "SO7I9ozfFpmW"
      },
      "outputs": [],
      "source": [
        "%cd /content\n",
        "!git clone https://github.com/saic-mdal/lama.git"
      ]
    },
    {
      "cell_type": "code",
      "execution_count": null,
      "metadata": {
        "id": "gRHm5XmrGGNB"
      },
      "outputs": [],
      "source": [
        "# Pytorch 1.8.0をインストール\n",
        "# その他ライブラリをインストール\n",
        "!pip install -r lama/requirements.txt --quiet\n",
        "!pip install wget --quiet\n",
        "!pip install torch==1.8.0+cu111 torchvision==0.9.0+cu111 torchaudio==0.8.0 torchtext==0.9 -f https://download.pytorch.org/whl/torch_stable.html --quiet\n"
      ]
    },
    {
      "cell_type": "code",
      "execution_count": null,
      "metadata": {
        "id": "b4v9kzPhRCRM"
      },
      "outputs": [],
      "source": [
        "# avoid AttributeError: 'builtin_function_or_method' object has no attribute 'rfftn'\n",
        "!sed -E -i \"15i import torch.fft\" /content/lama/saicinpainting/training/modules/ffc.py"
      ]
    },
    {
      "cell_type": "markdown",
      "metadata": {
        "id": "k6PtAhDL8qep"
      },
      "source": [
        "## 学習済みモデルのセットアップ"
      ]
    },
    {
      "cell_type": "code",
      "execution_count": null,
      "metadata": {
        "id": "2-tzc7Qu8n7P"
      },
      "outputs": [],
      "source": [
        "% cd /content/lama\n",
        "\n",
        "!curl -L $(yadisk-direct https://disk.yandex.ru/d/ouP6l8VJ0HpMZg) -o big-lama.zip\n",
        "!unzip big-lama.zip"
      ]
    },
    {
      "cell_type": "markdown",
      "metadata": {
        "id": "L6sssZcc9CBF"
      },
      "source": [
        "## ライブラリをインポート"
      ]
    },
    {
      "cell_type": "code",
      "execution_count": null,
      "metadata": {
        "id": "oeUH114h9AEa"
      },
      "outputs": [],
      "source": [
        "import base64, os\n",
        "from IPython.display import HTML, Image\n",
        "from google.colab.output import eval_js\n",
        "from base64 import b64decode\n",
        "import matplotlib.pyplot as plt\n",
        "import numpy as np\n",
        "import wget\n",
        "from shutil import copyfile\n",
        "import shutil"
      ]
    },
    {
      "cell_type": "markdown",
      "metadata": {
        "id": "Bhuq22_19Jrq"
      },
      "source": [
        "# Canvasのセットアップ"
      ]
    },
    {
      "cell_type": "code",
      "execution_count": null,
      "metadata": {
        "id": "QzkHB8lt9LdF"
      },
      "outputs": [],
      "source": [
        "\n",
        "canvas_html = \"\"\"\n",
        "<style>\n",
        ".button {\n",
        "  background-color: #4CAF50;\n",
        "  border: none;\n",
        "  color: white;\n",
        "  padding: 15px 32px;\n",
        "  text-align: center;\n",
        "  text-decoration: none;\n",
        "  display: inline-block;\n",
        "  font-size: 16px;\n",
        "  margin: 4px 2px;\n",
        "  cursor: pointer;\n",
        "}\n",
        "</style>\n",
        "<canvas1 width=%d height=%d>\n",
        "</canvas1>\n",
        "<canvas width=%d height=%d>\n",
        "</canvas>\n",
        "\n",
        "<button class=\"button\">Finish</button>\n",
        "<script>\n",
        "var canvas = document.querySelector('canvas')\n",
        "var ctx = canvas.getContext('2d')\n",
        "\n",
        "var canvas1 = document.querySelector('canvas1')\n",
        "var ctx1 = canvas.getContext('2d')\n",
        "\n",
        "\n",
        "ctx.strokeStyle = 'red';\n",
        "\n",
        "var img = new Image();\n",
        "img.src = \"data:image/%s;charset=utf-8;base64,%s\";\n",
        "console.log(img)\n",
        "img.onload = function() {\n",
        "  ctx1.drawImage(img, 0, 0);\n",
        "};\n",
        "img.crossOrigin = 'Anonymous';\n",
        "\n",
        "ctx.clearRect(0, 0, canvas.width, canvas.height);\n",
        "\n",
        "ctx.lineWidth = %d\n",
        "var button = document.querySelector('button')\n",
        "var mouse = {x: 0, y: 0}\n",
        "\n",
        "canvas.addEventListener('mousemove', function(e) {\n",
        "  mouse.x = e.pageX - this.offsetLeft\n",
        "  mouse.y = e.pageY - this.offsetTop\n",
        "})\n",
        "canvas.onmousedown = ()=>{\n",
        "  ctx.beginPath()\n",
        "  ctx.moveTo(mouse.x, mouse.y)\n",
        "  canvas.addEventListener('mousemove', onPaint)\n",
        "}\n",
        "canvas.onmouseup = ()=>{\n",
        "  canvas.removeEventListener('mousemove', onPaint)\n",
        "}\n",
        "var onPaint = ()=>{\n",
        "  ctx.lineTo(mouse.x, mouse.y)\n",
        "  ctx.stroke()\n",
        "}\n",
        "\n",
        "var data = new Promise(resolve=>{\n",
        "  button.onclick = ()=>{\n",
        "    resolve(canvas.toDataURL('image/png'))\n",
        "  }\n",
        "})\n",
        "</script>\n",
        "\"\"\""
      ]
    },
    {
      "cell_type": "code",
      "execution_count": null,
      "metadata": {
        "id": "aHFN4noq9O3R"
      },
      "outputs": [],
      "source": [
        "def draw(imgm, filename='drawing.png', w=400, h=200, line_width=1):\n",
        "  display(HTML(canvas_html % (w, h, w,h, filename.split('.')[-1], imgm, line_width)))\n",
        "  data = eval_js(\"data\")\n",
        "  binary = b64decode(data.split(',')[1])\n",
        "  with open(filename, 'wb') as f:\n",
        "    f.write(binary)"
      ]
    },
    {
      "cell_type": "markdown",
      "metadata": {
        "id": "rOTjBUyc9ZJo"
      },
      "source": [
        "# 画像のセットアップ\n",
        "[使用画像1](https://www.pakutaso.com/shared/img/thumb/PAK85_oyakudachisimasu20140830_TP_V.jpg)<br>\n",
        "[使用画像2](https://www.pakutaso.com/shared/img/thumb/TSU88_awaitoykyo_TP_V.jpg)<br>\n",
        "[使用画像3](https://www.pakutaso.com/20211208341post-37933.html)"
      ]
    },
    {
      "cell_type": "code",
      "execution_count": null,
      "metadata": {
        "id": "QlrcDFJw9do9"
      },
      "outputs": [],
      "source": [
        "% cd /content/lama\n",
        "\n",
        "from google.colab import files\n",
        "files = files.upload()\n",
        "fname = list(files.keys())[0]\n",
        "\n",
        "shutil.rmtree('./data_for_prediction', ignore_errors=True)\n",
        "! mkdir data_for_prediction\n",
        "\n",
        "copyfile(fname, f'./data_for_prediction/{fname}')\n",
        "os.remove(fname)\n",
        "fname = f'./data_for_prediction/{fname}'\n",
        "\n",
        "image64 = base64.b64encode(open(fname, 'rb').read())\n",
        "image64 = image64.decode('utf-8')\n",
        "\n",
        "print(f'Will use {fname} for inpainting')\n",
        "img = np.array(plt.imread(f'{fname}')[:,:,:3])"
      ]
    },
    {
      "cell_type": "markdown",
      "metadata": {
        "id": "5QIX0xGL94OX"
      },
      "source": [
        "# inpainting"
      ]
    },
    {
      "cell_type": "code",
      "execution_count": null,
      "metadata": {
        "id": "XGVWdNFi91qr"
      },
      "outputs": [],
      "source": [
        "mask_path = f\".{fname.split('.')[1]}_mask.png\"\n",
        "draw(image64, filename=mask_path, w=img.shape[1], h=img.shape[0], line_width=0.04*img.shape[1])\n",
        "\n",
        "with_mask = np.array(plt.imread(mask_path)[:,:,:3])\n",
        "mask = (with_mask[:,:,0]==1)*(with_mask[:,:,1]==0)*(with_mask[:,:,2]==0)\n",
        "plt.imsave(mask_path,mask, cmap='gray')"
      ]
    },
    {
      "cell_type": "code",
      "execution_count": null,
      "metadata": {
        "id": "BTQhOHzJ9LOD"
      },
      "outputs": [],
      "source": [
        "splitpaths = os.path.splitext(os.path.basename(fname))\n",
        "suffix=splitpaths[(len(splitpaths)-1)]"
      ]
    },
    {
      "cell_type": "code",
      "execution_count": null,
      "metadata": {
        "id": "KbA2rXYaDIQp"
      },
      "outputs": [],
      "source": [
        "%cd /content/lama\n",
        "\n",
        "!mkdir output/\n",
        "copyfile(mask_path,os.path.join(\"./output/\", os.path.basename(mask_path)))\n",
        "\n",
        "!PYTHONPATH=. TORCH_HOME=$(pwd) python3 bin/predict.py \\\n",
        "  model.path=$(pwd)/big-lama \\\n",
        "  indir=$(pwd)/data_for_prediction \\\n",
        "  outdir=/content/lama/output \\\n",
        "  dataset.img_suffix={suffix}\n",
        "\n",
        "plt.rcParams['figure.dpi'] = 200\n",
        "plt.imshow(plt.imread(f\"/content/lama/output/{fname.split('.')[1].split('/')[2]}_mask.png\"))\n",
        "_=plt.axis('off')\n",
        "_=plt.title('inpainting result')\n",
        "plt.show()\n",
        "fname = None"
      ]
    }
  ],
  "metadata": {
    "accelerator": "GPU",
    "colab": {
      "provenance": []
    },
    "kernelspec": {
      "display_name": "Python 3",
      "name": "python3"
    },
    "language_info": {
      "name": "python"
    }
  },
  "nbformat": 4,
  "nbformat_minor": 0
}