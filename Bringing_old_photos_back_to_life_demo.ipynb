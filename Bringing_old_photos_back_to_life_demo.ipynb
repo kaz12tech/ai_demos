{
  "cells": [
    {
      "cell_type": "markdown",
      "metadata": {
        "id": "9NENcrgDJv9q"
      },
      "source": [
        "論文  \n",
        "https://arxiv.org/abs/2004.09484<br>\n",
        "<br>\n",
        "GitHub  \n",
        "https://github.com/microsoft/Bringing-Old-Photos-Back-to-Life<br>\n",
        "<br>\n",
        "<a href=\"https://colab.research.google.com/github/kaz12tech/ai_demos/blob/master/Bringing_old_photos_back_to_life_demo.ipynb\" target=\"_blank\"><img src=\"https://colab.research.google.com/assets/colab-badge.svg\" alt=\"Open In Colab\"/></a>"
      ]
    },
    {
      "cell_type": "markdown",
      "metadata": {
        "id": "LHqYjlJ4Jv9u"
      },
      "source": [
        "# 環境セットアップ"
      ]
    },
    {
      "cell_type": "markdown",
      "metadata": {
        "id": "z7jySK7RJv9v"
      },
      "source": [
        "## GPU確認"
      ]
    },
    {
      "cell_type": "code",
      "execution_count": null,
      "metadata": {
        "id": "2PcII5fLdHnJ"
      },
      "outputs": [],
      "source": [
        "!nvidia-smi"
      ]
    },
    {
      "cell_type": "markdown",
      "metadata": {
        "id": "aaAzHlBvJv9y"
      },
      "source": [
        "## GitHubからコード取得"
      ]
    },
    {
      "cell_type": "code",
      "execution_count": null,
      "metadata": {
        "id": "R-Y5auuvnnnT"
      },
      "outputs": [],
      "source": [
        "!git clone https://github.com/microsoft/Bringing-Old-Photos-Back-to-Life.git photo_restoration\n",
        "\n",
        "%cd /content/photo_restoration\n",
        "# Commits on Jul 23, 2022使用\n",
        "!git checkout 33875eccf4ebcd3665cf38cc56f3a0ce563d3a9c"
      ]
    },
    {
      "cell_type": "markdown",
      "metadata": {
        "id": "iVc3Uyr2Ujf3"
      },
      "source": [
        "## 依存するコードを取得"
      ]
    },
    {
      "cell_type": "code",
      "execution_count": null,
      "metadata": {
        "id": "LScsvO3UppqT"
      },
      "outputs": [],
      "source": [
        "# Synchronized-BatchNormをクローン\n",
        "%cd /content/photo_restoration/Face_Enhancement/models/networks\n",
        "!git clone https://github.com/vacancy/Synchronized-BatchNorm-PyTorch\n",
        "!cp -rf Synchronized-BatchNorm-PyTorch/sync_batchnorm .\n",
        "\n",
        "%cd /content/photo_restoration/Global/detection_models\n",
        "!git clone https://github.com/vacancy/Synchronized-BatchNorm-PyTorch\n",
        "!cp -rf Synchronized-BatchNorm-PyTorch/sync_batchnorm ."
      ]
    },
    {
      "cell_type": "markdown",
      "metadata": {
        "id": "4tp-fduPJv9z"
      },
      "source": [
        "## ライブラリのインストール"
      ]
    },
    {
      "cell_type": "code",
      "execution_count": null,
      "metadata": {
        "id": "cSiwyEASUeRr"
      },
      "outputs": [],
      "source": [
        "%cd /content/photo_restoration\n",
        "\n",
        "!pip install -r requirements.txt"
      ]
    },
    {
      "cell_type": "markdown",
      "metadata": {
        "id": "IjeBaMGGVkOR"
      },
      "source": [
        "## ライブラリのインポート"
      ]
    },
    {
      "cell_type": "code",
      "execution_count": null,
      "metadata": {
        "id": "WJG99osXVl_j"
      },
      "outputs": [],
      "source": [
        "import os\n",
        "import io\n",
        "import IPython.display\n",
        "import numpy as np\n",
        "import PIL.Image"
      ]
    },
    {
      "cell_type": "markdown",
      "metadata": {
        "id": "WZac8HEZUGl4"
      },
      "source": [
        "# 学習済みモデルのセットアップ"
      ]
    },
    {
      "cell_type": "code",
      "execution_count": null,
      "metadata": {
        "id": "E3ua8v0DUJdF"
      },
      "outputs": [],
      "source": [
        "# download the landmark detection model\n",
        "%cd /content/photo_restoration/Face_Detection/\n",
        "!wget http://dlib.net/files/shape_predictor_68_face_landmarks.dat.bz2\n",
        "!bzip2 -d shape_predictor_68_face_landmarks.dat.bz2\n",
        "\n",
        "# download the pretrained model\n",
        "%cd /content/photo_restoration/Face_Enhancement\n",
        "!wget https://github.com/microsoft/Bringing-Old-Photos-Back-to-Life/releases/download/v1.0/face_checkpoints.zip\n",
        "!unzip face_checkpoints.zip\n",
        "\n",
        "%cd /content/photo_restoration/Global\n",
        "!wget https://github.com/microsoft/Bringing-Old-Photos-Back-to-Life/releases/download/v1.0/global_checkpoints.zip\n",
        "!unzip global_checkpoints.zip"
      ]
    },
    {
      "cell_type": "markdown",
      "metadata": {
        "id": "X6BCH4lqVsO8"
      },
      "source": [
        "# 描画用関数定義"
      ]
    },
    {
      "cell_type": "code",
      "execution_count": null,
      "metadata": {
        "id": "9H0aAgEQVuOL"
      },
      "outputs": [],
      "source": [
        "def imshow(a, format='png', jpeg_fallback=True):\n",
        "  a = np.asarray(a, dtype=np.uint8)\n",
        "  data = io.BytesIO()\n",
        "  PIL.Image.fromarray(a).save(data, format)\n",
        "  im_data = data.getvalue()\n",
        "  try:\n",
        "    disp = IPython.display.display(IPython.display.Image(im_data))\n",
        "  except IOError:\n",
        "    if jpeg_fallback and format != 'jpeg':\n",
        "      print(('Warning: image was too large to display in format \"{}\"; '\n",
        "             'trying jpeg instead.').format(format))\n",
        "      return imshow(a, format='jpeg')\n",
        "    else:\n",
        "      raise\n",
        "  return disp\n",
        "\n",
        "def make_grid(I1, I2, resize=True):\n",
        "  I1 = np.asarray(I1)\n",
        "  H, W = I1.shape[0], I1.shape[1]\n",
        "    \n",
        "  if I1.ndim >= 3:\n",
        "    I2 = np.asarray(I2.resize((W,H)))\n",
        "    I_combine = np.zeros((H,W*2,3))\n",
        "    I_combine[:,:W,:] = I1[:,:,:3]\n",
        "    I_combine[:,W:,:] = I2[:,:,:3]\n",
        "  else:\n",
        "    I2 = np.asarray(I2.resize((W,H)).convert('L'))\n",
        "    I_combine = np.zeros((H,W*2))\n",
        "    I_combine[:,:W] = I1[:,:]\n",
        "    I_combine[:,W:] = I2[:,:]\n",
        "  I_combine = PIL.Image.fromarray(np.uint8(I_combine))\n",
        "\n",
        "  W_base = 600\n",
        "  if resize:\n",
        "    ratio = W_base / (W*2)\n",
        "    H_new = int(H * ratio)\n",
        "    I_combine = I_combine.resize((W_base, H_new), PIL.Image.LANCZOS)\n",
        "\n",
        "  return I_combine"
      ]
    },
    {
      "cell_type": "markdown",
      "metadata": {
        "id": "VUeNA_ptVE3R"
      },
      "source": [
        "# Old Photo Restoration"
      ]
    },
    {
      "cell_type": "code",
      "execution_count": null,
      "metadata": {
        "id": "N4OHkyBlVHWP"
      },
      "outputs": [],
      "source": [
        "%cd /content/photo_restoration/\n",
        "\n",
        "input_folder = \"test_images/old_w_scratch\" # 入力画像ディレクトリ\n",
        "output_folder = \"test_output\"    # 出力画像ディレクトリ\n",
        "\n",
        "!mkdir {output_folder}\n",
        "\n",
        "!python run.py \\\n",
        "  --input_folder {input_folder} \\\n",
        "  --output_folder {output_folder} \\\n",
        "  --GPU 0 \\\n",
        "  --with_scratch"
      ]
    },
    {
      "cell_type": "code",
      "execution_count": null,
      "metadata": {
        "id": "7qxuTK2dWetg"
      },
      "outputs": [],
      "source": [
        "filenames = os.listdir(os.path.join(input_folder))\n",
        "filenames.sort()\n",
        "\n",
        "for filename in filenames:\n",
        "  print(filename)\n",
        "  image_original = PIL.Image.open(os.path.join(input_folder, filename))\n",
        "  image_restore = PIL.Image.open(os.path.join(output_folder, 'final_output', filename))\n",
        "\n",
        "  display(make_grid(image_original, image_restore))"
      ]
    },
    {
      "cell_type": "markdown",
      "source": [
        "## 任意の画像利用"
      ],
      "metadata": {
        "id": "Rn88_LDca5O2"
      }
    },
    {
      "cell_type": "code",
      "source": [
        "%cd /content/photo_restoration/\n",
        "\n",
        "input_folder = \"my_images/old_w_scratch\" # 入力画像ディレクトリ\n",
        "output_folder = \"my_output\"    # 出力画像ディレクトリ\n",
        "\n",
        "!mkdir -p {input_folder}\n",
        "!mkdir -p {output_folder}"
      ],
      "metadata": {
        "id": "ZNdpZ8BUa9GL"
      },
      "execution_count": null,
      "outputs": []
    },
    {
      "cell_type": "code",
      "source": [
        "!wget -c https://i.pinimg.com/236x/ec/ac/65/ecac654443b3d6d93733538f4a30045b--old-portraits-vintage-photographs.jpg \\\n",
        "      -O my_images/old_w_scratch/test_01.png\n",
        "\n",
        "!wget -c https://cdn.cambridgeincolour.com/images/tutorials/dpr_localized1.jpg \\\n",
        "      -O my_images/old_w_scratch/test_02.png\n",
        "\n",
        "!wget -c https://www.phowd.com/images/landing/old-photo-restored-repaired-before.jpg \\\n",
        "      -O my_images/old_w_scratch/test_03.png\n",
        "\n",
        "!apt -y install imagemagick\n",
        "!convert -geometry \"50%\" my_images/old_w_scratch/test_03.png my_images/old_w_scratch/test_03.png"
      ],
      "metadata": {
        "id": "UPWerV1ybTxv"
      },
      "execution_count": null,
      "outputs": []
    },
    {
      "cell_type": "code",
      "source": [
        "!python run.py \\\n",
        "  --input_folder {input_folder} \\\n",
        "  --output_folder {output_folder} \\\n",
        "  --GPU 0 \\\n",
        "  --with_scratch"
      ],
      "metadata": {
        "id": "CwLJ20KUcyTG"
      },
      "execution_count": null,
      "outputs": []
    },
    {
      "cell_type": "code",
      "source": [
        "filenames = os.listdir(os.path.join(input_folder))\n",
        "filenames.sort()\n",
        "\n",
        "for filename in filenames:\n",
        "  print(filename)\n",
        "  image_original = PIL.Image.open(os.path.join(input_folder, filename))\n",
        "  image_restore = PIL.Image.open(os.path.join(output_folder, 'final_output', filename))\n",
        "\n",
        "  display(make_grid(image_original, image_restore))"
      ],
      "metadata": {
        "id": "e09fmDkWc1cB"
      },
      "execution_count": null,
      "outputs": []
    }
  ],
  "metadata": {
    "accelerator": "GPU",
    "colab": {
      "collapsed_sections": [],
      "provenance": []
    },
    "kernelspec": {
      "display_name": "Python 3.10.4 64-bit",
      "language": "python",
      "name": "python3"
    },
    "language_info": {
      "name": "python",
      "version": "3.10.4"
    },
    "vscode": {
      "interpreter": {
        "hash": "69158ccfe43d0b962045f592ede11796dd42f250837ab62152c8bc6cd100a15b"
      }
    }
  },
  "nbformat": 4,
  "nbformat_minor": 0
}