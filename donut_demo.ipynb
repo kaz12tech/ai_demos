{
  "cells": [
    {
      "cell_type": "markdown",
      "metadata": {
        "id": "ze17Whr66OiC"
      },
      "source": [
        "論文<br>\n",
        "https://arxiv.org/abs/2111.15664v2<br>\n",
        "<br>\n",
        "GitHub<br>\n",
        "https://github.com/clovaai/donut<br>\n",
        "<br>\n",
        "<a href=\"https://colab.research.google.com/github/kaz12tech/ai_demos/blob/master/donut_demo.ipynb\" target=\"_blank\"><img src=\"https://colab.research.google.com/assets/colab-badge.svg\" alt=\"Open In Colab\"/></a>"
      ]
    },
    {
      "cell_type": "markdown",
      "metadata": {
        "id": "GOLKpkBa6OiI"
      },
      "source": [
        "# 環境セットアップ"
      ]
    },
    {
      "cell_type": "markdown",
      "metadata": {
        "id": "Jz8gTEgP6OiJ"
      },
      "source": [
        "## GitHubからソースコードを取得"
      ]
    },
    {
      "cell_type": "code",
      "execution_count": null,
      "metadata": {
        "id": "SO7I9ozfFpmW"
      },
      "outputs": [],
      "source": []
    },
    {
      "cell_type": "markdown",
      "metadata": {
        "id": "07hg4xM8tYCV"
      },
      "source": [
        "## ライブラリのインストール"
      ]
    },
    {
      "cell_type": "code",
      "execution_count": null,
      "metadata": {
        "id": "gRHm5XmrGGNB"
      },
      "outputs": [],
      "source": [
        "!pip install donut-python"
      ]
    },
    {
      "cell_type": "markdown",
      "metadata": {
        "id": "L6sssZcc9CBF"
      },
      "source": [
        "## ライブラリをインポート"
      ]
    },
    {
      "cell_type": "code",
      "execution_count": null,
      "metadata": {
        "id": "oeUH114h9AEa"
      },
      "outputs": [],
      "source": [
        "import torch\n",
        "from PIL import Image\n",
        "\n",
        "from donut import DonutModel\n",
        "\n",
        "import IPython\n",
        "import pprint"
      ]
    },
    {
      "cell_type": "markdown",
      "metadata": {
        "id": "wphGTE29bASx"
      },
      "source": [
        "# テスト画像取得"
      ]
    },
    {
      "cell_type": "code",
      "execution_count": null,
      "metadata": {
        "colab": {
          "base_uri": "https://localhost:8080/"
        },
        "id": "jvJlj45_bCgT",
        "outputId": "0d38df87-ee4c-4e49-8d4d-8dc84532441e"
      },
      "outputs": [],
      "source": [
        "!rm -rf test_01.jpg\n",
        "\n",
        "# 英語のスライド\n",
        "!wget -c https://media.slidesgo.com/storage/162635/conversions/1-market-share-infographics-thumb.jpg \\\n",
        "      -O ./test_01.jpg\n",
        "\n",
        "# 日本語のレシート\n",
        "# !wget -c https://www.isp21.co.jp/wp-content/uploads/solution/library/library02-1.jpg \\\n",
        "#       -O ./test_01.jpg\n",
        "\n",
        "input_img_path = './test_01.jpg'"
      ]
    },
    {
      "cell_type": "markdown",
      "metadata": {
        "id": "XSwdl6444Ea1"
      },
      "source": [
        "# For Document Classification"
      ]
    },
    {
      "cell_type": "markdown",
      "metadata": {
        "id": "Qo8ukAGf4MiA"
      },
      "source": [
        "## 学習済みモデルのロード"
      ]
    },
    {
      "cell_type": "code",
      "execution_count": null,
      "metadata": {
        "colab": {
          "base_uri": "https://localhost:8080/"
        },
        "id": "gLhF226y4OQG",
        "outputId": "f08e28b5-3bcf-4890-cb7b-5e0459fc963d"
      },
      "outputs": [],
      "source": [
        "pretrained_model = DonutModel.from_pretrained(\"naver-clova-ix/donut-base-finetuned-rvlcdip\")\n",
        "\n",
        "if torch.cuda.is_available():\n",
        "    pretrained_model.half()\n",
        "    device = torch.device(\"cuda\")\n",
        "    pretrained_model.to(device)\n",
        "else:\n",
        "    pretrained_model.encoder.to(torch.bfloat16)\n",
        "\n",
        "pretrained_model.eval()"
      ]
    },
    {
      "cell_type": "code",
      "execution_count": null,
      "metadata": {
        "id": "zTBQcD0E4g4z"
      },
      "outputs": [],
      "source": [
        "task_prompt = \"<s_rvlcdip>\"\n",
        "\n",
        "input_img = Image.open(input_img_path)\n",
        "output = pretrained_model.inference(image=input_img, prompt=task_prompt)[\"predictions\"][0]"
      ]
    },
    {
      "cell_type": "code",
      "execution_count": null,
      "metadata": {
        "colab": {
          "base_uri": "https://localhost:8080/",
          "height": 617
        },
        "id": "m2draYdS4tC6",
        "outputId": "ba817bd1-9166-4a8b-c637-886964b0c25c"
      },
      "outputs": [],
      "source": [
        "IPython.display.Image(input_img_path, height=600)"
      ]
    },
    {
      "cell_type": "code",
      "execution_count": null,
      "metadata": {
        "colab": {
          "base_uri": "https://localhost:8080/"
        },
        "id": "jnweoYH24uV2",
        "outputId": "a47e52f6-8439-4878-dfc6-da8405c2d0ac"
      },
      "outputs": [],
      "source": [
        "pprint.pprint(output)"
      ]
    },
    {
      "cell_type": "markdown",
      "metadata": {
        "id": "lX_oGRsUtvg5"
      },
      "source": [
        "# For Document Information Extraction"
      ]
    },
    {
      "cell_type": "markdown",
      "metadata": {
        "id": "bL4izGjDCK13"
      },
      "source": [
        "## 学習済みモデルのロード"
      ]
    },
    {
      "cell_type": "code",
      "execution_count": null,
      "metadata": {
        "colab": {
          "base_uri": "https://localhost:8080/"
        },
        "id": "nwLkGxOMCO21",
        "outputId": "92bc9681-8a07-4d75-fda3-e43c314ba997"
      },
      "outputs": [],
      "source": [
        "pretrained_model = DonutModel.from_pretrained(\"naver-clova-ix/donut-base-finetuned-cord-v2\")\n",
        "\n",
        "if torch.cuda.is_available():\n",
        "    pretrained_model.half()\n",
        "    device = torch.device(\"cuda\")\n",
        "    pretrained_model.to(device)\n",
        "else:\n",
        "    pretrained_model.encoder.to(torch.bfloat16)\n",
        "\n",
        "pretrained_model.eval()"
      ]
    },
    {
      "cell_type": "code",
      "execution_count": null,
      "metadata": {
        "id": "SyFkgRjvahxP"
      },
      "outputs": [],
      "source": [
        "task_prompt = \"<s_cord-v2>\"\n",
        "\n",
        "input_img = Image.open(input_img_path)\n",
        "output = pretrained_model.inference(image=input_img, prompt=task_prompt)[\"predictions\"][0]"
      ]
    },
    {
      "cell_type": "code",
      "execution_count": null,
      "metadata": {
        "colab": {
          "base_uri": "https://localhost:8080/",
          "height": 617
        },
        "id": "96co3-v4dOFT",
        "outputId": "464114fe-7fd4-46c7-dc1c-5321cfd7fda5"
      },
      "outputs": [],
      "source": [
        "IPython.display.Image(input_img_path, height=600)"
      ]
    },
    {
      "cell_type": "code",
      "execution_count": null,
      "metadata": {
        "colab": {
          "base_uri": "https://localhost:8080/"
        },
        "id": "LlpryPEkb5iV",
        "outputId": "ba492394-179c-4ec2-91b0-3d6111bed39e"
      },
      "outputs": [],
      "source": [
        "pprint.pprint(output)"
      ]
    },
    {
      "cell_type": "markdown",
      "metadata": {
        "id": "t2g_P-NQehHh"
      },
      "source": [
        "# For Document Visual Question Answering"
      ]
    },
    {
      "cell_type": "markdown",
      "metadata": {
        "id": "99hZw0Owqle3"
      },
      "source": [
        "## 学習済みモデルのロード"
      ]
    },
    {
      "cell_type": "code",
      "execution_count": null,
      "metadata": {
        "colab": {
          "base_uri": "https://localhost:8080/"
        },
        "id": "lNV-5OaKqnOS",
        "outputId": "a614b214-82c2-4461-f5b3-01664de2e012"
      },
      "outputs": [],
      "source": [
        "pretrained_model = DonutModel.from_pretrained(\"naver-clova-ix/donut-base-finetuned-docvqa\")\n",
        "\n",
        "if torch.cuda.is_available():\n",
        "    pretrained_model.half()\n",
        "    device = torch.device(\"cuda\")\n",
        "    pretrained_model.to(device)\n",
        "else:\n",
        "    pretrained_model.encoder.to(torch.bfloat16)\n",
        "\n",
        "pretrained_model.eval()"
      ]
    },
    {
      "cell_type": "code",
      "execution_count": null,
      "metadata": {
        "id": "vWBgxxl5ektc"
      },
      "outputs": [],
      "source": [
        "task_name = \"docvqa\"\n",
        "task_prompt = \"<s_docvqa><s_question>{user_input}</s_question><s_answer>\"\n",
        "\n",
        "question = \"What has the highest market share?\" # @param {type:\"string\"}\n",
        "user_prompt = task_prompt.replace(\"{user_input}\", question)\n",
        "\n",
        "input_img = Image.open(input_img_path)\n",
        "output = pretrained_model.inference(input_img, prompt=user_prompt)[\"predictions\"][0]"
      ]
    },
    {
      "cell_type": "code",
      "execution_count": null,
      "metadata": {
        "colab": {
          "base_uri": "https://localhost:8080/"
        },
        "id": "GlA0IIlolk4M",
        "outputId": "fc816ae3-088c-4398-818a-178bc7e2c1f4"
      },
      "outputs": [],
      "source": [
        "pprint.pprint(output)"
      ]
    }
  ],
  "metadata": {
    "accelerator": "GPU",
    "colab": {
      "collapsed_sections": [],
      "name": "donut_demo.ipynb",
      "provenance": []
    },
    "kernelspec": {
      "display_name": "Python 3.10.4 64-bit",
      "language": "python",
      "name": "python3"
    },
    "language_info": {
      "name": "python",
      "version": "3.10.4"
    },
    "vscode": {
      "interpreter": {
        "hash": "69158ccfe43d0b962045f592ede11796dd42f250837ab62152c8bc6cd100a15b"
      }
    }
  },
  "nbformat": 4,
  "nbformat_minor": 0
}
