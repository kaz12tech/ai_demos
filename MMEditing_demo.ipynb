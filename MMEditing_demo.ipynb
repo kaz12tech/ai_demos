{
  "cells": [
    {
      "cell_type": "markdown",
      "metadata": {
        "id": "v5RxgR9ynpsE"
      },
      "source": [
        "参考<br>\n",
        "https://mmediting.readthedocs.io/en/latest/_tmp/restorers_models.html<br>\n",
        "<br>\n",
        "GitHub<br>\n",
        "https://github.com/open-mmlab/mmediting<br>\n",
        "<br>\n",
        "<a href=\"https://colab.research.google.com/github/kaz12tech/ai_demos/blob/master/MMEditing_demo.ipynb\" target=\"_blank\"><img src=\"https://colab.research.google.com/assets/colab-badge.svg\" alt=\"Open In Colab\"/></a>"
      ]
    },
    {
      "cell_type": "markdown",
      "metadata": {
        "id": "Kkx3TFBbHwjZ"
      },
      "source": [
        "# 環境セットアップ"
      ]
    },
    {
      "cell_type": "markdown",
      "metadata": {
        "id": "kdagbl9FHwja"
      },
      "source": [
        "## Pytorchインストール"
      ]
    },
    {
      "cell_type": "code",
      "execution_count": null,
      "metadata": {
        "colab": {
          "base_uri": "https://localhost:8080/"
        },
        "id": "r1WDpyOhnmcG",
        "outputId": "ab8ffc8e-2349-42ab-b1aa-248e0177bc68"
      },
      "outputs": [],
      "source": [
        "!pip install torch==1.10.2+cu102 torchvision==0.11.3+cu102 -f https://download.pytorch.org/whl/cu102/torch_stable.html"
      ]
    },
    {
      "cell_type": "code",
      "execution_count": null,
      "metadata": {
        "colab": {
          "base_uri": "https://localhost:8080/"
        },
        "id": "mOOrmWgan4hi",
        "outputId": "b6f6ac0c-445e-48d7-ba0f-044afd16e356"
      },
      "outputs": [],
      "source": [
        "# Pytorchの動作確認\n",
        "!python -c \"import torch; print(torch.__version__)\"\n",
        "!python -c \"import torch; print(torch.version.cuda)\""
      ]
    },
    {
      "cell_type": "markdown",
      "metadata": {
        "id": "l8qEJ6bvHwjc"
      },
      "source": [
        "## MMCVインストール"
      ]
    },
    {
      "cell_type": "code",
      "execution_count": null,
      "metadata": {
        "colab": {
          "base_uri": "https://localhost:8080/"
        },
        "id": "PZrMvDcqn9uB",
        "outputId": "85256663-136d-4c9a-d830-8aed5c423e37"
      },
      "outputs": [],
      "source": [
        "# mmcvインストール\n",
        "!pip install mmcv-full -f https://download.openmmlab.com/mmcv/dist/cu102/torch1.10/index.html"
      ]
    },
    {
      "cell_type": "markdown",
      "metadata": {
        "id": "XPC828qkHwje"
      },
      "source": [
        "## MMEditingインストール"
      ]
    },
    {
      "cell_type": "code",
      "execution_count": null,
      "metadata": {
        "colab": {
          "base_uri": "https://localhost:8080/"
        },
        "id": "yrt-Cw3coB0F",
        "outputId": "26b04ea7-05a9-491f-fd0f-6d115fd6fcd8"
      },
      "outputs": [],
      "source": [
        "# mmlabインストール\n",
        "%cd /content\n",
        "\n",
        "!git clone https://github.com/open-mmlab/mmediting.git\n",
        "%cd mmediting\n",
        "!pip install -v -e ."
      ]
    },
    {
      "cell_type": "code",
      "execution_count": null,
      "metadata": {
        "colab": {
          "base_uri": "https://localhost:8080/"
        },
        "id": "9PIi0PySoLT0",
        "outputId": "52e7b7e0-041c-4bdc-a861-4c38a88fba7c"
      },
      "outputs": [],
      "source": [
        "!python -c \"import mmedit; print(mmedit.__version__)\""
      ]
    },
    {
      "cell_type": "markdown",
      "metadata": {
        "id": "NXHw6vOCJqvG"
      },
      "source": [
        "## ライブラリのインポート"
      ]
    },
    {
      "cell_type": "code",
      "execution_count": null,
      "metadata": {
        "id": "okFcfBfSJqPj"
      },
      "outputs": [],
      "source": [
        "import matplotlib.pyplot as plt\n",
        "from PIL import Image, ImageDraw"
      ]
    },
    {
      "cell_type": "markdown",
      "metadata": {
        "id": "jssGyxeEHwjg"
      },
      "source": [
        "# Matting"
      ]
    },
    {
      "cell_type": "code",
      "execution_count": null,
      "metadata": {
        "colab": {
          "base_uri": "https://localhost:8080/"
        },
        "id": "OTgSTbVvprTI",
        "outputId": "6735f448-e5d1-4166-a064-9c797e49e98b"
      },
      "outputs": [],
      "source": [
        "# Matting\n",
        "%cd /content/mmediting\n",
        "!mkdir -p models/mattors/gca\n",
        "%cd models/mattors/gca\n",
        "!wget https://download.openmmlab.com/mmediting/mattors/gca/gca_r34_4x10_200k_comp1k_SAD-34.77_20200604_213848-4369bea0.pth\n"
      ]
    },
    {
      "cell_type": "code",
      "execution_count": null,
      "metadata": {
        "colab": {
          "base_uri": "https://localhost:8080/"
        },
        "id": "iGhJtv4KqUjv",
        "outputId": "41e6fdeb-70cd-407c-f40c-b62b2b0340ca"
      },
      "outputs": [],
      "source": [
        "\n",
        "%cd /content/mmediting\n",
        "CONFIG_FILE = \"/content/mmediting/configs/mattors/gca/gca_r34_4x10_200k_comp1k.py\"\n",
        "CHECKPOINT_FILE = \"/content/mmediting/models/mattors/gca/gca_r34_4x10_200k_comp1k_SAD-34.77_20200604_213848-4369bea0.pth\"\n",
        "IMAGE_FILE = \"/content/mmediting/tests/data/merged/GT05.jpg\"\n",
        "TRIMAP_FILE = \"/content/mmediting/tests/data/trimap/GT05.png\"\n",
        "SAVE_FILE = \"/content/mmediting/outputs/mattors/gca/result.png\"\n",
        "\n",
        "!python demo/matting_demo.py {CONFIG_FILE} {CHECKPOINT_FILE} {IMAGE_FILE} {TRIMAP_FILE} {SAVE_FILE}\n"
      ]
    },
    {
      "cell_type": "code",
      "execution_count": null,
      "metadata": {
        "colab": {
          "base_uri": "https://localhost:8080/",
          "height": 474
        },
        "id": "PD2cXjO8J05l",
        "outputId": "c8e1257d-b93b-40c7-8a15-eacf4ccb2cd8"
      },
      "outputs": [],
      "source": [
        "fig = plt.figure(num=None, figsize=(18, 6), dpi=128, )\n",
        "\n",
        "ax = fig.add_subplot(1, 3, 1, xticks=[], yticks=[])\n",
        "plt.imshow(Image.open(IMAGE_FILE).convert(\"RGB\"))\n",
        "ax.set_title(\"IMAGE_FILE\")\n",
        "\n",
        "ax = fig.add_subplot(1, 3, 2, xticks=[], yticks=[])\n",
        "plt.imshow(Image.open(TRIMAP_FILE).convert(\"RGB\"))\n",
        "ax.set_title(\"TRIMAP_FILE\")\n",
        "\n",
        "ax = fig.add_subplot(1, 3, 3, xticks=[], yticks=[])\n",
        "plt.imshow(Image.open(SAVE_FILE).convert(\"RGB\"))\n",
        "ax.set_title(\"SAVE_FILE\")\n"
      ]
    },
    {
      "cell_type": "markdown",
      "metadata": {
        "id": "0xUmW-dnHwji"
      },
      "source": [
        "# Inpainting"
      ]
    },
    {
      "cell_type": "code",
      "execution_count": null,
      "metadata": {
        "colab": {
          "base_uri": "https://localhost:8080/"
        },
        "id": "WC28afh3uD-m",
        "outputId": "749d8589-5a92-420c-c35d-ba81f7860409"
      },
      "outputs": [],
      "source": [
        "# Inpainting\n",
        "%cd /content/mmediting\n",
        "!mkdir -p models/inpainting/deepfillv2\n",
        "%cd models/inpainting/deepfillv2\n",
        "!wget https://download.openmmlab.com/mmediting/inpainting/deepfillv2/deepfillv2_256x256_8x2_celeba_20200619-c96e5f12.pth\n"
      ]
    },
    {
      "cell_type": "code",
      "execution_count": null,
      "metadata": {
        "colab": {
          "base_uri": "https://localhost:8080/"
        },
        "id": "V7UKtA1pt1hP",
        "outputId": "4b07460f-9dfc-4e06-ba9a-798340c533e9"
      },
      "outputs": [],
      "source": [
        "\n",
        "%cd /content/mmediting\n",
        "CONFIG_FILE = \"/content/mmediting/configs/inpainting/deepfillv2/deepfillv2_256x256_8x2_celeba.py\"\n",
        "CHECKPOINT_FILE = \"/content/mmediting/models/inpainting/deepfillv2/deepfillv2_256x256_8x2_celeba_20200619-c96e5f12.pth\"\n",
        "MASKED_IMAGE_FILE = \"/content/mmediting/tests/data/image/celeba_test.png\"\n",
        "MASK_FILE = \"/content/mmediting/tests/data/image/bbox_mask.png\"\n",
        "SAVE_FILE = \"/content/mmediting/outputs/inpainting/deepfillv2/result.png\"\n",
        "\n",
        "!python demo/inpainting_demo.py {CONFIG_FILE} {CHECKPOINT_FILE} {MASKED_IMAGE_FILE} {MASK_FILE} {SAVE_FILE}\n"
      ]
    },
    {
      "cell_type": "code",
      "execution_count": null,
      "metadata": {
        "colab": {
          "base_uri": "https://localhost:8080/",
          "height": 515
        },
        "id": "IAwUooBWNvNA",
        "outputId": "dc51eb52-26cd-4794-9de8-785f286fbe05"
      },
      "outputs": [],
      "source": [
        "fig = plt.figure(num=None, figsize=(18, 6), dpi=128, )\n",
        "\n",
        "ax = fig.add_subplot(1, 3, 1, xticks=[], yticks=[])\n",
        "plt.imshow(Image.open(MASKED_IMAGE_FILE).convert(\"RGB\"))\n",
        "ax.set_title(\"MASKED_IMAGE_FILE\")\n",
        "\n",
        "ax = fig.add_subplot(1, 3, 2, xticks=[], yticks=[])\n",
        "plt.imshow(Image.open(MASK_FILE).convert(\"RGB\"))\n",
        "ax.set_title(\"MASK_FILE\")\n",
        "\n",
        "ax = fig.add_subplot(1, 3, 3, xticks=[], yticks=[])\n",
        "plt.imshow(Image.open(SAVE_FILE).convert(\"RGB\"))\n",
        "ax.set_title(\"SAVE_FILE\")\n"
      ]
    },
    {
      "cell_type": "markdown",
      "metadata": {
        "id": "U-Kf-RbMHwjj"
      },
      "source": [
        "# Image Super Resolution"
      ]
    },
    {
      "cell_type": "code",
      "execution_count": null,
      "metadata": {
        "colab": {
          "base_uri": "https://localhost:8080/"
        },
        "id": "AkExMkHoxX-P",
        "outputId": "9128a293-8782-44b8-e1d9-85f950e4ea08"
      },
      "outputs": [],
      "source": [
        "# Image Super Resolution(restoration)\n",
        "%cd /content/mmediting\n",
        "!mkdir -p models/restorers/esrgan\n",
        "%cd models/restorers/esrgan\n",
        "!wget https://download.openmmlab.com/mmediting/restorers/esrgan/esrgan_x4c64b23g32_1x16_400k_div2k_20200508-f8ccaf3b.pth"
      ]
    },
    {
      "cell_type": "code",
      "execution_count": null,
      "metadata": {
        "colab": {
          "base_uri": "https://localhost:8080/"
        },
        "id": "NtIwP_kAxnR4",
        "outputId": "5bc24ab7-82d2-4983-892e-fb7ede32875c"
      },
      "outputs": [],
      "source": [
        "%cd /content/mmediting\n",
        "CONFIG_FILE = \"/content/mmediting/configs/restorers/esrgan/esrgan_x4c64b23g32_g1_400k_div2k.py\"\n",
        "CHECKPOINT_FILE = \"/content/mmediting/models/restorers/esrgan/esrgan_x4c64b23g32_1x16_400k_div2k_20200508-f8ccaf3b.pth\"\n",
        "IMAGE_FILE = \"/content/mmediting/tests/data/lq/baboon_x4.png\"\n",
        "SAVE_FILE = \"/content/mmediting/outputs/restorers/esrgan/result.png\"\n",
        "\n",
        "!python demo/restoration_demo.py {CONFIG_FILE} {CHECKPOINT_FILE} {IMAGE_FILE} {SAVE_FILE}"
      ]
    },
    {
      "cell_type": "code",
      "execution_count": null,
      "metadata": {
        "colab": {
          "base_uri": "https://localhost:8080/",
          "height": 628
        },
        "id": "GMWzeDnOOr7i",
        "outputId": "55a2e762-9952-4882-9620-8aae5dd6fc92"
      },
      "outputs": [],
      "source": [
        "fig = plt.figure(num=None, figsize=(18, 6), dpi=128, )\n",
        "\n",
        "ax = fig.add_subplot(1, 2, 1, xticks=[], yticks=[])\n",
        "plt.imshow(Image.open(IMAGE_FILE).convert(\"RGB\"))\n",
        "ax.set_title(\"IMAGE_FILE\")\n",
        "\n",
        "ax = fig.add_subplot(1, 2, 2, xticks=[], yticks=[])\n",
        "plt.imshow(Image.open(SAVE_FILE).convert(\"RGB\"))\n",
        "ax.set_title(\"SAVE_FILE\")"
      ]
    },
    {
      "cell_type": "markdown",
      "metadata": {
        "id": "3-tcscDUHwjk"
      },
      "source": [
        "# Video Super Resolution"
      ]
    },
    {
      "cell_type": "code",
      "execution_count": null,
      "metadata": {
        "colab": {
          "base_uri": "https://localhost:8080/"
        },
        "id": "8hsq97zv4JQF",
        "outputId": "8579b4c6-cb49-437b-81f0-1f991a51191b"
      },
      "outputs": [],
      "source": [
        "# Video Super Resolution(restoration)\n",
        "%cd /content/mmediting\n",
        "!mkdir -p models/restorers/basicvsr_plusplus\n",
        "%cd models/restorers/basicvsr_plusplus\n",
        "!wget https://download.openmmlab.com/mmediting/restorers/basicvsr_plusplus/basicvsr_plusplus_c64n7_8x1_300k_vimeo90k_bi_20210305-4ef437e2.pth"
      ]
    },
    {
      "cell_type": "code",
      "execution_count": null,
      "metadata": {
        "colab": {
          "base_uri": "https://localhost:8080/"
        },
        "id": "U6pJpRAs4fB9",
        "outputId": "630952e1-9190-4183-ab1e-a8d7689f6edb"
      },
      "outputs": [],
      "source": [
        "%cd /content/mmediting\n",
        "CONFIG_FILE = \"/content/mmediting/configs/restorers/basicvsr_plusplus/basicvsr_plusplus_c64n7_8x1_600k_reds4.py\"\n",
        "CHECKPOINT_FILE = \"/content/mmediting/models/restorers/basicvsr_plusplus/basicvsr_plusplus_c64n7_8x1_300k_vimeo90k_bi_20210305-4ef437e2.pth\"\n",
        "INPUT_DIR = \"tests/data/test_multiple_gt/sequence_1\"\n",
        "OUTPUT_DIR = \"/content/mmediting/outputs/restorers/basicvsr_plusplus\"\n",
        "\n",
        "!python demo/restoration_video_demo.py {CONFIG_FILE} {CHECKPOINT_FILE} {INPUT_DIR} {OUTPUT_DIR}"
      ]
    },
    {
      "cell_type": "markdown",
      "metadata": {
        "id": "HqrLb6IaHwjl"
      },
      "source": [
        "# Generation"
      ]
    },
    {
      "cell_type": "code",
      "execution_count": null,
      "metadata": {
        "colab": {
          "base_uri": "https://localhost:8080/"
        },
        "id": "PGtEwH6BzFAQ",
        "outputId": "d9c6c163-affe-4936-eff3-dd0211facb6c"
      },
      "outputs": [],
      "source": [
        "# Generation(synthesizers)\n",
        "%cd /content/mmediting\n",
        "!mkdir -p models/synthesizers/cyclegan\n",
        "%cd models/synthesizers/cyclegan\n",
        "!wget https://download.openmmlab.com/mmediting/synthesizers/cyclegan/cyclegan_horse2zebra_id0/cyclegan_lsgan_id0_resnet_in_1x1_266800_horse2zebra_20200524-470fb8da.pth"
      ]
    },
    {
      "cell_type": "code",
      "execution_count": null,
      "metadata": {
        "colab": {
          "base_uri": "https://localhost:8080/"
        },
        "id": "EAD59aQzzEuA",
        "outputId": "9864fb86-a5ad-4bd2-e6c2-21233aaef967"
      },
      "outputs": [],
      "source": [
        "%cd /content/mmediting\n",
        "CONFIG_FILE = \"/content/mmediting/configs/synthesizers/cyclegan/cyclegan_lsgan_id0_resnet_in_1x1_266800_horse2zebra.py\"\n",
        "CHECKPOINT_FILE = \"/content/mmediting/models/synthesizers/cyclegan/cyclegan_lsgan_id0_resnet_in_1x1_266800_horse2zebra_20200524-470fb8da.pth\"\n",
        "IMAGE_FILE = \"/content/mmediting/tests/data/unpaired/trainA/2.jpg\"\n",
        "SAVE_FILE = \"/content/mmediting/outputs/synthesizers/cyclegan/result.png\"\n",
        "UNPAIRED_IMAGE_FILE = \"/content/mmediting/tests/data/unpaired/testB/6.jpg\"\n",
        "\n",
        "\n",
        "!python demo/generation_demo.py {CONFIG_FILE} {CHECKPOINT_FILE} {IMAGE_FILE} {SAVE_FILE} --unpaired_path {UNPAIRED_IMAGE_FILE}"
      ]
    },
    {
      "cell_type": "code",
      "execution_count": null,
      "metadata": {
        "colab": {
          "base_uri": "https://localhost:8080/",
          "height": 989
        },
        "id": "KP3Gc5-9QmsU",
        "outputId": "67a00cd5-f838-4ac1-9c76-a8d835cd6438"
      },
      "outputs": [],
      "source": [
        "fig = plt.figure(num=None, figsize=(12, 6), dpi=128, )\n",
        "\n",
        "ax = fig.add_subplot(1, 2, 1, xticks=[], yticks=[])\n",
        "plt.imshow(Image.open(IMAGE_FILE).convert(\"RGB\"))\n",
        "ax.set_title(\"IMAGE_FILE\")\n",
        "\n",
        "ax = fig.add_subplot(1, 2, 2, xticks=[], yticks=[])\n",
        "plt.imshow(Image.open(UNPAIRED_IMAGE_FILE).convert(\"RGB\"))\n",
        "ax.set_title(\"UNPAIRED_IMAGE_FILE\")\n",
        "\n",
        "fig = plt.figure(num=None, figsize=(12, 6), dpi=128, )\n",
        "\n",
        "ax = fig.add_subplot(1, 1, 1, xticks=[], yticks=[])\n",
        "plt.imshow(Image.open(SAVE_FILE).convert(\"RGB\"))\n",
        "ax.set_title(\"SAVE_FILE\")"
      ]
    }
  ],
  "metadata": {
    "accelerator": "GPU",
    "colab": {
      "collapsed_sections": [],
      "name": "MMEditing_demo.ipynb",
      "provenance": [],
      "toc_visible": true
    },
    "kernelspec": {
      "display_name": "Python 3",
      "name": "python3"
    },
    "language_info": {
      "name": "python"
    }
  },
  "nbformat": 4,
  "nbformat_minor": 0
}
