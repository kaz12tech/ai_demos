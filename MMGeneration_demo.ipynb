{
  "cells": [
    {
      "cell_type": "markdown",
      "metadata": {
        "id": "G9fueCPLFKin"
      },
      "source": [
        "GitHub<br>\n",
        "https://github.com/open-mmlab/mmgeneration<br>\n",
        "<br>\n",
        "<a href=\"https://colab.research.google.com/github/kaz12tech/ai_demos/blob/master/MMGeneration_demo.ipynb\" target=\"_blank\"><img src=\"https://colab.research.google.com/assets/colab-badge.svg\" alt=\"Open In Colab\"/></a>"
      ]
    },
    {
      "cell_type": "markdown",
      "metadata": {
        "id": "894c0QeEFKit"
      },
      "source": [
        "# 環境セットアップ"
      ]
    },
    {
      "cell_type": "markdown",
      "metadata": {
        "id": "iWBmluQQx-MK"
      },
      "source": [
        "## GPU確認"
      ]
    },
    {
      "cell_type": "code",
      "execution_count": null,
      "metadata": {
        "colab": {
          "base_uri": "https://localhost:8080/"
        },
        "id": "qyLiFmW6x_3w",
        "outputId": "3ac1a3d0-0965-4331-8350-59180a225d03"
      },
      "outputs": [],
      "source": [
        "!nvidia-smi"
      ]
    },
    {
      "cell_type": "markdown",
      "metadata": {
        "id": "TmL3LoMMGcNF"
      },
      "source": [
        "## Githubからソースコード取得"
      ]
    },
    {
      "cell_type": "code",
      "execution_count": null,
      "metadata": {
        "colab": {
          "base_uri": "https://localhost:8080/"
        },
        "id": "tthUF7D6FKiu",
        "outputId": "72afe412-7813-46ad-be2d-5eea1e820dec"
      },
      "outputs": [],
      "source": [
        "%cd /content\n",
        "\n",
        "!git clone https://github.com/open-mmlab/mmgeneration.git"
      ]
    },
    {
      "cell_type": "markdown",
      "metadata": {
        "id": "2-2Fh1sOHdnn"
      },
      "source": [
        "## ライブラリのインストール"
      ]
    },
    {
      "cell_type": "code",
      "execution_count": null,
      "metadata": {
        "colab": {
          "base_uri": "https://localhost:8080/",
          "height": 1000
        },
        "id": "AP8SsHYvHfkR",
        "outputId": "9da073a6-0745-41d2-87e3-95b9bee5542b"
      },
      "outputs": [],
      "source": [
        "%cd /content/mmgeneration\n",
        "\n",
        "!pip install moviepy\n",
        "!pip3 install openmim\n",
        "!mim install mmcv-full\n",
        "\n",
        "!pip install -e .[all]"
      ]
    },
    {
      "cell_type": "markdown",
      "metadata": {
        "id": "XD205dUu6KAQ"
      },
      "source": [
        "# synthesized images with unconditional GAN"
      ]
    },
    {
      "cell_type": "code",
      "execution_count": null,
      "metadata": {
        "colab": {
          "base_uri": "https://localhost:8080/",
          "height": 142,
          "referenced_widgets": [
            "008b8e4440d34ecfa137fd7aafec54b2",
            "68735cdbf94241aa9554137546be2f8d",
            "1ad32f3968cd4779bd684e67c9efe88b",
            "8c39080e59a94272865b89aac44c8fc6",
            "5340872773204d52b1c408faf7f63ad4",
            "0807441a51624fec8551d7098589cfea",
            "8ab5ecd2629646c6b5a21d4fb39fb9cb",
            "2d1aac5cc0764330aa9ff491349ca006",
            "9040003064a34308aa17abafe590eba4",
            "e0ba1e52380044e99120c7dbe61128f9",
            "dcfeef25f20749dfb0ff82260c201ed8"
          ]
        },
        "id": "kFW9H4jI6YlO",
        "outputId": "e5bc3cd7-a54a-42b1-fc52-c146d160331f"
      },
      "outputs": [],
      "source": [
        "import mmcv\n",
        "from mmgen.apis import init_model, sample_unconditional_model\n",
        "\n",
        "# Specify the path to model config and checkpoint file\n",
        "config_file = 'configs/styleganv2/stylegan2_c2_ffhq_1024_b4x8.py'\n",
        "# you can download this checkpoint in advance and use a local file path.\n",
        "checkpoint_file = 'https://download.openmmlab.com/mmgen/stylegan2/stylegan2_c2_ffhq_1024_b4x8_20210407_150045-618c9024.pth'\n",
        "\n",
        "device = 'cuda:0'\n",
        "# init a generatvie\n",
        "model = init_model(config_file, checkpoint_file, device=device)\n",
        "# sample images\n",
        "fake_imgs = sample_unconditional_model(model, 4)"
      ]
    },
    {
      "cell_type": "code",
      "execution_count": null,
      "metadata": {
        "colab": {
          "base_uri": "https://localhost:8080/",
          "height": 295
        },
        "id": "oew7yPXE61Bz",
        "outputId": "6cb85659-b1b1-45dd-fc81-5042d4f70400"
      },
      "outputs": [],
      "source": [
        "from torchvision import utils\n",
        "import matplotlib.pyplot as plt\n",
        "import os\n",
        "from IPython.display import Image, display\n",
        "\n",
        "results = (fake_imgs[:, [2, 1, 0]] + 1.) / 2.\n",
        "save_path = './outputs/unconditional/results.jpg'\n",
        "\n",
        "# save images\n",
        "mmcv.mkdir_or_exist(os.path.dirname(save_path))\n",
        "utils.save_image(\n",
        "    results, save_path, ncol=1, padding=0)\n",
        "\n",
        "# display\n",
        "display(Image(save_path))"
      ]
    },
    {
      "cell_type": "markdown",
      "metadata": {
        "id": "g_d6kvkd-etX"
      },
      "source": [
        "# synthesized images with conditional GAN"
      ]
    },
    {
      "cell_type": "code",
      "execution_count": null,
      "metadata": {
        "colab": {
          "base_uri": "https://localhost:8080/",
          "height": 142,
          "referenced_widgets": [
            "fdc5d3dd01184fb1829e4bc1b1d3791e",
            "18ac02d6dc6e40e8b0a7269477a52816",
            "f83ee46660ec46828ff3149617767bc5",
            "30f90e6c4e304c12ad2772ee57ac5874",
            "46b37ac3c82e42f0bae2fdfd5faabf95",
            "5fc285a599764ef69d3aedf32daa844e",
            "a995afee32704b3ab63386af791ce322",
            "391cfb81e2644694b60e0e32dfba3d85",
            "688cfe5b119145928b38bf453fbbf62b",
            "97ef73f000d9441b803e2aba2a6e3f22",
            "9d9e9eb89d234e30b2a53b0ed3844625"
          ]
        },
        "id": "8rgRLtsV-dg9",
        "outputId": "6a6cb5f8-7a49-49a6-e7e5-be41d0d4ff79"
      },
      "outputs": [],
      "source": [
        "from mmgen.apis import init_model, sample_conditional_model\n",
        "\n",
        "# Specify the path to model config and checkpoint file\n",
        "config_file = 'configs/sagan/sagan_128_woReLUinplace_noaug_bigGAN_Glr-1e-4_Dlr-4e-4_ndisc1_imagenet1k_b32x8.py'\n",
        "# you can download this checkpoint in advance and use a local file path.\n",
        "checkpoint_file = 'https://download.openmmlab.com/mmgen/sagan/sagan_128_woReLUinplace_noaug_bigGAN_imagenet1k_b32x8_Glr1e-4_Dlr-4e-4_ndisc1_20210818_210232-3f5686af.pth'\n",
        "\n",
        "device = 'cuda:0'\n",
        "# init a generatvie\n",
        "model = init_model(config_file, checkpoint_file, device=device)\n",
        "\n",
        "# sample images with specific labels\n",
        "# label https://gist.github.com/yrevar/942d3a0ac09ec9e5eb3a\n",
        "fake_imgs = sample_conditional_model(model, 4, label=[0, 1, 2, 3])"
      ]
    },
    {
      "cell_type": "code",
      "execution_count": null,
      "metadata": {
        "colab": {
          "base_uri": "https://localhost:8080/",
          "height": 145
        },
        "id": "d8xpnPDa-mNU",
        "outputId": "ac1d47e0-7aba-4eb1-b3dd-36b1023d70fb"
      },
      "outputs": [],
      "source": [
        "results = (fake_imgs[:, [2, 1, 0]] + 1.) / 2.\n",
        "save_path = './outputs/conditional/results.jpg'\n",
        "\n",
        "# save images\n",
        "mmcv.mkdir_or_exist(os.path.dirname(save_path))\n",
        "utils.save_image(\n",
        "    results, save_path, ncol=1, padding=0)\n",
        "\n",
        "# display\n",
        "display(Image(save_path))"
      ]
    },
    {
      "cell_type": "markdown",
      "metadata": {
        "id": "5uJ_xZJj_f9q"
      },
      "source": [
        "# image translation"
      ]
    },
    {
      "cell_type": "code",
      "execution_count": null,
      "metadata": {
        "colab": {
          "base_uri": "https://localhost:8080/"
        },
        "id": "hO0mLRtz_cdP",
        "outputId": "d3f9e9e1-6ca3-4dc8-81f3-2522d73a0186"
      },
      "outputs": [],
      "source": [
        "from mmgen.apis import init_model, sample_img2img_model\n",
        "\n",
        "config_file = 'configs/pix2pix/pix2pix_vanilla_unet_bn_wo_jitter_flip_edges2shoes_b1x4_190k.py'\n",
        "checkpoint_file = 'https://download.openmmlab.com/mmgen/pix2pix/refactor/pix2pix_vanilla_unet_bn_wo_jitter_flip_1x4_186840_edges2shoes_convert-bgr_20210902_170902-0c828552.pth'\n",
        "\n",
        "# Specify the path to image you want to translate\n",
        "image_path = 'tests/data/paired/test/33_AB.jpg'\n",
        "device = 'cuda:0'\n",
        "# init a generatvie\n",
        "model = init_model(config_file, checkpoint_file, device=device)\n",
        "# translate a single image\n",
        "translated_image = sample_img2img_model(model, image_path, target_domain='photo')"
      ]
    },
    {
      "cell_type": "code",
      "execution_count": null,
      "metadata": {
        "colab": {
          "base_uri": "https://localhost:8080/",
          "height": 273
        },
        "id": "L-QEV5oS_qGN",
        "outputId": "08da327e-3dcf-43d5-b610-7e95efc294b7"
      },
      "outputs": [],
      "source": [
        "results = (translated_image[:, [2, 1, 0]] + 1.) / 2.\n",
        "save_path = './outputs/translation/results.jpg'\n",
        "\n",
        "# save images\n",
        "mmcv.mkdir_or_exist(os.path.dirname(save_path))\n",
        "utils.save_image(\n",
        "    results, save_path, ncol=1, padding=0)\n",
        "\n",
        "# display\n",
        "display(Image(save_path))"
      ]
    },
    {
      "cell_type": "markdown",
      "metadata": {
        "id": "FkBckvBdA5QF"
      },
      "source": [
        "# Interpolation"
      ]
    },
    {
      "cell_type": "code",
      "execution_count": null,
      "metadata": {
        "colab": {
          "base_uri": "https://localhost:8080/"
        },
        "id": "wBDIxv79IxV8",
        "outputId": "5ebf0600-5b57-4e88-eeef-faecdc019c38"
      },
      "outputs": [],
      "source": [
        "!python apps/interpolate_sample.py \\\n",
        "  configs/styleganv2/stylegan2_c2_ffhq_256_b4x8_800k.py \\\n",
        "  https://download.openmmlab.com/mmgen/stylegan2/stylegan2_c2_ffhq_256_b4x8_20210407_160709-7890ae1f.pth \\\n",
        "  --export-video \\\n",
        "  --samples-path outputs/interpolation \\\n",
        "  --endpoint 6 \\\n",
        "  --interval 60 \\\n",
        "  --space z \\\n",
        "  --seed 12 \\\n",
        "  --sample-cfg truncation=0.8"
      ]
    },
    {
      "cell_type": "code",
      "execution_count": null,
      "metadata": {
        "colab": {
          "base_uri": "https://localhost:8080/",
          "height": 550
        },
        "id": "QIHnYUyJREPV",
        "outputId": "3989350d-a643-43f4-d9e2-7d33f685c094"
      },
      "outputs": [],
      "source": [
        "from moviepy.video.fx.resize import resize\n",
        "from moviepy.editor import VideoFileClip\n",
        "\n",
        "# display\n",
        "clip = VideoFileClip('/content/mmgeneration/outputs/interpolation/lerp.mp4')\n",
        "clip = resize(clip, height=420)\n",
        "clip.ipython_display()"
      ]
    }
  ],
  "metadata": {
    "accelerator": "GPU",
    "colab": {
      "collapsed_sections": [],
      "name": "MMGeneration_demo.ipynb",
      "provenance": [],
      "toc_visible": true
    },
    "kernelspec": {
      "display_name": "Python 3",
      "name": "python3"
    },
    "language_info": {
      "name": "python"
    },
    "widgets": {
      "application/vnd.jupyter.widget-state+json": {
        "008b8e4440d34ecfa137fd7aafec54b2": {
          "model_module": "@jupyter-widgets/controls",
          "model_module_version": "1.5.0",
          "model_name": "HBoxModel",
          "state": {
            "_dom_classes": [],
            "_model_module": "@jupyter-widgets/controls",
            "_model_module_version": "1.5.0",
            "_model_name": "HBoxModel",
            "_view_count": null,
            "_view_module": "@jupyter-widgets/controls",
            "_view_module_version": "1.5.0",
            "_view_name": "HBoxView",
            "box_style": "",
            "children": [
              "IPY_MODEL_68735cdbf94241aa9554137546be2f8d",
              "IPY_MODEL_1ad32f3968cd4779bd684e67c9efe88b",
              "IPY_MODEL_8c39080e59a94272865b89aac44c8fc6"
            ],
            "layout": "IPY_MODEL_5340872773204d52b1c408faf7f63ad4"
          }
        },
        "0807441a51624fec8551d7098589cfea": {
          "model_module": "@jupyter-widgets/base",
          "model_module_version": "1.2.0",
          "model_name": "LayoutModel",
          "state": {
            "_model_module": "@jupyter-widgets/base",
            "_model_module_version": "1.2.0",
            "_model_name": "LayoutModel",
            "_view_count": null,
            "_view_module": "@jupyter-widgets/base",
            "_view_module_version": "1.2.0",
            "_view_name": "LayoutView",
            "align_content": null,
            "align_items": null,
            "align_self": null,
            "border": null,
            "bottom": null,
            "display": null,
            "flex": null,
            "flex_flow": null,
            "grid_area": null,
            "grid_auto_columns": null,
            "grid_auto_flow": null,
            "grid_auto_rows": null,
            "grid_column": null,
            "grid_gap": null,
            "grid_row": null,
            "grid_template_areas": null,
            "grid_template_columns": null,
            "grid_template_rows": null,
            "height": null,
            "justify_content": null,
            "justify_items": null,
            "left": null,
            "margin": null,
            "max_height": null,
            "max_width": null,
            "min_height": null,
            "min_width": null,
            "object_fit": null,
            "object_position": null,
            "order": null,
            "overflow": null,
            "overflow_x": null,
            "overflow_y": null,
            "padding": null,
            "right": null,
            "top": null,
            "visibility": null,
            "width": null
          }
        },
        "18ac02d6dc6e40e8b0a7269477a52816": {
          "model_module": "@jupyter-widgets/controls",
          "model_module_version": "1.5.0",
          "model_name": "HTMLModel",
          "state": {
            "_dom_classes": [],
            "_model_module": "@jupyter-widgets/controls",
            "_model_module_version": "1.5.0",
            "_model_name": "HTMLModel",
            "_view_count": null,
            "_view_module": "@jupyter-widgets/controls",
            "_view_module_version": "1.5.0",
            "_view_name": "HTMLView",
            "description": "",
            "description_tooltip": null,
            "layout": "IPY_MODEL_5fc285a599764ef69d3aedf32daa844e",
            "placeholder": "​",
            "style": "IPY_MODEL_a995afee32704b3ab63386af791ce322",
            "value": "100%"
          }
        },
        "1ad32f3968cd4779bd684e67c9efe88b": {
          "model_module": "@jupyter-widgets/controls",
          "model_module_version": "1.5.0",
          "model_name": "FloatProgressModel",
          "state": {
            "_dom_classes": [],
            "_model_module": "@jupyter-widgets/controls",
            "_model_module_version": "1.5.0",
            "_model_name": "FloatProgressModel",
            "_view_count": null,
            "_view_module": "@jupyter-widgets/controls",
            "_view_module_version": "1.5.0",
            "_view_name": "ProgressView",
            "bar_style": "success",
            "description": "",
            "description_tooltip": null,
            "layout": "IPY_MODEL_2d1aac5cc0764330aa9ff491349ca006",
            "max": 381528574,
            "min": 0,
            "orientation": "horizontal",
            "style": "IPY_MODEL_9040003064a34308aa17abafe590eba4",
            "value": 381528574
          }
        },
        "2d1aac5cc0764330aa9ff491349ca006": {
          "model_module": "@jupyter-widgets/base",
          "model_module_version": "1.2.0",
          "model_name": "LayoutModel",
          "state": {
            "_model_module": "@jupyter-widgets/base",
            "_model_module_version": "1.2.0",
            "_model_name": "LayoutModel",
            "_view_count": null,
            "_view_module": "@jupyter-widgets/base",
            "_view_module_version": "1.2.0",
            "_view_name": "LayoutView",
            "align_content": null,
            "align_items": null,
            "align_self": null,
            "border": null,
            "bottom": null,
            "display": null,
            "flex": null,
            "flex_flow": null,
            "grid_area": null,
            "grid_auto_columns": null,
            "grid_auto_flow": null,
            "grid_auto_rows": null,
            "grid_column": null,
            "grid_gap": null,
            "grid_row": null,
            "grid_template_areas": null,
            "grid_template_columns": null,
            "grid_template_rows": null,
            "height": null,
            "justify_content": null,
            "justify_items": null,
            "left": null,
            "margin": null,
            "max_height": null,
            "max_width": null,
            "min_height": null,
            "min_width": null,
            "object_fit": null,
            "object_position": null,
            "order": null,
            "overflow": null,
            "overflow_x": null,
            "overflow_y": null,
            "padding": null,
            "right": null,
            "top": null,
            "visibility": null,
            "width": null
          }
        },
        "30f90e6c4e304c12ad2772ee57ac5874": {
          "model_module": "@jupyter-widgets/controls",
          "model_module_version": "1.5.0",
          "model_name": "HTMLModel",
          "state": {
            "_dom_classes": [],
            "_model_module": "@jupyter-widgets/controls",
            "_model_module_version": "1.5.0",
            "_model_name": "HTMLModel",
            "_view_count": null,
            "_view_module": "@jupyter-widgets/controls",
            "_view_module_version": "1.5.0",
            "_view_name": "HTMLView",
            "description": "",
            "description_tooltip": null,
            "layout": "IPY_MODEL_97ef73f000d9441b803e2aba2a6e3f22",
            "placeholder": "​",
            "style": "IPY_MODEL_9d9e9eb89d234e30b2a53b0ed3844625",
            "value": " 472M/472M [00:44&lt;00:00, 13.2MB/s]"
          }
        },
        "391cfb81e2644694b60e0e32dfba3d85": {
          "model_module": "@jupyter-widgets/base",
          "model_module_version": "1.2.0",
          "model_name": "LayoutModel",
          "state": {
            "_model_module": "@jupyter-widgets/base",
            "_model_module_version": "1.2.0",
            "_model_name": "LayoutModel",
            "_view_count": null,
            "_view_module": "@jupyter-widgets/base",
            "_view_module_version": "1.2.0",
            "_view_name": "LayoutView",
            "align_content": null,
            "align_items": null,
            "align_self": null,
            "border": null,
            "bottom": null,
            "display": null,
            "flex": null,
            "flex_flow": null,
            "grid_area": null,
            "grid_auto_columns": null,
            "grid_auto_flow": null,
            "grid_auto_rows": null,
            "grid_column": null,
            "grid_gap": null,
            "grid_row": null,
            "grid_template_areas": null,
            "grid_template_columns": null,
            "grid_template_rows": null,
            "height": null,
            "justify_content": null,
            "justify_items": null,
            "left": null,
            "margin": null,
            "max_height": null,
            "max_width": null,
            "min_height": null,
            "min_width": null,
            "object_fit": null,
            "object_position": null,
            "order": null,
            "overflow": null,
            "overflow_x": null,
            "overflow_y": null,
            "padding": null,
            "right": null,
            "top": null,
            "visibility": null,
            "width": null
          }
        },
        "46b37ac3c82e42f0bae2fdfd5faabf95": {
          "model_module": "@jupyter-widgets/base",
          "model_module_version": "1.2.0",
          "model_name": "LayoutModel",
          "state": {
            "_model_module": "@jupyter-widgets/base",
            "_model_module_version": "1.2.0",
            "_model_name": "LayoutModel",
            "_view_count": null,
            "_view_module": "@jupyter-widgets/base",
            "_view_module_version": "1.2.0",
            "_view_name": "LayoutView",
            "align_content": null,
            "align_items": null,
            "align_self": null,
            "border": null,
            "bottom": null,
            "display": null,
            "flex": null,
            "flex_flow": null,
            "grid_area": null,
            "grid_auto_columns": null,
            "grid_auto_flow": null,
            "grid_auto_rows": null,
            "grid_column": null,
            "grid_gap": null,
            "grid_row": null,
            "grid_template_areas": null,
            "grid_template_columns": null,
            "grid_template_rows": null,
            "height": null,
            "justify_content": null,
            "justify_items": null,
            "left": null,
            "margin": null,
            "max_height": null,
            "max_width": null,
            "min_height": null,
            "min_width": null,
            "object_fit": null,
            "object_position": null,
            "order": null,
            "overflow": null,
            "overflow_x": null,
            "overflow_y": null,
            "padding": null,
            "right": null,
            "top": null,
            "visibility": null,
            "width": null
          }
        },
        "5340872773204d52b1c408faf7f63ad4": {
          "model_module": "@jupyter-widgets/base",
          "model_module_version": "1.2.0",
          "model_name": "LayoutModel",
          "state": {
            "_model_module": "@jupyter-widgets/base",
            "_model_module_version": "1.2.0",
            "_model_name": "LayoutModel",
            "_view_count": null,
            "_view_module": "@jupyter-widgets/base",
            "_view_module_version": "1.2.0",
            "_view_name": "LayoutView",
            "align_content": null,
            "align_items": null,
            "align_self": null,
            "border": null,
            "bottom": null,
            "display": null,
            "flex": null,
            "flex_flow": null,
            "grid_area": null,
            "grid_auto_columns": null,
            "grid_auto_flow": null,
            "grid_auto_rows": null,
            "grid_column": null,
            "grid_gap": null,
            "grid_row": null,
            "grid_template_areas": null,
            "grid_template_columns": null,
            "grid_template_rows": null,
            "height": null,
            "justify_content": null,
            "justify_items": null,
            "left": null,
            "margin": null,
            "max_height": null,
            "max_width": null,
            "min_height": null,
            "min_width": null,
            "object_fit": null,
            "object_position": null,
            "order": null,
            "overflow": null,
            "overflow_x": null,
            "overflow_y": null,
            "padding": null,
            "right": null,
            "top": null,
            "visibility": null,
            "width": null
          }
        },
        "5fc285a599764ef69d3aedf32daa844e": {
          "model_module": "@jupyter-widgets/base",
          "model_module_version": "1.2.0",
          "model_name": "LayoutModel",
          "state": {
            "_model_module": "@jupyter-widgets/base",
            "_model_module_version": "1.2.0",
            "_model_name": "LayoutModel",
            "_view_count": null,
            "_view_module": "@jupyter-widgets/base",
            "_view_module_version": "1.2.0",
            "_view_name": "LayoutView",
            "align_content": null,
            "align_items": null,
            "align_self": null,
            "border": null,
            "bottom": null,
            "display": null,
            "flex": null,
            "flex_flow": null,
            "grid_area": null,
            "grid_auto_columns": null,
            "grid_auto_flow": null,
            "grid_auto_rows": null,
            "grid_column": null,
            "grid_gap": null,
            "grid_row": null,
            "grid_template_areas": null,
            "grid_template_columns": null,
            "grid_template_rows": null,
            "height": null,
            "justify_content": null,
            "justify_items": null,
            "left": null,
            "margin": null,
            "max_height": null,
            "max_width": null,
            "min_height": null,
            "min_width": null,
            "object_fit": null,
            "object_position": null,
            "order": null,
            "overflow": null,
            "overflow_x": null,
            "overflow_y": null,
            "padding": null,
            "right": null,
            "top": null,
            "visibility": null,
            "width": null
          }
        },
        "68735cdbf94241aa9554137546be2f8d": {
          "model_module": "@jupyter-widgets/controls",
          "model_module_version": "1.5.0",
          "model_name": "HTMLModel",
          "state": {
            "_dom_classes": [],
            "_model_module": "@jupyter-widgets/controls",
            "_model_module_version": "1.5.0",
            "_model_name": "HTMLModel",
            "_view_count": null,
            "_view_module": "@jupyter-widgets/controls",
            "_view_module_version": "1.5.0",
            "_view_name": "HTMLView",
            "description": "",
            "description_tooltip": null,
            "layout": "IPY_MODEL_0807441a51624fec8551d7098589cfea",
            "placeholder": "​",
            "style": "IPY_MODEL_8ab5ecd2629646c6b5a21d4fb39fb9cb",
            "value": "100%"
          }
        },
        "688cfe5b119145928b38bf453fbbf62b": {
          "model_module": "@jupyter-widgets/controls",
          "model_module_version": "1.5.0",
          "model_name": "ProgressStyleModel",
          "state": {
            "_model_module": "@jupyter-widgets/controls",
            "_model_module_version": "1.5.0",
            "_model_name": "ProgressStyleModel",
            "_view_count": null,
            "_view_module": "@jupyter-widgets/base",
            "_view_module_version": "1.2.0",
            "_view_name": "StyleView",
            "bar_color": null,
            "description_width": ""
          }
        },
        "8ab5ecd2629646c6b5a21d4fb39fb9cb": {
          "model_module": "@jupyter-widgets/controls",
          "model_module_version": "1.5.0",
          "model_name": "DescriptionStyleModel",
          "state": {
            "_model_module": "@jupyter-widgets/controls",
            "_model_module_version": "1.5.0",
            "_model_name": "DescriptionStyleModel",
            "_view_count": null,
            "_view_module": "@jupyter-widgets/base",
            "_view_module_version": "1.2.0",
            "_view_name": "StyleView",
            "description_width": ""
          }
        },
        "8c39080e59a94272865b89aac44c8fc6": {
          "model_module": "@jupyter-widgets/controls",
          "model_module_version": "1.5.0",
          "model_name": "HTMLModel",
          "state": {
            "_dom_classes": [],
            "_model_module": "@jupyter-widgets/controls",
            "_model_module_version": "1.5.0",
            "_model_name": "HTMLModel",
            "_view_count": null,
            "_view_module": "@jupyter-widgets/controls",
            "_view_module_version": "1.5.0",
            "_view_name": "HTMLView",
            "description": "",
            "description_tooltip": null,
            "layout": "IPY_MODEL_e0ba1e52380044e99120c7dbe61128f9",
            "placeholder": "​",
            "style": "IPY_MODEL_dcfeef25f20749dfb0ff82260c201ed8",
            "value": " 364M/364M [00:36&lt;00:00, 11.2MB/s]"
          }
        },
        "9040003064a34308aa17abafe590eba4": {
          "model_module": "@jupyter-widgets/controls",
          "model_module_version": "1.5.0",
          "model_name": "ProgressStyleModel",
          "state": {
            "_model_module": "@jupyter-widgets/controls",
            "_model_module_version": "1.5.0",
            "_model_name": "ProgressStyleModel",
            "_view_count": null,
            "_view_module": "@jupyter-widgets/base",
            "_view_module_version": "1.2.0",
            "_view_name": "StyleView",
            "bar_color": null,
            "description_width": ""
          }
        },
        "97ef73f000d9441b803e2aba2a6e3f22": {
          "model_module": "@jupyter-widgets/base",
          "model_module_version": "1.2.0",
          "model_name": "LayoutModel",
          "state": {
            "_model_module": "@jupyter-widgets/base",
            "_model_module_version": "1.2.0",
            "_model_name": "LayoutModel",
            "_view_count": null,
            "_view_module": "@jupyter-widgets/base",
            "_view_module_version": "1.2.0",
            "_view_name": "LayoutView",
            "align_content": null,
            "align_items": null,
            "align_self": null,
            "border": null,
            "bottom": null,
            "display": null,
            "flex": null,
            "flex_flow": null,
            "grid_area": null,
            "grid_auto_columns": null,
            "grid_auto_flow": null,
            "grid_auto_rows": null,
            "grid_column": null,
            "grid_gap": null,
            "grid_row": null,
            "grid_template_areas": null,
            "grid_template_columns": null,
            "grid_template_rows": null,
            "height": null,
            "justify_content": null,
            "justify_items": null,
            "left": null,
            "margin": null,
            "max_height": null,
            "max_width": null,
            "min_height": null,
            "min_width": null,
            "object_fit": null,
            "object_position": null,
            "order": null,
            "overflow": null,
            "overflow_x": null,
            "overflow_y": null,
            "padding": null,
            "right": null,
            "top": null,
            "visibility": null,
            "width": null
          }
        },
        "9d9e9eb89d234e30b2a53b0ed3844625": {
          "model_module": "@jupyter-widgets/controls",
          "model_module_version": "1.5.0",
          "model_name": "DescriptionStyleModel",
          "state": {
            "_model_module": "@jupyter-widgets/controls",
            "_model_module_version": "1.5.0",
            "_model_name": "DescriptionStyleModel",
            "_view_count": null,
            "_view_module": "@jupyter-widgets/base",
            "_view_module_version": "1.2.0",
            "_view_name": "StyleView",
            "description_width": ""
          }
        },
        "a995afee32704b3ab63386af791ce322": {
          "model_module": "@jupyter-widgets/controls",
          "model_module_version": "1.5.0",
          "model_name": "DescriptionStyleModel",
          "state": {
            "_model_module": "@jupyter-widgets/controls",
            "_model_module_version": "1.5.0",
            "_model_name": "DescriptionStyleModel",
            "_view_count": null,
            "_view_module": "@jupyter-widgets/base",
            "_view_module_version": "1.2.0",
            "_view_name": "StyleView",
            "description_width": ""
          }
        },
        "dcfeef25f20749dfb0ff82260c201ed8": {
          "model_module": "@jupyter-widgets/controls",
          "model_module_version": "1.5.0",
          "model_name": "DescriptionStyleModel",
          "state": {
            "_model_module": "@jupyter-widgets/controls",
            "_model_module_version": "1.5.0",
            "_model_name": "DescriptionStyleModel",
            "_view_count": null,
            "_view_module": "@jupyter-widgets/base",
            "_view_module_version": "1.2.0",
            "_view_name": "StyleView",
            "description_width": ""
          }
        },
        "e0ba1e52380044e99120c7dbe61128f9": {
          "model_module": "@jupyter-widgets/base",
          "model_module_version": "1.2.0",
          "model_name": "LayoutModel",
          "state": {
            "_model_module": "@jupyter-widgets/base",
            "_model_module_version": "1.2.0",
            "_model_name": "LayoutModel",
            "_view_count": null,
            "_view_module": "@jupyter-widgets/base",
            "_view_module_version": "1.2.0",
            "_view_name": "LayoutView",
            "align_content": null,
            "align_items": null,
            "align_self": null,
            "border": null,
            "bottom": null,
            "display": null,
            "flex": null,
            "flex_flow": null,
            "grid_area": null,
            "grid_auto_columns": null,
            "grid_auto_flow": null,
            "grid_auto_rows": null,
            "grid_column": null,
            "grid_gap": null,
            "grid_row": null,
            "grid_template_areas": null,
            "grid_template_columns": null,
            "grid_template_rows": null,
            "height": null,
            "justify_content": null,
            "justify_items": null,
            "left": null,
            "margin": null,
            "max_height": null,
            "max_width": null,
            "min_height": null,
            "min_width": null,
            "object_fit": null,
            "object_position": null,
            "order": null,
            "overflow": null,
            "overflow_x": null,
            "overflow_y": null,
            "padding": null,
            "right": null,
            "top": null,
            "visibility": null,
            "width": null
          }
        },
        "f83ee46660ec46828ff3149617767bc5": {
          "model_module": "@jupyter-widgets/controls",
          "model_module_version": "1.5.0",
          "model_name": "FloatProgressModel",
          "state": {
            "_dom_classes": [],
            "_model_module": "@jupyter-widgets/controls",
            "_model_module_version": "1.5.0",
            "_model_name": "FloatProgressModel",
            "_view_count": null,
            "_view_module": "@jupyter-widgets/controls",
            "_view_module_version": "1.5.0",
            "_view_name": "ProgressView",
            "bar_style": "success",
            "description": "",
            "description_tooltip": null,
            "layout": "IPY_MODEL_391cfb81e2644694b60e0e32dfba3d85",
            "max": 494944087,
            "min": 0,
            "orientation": "horizontal",
            "style": "IPY_MODEL_688cfe5b119145928b38bf453fbbf62b",
            "value": 494944087
          }
        },
        "fdc5d3dd01184fb1829e4bc1b1d3791e": {
          "model_module": "@jupyter-widgets/controls",
          "model_module_version": "1.5.0",
          "model_name": "HBoxModel",
          "state": {
            "_dom_classes": [],
            "_model_module": "@jupyter-widgets/controls",
            "_model_module_version": "1.5.0",
            "_model_name": "HBoxModel",
            "_view_count": null,
            "_view_module": "@jupyter-widgets/controls",
            "_view_module_version": "1.5.0",
            "_view_name": "HBoxView",
            "box_style": "",
            "children": [
              "IPY_MODEL_18ac02d6dc6e40e8b0a7269477a52816",
              "IPY_MODEL_f83ee46660ec46828ff3149617767bc5",
              "IPY_MODEL_30f90e6c4e304c12ad2772ee57ac5874"
            ],
            "layout": "IPY_MODEL_46b37ac3c82e42f0bae2fdfd5faabf95"
          }
        }
      }
    }
  },
  "nbformat": 4,
  "nbformat_minor": 0
}
