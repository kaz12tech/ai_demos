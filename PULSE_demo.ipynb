{
  "cells": [
    {
      "cell_type": "markdown",
      "metadata": {
        "id": "NSew58uU2oyC"
      },
      "source": [
        "論文 \n",
        "https://arxiv.org/abs/2003.03808v3  \n",
        "GitHub  \n",
        "https://github.com/adamian98/pulse  \n",
        "  \n",
        "<a href=\"https://colab.research.google.com/github/kaz12tech/ai_demos/blob/master/PULSE_demo.ipynb\" target=\"_blank\"><img src=\"https://colab.research.google.com/assets/colab-badge.svg\" alt=\"Open In Colab\"/></a>"
      ]
    },
    {
      "cell_type": "markdown",
      "metadata": {
        "id": "ftA7mrQJsOBt"
      },
      "source": [
        "# ランタイムの設定\n",
        "「ランタイム」→「ランタイムのタイプを変更」→「ハードウェアアクセラレータ」をGPUに変更"
      ]
    },
    {
      "cell_type": "markdown",
      "metadata": {
        "id": "wDuJqDVwsRcF"
      },
      "source": [
        "# 実行方法\n",
        "「ランタイム」→「すべてのセルを実行」を選択"
      ]
    },
    {
      "cell_type": "markdown",
      "metadata": {
        "id": "sMufIjRbluAc"
      },
      "source": [
        "# GitHubからPULSEのソースコードを取得"
      ]
    },
    {
      "cell_type": "code",
      "execution_count": null,
      "metadata": {
        "colab": {
          "base_uri": "https://localhost:8080/"
        },
        "id": "Yv7O-akQ2hwl",
        "outputId": "1ddccd67-cded-456e-d70c-6dc1b678a868"
      },
      "outputs": [],
      "source": [
        "%cd /content/\n",
        "!git clone https://github.com/adamian98/pulse.git"
      ]
    },
    {
      "cell_type": "markdown",
      "metadata": {
        "id": "MsxcVXpvuLPf"
      },
      "source": [
        "# ライブラリのインストール"
      ]
    },
    {
      "cell_type": "code",
      "execution_count": null,
      "metadata": {
        "colab": {
          "base_uri": "https://localhost:8080/"
        },
        "id": "7QISAcE2uM06",
        "outputId": "769ee4dc-fbbc-4651-b5b8-ef209c8a9312"
      },
      "outputs": [],
      "source": [
        "!apt install ffmpeg"
      ]
    },
    {
      "cell_type": "markdown",
      "metadata": {
        "id": "7ystQU99nlvp"
      },
      "source": [
        "# ライブラリのインポート"
      ]
    },
    {
      "cell_type": "code",
      "execution_count": null,
      "metadata": {
        "colab": {
          "base_uri": "https://localhost:8080/"
        },
        "id": "no-cMgGGnjzc",
        "outputId": "afb1a99b-2c04-42c6-9535-2f71274a15ad"
      },
      "outputs": [],
      "source": [
        "from google.colab import files\n",
        "import matplotlib.pyplot as plt\n",
        "from PIL import Image, ImageDraw\n",
        "import glob\n",
        "import os\n",
        "from moviepy.editor import *\n",
        "from moviepy.video.fx.resize import resize"
      ]
    },
    {
      "cell_type": "markdown",
      "metadata": {
        "id": "v9qTC5-Nmniq"
      },
      "source": [
        "# テスト画像のセットアップ"
      ]
    },
    {
      "cell_type": "code",
      "execution_count": null,
      "metadata": {
        "colab": {
          "base_uri": "https://localhost:8080/"
        },
        "id": "BXT9hXUvmmkg",
        "outputId": "e1a44216-6ebb-43e8-eff8-633c877c2813"
      },
      "outputs": [],
      "source": [
        "%cd /content/pulse\n",
        "\n",
        "!rm -rf ./org_img\n",
        "!mkdir ./org_img\n",
        "%cd /content/pulse/org_img\n",
        "\n",
        "image_type ='sample' #@param ['sample', 'upload']\n",
        "if image_type == 'sample':\n",
        "  !wget https://www.pakutaso.com/shared/img/thumb/YK0I9A6188_TP_V4.jpg\n",
        "  file_name = \"YK0I9A6188_TP_V4.jpg\"\n",
        "else:\n",
        "  uploaded = files.upload()\n",
        "  uploaded = list(uploaded.keys())\n",
        "  file_name = uploaded[0]\n"
      ]
    },
    {
      "cell_type": "markdown",
      "metadata": {
        "id": "Rd3ZxdPUqItx"
      },
      "source": [
        "# 低解像度顔画像生成\n",
        "16x16, 64x64, 128x128の3種を生成"
      ]
    },
    {
      "cell_type": "code",
      "execution_count": null,
      "metadata": {
        "colab": {
          "base_uri": "https://localhost:8080/"
        },
        "id": "SdlZfJcfqYNn",
        "outputId": "82ab776f-0fc8-4767-88ae-a98227942835"
      },
      "outputs": [],
      "source": [
        "%cd /content/pulse/\n",
        "# 顔部分を切り出した低解像度画像出力先\n",
        "img_align_16 = \"./img_align_16\"\n",
        "img_align_64 = \"./img_align_64\"\n",
        "img_align_128 = \"./img_align_128\"\n",
        "\n",
        "!rm -rf {img_align_16}\n",
        "!rm -rf {img_align_64}\n",
        "!rm -rf {img_align_128}\n",
        "\n",
        "# 16x16\n",
        "!python align_face.py \\\n",
        "  -input_dir ./org_img \\\n",
        "  -output_dir {img_align_16} \\\n",
        "  -output_size 16 \\\n",
        "  -seed 12 \\\n",
        "# 64x64\n",
        "!python align_face.py \\\n",
        "  -input_dir ./org_img \\\n",
        "  -output_dir {img_align_64} \\\n",
        "  -output_size 64 \\\n",
        "  -seed 12 \\\n",
        "# 128x128\n",
        "!python align_face.py \\\n",
        "  -input_dir ./org_img \\\n",
        "  -output_dir {img_align_128} \\\n",
        "  -output_size 128 \\\n",
        "  -seed 12 \\"
      ]
    },
    {
      "cell_type": "markdown",
      "metadata": {
        "id": "f4gmBx_U5iMO"
      },
      "source": [
        "## 低解像度顔画像の表示"
      ]
    },
    {
      "cell_type": "code",
      "execution_count": null,
      "metadata": {
        "colab": {
          "base_uri": "https://localhost:8080/",
          "height": 265
        },
        "id": "b-hG_9Qd12kZ",
        "outputId": "7cc33895-156b-48b6-ef6e-bf4636fbe07e"
      },
      "outputs": [],
      "source": [
        "align_16 = glob.glob(img_align_16 + \"/*.png\") \n",
        "image_16 = Image.open(align_16[0]).convert(\"RGB\")\n",
        "align_64 = glob.glob(img_align_64 + \"/*.png\") \n",
        "image_64 = Image.open(align_64[0]).convert(\"RGB\")\n",
        "align_128 = glob.glob(img_align_128 + \"/*.png\") \n",
        "image_128 = Image.open(align_128[0]).convert(\"RGB\")\n",
        "\n",
        "fig = plt.figure(num=None, figsize=(12, 5))\n",
        "# 16x16\n",
        "ax = fig.add_subplot(1, 3, 1, xticks=[], yticks=[])\n",
        "plt.imshow(image_16)\n",
        "ax.set_title(\"16x16\")\n",
        "# 64x64\n",
        "ax = fig.add_subplot(1, 3, 2, xticks=[], yticks=[])\n",
        "plt.imshow(image_64)\n",
        "ax.set_title(\"64x64\")\n",
        "# 128x128\n",
        "ax = fig.add_subplot(1, 3, 3, xticks=[], yticks=[])\n",
        "plt.imshow(image_128)\n",
        "ax.set_title(\"128x128\")\n"
      ]
    },
    {
      "cell_type": "markdown",
      "metadata": {
        "id": "jYUshvhexPaG"
      },
      "source": [
        "# 超解像\n",
        "16x16, 64x64, 128x128の3種をそれぞれ1024x1024へ変換"
      ]
    },
    {
      "cell_type": "code",
      "execution_count": null,
      "metadata": {
        "colab": {
          "base_uri": "https://localhost:8080/"
        },
        "id": "Cu5k5nE-xXfO",
        "outputId": "83df0268-0b44-45e2-bd11-952128bb0758"
      },
      "outputs": [],
      "source": [
        "%cd /content/pulse/\n",
        "img_sr_16 = \"./img_sr_16\"\n",
        "img_sr_64 = \"./img_sr_64\"\n",
        "img_sr_128 = \"./img_sr_128\"\n",
        "steps = 500\n",
        "\n",
        "!rm -rf {img_sr_16}\n",
        "!rm -rf {img_sr_64}\n",
        "!rm -rf {img_sr_128}\n",
        "\n",
        "# 16x16\n",
        "!python run.py \\\n",
        "  -input_dir {img_align_16} \\\n",
        "  -output_dir {img_sr_16} \\\n",
        "  -duplicates 1 \\\n",
        "  -seed 12 \\\n",
        "  -noise_type trainable \\\n",
        "  -steps {steps} \\\n",
        "  -save_intermediate\n",
        "# 64x64\n",
        "!python run.py \\\n",
        "  -input_dir {img_align_64} \\\n",
        "  -output_dir {img_sr_64} \\\n",
        "  -duplicates 1 \\\n",
        "  -seed 12 \\\n",
        "  -noise_type trainable \\\n",
        "  -steps {steps} \\\n",
        "  -save_intermediate\n",
        "# 128x128\n",
        "!python run.py \\\n",
        "  -input_dir {img_align_128} \\\n",
        "  -output_dir {img_sr_128} \\\n",
        "  -duplicates 1 \\\n",
        "  -seed 12 \\\n",
        "  -noise_type trainable \\\n",
        "  -steps {steps} \\\n",
        "  -save_intermediate"
      ]
    },
    {
      "cell_type": "markdown",
      "metadata": {
        "id": "eCp-0ASr-P2x"
      },
      "source": [
        "## 超解像結果の表示"
      ]
    },
    {
      "cell_type": "code",
      "execution_count": null,
      "metadata": {
        "colab": {
          "base_uri": "https://localhost:8080/",
          "height": 340
        },
        "id": "Dw6xgC7y2y0T",
        "outputId": "cdafb12c-aac3-4a4b-a666-23e12dcfe9a6"
      },
      "outputs": [],
      "source": [
        "file_name_wo_ext = os.path.splitext(os.path.basename(file_name))[0]\n",
        "sr_16_file_name = img_sr_16 + \"/\" + file_name_wo_ext + \"_0/HR/\" + file_name_wo_ext + \"_0_\" + str(steps-1) + \".png\"\n",
        "sr_64_file_name = img_sr_64 + \"/\" + file_name_wo_ext + \"_0/HR/\" + file_name_wo_ext + \"_0_\" + str(steps-1) + \".png\"\n",
        "sr_128_file_name = img_sr_128 + \"/\" + file_name_wo_ext + \"_0/HR/\" + file_name_wo_ext + \"_0_\" + str(steps-1) + \".png\"\n",
        "sr_image_16 = Image.open(sr_16_file_name).convert(\"RGB\")\n",
        "sr_image_64 = Image.open(sr_64_file_name).convert(\"RGB\")\n",
        "sr_image_128 = Image.open(sr_128_file_name).convert(\"RGB\")\n",
        "\n",
        "\n",
        "fig = plt.figure(num=None, figsize=(12, 5))\n",
        "# 16x16\n",
        "ax = fig.add_subplot(2, 3, 1, xticks=[], yticks=[])\n",
        "plt.imshow(image_16)\n",
        "ax.set_title(\"16x16\")\n",
        "ax = fig.add_subplot(2, 3, 4, xticks=[], yticks=[])\n",
        "plt.imshow(sr_image_16)\n",
        "ax.set_title(\"sr 16x16\")\n",
        "# 64x64\n",
        "ax = fig.add_subplot(2, 3, 2, xticks=[], yticks=[])\n",
        "plt.imshow(image_64)\n",
        "ax.set_title(\"64x64\")\n",
        "ax = fig.add_subplot(2, 3, 5, xticks=[], yticks=[])\n",
        "plt.imshow(sr_image_64)\n",
        "ax.set_title(\"sr 64x64\")\n",
        "ax = fig.add_subplot(2, 3, 3, xticks=[], yticks=[])\n",
        "plt.imshow(image_128)\n",
        "ax.set_title(\"128x128\")\n",
        "ax = fig.add_subplot(2, 3, 6, xticks=[], yticks=[])\n",
        "plt.imshow(sr_image_128)\n",
        "ax.set_title(\"sr 128x128\")"
      ]
    },
    {
      "cell_type": "markdown",
      "metadata": {
        "id": "rj9VM1ifSVDn"
      },
      "source": [
        "## 探索の様子を動画に出力"
      ]
    },
    {
      "cell_type": "code",
      "execution_count": null,
      "metadata": {
        "colab": {
          "base_uri": "https://localhost:8080/",
          "height": 1000
        },
        "id": "w60lkNiCQhgU",
        "outputId": "14521072-d1f6-46d0-dd03-df8aa9f3ade5"
      },
      "outputs": [],
      "source": [
        "sr_128_frames = img_sr_128 + \"/\" + file_name_wo_ext + \"_0/HR/\" + file_name_wo_ext + \"_0_%02d.png\"\n",
        "transfer_video = img_sr_128 + \"/\" + file_name_wo_ext + \"_0/sr_128.mp4\"\n",
        "\n",
        "!ffmpeg -i {sr_128_frames} -c:v libx264 -vf \"fps=25,format=yuv420p\" {transfer_video}\n",
        "\n",
        "transfer_clip = VideoFileClip(transfer_video)\n",
        "# 表示用にリサイズ\n",
        "transfer_clip_resize = resize(transfer_clip, height=400)\n",
        "transfer_clip_resize.ipython_display()"
      ]
    },
    {
      "cell_type": "markdown",
      "metadata": {
        "id": "7UiVCTaA_EGD"
      },
      "source": [
        "# テスト動画のセットアップ\n",
        "本レシピで使用している動画は下記です。  \n",
        "https://pixabay.com/ja/videos/%E6%84%9F%E6%83%85-%E7%94%B7%E6%80%A7%E3%82%92%E8%A6%8B-%E4%BA%BA%E9%96%93-%E4%BA%BA-44440/"
      ]
    },
    {
      "cell_type": "code",
      "execution_count": null,
      "metadata": {
        "id": "xMrXZUpT6_If"
      },
      "outputs": [],
      "source": [
        "%cd /content/pulse\n",
        "!rm -rf ./origin_video\n",
        "!mkdir -p ./origin_video/frames\n",
        "%cd /content/pulse/origin_video\n",
        "\n",
        "uploaded = files.upload()\n",
        "uploaded = list(uploaded.keys())\n",
        "video_name = uploaded[0]\n",
        "\n",
        "clip = VideoFileClip(video_name)\n",
        "# 2~3秒までを切り出し\n",
        "sub_clip = clip.subclip(2, 3)\n",
        "sub_clip.write_videofile(\"src-video.mp4\")\n",
        "video_name = \"src-video.mp4\"\n",
        "\n",
        "# 表示用にリサイズ\n",
        "clip_resize = resize(sub_clip, height=240)\n",
        "clip_resize.ipython_display()"
      ]
    },
    {
      "cell_type": "markdown",
      "metadata": {
        "id": "-1kOPSM2_Hxp"
      },
      "source": [
        "# テスト動画をフレーム分割"
      ]
    },
    {
      "cell_type": "code",
      "execution_count": null,
      "metadata": {
        "id": "0l02HbF__MRp"
      },
      "outputs": [],
      "source": [
        "!ffmpeg -i {video_name} /content/pulse/origin_video/frames/src-video-frame-%d.png"
      ]
    },
    {
      "cell_type": "markdown",
      "metadata": {
        "id": "euz48SE1CBwK"
      },
      "source": [
        "# 低解像度顔画像生成"
      ]
    },
    {
      "cell_type": "code",
      "execution_count": null,
      "metadata": {
        "id": "i30hV_rrB5bV"
      },
      "outputs": [],
      "source": [
        "%cd /content/pulse/\n",
        "# 顔部分を切り出した低解像度画像出力先\n",
        "video_align_dir = \"./video_input_face\"\n",
        "\n",
        "!rm -rf {video_align_dir}\n",
        "\n",
        "!python align_face.py \\\n",
        "  -input_dir ./origin_video/frames \\\n",
        "  -output_dir {video_align_dir} \\\n",
        "  -output_size 64 \\\n",
        "  -seed 1234 \\\n",
        "\n",
        "video_align_imgs = glob.glob(video_align_dir + \"/*.png\") \n",
        "image = Image.open(video_align_imgs[0]).convert(\"RGB\")\n",
        "plt.figure(figsize=(6, 6))\n",
        "plt.imshow(image)"
      ]
    },
    {
      "cell_type": "markdown",
      "metadata": {
        "id": "j154b2r7LKEP"
      },
      "source": [
        "# 超解像(動画)\n",
        "64x64から1024x1024へ変換"
      ]
    },
    {
      "cell_type": "code",
      "execution_count": null,
      "metadata": {
        "id": "hzQhV_kMJrLF"
      },
      "outputs": [],
      "source": [
        "%cd /content/pulse/\n",
        "sr_video_result = \"./sr_video_result\"\n",
        "steps = 20\n",
        "\n",
        "!rm -rf {sr_video_result}\n",
        "\n",
        "!python run.py \\\n",
        "  -input_dir {video_align_dir} \\\n",
        "  -output_dir {sr_video_result} \\\n",
        "  -duplicates 1 \\\n",
        "  -seed 30 \\\n",
        "  -noise_type trainable \\\n",
        "  -steps {steps} \\\n",
        "  -save_intermediate"
      ]
    },
    {
      "cell_type": "markdown",
      "metadata": {
        "id": "-HlfuoUTsCXk"
      },
      "source": [
        "# frame画像を収集\n",
        "各フレーム画像の超解像結果を一つのディレクトリ配下にコピー"
      ]
    },
    {
      "cell_type": "code",
      "execution_count": null,
      "metadata": {
        "id": "UQSDIOHMOom9"
      },
      "outputs": [],
      "source": [
        "%cd /content/pulse/\n",
        "sr_video_result_frames = sr_video_result + \"/frames\"\n",
        "!mkdir -p {sr_video_result_frames}\n",
        "\n",
        "results = glob.glob(sr_video_result + \"/*/HR/*_0_\" + str(steps-1) + \".png\")\n",
        "print(results)\n",
        "\n",
        "for result in results:\n",
        "  !cp {result} {sr_video_result_frames}\n"
      ]
    },
    {
      "cell_type": "markdown",
      "metadata": {
        "id": "OhK-GyIusTLm"
      },
      "source": [
        "# frame画像を動画に変換"
      ]
    },
    {
      "cell_type": "code",
      "execution_count": null,
      "metadata": {
        "id": "pxa2aSi8rD_R"
      },
      "outputs": [],
      "source": [
        "src_frames = sr_video_result_frames + \"/src-video-frame-%0d_0_\" + str(steps-1) + \".png\"\n",
        "dst_video = sr_video_result + \"/out.mp4\"\n",
        "\n",
        "!ffmpeg -i {src_frames} -c:v libx264 -vf \"fps=25,format=yuv420p\" {dst_video}\n",
        "\n",
        "clip = VideoFileClip(dst_video)\n",
        "\n",
        "# 表示用にリサイズ\n",
        "clip_resize = resize(clip, height=400)\n",
        "clip_resize.ipython_display()"
      ]
    }
  ],
  "metadata": {
    "accelerator": "GPU",
    "colab": {
      "collapsed_sections": [
        "ftA7mrQJsOBt",
        "wDuJqDVwsRcF"
      ],
      "name": "PULSE_demo.ipynb",
      "provenance": []
    },
    "kernelspec": {
      "display_name": "Python 3",
      "name": "python3"
    },
    "language_info": {
      "name": "python"
    }
  },
  "nbformat": 4,
  "nbformat_minor": 0
}
