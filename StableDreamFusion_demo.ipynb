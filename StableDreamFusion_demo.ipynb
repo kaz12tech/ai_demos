{
  "cells": [
    {
      "cell_type": "markdown",
      "metadata": {
        "id": "ze17Whr66OiC"
      },
      "source": [
        "Paper<br>\n",
        "https://arxiv.org/abs/2209.14988v1<br>\n",
        "<br>\n",
        "GitHub<br>\n",
        "https://github.com/ashawkey/stable-dreamfusion<br>\n",
        "<br>\n",
        "<a href=\"https://colab.research.google.com/github/kaz12tech/ai_demos/blob/master/Prismer_demo.ipynb\" target=\"_blank\"><img src=\"https://colab.research.google.com/assets/colab-badge.svg\" alt=\"Open In Colab\"/></a>"
      ]
    },
    {
      "cell_type": "markdown",
      "metadata": {
        "id": "GOLKpkBa6OiI"
      },
      "source": [
        "# setup environment"
      ]
    },
    {
      "cell_type": "markdown",
      "metadata": {
        "id": "Jz8gTEgP6OiJ"
      },
      "source": [
        "## git clone"
      ]
    },
    {
      "cell_type": "code",
      "execution_count": null,
      "metadata": {
        "colab": {
          "base_uri": "https://localhost:8080/"
        },
        "id": "SO7I9ozfFpmW",
        "outputId": "cee03832-0d82-4936-abe1-8ac39f586af0"
      },
      "outputs": [],
      "source": [
        "%cd /content\n",
        "\n",
        "!git clone https://github.com/ashawkey/stable-dreamfusion.git\n",
        "\n",
        "%cd /content/stable-dreamfusion\n",
        "# Commits on Apr 23, 2023\n",
        "!git checkout 4171f00c8d1721bb4645bad902b8b4d6fae3cef5"
      ]
    },
    {
      "cell_type": "markdown",
      "metadata": {
        "id": "07hg4xM8tYCV"
      },
      "source": [
        "## install libraries"
      ]
    },
    {
      "cell_type": "code",
      "execution_count": null,
      "metadata": {
        "colab": {
          "base_uri": "https://localhost:8080/",
          "height": 1000
        },
        "id": "gRHm5XmrGGNB",
        "outputId": "17789324-2c0b-40f2-ac1f-765c48bc76c1"
      },
      "outputs": [],
      "source": [
        "%cd /content/stable-dreamfusion\n",
        "\n",
        "# install requirements\n",
        "! pip install -r requirements.txt\n",
        "! pip install 'git+https://github.com/NVlabs/nvdiffrast/@335cfa6b33d785730a04283994214bed57884e87'\n",
        "\n",
        "# install CUDA extensions (takes about 8 minutes!)\n",
        "! pip install ./raymarching\n",
        "! pip install ./shencoder\n",
        "! pip install ./freqencoder\n",
        "! pip install ./gridencoder\n",
        "\n",
        "# install moviepy\n",
        "!pip install moviepy imageio==2.4.1"
      ]
    },
    {
      "cell_type": "markdown",
      "metadata": {
        "id": "L6sssZcc9CBF"
      },
      "source": [
        "## import libraries"
      ]
    },
    {
      "cell_type": "code",
      "execution_count": null,
      "metadata": {
        "colab": {
          "base_uri": "https://localhost:8080/"
        },
        "id": "oeUH114h9AEa",
        "outputId": "c3b1d74b-080a-4ed3-9da4-a07883caed06"
      },
      "outputs": [],
      "source": [
        "import os\n",
        "import glob\n",
        "\n",
        "import torch\n",
        "torch.cuda.empty_cache()\n",
        "\n",
        "from moviepy.video.fx.resize import resize\n",
        "from moviepy.editor import VideoFileClip"
      ]
    },
    {
      "cell_type": "markdown",
      "metadata": {
        "id": "1E2Tf5qE7EjH"
      },
      "source": [
        "# Setup prompt"
      ]
    },
    {
      "cell_type": "code",
      "execution_count": null,
      "metadata": {
        "id": "fHJjZa2Z7Juh"
      },
      "outputs": [],
      "source": [
        "Prompt_text = \"a DSLR photo of a delicious banana\" #@param {type: 'string'}\n",
        "Training_iters = 5000 #@param {type: 'integer'}\n",
        "Learning_rate = 1e-3 #@param {type: 'number'}\n",
        "Training_nerf_resolution = 64  #@param {type: 'integer'}\n",
        "# CUDA_ray = True #@param {type: 'boolean'}\n",
        "# View_dependent_prompt = True #@param {type: 'boolean'}\n",
        "# FP16 = True #@param {type: 'boolean'}\n",
        "Seed = 12 #@param {type: 'integer'}\n",
        "Lambda_entropy = 1e-4 #@param {type: 'number'}\n",
        "Max_steps = 512 #@param {type: 'number'}\n",
        "Checkpoint = 'latest' #@param {type: 'string'}\n",
        "\n",
        "#@markdown ---\n",
        "\n",
        "Workspace = \"trial\" #@param{type: 'string'}\n",
        "# Save_mesh = True #@param {type: 'boolean'}\n",
        "Workspace_test = \"trial\" #@param{type: 'string'}\n",
        "\n",
        "# processings\n",
        "Prompt_text = \"'\" + Prompt_text + \"'\""
      ]
    },
    {
      "cell_type": "markdown",
      "metadata": {
        "id": "mKx8RmCXl20g"
      },
      "source": [
        "# Training"
      ]
    },
    {
      "cell_type": "code",
      "execution_count": null,
      "metadata": {
        "colab": {
          "base_uri": "https://localhost:8080/"
        },
        "id": "5KPt4gmFl41K",
        "outputId": "7e8924e8-2e55-45a8-eb73-0c160200d6ee"
      },
      "outputs": [],
      "source": [
        "%cd /content/stable-dreamfusion\n",
        "\n",
        "!python main.py \\\n",
        "  -O \\\n",
        "  --text {Prompt_text} \\\n",
        "  --workspace {Workspace} \\\n",
        "  --iters {Training_iters} \\\n",
        "  --lr {Learning_rate} \\\n",
        "  --w {Training_nerf_resolution} \\\n",
        "  --h {Training_nerf_resolution} \\\n",
        "  --seed {Seed} \\\n",
        "  --lambda_entropy {Lambda_entropy} \\\n",
        "  --ckpt {Checkpoint} \\\n",
        "  --save_mesh \\\n",
        "  --max_steps {Max_steps}"
      ]
    },
    {
      "cell_type": "markdown",
      "metadata": {
        "id": "b-__4vnJmWTT"
      },
      "source": [
        "# Testing"
      ]
    },
    {
      "cell_type": "code",
      "execution_count": null,
      "metadata": {
        "colab": {
          "base_uri": "https://localhost:8080/"
        },
        "id": "kuGqDD0LmXaz",
        "outputId": "f65fd492-5b94-478e-cb44-0f517ae688cd"
      },
      "outputs": [],
      "source": [
        "%cd /content/stable-dreamfusion\n",
        "\n",
        "!python main.py \\\n",
        "  -O \\\n",
        "  --test \\\n",
        "  --workspace {Workspace_test} \\\n",
        "  --save_mesh"
      ]
    },
    {
      "cell_type": "markdown",
      "metadata": {
        "id": "qCCZR7b7mx3x"
      },
      "source": [
        "# Show result"
      ]
    },
    {
      "cell_type": "code",
      "execution_count": null,
      "metadata": {
        "id": "cV6x_zMrmzk-"
      },
      "outputs": [],
      "source": [
        "def get_latest_file(path):\n",
        "  dir_list = glob.glob(path)\n",
        "  dir_list.sort(key=lambda x: os.path.getmtime(x))\n",
        "  return dir_list[-1]"
      ]
    },
    {
      "cell_type": "code",
      "execution_count": null,
      "metadata": {
        "id": "YZMS_XRQm366"
      },
      "outputs": [],
      "source": [
        "rgb_video = get_latest_file(os.path.join(Workspace, 'results', '*_rgb.mp4'))"
      ]
    },
    {
      "cell_type": "code",
      "execution_count": null,
      "metadata": {
        "colab": {
          "base_uri": "https://localhost:8080/",
          "height": 459
        },
        "id": "bS-M2G-sm8th",
        "outputId": "d383f37e-ef15-47c2-e34a-e336909306b6"
      },
      "outputs": [],
      "source": [
        "# show video\n",
        "clip = VideoFileClip(rgb_video)\n",
        "clip = resize(clip, height=420)\n",
        "clip.ipython_display()"
      ]
    }
  ],
  "metadata": {
    "accelerator": "GPU",
    "colab": {
      "provenance": []
    },
    "kernelspec": {
      "display_name": "Python 3.10.4 64-bit",
      "language": "python",
      "name": "python3"
    },
    "language_info": {
      "name": "python",
      "version": "3.10.4"
    },
    "vscode": {
      "interpreter": {
        "hash": "69158ccfe43d0b962045f592ede11796dd42f250837ab62152c8bc6cd100a15b"
      }
    }
  },
  "nbformat": 4,
  "nbformat_minor": 0
}
