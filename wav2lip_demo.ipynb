{
  "cells": [
    {
      "cell_type": "markdown",
      "metadata": {
        "id": "NLSO7QwCUytT"
      },
      "source": [
        "論文<br>\n",
        "https://arxiv.org/abs/2008.10010<br>\n",
        "<br>\n",
        "Github<br>\n",
        "https://github.com/Rudrabha/Wav2Lip<br>\n",
        "<br>\n",
        "<a href=\"https://colab.research.google.com/github/kaz12tech/ai_demos/blob/master/6DRepNet_demo.ipynb\\\" target=\"_blank\"><img src=\"https://colab.research.google.com/assets/colab-badge.svg\" alt=\"Open In Colab\"/></a>\n"
      ]
    },
    {
      "cell_type": "markdown",
      "metadata": {
        "id": "gG3eD_UDUytZ"
      },
      "source": [
        "# ランタイムの設定\n",
        "「ランタイム」→「ランタイムのタイプを変更」→「ハードウェアアクセラレータ」をCPUに変更"
      ]
    },
    {
      "cell_type": "markdown",
      "metadata": {
        "id": "yQFJz7b0Uyta"
      },
      "source": [
        "# 実行方法\n",
        "「ランタイム」→「すべてのセルを実行」を選択"
      ]
    },
    {
      "cell_type": "markdown",
      "metadata": {
        "id": "Gd1t4-oNUytb"
      },
      "source": [
        "# GPU確認"
      ]
    },
    {
      "cell_type": "code",
      "execution_count": null,
      "metadata": {
        "colab": {
          "base_uri": "https://localhost:8080/"
        },
        "id": "ODkoi-eAUytb",
        "outputId": "94bcf475-5a32-4845-a436-ed7cfc3c255b"
      },
      "outputs": [],
      "source": [
        "!nvidia-smi"
      ]
    },
    {
      "cell_type": "markdown",
      "metadata": {
        "id": "75fbCZBXdmf1"
      },
      "source": [
        "# 環境セットアップ"
      ]
    },
    {
      "cell_type": "markdown",
      "metadata": {
        "id": "JBv_0CfdyXXd"
      },
      "source": [
        "## Githubからコードを取得"
      ]
    },
    {
      "cell_type": "code",
      "execution_count": null,
      "metadata": {
        "colab": {
          "base_uri": "https://localhost:8080/"
        },
        "id": "dWU3fFj2yaXD",
        "outputId": "93685e0b-ed39-479a-f718-ee834c841322"
      },
      "outputs": [],
      "source": [
        "%cd /content\n",
        "\n",
        "!git clone https://github.com/zabique/Wav2Lip\n",
        "\n",
        "# Commits on Aug 10, 2021使用\n",
        "%cd /content/Wav2Lip\n",
        "!git checkout b9759a3467cb1b7519f1a3b91f5a84cb4bc1ae4a"
      ]
    },
    {
      "cell_type": "markdown",
      "metadata": {
        "id": "JptNThTkVtrn"
      },
      "source": [
        "## ライブラリのインストール"
      ]
    },
    {
      "cell_type": "code",
      "execution_count": null,
      "metadata": {
        "colab": {
          "base_uri": "https://localhost:8080/"
        },
        "id": "6V2fa4OXqZec",
        "outputId": "aa83b699-aa8c-46fd-8ff7-fd0ee39c51e6"
      },
      "outputs": [],
      "source": [
        "%cd /content/Wav2Lip\n",
        "\n",
        "!pip install -r requirements.txt\n",
        "!pip install moviepy==0.2.3.5 imageio==2.4.1\n",
        "!pip install yt-dlp"
      ]
    },
    {
      "cell_type": "markdown",
      "metadata": {
        "id": "kba-erS8m2Rq"
      },
      "source": [
        "## ライブラリのインポート"
      ]
    },
    {
      "cell_type": "code",
      "execution_count": null,
      "metadata": {
        "colab": {
          "base_uri": "https://localhost:8080/"
        },
        "id": "nzb7TJeWSHt3",
        "outputId": "894dc0b5-c429-4179-af77-e7a736dcfb6a"
      },
      "outputs": [],
      "source": [
        "%cd /content/Wav2Lip\n",
        "\n",
        "from yt_dlp import YoutubeDL\n",
        "from moviepy.video.fx.resize import resize\n",
        "from moviepy.editor import VideoFileClip\n",
        "from IPython.display import Audio, display"
      ]
    },
    {
      "cell_type": "markdown",
      "metadata": {
        "id": "nMY5TNJIH8bd"
      },
      "source": [
        "# 学習済みモデルのセットアップ"
      ]
    },
    {
      "cell_type": "code",
      "execution_count": null,
      "metadata": {
        "colab": {
          "base_uri": "https://localhost:8080/"
        },
        "id": "ArpTzH10275R",
        "outputId": "7c8f3291-d43d-458a-cce4-4a3406c39308"
      },
      "outputs": [],
      "source": [
        "%cd /content/Wav2Lip\n",
        "\n",
        "#download the pretrained model\n",
        "!wget -c https://iiitaphyd-my.sharepoint.com/personal/radrabha_m_research_iiit_ac_in/_layouts/15/download.aspx?share=EdjI7bZlgApMqsVoEUUXpLsBxqXbn5z8VTmoxp55YNDcIA \\\n",
        "      -O ./checkpoints/wav2lip_gan.pth\n",
        "!wget -c https://iiitaphyd-my.sharepoint.com/:u:/g/personal/radrabha_m_research_iiit_ac_in/Eb3LEzbfuKlJiR600lQWRxgBIY27JZg80f7V9jtMfbNDaQ?e=TBFBVW \\\n",
        "      -O ./checkpoints/wav2lip.pth\n",
        "!pip install https://raw.githubusercontent.com/AwaleSajil/ghc/master/ghc-1.0-py3-none-any.whl\n",
        "\n",
        "#download pretrained model for face detection\n",
        "!wget -c https://www.adrianbulat.com/downloads/python-fan/s3fd-619a316812.pth \\\n",
        "      -O ./face_detection/detection/sfd/s3fd.pth"
      ]
    },
    {
      "cell_type": "markdown",
      "metadata": {
        "id": "DDWI89785B5P"
      },
      "source": [
        "# テスト動画&音声のセットアップ"
      ]
    },
    {
      "cell_type": "markdown",
      "metadata": {
        "id": "1qULBrz25S79"
      },
      "source": [
        "## 入力動画の取得"
      ]
    },
    {
      "cell_type": "code",
      "execution_count": null,
      "metadata": {
        "id": "pIgbsLoU5EnK"
      },
      "outputs": [],
      "source": [
        "video_url = 'https://www.youtube.com/watch?v=-Xvpo0A5X6g' #@param {type:\"string\"}\n",
        "\n",
        "#@markdown 動画の切り抜き範囲(秒)を指定してください。\\\n",
        "#@markdown 30秒以上の場合OOM発生の可能性が高いため注意\n",
        "start_sec =  30#@param {type:\"integer\"}\n",
        "end_sec =  35#@param {type:\"integer\"}\n",
        "\n",
        "(start_pt, end_pt) = (start_sec, end_sec)"
      ]
    },
    {
      "cell_type": "code",
      "execution_count": null,
      "metadata": {
        "colab": {
          "base_uri": "https://localhost:8080/"
        },
        "id": "UZMIzthv5HyE",
        "outputId": "93203b43-7dd0-4e45-fe26-a6e83ee2e657"
      },
      "outputs": [],
      "source": [
        "!mkdir input_video\n",
        "\n",
        "download_resolution = 720\n",
        "full_video_path = './input_video/full_video.mp4'\n",
        "input_clip_path = './input_video/clip_video.mp4'\n",
        "\n",
        "# 動画ダウンロード\n",
        "ydl_opts = {'format': f'best[height<={download_resolution}]', 'overwrites': True, 'outtmpl': full_video_path}\n",
        "with YoutubeDL(ydl_opts) as ydl:\n",
        "    ydl.download([video_url])\n",
        "\n",
        "# 指定区間切り抜き\n",
        "with VideoFileClip(full_video_path) as video:\n",
        "    subclip = video.subclip(start_pt, end_pt)\n",
        "    subclip.write_videofile(input_clip_path)"
      ]
    },
    {
      "cell_type": "code",
      "execution_count": null,
      "metadata": {
        "colab": {
          "base_uri": "https://localhost:8080/",
          "height": 552
        },
        "id": "94HugE_R56uX",
        "outputId": "03da2d0a-f0dd-4efe-9c01-45b519379fd3"
      },
      "outputs": [],
      "source": [
        "# 動画の確認\n",
        "clip = VideoFileClip(input_clip_path)\n",
        "clip = resize(clip, height=420)\n",
        "clip.ipython_display()"
      ]
    },
    {
      "cell_type": "markdown",
      "metadata": {
        "id": "k8PdLPSA5jFL"
      },
      "source": [
        "## 入力音声取得"
      ]
    },
    {
      "cell_type": "code",
      "execution_count": null,
      "metadata": {
        "id": "JCdyk7Ri5r7s"
      },
      "outputs": [],
      "source": [
        "video_url = 'https://www.youtube.com/watch?v=fD-yyMzF8lI' #@param {type:\"string\"}\n",
        "\n",
        "#@markdown 動画の切り抜き範囲(秒)を指定してください。\\\n",
        "#@markdown 30秒以上の場合OOM発生の可能性が高いため注意\n",
        "start_sec =  63#@param {type:\"integer\"}\n",
        "end_sec =  68#@param {type:\"integer\"}\n",
        "\n",
        "(start_pt, end_pt) = (start_sec, end_sec)"
      ]
    },
    {
      "cell_type": "code",
      "execution_count": null,
      "metadata": {
        "colab": {
          "base_uri": "https://localhost:8080/"
        },
        "id": "09eOJ8Bh5uDO",
        "outputId": "65aa8f43-22e5-4cb8-957f-a2ef46aeb902"
      },
      "outputs": [],
      "source": [
        "!mkdir input_audio\n",
        "\n",
        "download_resolution = 720\n",
        "full_video_path = './input_audio/full_video_en.mp4'\n",
        "input_clip_path = './input_audio/clip_video_en.mp4'\n",
        "input_audio_path = './input_audio/audio.mp3'\n",
        "\n",
        "# 動画ダウンロード\n",
        "ydl_opts = {'format': f'best[height<={download_resolution}]', 'overwrites': True, 'outtmpl': full_video_path}\n",
        "with YoutubeDL(ydl_opts) as ydl:\n",
        "    ydl.download([video_url])\n",
        "\n",
        "# 指定区間切り抜き\n",
        "with VideoFileClip(full_video_path) as video:\n",
        "    subclip = video.subclip(start_pt, end_pt)\n",
        "    subclip.write_videofile(input_clip_path)\n",
        "\n",
        "# 音声抽出\n",
        "videoclip = VideoFileClip(input_clip_path)\n",
        "audioclip = videoclip.audio\n",
        "audioclip.write_audiofile(input_audio_path)"
      ]
    },
    {
      "cell_type": "code",
      "execution_count": null,
      "metadata": {
        "colab": {
          "base_uri": "https://localhost:8080/",
          "height": 76
        },
        "id": "6CfGqeLf6ucJ",
        "outputId": "488f9f1a-fd51-4613-c561-5cebc8c30db0"
      },
      "outputs": [],
      "source": [
        "display(Audio(input_audio_path, autoplay=True))"
      ]
    },
    {
      "cell_type": "markdown",
      "metadata": {
        "id": "S1sznbY066fe"
      },
      "source": [
        "# Wav2Lip"
      ]
    },
    {
      "cell_type": "code",
      "execution_count": null,
      "metadata": {
        "colab": {
          "base_uri": "https://localhost:8080/"
        },
        "id": "LgQr2hfG69Mq",
        "outputId": "563716b0-65c9-40bf-bfc6-056dfbf28707"
      },
      "outputs": [],
      "source": [
        "%cd /content/Wav2Lip\n",
        "\n",
        "!python inference.py \\\n",
        "  --checkpoint_path checkpoints/wav2lip_gan.pth \\\n",
        "  --face ./input_video/clip_video.mp4 \\\n",
        "  --audio ./input_audio/audio.mp3"
      ]
    },
    {
      "cell_type": "code",
      "execution_count": null,
      "metadata": {
        "colab": {
          "base_uri": "https://localhost:8080/",
          "height": 716
        },
        "id": "miIwBJXe7Ueg",
        "outputId": "7d84894e-85e4-4387-95f3-c2a930cf2cf9"
      },
      "outputs": [],
      "source": [
        "results = './results/result_voice.mp4'\n",
        "\n",
        "# Wav2Lipの確認\n",
        "clip = VideoFileClip(results)\n",
        "clip = resize(clip, height=420)\n",
        "clip.ipython_display()"
      ]
    }
  ],
  "metadata": {
    "accelerator": "GPU",
    "colab": {
      "provenance": [],
      "toc_visible": true
    },
    "gpuClass": "standard",
    "kernelspec": {
      "display_name": "Python 3.10.4 64-bit",
      "language": "python",
      "name": "python3"
    },
    "language_info": {
      "name": "python",
      "version": "3.10.4 (tags/v3.10.4:9d38120, Mar 23 2022, 23:13:41) [MSC v.1929 64 bit (AMD64)]"
    },
    "vscode": {
      "interpreter": {
        "hash": "69158ccfe43d0b962045f592ede11796dd42f250837ab62152c8bc6cd100a15b"
      }
    }
  },
  "nbformat": 4,
  "nbformat_minor": 0
}
