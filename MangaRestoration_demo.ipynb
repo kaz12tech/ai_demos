{
  "cells": [
    {
      "cell_type": "markdown",
      "metadata": {
        "id": "ze17Whr66OiC"
      },
      "source": [
        "論文<br>\n",
        "https://arxiv.org/abs/2105.06830<br>\n",
        "<br>\n",
        "GitHub<br>\n",
        "https://github.com/msxie92/MangaRestoration<br>\n",
        "<br>\n",
        "<a href=\"https://colab.research.google.com/github/kaz12tech/ai_demos/blob/master/MangaRestoration_demo.ipynb\" target=\"_blank\"><img src=\"https://colab.research.google.com/assets/colab-badge.svg\" alt=\"Open In Colab\"/></a>"
      ]
    },
    {
      "cell_type": "markdown",
      "metadata": {
        "id": "GOLKpkBa6OiI"
      },
      "source": [
        "# 環境セットアップ"
      ]
    },
    {
      "cell_type": "markdown",
      "metadata": {
        "id": "Jz8gTEgP6OiJ"
      },
      "source": [
        "## GitHubからソースコードを取得"
      ]
    },
    {
      "cell_type": "code",
      "execution_count": null,
      "metadata": {
        "colab": {
          "base_uri": "https://localhost:8080/"
        },
        "id": "SO7I9ozfFpmW",
        "outputId": "1e34976e-e9d3-4d7d-d9b2-f913a49c1937"
      },
      "outputs": [],
      "source": [
        "%cd /content\n",
        "!git clone https://github.com/msxie92/MangaRestoration.git"
      ]
    },
    {
      "cell_type": "markdown",
      "metadata": {
        "id": "07hg4xM8tYCV"
      },
      "source": [
        "## ライブラリのインストール"
      ]
    },
    {
      "cell_type": "code",
      "execution_count": null,
      "metadata": {
        "colab": {
          "base_uri": "https://localhost:8080/"
        },
        "id": "gRHm5XmrGGNB",
        "outputId": "7fea7545-e405-44ad-cf06-54650f047f0c"
      },
      "outputs": [],
      "source": [
        "%cd /content/MangaRestoration\n",
        "\n",
        "!pip install --upgrade gdown"
      ]
    },
    {
      "cell_type": "markdown",
      "metadata": {
        "id": "L6sssZcc9CBF"
      },
      "source": [
        "## ライブラリをインポート"
      ]
    },
    {
      "cell_type": "code",
      "execution_count": null,
      "metadata": {
        "id": "oeUH114h9AEa"
      },
      "outputs": [],
      "source": [
        "import os\n",
        "import matplotlib.pyplot as plt\n",
        "import cv2"
      ]
    },
    {
      "cell_type": "markdown",
      "metadata": {
        "id": "k6PtAhDL8qep"
      },
      "source": [
        "# 学習済みモデルのセットアップ"
      ]
    },
    {
      "cell_type": "code",
      "execution_count": null,
      "metadata": {
        "colab": {
          "base_uri": "https://localhost:8080/"
        },
        "id": "2-tzc7Qu8n7P",
        "outputId": "a158ea91-b775-4240-e700-d7598095066a"
      },
      "outputs": [],
      "source": [
        "%cd /content/MangaRestoration\n",
        "!mkdir -p release_model\n",
        "\n",
        "if not os.path.exists('release_model/resattencv_manga_cons256.zip'):\n",
        "  !gdown 'https://drive.google.com/uc?id=1sazt7jlvfR6KEjOp9Tq2GpjMe04uRgtn' \\\n",
        "    -O release_model/resattencv_manga_cons256.zip\n",
        "\n",
        "!unzip release_model/resattencv_manga_cons256.zip -d release_model"
      ]
    },
    {
      "cell_type": "markdown",
      "metadata": {
        "id": "lX_oGRsUtvg5"
      },
      "source": [
        "# テスト画像のセットアップ"
      ]
    },
    {
      "cell_type": "code",
      "execution_count": null,
      "metadata": {
        "colab": {
          "base_uri": "https://localhost:8080/"
        },
        "id": "OscFYAj1uG6t",
        "outputId": "d25367f5-695f-43d1-9c7e-f940b17a50f8"
      },
      "outputs": [],
      "source": [
        "%cd /content/MangaRestoration\n",
        "\n",
        "!mkdir -p datazip/manga1/test flist/manga1\n",
        "\n",
        "!wget -c https://github.com/msxie92/MangaRestoration/raw/main/examples/Akuhamu_020.jpg \\\n",
        "      -O datazip/manga1/test/test_01.jpg\n",
        "!wget -c https://i.pinimg.com/736x/03/95/6b/03956bff323d9200a7e4d3b3020c5b58.jpg \\\n",
        "      -O datazip/manga1/test/test_02.jpg"
      ]
    },
    {
      "cell_type": "markdown",
      "metadata": {
        "id": "JKo9mCuRQy7h"
      },
      "source": [
        "## 画像縮小"
      ]
    },
    {
      "cell_type": "code",
      "execution_count": null,
      "metadata": {
        "colab": {
          "base_uri": "https://localhost:8080/"
        },
        "id": "B9-3BhE6Q0nt",
        "outputId": "0ec1f5fe-3949-428f-c717-c7a07012cafb"
      },
      "outputs": [],
      "source": [
        "def imread(img_path):\n",
        "  img = cv2.imread(img_path)\n",
        "  img = cv2.cvtColor(img, cv2.COLOR_BGR2RGB)\n",
        "  return img\n",
        "\n",
        "img = imread('datazip/manga1/test/test_02.jpg')\n",
        "dst = cv2.resize(img, dsize=None, fx=0.5, fy=0.5)\n",
        "cv2.imwrite('datazip/manga1/test/test_02.jpg', dst)"
      ]
    },
    {
      "cell_type": "markdown",
      "metadata": {
        "id": "9MZco9GJQxMu"
      },
      "source": [
        "## flist作成"
      ]
    },
    {
      "cell_type": "code",
      "execution_count": null,
      "metadata": {
        "colab": {
          "base_uri": "https://localhost:8080/"
        },
        "id": "vcKUGhORuX-r",
        "outputId": "a5bded4b-8ed2-45d1-c47b-558b1c4e0612"
      },
      "outputs": [],
      "source": [
        "!python scripts/flist.py \\\n",
        "  --path datazip/manga1/test \\\n",
        "  --output flist/manga1/test.flist"
      ]
    },
    {
      "cell_type": "markdown",
      "metadata": {
        "id": "2li-kc1jtx6K"
      },
      "source": [
        "# Manga Restoration"
      ]
    },
    {
      "cell_type": "code",
      "execution_count": null,
      "metadata": {
        "colab": {
          "base_uri": "https://localhost:8080/"
        },
        "id": "AgsfC4i8uqz_",
        "outputId": "b1e87d54-62f6-499f-bfdf-756f6c48635a"
      },
      "outputs": [],
      "source": [
        "!python testreal.py -c configs/manga.json -n resattencv -s 256"
      ]
    },
    {
      "cell_type": "code",
      "execution_count": null,
      "metadata": {
        "colab": {
          "base_uri": "https://localhost:8080/",
          "height": 1000
        },
        "id": "HRrs1Z9HPCwb",
        "outputId": "cdd692bc-42b8-43e1-c186-ae1166200903"
      },
      "outputs": [],
      "source": [
        "in1 = 'datazip/manga1/test/test_01.jpg'\n",
        "out1 = 'release_model/resattencv_manga_cons256/results_real_00400/test_01_pred.png'\n",
        "in2 = 'datazip/manga1/test/test_02.jpg'\n",
        "out2 = 'release_model/resattencv_manga_cons256/results_real_00400/test_02_pred.png'\n",
        "\n",
        "fig = plt.figure(figsize=(20, 20))\n",
        "\n",
        "ax1 = fig.add_subplot(2, 2, 1) \n",
        "plt.title('test01 before', fontsize=16)\n",
        "ax1.axis('off')\n",
        "\n",
        "ax2 = fig.add_subplot(2, 2, 2)\n",
        "plt.title('test01 after', fontsize=16)\n",
        "ax2.axis('off')\n",
        "\n",
        "ax3 = fig.add_subplot(2, 2, 3)\n",
        "plt.title('test02 before', fontsize=16)\n",
        "ax3.axis('off')\n",
        "\n",
        "ax4 = fig.add_subplot(2, 2, 4)\n",
        "plt.title('test02 after', fontsize=16)\n",
        "ax4.axis('off')\n",
        "\n",
        "ax1.imshow(imread(in1))\n",
        "ax2.imshow(imread(out1))\n",
        "ax3.imshow(imread(in2))\n",
        "ax4.imshow(imread(out2))"
      ]
    },
    {
      "cell_type": "markdown",
      "metadata": {
        "id": "LQ5wXffdULW-"
      },
      "source": [
        "# SRCNNと比較"
      ]
    },
    {
      "cell_type": "code",
      "execution_count": null,
      "metadata": {
        "colab": {
          "base_uri": "https://localhost:8080/"
        },
        "id": "AyqHYGQkS2q_",
        "outputId": "588bd8ae-dc60-4564-ce7b-f874fd436602"
      },
      "outputs": [],
      "source": [
        "%cd /content\n",
        "\n",
        "!git clone https://github.com/Mirwaisse/SRCNN.git\n",
        "!curl https://raw.githubusercontent.com/chigozienri/SRCNN/master/models/model_4x.pth -o model_4x.pth"
      ]
    },
    {
      "cell_type": "code",
      "execution_count": null,
      "metadata": {
        "colab": {
          "base_uri": "https://localhost:8080/"
        },
        "id": "vHSdMLcsTDuc",
        "outputId": "6788befb-064e-4a16-f03a-d4ec00e28370"
      },
      "outputs": [],
      "source": [
        "%cd /content/SRCNN\n",
        "!cp /content/MangaRestoration/datazip/manga1/test/test_01.jpg test_01.jpg\n",
        "\n",
        "!python run.py \\\n",
        "  --zoom_factor 4 \\\n",
        "  --model /content/model_4x.pth \\\n",
        "  --image test_01.jpg \\\n",
        "  --cuda"
      ]
    },
    {
      "cell_type": "code",
      "execution_count": null,
      "metadata": {
        "colab": {
          "base_uri": "https://localhost:8080/",
          "height": 465
        },
        "id": "CdZs5OE-T-cv",
        "outputId": "9fba5643-9449-47f5-d7b1-ca850385e43d"
      },
      "outputs": [],
      "source": [
        "in1 = '/content/MangaRestoration/datazip/manga1/test/test_01.jpg'\n",
        "out1 = '/content/MangaRestoration/release_model/resattencv_manga_cons256/results_real_00400/test_01_pred.png'\n",
        "out2 = '/content/SRCNN/zoomed_test_01.jpg'\n",
        "\n",
        "fig = plt.figure(figsize=(30, 10))\n",
        "\n",
        "ax1 = fig.add_subplot(1, 3, 1) \n",
        "plt.title('test01', fontsize=16)\n",
        "ax1.axis('off')\n",
        "\n",
        "ax2 = fig.add_subplot(1, 3, 2)\n",
        "plt.title('MangaRestoration', fontsize=16)\n",
        "ax2.axis('off')\n",
        "\n",
        "ax3 = fig.add_subplot(1, 3, 3)\n",
        "plt.title('SRCNN', fontsize=16)\n",
        "ax3.axis('off')\n",
        "\n",
        "ax1.imshow(imread(in1))\n",
        "ax2.imshow(imread(out1))\n",
        "ax3.imshow(imread(out2))"
      ]
    }
  ],
  "metadata": {
    "accelerator": "GPU",
    "colab": {
      "collapsed_sections": [],
      "name": "MangaRestoration_demo.ipynb",
      "provenance": []
    },
    "kernelspec": {
      "display_name": "Python 3.10.4 64-bit",
      "language": "python",
      "name": "python3"
    },
    "language_info": {
      "name": "python",
      "version": "3.10.4"
    },
    "vscode": {
      "interpreter": {
        "hash": "69158ccfe43d0b962045f592ede11796dd42f250837ab62152c8bc6cd100a15b"
      }
    }
  },
  "nbformat": 4,
  "nbformat_minor": 0
}
