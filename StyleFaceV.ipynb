{
  "cells": [
    {
      "cell_type": "code",
      "execution_count": null,
      "metadata": {
        "id": "KdOO085yPXCm"
      },
      "outputs": [],
      "source": [
        "%cd /content\n",
        "\n",
        "!git clone https://github.com/arthur-qiu/StyleFaceV.git\n",
        "\n",
        "# for align face\n",
        "%cd /content\n",
        "!git clone https://github.com/adamian98/pulse.git"
      ]
    },
    {
      "cell_type": "code",
      "execution_count": null,
      "metadata": {
        "colab": {
          "base_uri": "https://localhost:8080/"
        },
        "id": "i5VSI_3DP4qM",
        "outputId": "b4a2b7c7-13e5-4a43-d324-dd49f5ec47e0"
      },
      "outputs": [],
      "source": [
        "!pip install --upgrade gdown\n",
        "\n",
        "!pip install dominate\n",
        "!pip install imageio==2.4.1\n",
        "!pip install ffmpeg\n",
        "!pip install munch\n",
        "\n",
        "# ninja\n",
        "!wget https://github.com/ninja-build/ninja/releases/download/v1.8.2/ninja-linux.zip\n",
        "!sudo unzip ninja-linux.zip -d /usr/local/bin/\n",
        "!sudo update-alternatives --install /usr/bin/ninja ninja /usr/local/bin/ninja 1 --force "
      ]
    },
    {
      "cell_type": "code",
      "execution_count": null,
      "metadata": {
        "id": "hdCzSMO8P_2w"
      },
      "outputs": [],
      "source": [
        "import os\n",
        "\n",
        "import gdown\n",
        "from moviepy.editor import *\n",
        "from moviepy.video.fx.resize import resize"
      ]
    },
    {
      "cell_type": "code",
      "execution_count": null,
      "metadata": {
        "id": "MY7iGje4QGt2"
      },
      "outputs": [],
      "source": [
        "%cd /content/StyleFaceV\n",
        "\n",
        "if not os.path.exists(\"./pretrained_models.zip\"):\n",
        "  gdown.download('https://drive.google.com/uc?id=1c_JWfDjN44XpI8OG24p3FkdEufJGsv34', \"./pretrained_models.zip\", quiet=False)\n",
        "  !unzip pretrained_models.zip -d ./\n",
        "\n",
        "!mkdir ../data\n",
        "\n",
        "if not os.path.exists(\"../data/actor_align_512.zip\"):\n",
        "  gdown.download('https://drive.google.com/uc?id=17tMHrpvTm08ixAwnzTI9dN0BhCjmCwgV', \"../data/actor_align_512.zip\", quiet=False)\n",
        "  !unzip ../data/actor_align_512.zip -d ../data > /dev/null"
      ]
    },
    {
      "cell_type": "code",
      "execution_count": null,
      "metadata": {
        "colab": {
          "base_uri": "https://localhost:8080/"
        },
        "id": "YZuv0JJfW2Lb",
        "outputId": "0f41f6bf-c4c2-42b7-b1dc-b7212786f721"
      },
      "outputs": [],
      "source": [
        "%cd /content/StyleFaceV\n",
        "\n",
        "!python scripts/vid2img.py"
      ]
    },
    {
      "cell_type": "code",
      "execution_count": null,
      "metadata": {
        "id": "_rOCTQYQRuT9"
      },
      "outputs": [],
      "source": [
        "%cd /content/StyleFaceV\n",
        "!mkdir test_imgs align\n",
        "\n",
        "!wget -c https://www.pakutaso.com/shared/img/thumb/model10211041_TP_V4.jpg \\\n",
        "      -O test_imgs/test01.jpg\n",
        "\n",
        "RAW_IMAGES_DIR = \"/content/StyleFaceV/test_imgs\"\n",
        "ALIGNED_IMAGES_DIR = \"/content/StyleFaceV/align\""
      ]
    },
    {
      "cell_type": "code",
      "execution_count": null,
      "metadata": {
        "id": "9EljqZmzRgkt"
      },
      "outputs": [],
      "source": [
        "%cd /content/pulse\n",
        "!python align_face.py -input_dir {RAW_IMAGES_DIR} -output_dir {ALIGNED_IMAGES_DIR} -output_size 512 -seed 12"
      ]
    },
    {
      "cell_type": "code",
      "execution_count": null,
      "metadata": {
        "id": "l_tHnz3xUbEY"
      },
      "outputs": [],
      "source": [
        "import IPython\n",
        "IPython.display.Image('/content/StyleFaceV/align/test01_0.png')"
      ]
    },
    {
      "cell_type": "code",
      "execution_count": null,
      "metadata": {
        "colab": {
          "base_uri": "https://localhost:8080/"
        },
        "id": "UAXlcnBAQppj",
        "outputId": "af2630bb-c286-4afa-cfb8-9039ec11fcb9"
      },
      "outputs": [],
      "source": [
        "%cd /content/StyleFaceV\n",
        "\n",
        "!python test.py --dataroot ../data/actor_align_512_png \\\n",
        "  --name stylefacev \\\n",
        "  --network_pkl=pretrained_models/network-snapshot-005000.pkl \\\n",
        "  --model sample \\\n",
        "  --model_names FE,FE_pose,FE_lm \\\n",
        "  --rnn_path pretrained_models/motion_net.pth \\\n",
        "  --n_frames_G 60 \\\n",
        "  --num_test=64 \\\n",
        "  --results_dir './sample_results/'"
      ]
    }
  ],
  "metadata": {
    "accelerator": "GPU",
    "colab": {
      "name": "StyleFaceV.ipynb",
      "provenance": []
    },
    "gpuClass": "standard",
    "kernelspec": {
      "display_name": "Python 3",
      "name": "python3"
    },
    "language_info": {
      "name": "python"
    }
  },
  "nbformat": 4,
  "nbformat_minor": 0
}
