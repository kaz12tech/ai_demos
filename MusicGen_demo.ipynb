{
  "cells": [
    {
      "cell_type": "markdown",
      "metadata": {
        "id": "ze17Whr66OiC"
      },
      "source": [
        "論文<br>\n",
        "<br>\n",
        "GitHub<br>\n",
        "https://github.com/facebookresearch/audiocraft<br>\n",
        "<br>\n",
        "<a href=\"https://colab.research.google.com/github/kaz12tech/ai_demos/blob/master/MusicGen_demo.ipynb\" target=\"_blank\"><img src=\"https://colab.research.google.com/assets/colab-badge.svg\" alt=\"Open In Colab\"/></a>"
      ]
    },
    {
      "cell_type": "markdown",
      "metadata": {
        "id": "GOLKpkBa6OiI"
      },
      "source": [
        "# setup environment"
      ]
    },
    {
      "cell_type": "markdown",
      "metadata": {
        "id": "Jz8gTEgP6OiJ"
      },
      "source": [
        "## git clone"
      ]
    },
    {
      "cell_type": "code",
      "execution_count": null,
      "metadata": {
        "id": "SO7I9ozfFpmW"
      },
      "outputs": [],
      "source": []
    },
    {
      "cell_type": "markdown",
      "metadata": {
        "id": "07hg4xM8tYCV"
      },
      "source": [
        "## install libraries"
      ]
    },
    {
      "cell_type": "code",
      "execution_count": null,
      "metadata": {
        "id": "gRHm5XmrGGNB"
      },
      "outputs": [],
      "source": [
        "!pip install -U git+https://github.com/facebookresearch/audiocraft#egg=audiocraft"
      ]
    },
    {
      "cell_type": "markdown",
      "metadata": {
        "id": "1E2Tf5qE7EjH"
      },
      "source": [
        "## import libraries"
      ]
    },
    {
      "cell_type": "code",
      "execution_count": null,
      "metadata": {
        "id": "fHJjZa2Z7Juh"
      },
      "outputs": [],
      "source": [
        "from audiocraft.models import musicgen\n",
        "from audiocraft.utils.notebook import display_audio\n",
        "\n",
        "import torch\n",
        "device = 'cuda' if torch.cuda.is_available() else \"cpu\"\n",
        "print(\"using device is\", device)"
      ]
    },
    {
      "cell_type": "markdown",
      "metadata": {
        "id": "BNxJCcXBQ1X2"
      },
      "source": [
        "# Load model"
      ]
    },
    {
      "cell_type": "code",
      "execution_count": null,
      "metadata": {
        "id": "T6vQPrL6Q4Jy"
      },
      "outputs": [],
      "source": [
        "'''\n",
        "small: 300M model, text to music only - 🤗 Hub\n",
        "medium: 1.5B model, text to music only - 🤗 Hub\n",
        "melody: 1.5B model, text to music and text+melody to music - 🤗 Hub\n",
        "large: 3.3B model, text to music only - 🤗 Hub\n",
        "'''\n",
        "\n",
        "model = musicgen.MusicGen.get_pretrained('medium', device=device)"
      ]
    },
    {
      "cell_type": "markdown",
      "metadata": {
        "id": "gY4cj2vSRiHP"
      },
      "source": [
        "# Setup config"
      ]
    },
    {
      "cell_type": "markdown",
      "metadata": {
        "id": "hn6XopOBRs7V"
      },
      "source": [
        "## duration"
      ]
    },
    {
      "cell_type": "code",
      "execution_count": null,
      "metadata": {
        "id": "b8XwxbNxRldA"
      },
      "outputs": [],
      "source": [
        "duration = 10\n",
        "\n",
        "model.set_generation_params(duration=duration)"
      ]
    },
    {
      "cell_type": "markdown",
      "metadata": {
        "id": "mcoRtwgiZo3V"
      },
      "source": [
        "## text prompts"
      ]
    },
    {
      "cell_type": "code",
      "execution_count": null,
      "metadata": {
        "id": "LW3b2rS5ZqjN"
      },
      "outputs": [],
      "source": [
        "prompts = [\n",
        "    \"Solid sound that makes you feel Japanese tradition\",\n",
        "    \"crazy piano jazz\"\n",
        "]"
      ]
    },
    {
      "cell_type": "markdown",
      "metadata": {
        "id": "uPtPhLqbaAbT"
      },
      "source": [
        "## text to music"
      ]
    },
    {
      "cell_type": "code",
      "execution_count": null,
      "metadata": {
        "id": "sY1BVgWsaB9q"
      },
      "outputs": [],
      "source": [
        "res = model.generate(\n",
        "    prompts,\n",
        "    progress=True)"
      ]
    },
    {
      "cell_type": "code",
      "execution_count": null,
      "metadata": {
        "id": "9yBkHsCbaGLy"
      },
      "outputs": [],
      "source": [
        "display_audio(res, 32000)"
      ]
    }
  ],
  "metadata": {
    "accelerator": "GPU",
    "colab": {
      "provenance": [],
      "toc_visible": true
    },
    "kernelspec": {
      "display_name": "Python 3.10.4 64-bit",
      "language": "python",
      "name": "python3"
    },
    "language_info": {
      "name": "python",
      "version": "3.10.4"
    },
    "vscode": {
      "interpreter": {
        "hash": "69158ccfe43d0b962045f592ede11796dd42f250837ab62152c8bc6cd100a15b"
      }
    }
  },
  "nbformat": 4,
  "nbformat_minor": 0
}
