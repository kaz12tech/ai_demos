{
  "cells": [
    {
      "cell_type": "markdown",
      "metadata": {
        "id": "cNz-yh2HFz_G"
      },
      "source": [
        "論文<br>\n",
        "http://arxiv.org/abs/1912.04958<br>\n",
        "<br>\n",
        "GitHub<br>\n",
        "https://github.com/NVlabs/stylegan2-ada-pytorch"
      ]
    },
    {
      "cell_type": "markdown",
      "metadata": {
        "id": "PIyC-kLNGZiQ"
      },
      "source": [
        "# ランタイムの設定\n",
        "「ランタイム」→「ランタイムのタイプを変更」→「ハードウェアアクセラレータ」をGPUに変更"
      ]
    },
    {
      "cell_type": "markdown",
      "metadata": {
        "id": "amOVuN1yGsZI"
      },
      "source": [
        "# 実行方法\n",
        "「ランタイム」→「すべてのセルを実行」を選択"
      ]
    },
    {
      "cell_type": "markdown",
      "metadata": {
        "id": "PKo4CcvmGwJ-"
      },
      "source": [
        "# 環境セットアップ"
      ]
    },
    {
      "cell_type": "code",
      "execution_count": null,
      "metadata": {
        "colab": {
          "base_uri": "https://localhost:8080/"
        },
        "id": "2tr1tqeCq6vw",
        "outputId": "507c5e07-696c-4bf3-bdf5-ba95ed2bd62b"
      },
      "outputs": [],
      "source": [
        "!nvidia-smi"
      ]
    },
    {
      "cell_type": "markdown",
      "metadata": {
        "id": "OEdxoG5jrCc5"
      },
      "source": [
        "## GithubからCode clone"
      ]
    },
    {
      "cell_type": "code",
      "execution_count": null,
      "metadata": {
        "colab": {
          "base_uri": "https://localhost:8080/"
        },
        "id": "wBphrlXDrHWc",
        "outputId": "7e4e0383-142a-4166-b04b-fe2db6856d0c"
      },
      "outputs": [],
      "source": [
        "%cd /content\n",
        "\n",
        "!git clone https://github.com/NVlabs/stylegan2-ada-pytorch.git\n",
        "# for align face\n",
        "!git clone https://github.com/adamian98/pulse.git"
      ]
    },
    {
      "cell_type": "markdown",
      "metadata": {
        "id": "baPoVAl_q8wu"
      },
      "source": [
        "## ライブラリのインストール"
      ]
    },
    {
      "cell_type": "code",
      "execution_count": null,
      "metadata": {
        "colab": {
          "base_uri": "https://localhost:8080/"
        },
        "id": "zt4EMaozq9pj",
        "outputId": "c3ef291b-7721-46d1-9578-1ec0029947d7"
      },
      "outputs": [],
      "source": [
        "!pip install moviepy\n",
        "\n",
        "# ninja\n",
        "!wget https://github.com/ninja-build/ninja/releases/download/v1.8.2/ninja-linux.zip > /dev/null\n",
        "!sudo unzip ninja-linux.zip -d /usr/local/bin/ > /dev/null\n",
        "!sudo update-alternatives --install /usr/bin/ninja ninja /usr/local/bin/ninja 1 --force > /dev/null"
      ]
    },
    {
      "cell_type": "markdown",
      "metadata": {
        "id": "bQI43xjHsugU"
      },
      "source": [
        "## ライブラリのインポート"
      ]
    },
    {
      "cell_type": "code",
      "execution_count": null,
      "metadata": {
        "colab": {
          "base_uri": "https://localhost:8080/"
        },
        "id": "BR0M9Wg8sv8q",
        "outputId": "0f307436-c347-421b-80f3-4e010e86e3c1"
      },
      "outputs": [],
      "source": [
        "%cd /content/stylegan2-ada-pytorch\n",
        "\n",
        "import cv2\n",
        "import numpy as np\n",
        "from PIL import Image\n",
        "import dlib\n",
        "from matplotlib import pyplot as plt\n",
        "import torch\n",
        "import dnnlib\n",
        "import legacy\n",
        "import imageio\n",
        "from tqdm.notebook import tqdm\n",
        "\n",
        "from moviepy.video.fx.resize import resize\n",
        "from moviepy.editor import VideoFileClip"
      ]
    },
    {
      "cell_type": "markdown",
      "metadata": {
        "id": "fSR80_YNsJ8z"
      },
      "source": [
        "# テスト画像のセットアップ"
      ]
    },
    {
      "cell_type": "code",
      "execution_count": null,
      "metadata": {
        "colab": {
          "base_uri": "https://localhost:8080/"
        },
        "id": "Ag3FeDoFsPlB",
        "outputId": "0f2c7838-8479-43fb-fcea-1b91c9d5bd1d"
      },
      "outputs": [],
      "source": [
        "%cd /content/stylegan2-ada-pytorch\n",
        "!rm -rf inputs\n",
        "!mkdir -p inputs/img inputs/align\n",
        "\n",
        "!wget -c https://hips.hearstapps.com/amapn-prod-jp.s3.amazonaws.com/elljp/elle-mig/images/culture/feature/daniel_radcliffe16_1129/3/1754607-1-jpn-JP/2002-10-25.jpg \\\n",
        "      -O ./inputs/img/src.jpg\n",
        "\n",
        "!wget -c https://www.tvgroove.com/wp-content/uploads/2020/03/Daniel-Radcliffe.jpg \\\n",
        "      -O ./inputs/img/dst.jpg"
      ]
    },
    {
      "cell_type": "markdown",
      "metadata": {
        "id": "7jsstNjZacA5"
      },
      "source": [
        "# Preprocess"
      ]
    },
    {
      "cell_type": "code",
      "execution_count": null,
      "metadata": {
        "id": "0NgdA2WSaTA5"
      },
      "outputs": [],
      "source": [
        "NETWORK = \"https://nvlabs-fi-cdn.nvidia.com/stylegan2-ada-pytorch/pretrained/ffhq.pkl\"\n",
        "SOURCE_NAME = '/content/stylegan2-ada-pytorch/src.jpg'\n",
        "TARGET_NAME = '/content/stylegan2-ada-pytorch/dst.jpg'"
      ]
    },
    {
      "cell_type": "code",
      "execution_count": null,
      "metadata": {
        "colab": {
          "base_uri": "https://localhost:8080/"
        },
        "id": "EMhyZM29gnim",
        "outputId": "40f32c1f-002b-43de-b6f8-1ee6dbd39991"
      },
      "outputs": [],
      "source": [
        "%cd /content/pulse\n",
        "!python align_face.py \\\n",
        "  -input_dir /content/stylegan2-ada-pytorch/inputs/img \\\n",
        "  -output_dir /content/stylegan2-ada-pytorch/inputs/align \\\n",
        "  -output_size 1024 \\\n",
        "  -seed 12 \\"
      ]
    },
    {
      "cell_type": "code",
      "execution_count": null,
      "metadata": {
        "colab": {
          "base_uri": "https://localhost:8080/",
          "height": 539
        },
        "id": "kUOXqYUchZvu",
        "outputId": "18f7f624-6cac-453b-ddec-829ea4e6c492"
      },
      "outputs": [],
      "source": [
        "%cd /content/stylegan2-ada-pytorch\n",
        "\n",
        "align_src = cv2.imread('./inputs/align/src_0.png')\n",
        "img = cv2.cvtColor(align_src, cv2.COLOR_BGR2RGB)\n",
        "plt.imshow(img)\n",
        "plt.show()\n",
        "\n",
        "align_dst = cv2.imread('./inputs/align/dst_0.png')\n",
        "img = cv2.cvtColor(align_dst, cv2.COLOR_BGR2RGB)\n",
        "plt.imshow(img)\n",
        "plt.show()"
      ]
    },
    {
      "cell_type": "markdown",
      "metadata": {
        "id": "Tjq-eyIWa3Hl"
      },
      "source": [
        "# Invert to GAN"
      ]
    },
    {
      "cell_type": "code",
      "execution_count": null,
      "metadata": {
        "colab": {
          "base_uri": "https://localhost:8080/"
        },
        "id": "c5uRNGdBbdYO",
        "outputId": "8439aac0-4120-4b6a-a73b-a67d46877683"
      },
      "outputs": [],
      "source": [
        "%cd /content/stylegan2-ada-pytorch\n",
        "\n",
        "!python projector.py \\\n",
        "  --save-video 0 \\\n",
        "  --num-steps 1000 \\\n",
        "  --outdir=outputs/src \\\n",
        "  --target=inputs/align/src_0.png \\\n",
        "  --network={NETWORK}"
      ]
    },
    {
      "cell_type": "code",
      "execution_count": null,
      "metadata": {
        "colab": {
          "base_uri": "https://localhost:8080/"
        },
        "id": "x27BVl4ncSxg",
        "outputId": "246d0b0a-03e4-46b8-ee8a-246ed31ece8a"
      },
      "outputs": [],
      "source": [
        "%cd /content/stylegan2-ada-pytorch\n",
        "\n",
        "!python projector.py \\\n",
        "  --save-video 0 \\\n",
        "  --num-steps 1000 \\\n",
        "  --outdir=outputs/dst \\\n",
        "  --target=inputs/align/dst_0.png \\\n",
        "  --network={NETWORK}"
      ]
    },
    {
      "cell_type": "code",
      "execution_count": null,
      "metadata": {
        "colab": {
          "base_uri": "https://localhost:8080/",
          "height": 563
        },
        "id": "cHk6PCI9caP1",
        "outputId": "5d338e5b-3068-4ad2-c677-1167c58345c5"
      },
      "outputs": [],
      "source": [
        "%cd /content/stylegan2-ada-pytorch\n",
        "\n",
        "img_gan_source = cv2.imread('./outputs/src/proj.png')\n",
        "img = cv2.cvtColor(img_gan_source, cv2.COLOR_BGR2RGB)\n",
        "plt.imshow(img)\n",
        "plt.title('source-gan')\n",
        "plt.show()\n",
        "\n",
        "img_gan_target = cv2.imread('./outputs/dst/proj.png')\n",
        "img = cv2.cvtColor(img_gan_target, cv2.COLOR_BGR2RGB)\n",
        "plt.imshow(img)\n",
        "plt.title('target-gan')\n",
        "plt.show()"
      ]
    },
    {
      "cell_type": "markdown",
      "metadata": {
        "id": "_mrPl0q2ct4v"
      },
      "source": [
        "# Morphing"
      ]
    },
    {
      "cell_type": "code",
      "execution_count": null,
      "metadata": {
        "id": "dc7Lh5DDlihq"
      },
      "outputs": [],
      "source": [
        "STEPS = 100\n",
        "FPS = 20\n",
        "FREEZE_STEPS = 20"
      ]
    },
    {
      "cell_type": "code",
      "execution_count": null,
      "metadata": {
        "colab": {
          "base_uri": "https://localhost:8080/",
          "height": 103,
          "referenced_widgets": [
            "494e180f5ca840b19e37f9e991300780",
            "f06300e9bc10457ba3e891a401c13964",
            "560b7f8766b447d7a16af0bb3be2a5c9",
            "4b357ead35fc45799d119d7300dc5bc4",
            "f2234e389c6d43a9880b3c96a2247afa",
            "d66aca6ff7824ce5a1b5d1cce6b74f74",
            "aa93feec4a064b448415b96eb71a35e5",
            "0d727e1478244ce3b7ea1904c05b3be9",
            "839b4d054eca48f3853dd7252ec35d6a",
            "3985cb2d1dfb4c6aaa90f0c5ff324e03",
            "162012423c18484a91e2e81d08b3f62a"
          ]
        },
        "id": "u9dFMsOhcvgb",
        "outputId": "03266692-b73e-48f0-9559-54a7b2f341c8"
      },
      "outputs": [],
      "source": [
        "%cd /content/stylegan2-ada-pytorch\n",
        "\n",
        "lvec1 = np.load('./outputs/src/projected_w.npz')['w']\n",
        "lvec2 = np.load('./outputs/dst/projected_w.npz')['w']\n",
        "\n",
        "network_pkl = \"https://nvlabs-fi-cdn.nvidia.com/stylegan2-ada-pytorch/pretrained/ffhq.pkl\"\n",
        "device = torch.device('cuda')\n",
        "with dnnlib.util.open_url(network_pkl) as fp:\n",
        "    G = legacy.load_network_pkl(fp)['G_ema'].requires_grad_(False).to(device) # type: ignore\n",
        "\n",
        "diff = lvec2 - lvec1\n",
        "step = diff / STEPS\n",
        "current = lvec1.copy()\n",
        "target_uint8 = np.array([1024,1024,3], dtype=np.uint8)\n",
        "\n",
        "video = imageio.get_writer('./movie.mp4', mode='I', fps=FPS, codec='libx264', bitrate='16M')\n",
        "\n",
        "for j in tqdm(range(STEPS)):\n",
        "  z = torch.from_numpy(current).to(device)\n",
        "  synth_image = G.synthesis(z, noise_mode='const')\n",
        "  synth_image = (synth_image + 1) * (255/2)\n",
        "  synth_image = synth_image.permute(0, 2, 3, 1).clamp(0, 255).to(torch.uint8)[0].cpu().numpy()\n",
        "\n",
        "  repeat = FREEZE_STEPS if j==0 or j==(STEPS-1) else 1\n",
        "   \n",
        "  for i in range(repeat):\n",
        "    video.append_data(synth_image)\n",
        "  current = current + step\n",
        "\n",
        "\n",
        "video.close()"
      ]
    },
    {
      "cell_type": "code",
      "execution_count": null,
      "metadata": {
        "colab": {
          "base_uri": "https://localhost:8080/",
          "height": 460
        },
        "id": "ajD8vFBWf0fK",
        "outputId": "d6249b26-c81e-4654-e101-f7a4d3cd7890"
      },
      "outputs": [],
      "source": [
        "clip = VideoFileClip('./movie.mp4')\n",
        "clip = resize(clip, height=420)\n",
        "clip.ipython_display()"
      ]
    }
  ],
  "metadata": {
    "accelerator": "GPU",
    "colab": {
      "collapsed_sections": [
        "PIyC-kLNGZiQ",
        "amOVuN1yGsZI"
      ],
      "name": "StyleGAN2_morph_demo.ipynb",
      "provenance": [],
      "toc_visible": true
    },
    "kernelspec": {
      "display_name": "Python 3",
      "name": "python3"
    },
    "language_info": {
      "codemirror_mode": {
        "name": "ipython",
        "version": 3
      },
      "file_extension": ".py",
      "mimetype": "text/x-python",
      "name": "python",
      "nbconvert_exporter": "python",
      "pygments_lexer": "ipython3",
      "version": "3.8.6"
    },
    "widgets": {
      "application/vnd.jupyter.widget-state+json": {
        "0d727e1478244ce3b7ea1904c05b3be9": {
          "model_module": "@jupyter-widgets/base",
          "model_module_version": "1.2.0",
          "model_name": "LayoutModel",
          "state": {
            "_model_module": "@jupyter-widgets/base",
            "_model_module_version": "1.2.0",
            "_model_name": "LayoutModel",
            "_view_count": null,
            "_view_module": "@jupyter-widgets/base",
            "_view_module_version": "1.2.0",
            "_view_name": "LayoutView",
            "align_content": null,
            "align_items": null,
            "align_self": null,
            "border": null,
            "bottom": null,
            "display": null,
            "flex": null,
            "flex_flow": null,
            "grid_area": null,
            "grid_auto_columns": null,
            "grid_auto_flow": null,
            "grid_auto_rows": null,
            "grid_column": null,
            "grid_gap": null,
            "grid_row": null,
            "grid_template_areas": null,
            "grid_template_columns": null,
            "grid_template_rows": null,
            "height": null,
            "justify_content": null,
            "justify_items": null,
            "left": null,
            "margin": null,
            "max_height": null,
            "max_width": null,
            "min_height": null,
            "min_width": null,
            "object_fit": null,
            "object_position": null,
            "order": null,
            "overflow": null,
            "overflow_x": null,
            "overflow_y": null,
            "padding": null,
            "right": null,
            "top": null,
            "visibility": null,
            "width": null
          }
        },
        "162012423c18484a91e2e81d08b3f62a": {
          "model_module": "@jupyter-widgets/controls",
          "model_module_version": "1.5.0",
          "model_name": "DescriptionStyleModel",
          "state": {
            "_model_module": "@jupyter-widgets/controls",
            "_model_module_version": "1.5.0",
            "_model_name": "DescriptionStyleModel",
            "_view_count": null,
            "_view_module": "@jupyter-widgets/base",
            "_view_module_version": "1.2.0",
            "_view_name": "StyleView",
            "description_width": ""
          }
        },
        "3985cb2d1dfb4c6aaa90f0c5ff324e03": {
          "model_module": "@jupyter-widgets/base",
          "model_module_version": "1.2.0",
          "model_name": "LayoutModel",
          "state": {
            "_model_module": "@jupyter-widgets/base",
            "_model_module_version": "1.2.0",
            "_model_name": "LayoutModel",
            "_view_count": null,
            "_view_module": "@jupyter-widgets/base",
            "_view_module_version": "1.2.0",
            "_view_name": "LayoutView",
            "align_content": null,
            "align_items": null,
            "align_self": null,
            "border": null,
            "bottom": null,
            "display": null,
            "flex": null,
            "flex_flow": null,
            "grid_area": null,
            "grid_auto_columns": null,
            "grid_auto_flow": null,
            "grid_auto_rows": null,
            "grid_column": null,
            "grid_gap": null,
            "grid_row": null,
            "grid_template_areas": null,
            "grid_template_columns": null,
            "grid_template_rows": null,
            "height": null,
            "justify_content": null,
            "justify_items": null,
            "left": null,
            "margin": null,
            "max_height": null,
            "max_width": null,
            "min_height": null,
            "min_width": null,
            "object_fit": null,
            "object_position": null,
            "order": null,
            "overflow": null,
            "overflow_x": null,
            "overflow_y": null,
            "padding": null,
            "right": null,
            "top": null,
            "visibility": null,
            "width": null
          }
        },
        "494e180f5ca840b19e37f9e991300780": {
          "model_module": "@jupyter-widgets/controls",
          "model_module_version": "1.5.0",
          "model_name": "HBoxModel",
          "state": {
            "_dom_classes": [],
            "_model_module": "@jupyter-widgets/controls",
            "_model_module_version": "1.5.0",
            "_model_name": "HBoxModel",
            "_view_count": null,
            "_view_module": "@jupyter-widgets/controls",
            "_view_module_version": "1.5.0",
            "_view_name": "HBoxView",
            "box_style": "",
            "children": [
              "IPY_MODEL_f06300e9bc10457ba3e891a401c13964",
              "IPY_MODEL_560b7f8766b447d7a16af0bb3be2a5c9",
              "IPY_MODEL_4b357ead35fc45799d119d7300dc5bc4"
            ],
            "layout": "IPY_MODEL_f2234e389c6d43a9880b3c96a2247afa"
          }
        },
        "4b357ead35fc45799d119d7300dc5bc4": {
          "model_module": "@jupyter-widgets/controls",
          "model_module_version": "1.5.0",
          "model_name": "HTMLModel",
          "state": {
            "_dom_classes": [],
            "_model_module": "@jupyter-widgets/controls",
            "_model_module_version": "1.5.0",
            "_model_name": "HTMLModel",
            "_view_count": null,
            "_view_module": "@jupyter-widgets/controls",
            "_view_module_version": "1.5.0",
            "_view_name": "HTMLView",
            "description": "",
            "description_tooltip": null,
            "layout": "IPY_MODEL_3985cb2d1dfb4c6aaa90f0c5ff324e03",
            "placeholder": "​",
            "style": "IPY_MODEL_162012423c18484a91e2e81d08b3f62a",
            "value": " 100/100 [00:15&lt;00:00,  1.58it/s]"
          }
        },
        "560b7f8766b447d7a16af0bb3be2a5c9": {
          "model_module": "@jupyter-widgets/controls",
          "model_module_version": "1.5.0",
          "model_name": "FloatProgressModel",
          "state": {
            "_dom_classes": [],
            "_model_module": "@jupyter-widgets/controls",
            "_model_module_version": "1.5.0",
            "_model_name": "FloatProgressModel",
            "_view_count": null,
            "_view_module": "@jupyter-widgets/controls",
            "_view_module_version": "1.5.0",
            "_view_name": "ProgressView",
            "bar_style": "success",
            "description": "",
            "description_tooltip": null,
            "layout": "IPY_MODEL_0d727e1478244ce3b7ea1904c05b3be9",
            "max": 100,
            "min": 0,
            "orientation": "horizontal",
            "style": "IPY_MODEL_839b4d054eca48f3853dd7252ec35d6a",
            "value": 100
          }
        },
        "839b4d054eca48f3853dd7252ec35d6a": {
          "model_module": "@jupyter-widgets/controls",
          "model_module_version": "1.5.0",
          "model_name": "ProgressStyleModel",
          "state": {
            "_model_module": "@jupyter-widgets/controls",
            "_model_module_version": "1.5.0",
            "_model_name": "ProgressStyleModel",
            "_view_count": null,
            "_view_module": "@jupyter-widgets/base",
            "_view_module_version": "1.2.0",
            "_view_name": "StyleView",
            "bar_color": null,
            "description_width": ""
          }
        },
        "aa93feec4a064b448415b96eb71a35e5": {
          "model_module": "@jupyter-widgets/controls",
          "model_module_version": "1.5.0",
          "model_name": "DescriptionStyleModel",
          "state": {
            "_model_module": "@jupyter-widgets/controls",
            "_model_module_version": "1.5.0",
            "_model_name": "DescriptionStyleModel",
            "_view_count": null,
            "_view_module": "@jupyter-widgets/base",
            "_view_module_version": "1.2.0",
            "_view_name": "StyleView",
            "description_width": ""
          }
        },
        "d66aca6ff7824ce5a1b5d1cce6b74f74": {
          "model_module": "@jupyter-widgets/base",
          "model_module_version": "1.2.0",
          "model_name": "LayoutModel",
          "state": {
            "_model_module": "@jupyter-widgets/base",
            "_model_module_version": "1.2.0",
            "_model_name": "LayoutModel",
            "_view_count": null,
            "_view_module": "@jupyter-widgets/base",
            "_view_module_version": "1.2.0",
            "_view_name": "LayoutView",
            "align_content": null,
            "align_items": null,
            "align_self": null,
            "border": null,
            "bottom": null,
            "display": null,
            "flex": null,
            "flex_flow": null,
            "grid_area": null,
            "grid_auto_columns": null,
            "grid_auto_flow": null,
            "grid_auto_rows": null,
            "grid_column": null,
            "grid_gap": null,
            "grid_row": null,
            "grid_template_areas": null,
            "grid_template_columns": null,
            "grid_template_rows": null,
            "height": null,
            "justify_content": null,
            "justify_items": null,
            "left": null,
            "margin": null,
            "max_height": null,
            "max_width": null,
            "min_height": null,
            "min_width": null,
            "object_fit": null,
            "object_position": null,
            "order": null,
            "overflow": null,
            "overflow_x": null,
            "overflow_y": null,
            "padding": null,
            "right": null,
            "top": null,
            "visibility": null,
            "width": null
          }
        },
        "f06300e9bc10457ba3e891a401c13964": {
          "model_module": "@jupyter-widgets/controls",
          "model_module_version": "1.5.0",
          "model_name": "HTMLModel",
          "state": {
            "_dom_classes": [],
            "_model_module": "@jupyter-widgets/controls",
            "_model_module_version": "1.5.0",
            "_model_name": "HTMLModel",
            "_view_count": null,
            "_view_module": "@jupyter-widgets/controls",
            "_view_module_version": "1.5.0",
            "_view_name": "HTMLView",
            "description": "",
            "description_tooltip": null,
            "layout": "IPY_MODEL_d66aca6ff7824ce5a1b5d1cce6b74f74",
            "placeholder": "​",
            "style": "IPY_MODEL_aa93feec4a064b448415b96eb71a35e5",
            "value": "100%"
          }
        },
        "f2234e389c6d43a9880b3c96a2247afa": {
          "model_module": "@jupyter-widgets/base",
          "model_module_version": "1.2.0",
          "model_name": "LayoutModel",
          "state": {
            "_model_module": "@jupyter-widgets/base",
            "_model_module_version": "1.2.0",
            "_model_name": "LayoutModel",
            "_view_count": null,
            "_view_module": "@jupyter-widgets/base",
            "_view_module_version": "1.2.0",
            "_view_name": "LayoutView",
            "align_content": null,
            "align_items": null,
            "align_self": null,
            "border": null,
            "bottom": null,
            "display": null,
            "flex": null,
            "flex_flow": null,
            "grid_area": null,
            "grid_auto_columns": null,
            "grid_auto_flow": null,
            "grid_auto_rows": null,
            "grid_column": null,
            "grid_gap": null,
            "grid_row": null,
            "grid_template_areas": null,
            "grid_template_columns": null,
            "grid_template_rows": null,
            "height": null,
            "justify_content": null,
            "justify_items": null,
            "left": null,
            "margin": null,
            "max_height": null,
            "max_width": null,
            "min_height": null,
            "min_width": null,
            "object_fit": null,
            "object_position": null,
            "order": null,
            "overflow": null,
            "overflow_x": null,
            "overflow_y": null,
            "padding": null,
            "right": null,
            "top": null,
            "visibility": null,
            "width": null
          }
        }
      }
    }
  },
  "nbformat": 4,
  "nbformat_minor": 0
}
