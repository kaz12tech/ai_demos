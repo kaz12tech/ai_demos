{
  "cells": [
    {
      "cell_type": "markdown",
      "metadata": {
        "id": "9NENcrgDJv9q"
      },
      "source": [
        "論文  \n",
        "https://arxiv.org/abs/2209.09475<br>\n",
        "<br>\n",
        "GitHub  \n",
        "https://github.com/plemeri/inspyrenet<br>\n",
        "https://github.com/taskswithcode/InSPyReNet<br>\n",
        "<br>\n",
        "<a href=\"https://colab.research.google.com/github/kaz12tech/ai_demos/blob/master/InSPyReNet_demo.ipynb\" target=\"_blank\"><img src=\"https://colab.research.google.com/assets/colab-badge.svg\" alt=\"Open In Colab\"/></a>"
      ]
    },
    {
      "cell_type": "markdown",
      "metadata": {
        "id": "LHqYjlJ4Jv9u"
      },
      "source": [
        "# 環境セットアップ"
      ]
    },
    {
      "cell_type": "markdown",
      "metadata": {
        "id": "z7jySK7RJv9v"
      },
      "source": [
        "## GPU確認"
      ]
    },
    {
      "cell_type": "code",
      "execution_count": null,
      "metadata": {
        "colab": {
          "base_uri": "https://localhost:8080/"
        },
        "id": "2PcII5fLdHnJ",
        "outputId": "7e3b7c60-5d1d-4800-b965-aabd2f6151d2"
      },
      "outputs": [],
      "source": [
        "!nvidia-smi"
      ]
    },
    {
      "cell_type": "markdown",
      "metadata": {
        "id": "aaAzHlBvJv9y"
      },
      "source": [
        "## GitHubからコード取得"
      ]
    },
    {
      "cell_type": "code",
      "execution_count": null,
      "metadata": {
        "colab": {
          "base_uri": "https://localhost:8080/"
        },
        "id": "R-Y5auuvnnnT",
        "outputId": "63b35e34-d538-4335-b20d-e91a4add8d58"
      },
      "outputs": [],
      "source": [
        "%cd /content\n",
        "\n",
        "!git clone https://github.com/plemeri/InSPyReNet.git\n",
        "\n",
        "# Commits on Nov 24, 2022\n",
        "%cd /content/InSPyReNet\n",
        "!git checkout 17d4f695f0691349d03f0359db89de5afcb784cd"
      ]
    },
    {
      "cell_type": "markdown",
      "metadata": {
        "id": "4tp-fduPJv9z"
      },
      "source": [
        "## ライブラリのインストール"
      ]
    },
    {
      "cell_type": "code",
      "execution_count": null,
      "metadata": {
        "colab": {
          "base_uri": "https://localhost:8080/"
        },
        "id": "LScsvO3UppqT",
        "outputId": "eaf1df2f-f9b5-41e1-e184-a48f48b18007"
      },
      "outputs": [],
      "source": [
        "%cd /content/InSPyReNet\n",
        "\n",
        "!pip install -r requirements.txt\n",
        "\n",
        "!pip install --upgrade gdown\n",
        "\n",
        "!pip install moviepy==0.2.3.5 imageio==2.4.1\n",
        "!pip install yt-dlp"
      ]
    },
    {
      "cell_type": "markdown",
      "metadata": {
        "id": "VIWoFf9MJv91"
      },
      "source": [
        "## ライブラリのインポート"
      ]
    },
    {
      "cell_type": "code",
      "execution_count": null,
      "metadata": {
        "id": "o2lxptJeo6kr"
      },
      "outputs": [],
      "source": [
        "from yt_dlp import YoutubeDL\n",
        "from moviepy.video.fx.resize import resize\n",
        "from moviepy.editor import VideoFileClip\n",
        "\n",
        "from PIL import Image\n",
        "import IPython"
      ]
    },
    {
      "cell_type": "markdown",
      "metadata": {
        "id": "tuaMaj45p8vi"
      },
      "source": [
        "# テスト動画のセットアップ"
      ]
    },
    {
      "cell_type": "code",
      "execution_count": null,
      "metadata": {
        "id": "06KAqwrZp_Eh"
      },
      "outputs": [],
      "source": [
        "video_url = 'https://www.youtube.com/watch?v=EzaGEx80dJQ' #@param {type:\"string\"}\n",
        "\n",
        "#@markdown 動画の切り抜き範囲(秒)を指定してください。\\\n",
        "#@markdown 30秒以上の場合OOM発生の可能性が高いため注意\n",
        "start_sec =  3#@param {type:\"integer\"}\n",
        "end_sec =  8#@param {type:\"integer\"}\n",
        "\n",
        "(start_pt, end_pt) = (start_sec, end_sec)"
      ]
    },
    {
      "cell_type": "code",
      "execution_count": null,
      "metadata": {
        "colab": {
          "base_uri": "https://localhost:8080/"
        },
        "id": "LABgfHjjrbqm",
        "outputId": "8ad808b3-2a11-4ad1-e30f-5757afb5ee3f"
      },
      "outputs": [],
      "source": [
        "%cd /content/InSPyReNet\n",
        "\n",
        "!mkdir test_files\n",
        "\n",
        "download_resolution = 720\n",
        "full_video_path = './test_files/full_video.mp4'\n",
        "input_clip_path = './test_files/clip_video.mp4'\n",
        "\n",
        "# 動画ダウンロード\n",
        "ydl_opts = {'format': f'best[height<={download_resolution}]', 'overwrites': True, 'outtmpl': full_video_path}\n",
        "with YoutubeDL(ydl_opts) as ydl:\n",
        "    ydl.download([video_url])\n",
        "\n",
        "# 指定区間切り抜き\n",
        "with VideoFileClip(full_video_path) as video:\n",
        "    subclip = video.subclip(start_pt, end_pt)\n",
        "    subclip.write_videofile(input_clip_path)"
      ]
    },
    {
      "cell_type": "code",
      "execution_count": null,
      "metadata": {
        "colab": {
          "base_uri": "https://localhost:8080/",
          "height": 607
        },
        "id": "j4WSGneqvvH8",
        "outputId": "982bb873-c6c0-4312-ec74-c2e1f8bbd7d8"
      },
      "outputs": [],
      "source": [
        "# 動画の確認\n",
        "clip = VideoFileClip(input_clip_path)\n",
        "clip = resize(clip, height=420)\n",
        "clip.ipython_display()"
      ]
    },
    {
      "cell_type": "markdown",
      "metadata": {
        "id": "kyXCtJXgXGzd"
      },
      "source": [
        "# 学習済みモデルのセットアップ"
      ]
    },
    {
      "cell_type": "code",
      "execution_count": null,
      "metadata": {
        "colab": {
          "base_uri": "https://localhost:8080/"
        },
        "id": "1P4IdKq5XL0w",
        "outputId": "82d0d472-6ebe-474c-d20b-290eeee31d08"
      },
      "outputs": [],
      "source": [
        "%cd /content/InSPyReNet\n",
        "\n",
        "!mkdir -p data/backbone_ckpt/ snapshots/InSPyReNet_SwinB\n",
        "\n",
        "!gdown --id 1MMhioAsZ-oYa5FpnTi22XBGh5HkjLX3y -O ./data/backbone_ckpt/res2net50_v1b_26w_4s-3cf99910.pth\n",
        "!gdown --id 1fBJFMupe5pV-Vtou-k8LTvHclWs0y1bI -O ./data/backbone_ckpt/swin_base_patch4_window12_384_22kto1k.pth\n",
        "!gdown --id 1k5hNJImgEgSmz-ZeJEEb_dVkrOnswVMq -O ./snapshots/InSPyReNet_SwinB/latest.pth"
      ]
    },
    {
      "cell_type": "markdown",
      "metadata": {
        "id": "qt6tFzmmZERr"
      },
      "source": [
        "# テスト画像のセットアップ"
      ]
    },
    {
      "cell_type": "code",
      "execution_count": null,
      "metadata": {
        "colab": {
          "base_uri": "https://localhost:8080/"
        },
        "id": "cQguuaQpZHUR",
        "outputId": "76fe6a37-1358-42cb-eacb-2abad5ad16c4"
      },
      "outputs": [],
      "source": [
        "%cd /content/InSPyReNet\n",
        "\n",
        "\n",
        "!wget -c https://www.pakutaso.com/shared/img/thumb/SAYAPAKU5460_TP_V4.jpg \\\n",
        "      -O ./test_files/test01.jpg\n",
        "!wget -c https://www.pakutaso.com/shared/img/thumb/29redsugar2286_TP_V4.jpg \\\n",
        "      -O ./test_files/background.jpg"
      ]
    },
    {
      "cell_type": "markdown",
      "metadata": {
        "id": "rRjHfRmuYajV"
      },
      "source": [
        "# Object detection"
      ]
    },
    {
      "cell_type": "code",
      "execution_count": null,
      "metadata": {
        "colab": {
          "base_uri": "https://localhost:8080/"
        },
        "id": "4bnEJRQdYk2D",
        "outputId": "b47d65a0-2c95-4ab6-87f9-5f04f14a8661"
      },
      "outputs": [],
      "source": [
        "%cd /content/InSPyReNet\n",
        "\n",
        "!mkdir results\n",
        "\n",
        "SOURCE = '/content/InSPyReNet/test_files/test01.jpg'\n",
        "DEST = '/content/InSPyReNet/results'\n",
        "TYPE = 'map' # map, green, rgba, blur, overlay, another image file path"
      ]
    },
    {
      "cell_type": "markdown",
      "metadata": {
        "id": "GZ2RUFNPhhXx"
      },
      "source": [
        "## map"
      ]
    },
    {
      "cell_type": "code",
      "execution_count": null,
      "metadata": {
        "colab": {
          "base_uri": "https://localhost:8080/"
        },
        "id": "bFwPURFJYcPa",
        "outputId": "509ed86e-0881-4fb2-a2df-17a1ecd62350"
      },
      "outputs": [],
      "source": [
        "%cd /content/InSPyReNet\n",
        "\n",
        "TYPE = 'map' # map, green, rgba, blur, overlay, another image file path\n",
        "!python run/Inference.py \\\n",
        "  --config configs/InSPyReNet_SwinB.yaml \\\n",
        "  --source {SOURCE} \\\n",
        "  --dest {DEST} \\\n",
        "  --type {TYPE} \\\n",
        "  --gpu --verbose\n",
        "\n",
        "!mv /content/InSPyReNet/results/test01.png /content/InSPyReNet/results/test01_map.png"
      ]
    },
    {
      "cell_type": "code",
      "execution_count": null,
      "metadata": {
        "colab": {
          "base_uri": "https://localhost:8080/",
          "height": 550
        },
        "id": "LgOo05ZuhJik",
        "outputId": "88feb9cd-188e-4cc9-a7bf-e665de8ca639"
      },
      "outputs": [],
      "source": [
        "im = Image.open('/content/InSPyReNet/results/test01_map.png')\n",
        "IPython.display.display(im)"
      ]
    },
    {
      "cell_type": "markdown",
      "metadata": {
        "id": "egNVMN4fhot7"
      },
      "source": [
        "## green"
      ]
    },
    {
      "cell_type": "code",
      "execution_count": null,
      "metadata": {
        "colab": {
          "base_uri": "https://localhost:8080/"
        },
        "id": "yw0W8PpihjVf",
        "outputId": "a94fa999-5d9f-421d-b1b1-6e7c40bd8496"
      },
      "outputs": [],
      "source": [
        "%cd /content/InSPyReNet\n",
        "\n",
        "TYPE = 'green' # map, green, rgba, blur, overlay, another image file path\n",
        "!python run/Inference.py \\\n",
        "  --config configs/InSPyReNet_SwinB.yaml \\\n",
        "  --source {SOURCE} \\\n",
        "  --dest {DEST} \\\n",
        "  --type {TYPE} \\\n",
        "  --gpu --verbose\n",
        "\n",
        "!mv /content/InSPyReNet/results/test01.png /content/InSPyReNet/results/test01_green.png"
      ]
    },
    {
      "cell_type": "code",
      "execution_count": null,
      "metadata": {
        "colab": {
          "base_uri": "https://localhost:8080/",
          "height": 550
        },
        "id": "YfUmVMTchm1B",
        "outputId": "55c43223-109b-47a4-ec3c-84064df266a9"
      },
      "outputs": [],
      "source": [
        "im = Image.open('/content/InSPyReNet/results/test01_green.png')\n",
        "IPython.display.display(im)"
      ]
    },
    {
      "cell_type": "markdown",
      "metadata": {
        "id": "yUOUl5zRhp_M"
      },
      "source": [
        "## rgba"
      ]
    },
    {
      "cell_type": "code",
      "execution_count": null,
      "metadata": {
        "colab": {
          "base_uri": "https://localhost:8080/"
        },
        "id": "IvxIXaXShsbB",
        "outputId": "0b5184b2-1b1e-43f9-c470-f2da2d960ffb"
      },
      "outputs": [],
      "source": [
        "%cd /content/InSPyReNet\n",
        "\n",
        "TYPE = 'rgba' # map, green, rgba, blur, overlay, another image file path\n",
        "!python run/Inference.py \\\n",
        "  --config configs/InSPyReNet_SwinB.yaml \\\n",
        "  --source {SOURCE} \\\n",
        "  --dest {DEST} \\\n",
        "  --type {TYPE} \\\n",
        "  --gpu --verbose\n",
        "\n",
        "!mv /content/InSPyReNet/results/test01.png /content/InSPyReNet/results/test01_rgba.png"
      ]
    },
    {
      "cell_type": "code",
      "execution_count": null,
      "metadata": {
        "colab": {
          "base_uri": "https://localhost:8080/",
          "height": 550
        },
        "id": "RWUjOrcohvN3",
        "outputId": "71be9da6-2500-44c1-d84e-c1150c0e1492"
      },
      "outputs": [],
      "source": [
        "im = Image.open('/content/InSPyReNet/results/test01_rgba.png')\n",
        "IPython.display.display(im)"
      ]
    },
    {
      "cell_type": "markdown",
      "metadata": {
        "id": "ssYdcEcVhxij"
      },
      "source": [
        "## blur"
      ]
    },
    {
      "cell_type": "code",
      "execution_count": null,
      "metadata": {
        "colab": {
          "base_uri": "https://localhost:8080/"
        },
        "id": "DliFKHEFhzJV",
        "outputId": "58cbf0be-5b44-411e-9c7a-9c39ba629bb7"
      },
      "outputs": [],
      "source": [
        "%cd /content/InSPyReNet\n",
        "\n",
        "TYPE = 'blur' # map, green, rgba, blur, overlay, another image file path\n",
        "!python run/Inference.py \\\n",
        "  --config configs/InSPyReNet_SwinB.yaml \\\n",
        "  --source {SOURCE} \\\n",
        "  --dest {DEST} \\\n",
        "  --type {TYPE} \\\n",
        "  --gpu --verbose\n",
        "\n",
        "!mv /content/InSPyReNet/results/test01.png /content/InSPyReNet/results/test01_blur.png"
      ]
    },
    {
      "cell_type": "code",
      "execution_count": null,
      "metadata": {
        "colab": {
          "base_uri": "https://localhost:8080/",
          "height": 550
        },
        "id": "47q5yJOZh2Wz",
        "outputId": "54319928-9298-4bd8-9ffd-0bd054948cbd"
      },
      "outputs": [],
      "source": [
        "im = Image.open('/content/InSPyReNet/results/test01_blur.png')\n",
        "IPython.display.display(im)"
      ]
    },
    {
      "cell_type": "markdown",
      "metadata": {
        "id": "oxI-hfmKh4zh"
      },
      "source": [
        "## overlay"
      ]
    },
    {
      "cell_type": "code",
      "execution_count": null,
      "metadata": {
        "colab": {
          "base_uri": "https://localhost:8080/"
        },
        "id": "nmSST3Wyh6o_",
        "outputId": "804d7aca-eec3-401a-f807-d3e032e5f6da"
      },
      "outputs": [],
      "source": [
        "%cd /content/InSPyReNet\n",
        "\n",
        "TYPE = 'overlay' # map, green, rgba, blur, overlay, another image file path\n",
        "!python run/Inference.py \\\n",
        "  --config configs/InSPyReNet_SwinB.yaml \\\n",
        "  --source {SOURCE} \\\n",
        "  --dest {DEST} \\\n",
        "  --type {TYPE} \\\n",
        "  --gpu --verbose\n",
        "\n",
        "!mv /content/InSPyReNet/results/test01.png /content/InSPyReNet/results/test01_overlay.png"
      ]
    },
    {
      "cell_type": "code",
      "execution_count": null,
      "metadata": {
        "colab": {
          "base_uri": "https://localhost:8080/",
          "height": 550
        },
        "id": "7k7Q-HyMiPLJ",
        "outputId": "d21d2a6d-bb0a-4b89-a719-af4a6fb70ed5"
      },
      "outputs": [],
      "source": [
        "im = Image.open('/content/InSPyReNet/results/test01_overlay.png')\n",
        "IPython.display.display(im)"
      ]
    },
    {
      "cell_type": "markdown",
      "metadata": {
        "id": "oTw-JrWUiQt7"
      },
      "source": [
        "## another image"
      ]
    },
    {
      "cell_type": "code",
      "execution_count": null,
      "metadata": {
        "colab": {
          "base_uri": "https://localhost:8080/"
        },
        "id": "IoHt5nqPiS8P",
        "outputId": "7e0e41d9-9974-4623-feb1-4fd8945c8ac6"
      },
      "outputs": [],
      "source": [
        "%cd /content/InSPyReNet\n",
        "\n",
        "TYPE = './test_files/background.jpg' # map, green, rgba, blur, overlay, another image file path\n",
        "!python run/Inference.py \\\n",
        "  --config configs/InSPyReNet_SwinB.yaml \\\n",
        "  --source {SOURCE} \\\n",
        "  --dest {DEST} \\\n",
        "  --type {TYPE} \\\n",
        "  --gpu --verbose\n",
        "\n",
        "!mv /content/InSPyReNet/results/test01.png /content/InSPyReNet/results/test01_another.png"
      ]
    },
    {
      "cell_type": "code",
      "execution_count": null,
      "metadata": {
        "colab": {
          "base_uri": "https://localhost:8080/",
          "height": 550
        },
        "id": "RiVoP51viiA2",
        "outputId": "072ec47b-9d11-453a-deae-c2d0ad2e86cd"
      },
      "outputs": [],
      "source": [
        "im = Image.open('/content/InSPyReNet/results/test01_another.png')\n",
        "IPython.display.display(im)"
      ]
    },
    {
      "cell_type": "markdown",
      "metadata": {
        "id": "p1MOc-t-jcOj"
      },
      "source": [
        "## Video"
      ]
    },
    {
      "cell_type": "code",
      "execution_count": null,
      "metadata": {
        "colab": {
          "base_uri": "https://localhost:8080/"
        },
        "id": "IBoDDKDMjmq-",
        "outputId": "846f6a03-4578-45c7-bbe2-fa90add367a1"
      },
      "outputs": [],
      "source": [
        "%cd /content/InSPyReNet\n",
        "\n",
        "SOURCE = './test_files/clip_video.mp4'\n",
        "TYPE = './test_files/background.jpg' # map, green, rgba, blur, overlay, another image file path\n",
        "!python run/Inference.py \\\n",
        "  --config configs/InSPyReNet_SwinB.yaml \\\n",
        "  --source {SOURCE} \\\n",
        "  --dest {DEST} \\\n",
        "  --type {TYPE} \\\n",
        "  --gpu --verbose"
      ]
    },
    {
      "cell_type": "code",
      "execution_count": null,
      "metadata": {
        "colab": {
          "base_uri": "https://localhost:8080/",
          "height": 460
        },
        "id": "zdlkthB9kbyC",
        "outputId": "728bf66f-6035-483d-8ead-79e414f226e1"
      },
      "outputs": [],
      "source": [
        "# 動画の確認\n",
        "clip = VideoFileClip('./results/clip_video.mp4')\n",
        "clip = resize(clip, height=420)\n",
        "clip.ipython_display()"
      ]
    }
  ],
  "metadata": {
    "accelerator": "GPU",
    "colab": {
      "provenance": []
    },
    "kernelspec": {
      "display_name": "Python 3.10.4 64-bit",
      "language": "python",
      "name": "python3"
    },
    "language_info": {
      "name": "python",
      "version": "3.10.4"
    },
    "orig_nbformat": 4,
    "vscode": {
      "interpreter": {
        "hash": "69158ccfe43d0b962045f592ede11796dd42f250837ab62152c8bc6cd100a15b"
      }
    }
  },
  "nbformat": 4,
  "nbformat_minor": 0
}
