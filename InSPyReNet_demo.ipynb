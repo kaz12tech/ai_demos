{
  "cells": [
    {
      "cell_type": "markdown",
      "metadata": {
        "id": "9NENcrgDJv9q"
      },
      "source": [
        "論文  \n",
        "https://arxiv.org/abs/2209.09475<br>\n",
        "<br>\n",
        "GitHub  \n",
        "https://github.com/plemeri/inspyrenet<br>\n",
        "https://github.com/taskswithcode/InSPyReNet<br>\n",
        "<br>\n",
        "<a href=\"https://colab.research.google.com/github/kaz12tech/ai_demos/blob/master/InSPyReNet_demo.ipynb\" target=\"_blank\"><img src=\"https://colab.research.google.com/assets/colab-badge.svg\" alt=\"Open In Colab\"/></a>"
      ]
    },
    {
      "cell_type": "markdown",
      "metadata": {
        "id": "LHqYjlJ4Jv9u"
      },
      "source": [
        "# 環境セットアップ"
      ]
    },
    {
      "cell_type": "markdown",
      "metadata": {
        "id": "z7jySK7RJv9v"
      },
      "source": [
        "## GPU確認"
      ]
    },
    {
      "cell_type": "code",
      "execution_count": null,
      "metadata": {
        "colab": {
          "base_uri": "https://localhost:8080/"
        },
        "id": "2PcII5fLdHnJ",
        "outputId": "48ae0a00-c8e0-4d4c-e53e-7942c4152133"
      },
      "outputs": [],
      "source": [
        "!nvidia-smi"
      ]
    },
    {
      "cell_type": "markdown",
      "metadata": {
        "id": "aaAzHlBvJv9y"
      },
      "source": [
        "## GitHubからコード取得"
      ]
    },
    {
      "cell_type": "code",
      "execution_count": null,
      "metadata": {
        "colab": {
          "base_uri": "https://localhost:8080/"
        },
        "id": "R-Y5auuvnnnT",
        "outputId": "f0422d31-6b6f-4170-fe69-44b0b87f0a3d"
      },
      "outputs": [],
      "source": [
        "%cd /content\n",
        "\n",
        "!git clone https://github.com/plemeri/InSPyReNet.git\n",
        "\n",
        "# Commits on Nov 24, 2022\n",
        "%cd /content/InSPyReNet\n",
        "!git checkout 17d4f695f0691349d03f0359db89de5afcb784cd"
      ]
    },
    {
      "cell_type": "markdown",
      "metadata": {
        "id": "4tp-fduPJv9z"
      },
      "source": [
        "## ライブラリのインストール"
      ]
    },
    {
      "cell_type": "code",
      "execution_count": null,
      "metadata": {
        "colab": {
          "base_uri": "https://localhost:8080/"
        },
        "id": "LScsvO3UppqT",
        "outputId": "5e9bd7fa-8dd9-4463-cced-eccd7bf38521"
      },
      "outputs": [],
      "source": [
        "%cd /content/InSPyReNet\n",
        "\n",
        "!pip install -r requirements.txt\n",
        "\n",
        "!pip install --upgrade gdown\n",
        "\n",
        "!pip install moviepy==0.2.3.5 imageio==2.4.1\n",
        "!pip install yt-dlp"
      ]
    },
    {
      "cell_type": "markdown",
      "metadata": {
        "id": "VIWoFf9MJv91"
      },
      "source": [
        "## ライブラリのインポート"
      ]
    },
    {
      "cell_type": "code",
      "execution_count": null,
      "metadata": {
        "colab": {
          "base_uri": "https://localhost:8080/"
        },
        "id": "o2lxptJeo6kr",
        "outputId": "c53c37f7-49ff-4fbd-a1d7-c443e12e978f"
      },
      "outputs": [],
      "source": [
        "from yt_dlp import YoutubeDL\n",
        "from moviepy.video.fx.resize import resize\n",
        "from moviepy.editor import VideoFileClip\n",
        "\n",
        "from PIL import Image\n",
        "import IPython"
      ]
    },
    {
      "cell_type": "markdown",
      "metadata": {
        "id": "tuaMaj45p8vi"
      },
      "source": [
        "# テスト動画のセットアップ"
      ]
    },
    {
      "cell_type": "code",
      "execution_count": null,
      "metadata": {
        "id": "06KAqwrZp_Eh"
      },
      "outputs": [],
      "source": [
        "video_url = 'https://www.youtube.com/watch?v=EzaGEx80dJQ' #@param {type:\"string\"}\n",
        "\n",
        "#@markdown 動画の切り抜き範囲(秒)を指定してください。\\\n",
        "#@markdown 30秒以上の場合OOM発生の可能性が高いため注意\n",
        "start_sec =  33#@param {type:\"integer\"}\n",
        "end_sec =  38#@param {type:\"integer\"}\n",
        "\n",
        "(start_pt, end_pt) = (start_sec, end_sec)"
      ]
    },
    {
      "cell_type": "code",
      "execution_count": null,
      "metadata": {
        "colab": {
          "base_uri": "https://localhost:8080/"
        },
        "id": "LABgfHjjrbqm",
        "outputId": "5182c072-325d-4d51-8c36-61057758f1df"
      },
      "outputs": [],
      "source": [
        "%cd /content/InSPyReNet\n",
        "\n",
        "!mkdir test_files\n",
        "\n",
        "download_resolution = 720\n",
        "full_video_path = './test_files/full_video.mp4'\n",
        "input_clip_path = './test_files/clip_video.mp4'\n",
        "\n",
        "# 動画ダウンロード\n",
        "ydl_opts = {'format': f'best[height<={download_resolution}]', 'overwrites': True, 'outtmpl': full_video_path}\n",
        "with YoutubeDL(ydl_opts) as ydl:\n",
        "    ydl.download([video_url])\n",
        "\n",
        "# 指定区間切り抜き\n",
        "with VideoFileClip(full_video_path) as video:\n",
        "    subclip = video.subclip(start_pt, end_pt)\n",
        "    subclip.write_videofile(input_clip_path)"
      ]
    },
    {
      "cell_type": "code",
      "execution_count": null,
      "metadata": {
        "colab": {
          "base_uri": "https://localhost:8080/",
          "height": 337
        },
        "id": "j4WSGneqvvH8",
        "outputId": "abee053a-1dc5-43fb-e9bc-02c7e26c0271"
      },
      "outputs": [],
      "source": [
        "# 動画の確認\n",
        "clip = VideoFileClip(input_clip_path)\n",
        "clip = resize(clip, height=420)\n",
        "clip.ipython_display()"
      ]
    },
    {
      "cell_type": "markdown",
      "metadata": {
        "id": "kyXCtJXgXGzd"
      },
      "source": [
        "# 学習済みモデルのセットアップ"
      ]
    },
    {
      "cell_type": "code",
      "execution_count": null,
      "metadata": {
        "colab": {
          "base_uri": "https://localhost:8080/"
        },
        "id": "1P4IdKq5XL0w",
        "outputId": "9f910ea0-dbe4-4826-ba69-dd04d89a1f8b"
      },
      "outputs": [],
      "source": [
        "%cd /content/InSPyReNet\n",
        "\n",
        "!mkdir -p data/backbone_ckpt/ snapshots/InSPyReNet_SwinB\n",
        "\n",
        "!gdown --id 1MMhioAsZ-oYa5FpnTi22XBGh5HkjLX3y -O ./data/backbone_ckpt/res2net50_v1b_26w_4s-3cf99910.pth\n",
        "!gdown --id 1fBJFMupe5pV-Vtou-k8LTvHclWs0y1bI -O ./data/backbone_ckpt/swin_base_patch4_window12_384_22kto1k.pth\n",
        "!gdown --id 1k5hNJImgEgSmz-ZeJEEb_dVkrOnswVMq -O ./snapshots/InSPyReNet_SwinB/latest.pth"
      ]
    },
    {
      "cell_type": "markdown",
      "metadata": {
        "id": "qt6tFzmmZERr"
      },
      "source": [
        "# テスト画像のセットアップ"
      ]
    },
    {
      "cell_type": "code",
      "execution_count": null,
      "metadata": {
        "colab": {
          "base_uri": "https://localhost:8080/"
        },
        "id": "cQguuaQpZHUR",
        "outputId": "6e15387b-be78-4cf5-d7d4-4c8e5d304115"
      },
      "outputs": [],
      "source": [
        "%cd /content/InSPyReNet\n",
        "\n",
        "\n",
        "!wget -c https://www.pakutaso.com/shared/img/thumb/SAYAPAKU5460_TP_V4.jpg \\\n",
        "      -O ./test_files/test01.jpg\n",
        "!wget -c https://1.bp.blogspot.com/-43uWT_S2ZyM/X1CLR8paJLI/AAAAAAABa5s/T3dOIgCmOJ0yJua_QppssSDdABzmQRIkwCNcBGAsYHQ/s1600/bg_koukasen_color1.png \\\n",
        "      -O ./test_files/background.png"
      ]
    },
    {
      "cell_type": "markdown",
      "metadata": {
        "id": "rRjHfRmuYajV"
      },
      "source": [
        "# Object detection"
      ]
    },
    {
      "cell_type": "code",
      "execution_count": null,
      "metadata": {
        "colab": {
          "base_uri": "https://localhost:8080/"
        },
        "id": "4bnEJRQdYk2D",
        "outputId": "7a0ed771-156c-4b33-fd3e-1b7fd489c87f"
      },
      "outputs": [],
      "source": [
        "%cd /content/InSPyReNet\n",
        "\n",
        "!mkdir results\n",
        "\n",
        "SOURCE = '/content/InSPyReNet/test_files/test01.jpg'\n",
        "DEST = '/content/InSPyReNet/results'\n",
        "TYPE = 'map' # map, green, rgba, blur, overlay, another image file path"
      ]
    },
    {
      "cell_type": "markdown",
      "metadata": {
        "id": "GZ2RUFNPhhXx"
      },
      "source": [
        "## map"
      ]
    },
    {
      "cell_type": "code",
      "execution_count": null,
      "metadata": {
        "colab": {
          "base_uri": "https://localhost:8080/"
        },
        "id": "bFwPURFJYcPa",
        "outputId": "54d3d260-b3d4-4850-add5-db0c0fd98354"
      },
      "outputs": [],
      "source": [
        "%cd /content/InSPyReNet\n",
        "\n",
        "TYPE = 'map' # map, green, rgba, blur, overlay, another image file path\n",
        "!python run/Inference.py \\\n",
        "  --config configs/InSPyReNet_SwinB.yaml \\\n",
        "  --source {SOURCE} \\\n",
        "  --dest {DEST} \\\n",
        "  --type {TYPE} \\\n",
        "  --gpu --verbose\n",
        "\n",
        "!mv /content/InSPyReNet/results/test01.png /content/InSPyReNet/results/test01_map.png"
      ]
    },
    {
      "cell_type": "code",
      "execution_count": null,
      "metadata": {
        "colab": {
          "base_uri": "https://localhost:8080/",
          "height": 550
        },
        "id": "LgOo05ZuhJik",
        "outputId": "23bb0c09-9db8-4343-89ce-4c1cd3436530"
      },
      "outputs": [],
      "source": [
        "im = Image.open('/content/InSPyReNet/results/test01_map.png')\n",
        "IPython.display.display(im)"
      ]
    },
    {
      "cell_type": "markdown",
      "metadata": {
        "id": "egNVMN4fhot7"
      },
      "source": [
        "## green"
      ]
    },
    {
      "cell_type": "code",
      "execution_count": null,
      "metadata": {
        "colab": {
          "base_uri": "https://localhost:8080/"
        },
        "id": "yw0W8PpihjVf",
        "outputId": "0e9e2511-596b-4fb8-f358-e7d0aadb0679"
      },
      "outputs": [],
      "source": [
        "%cd /content/InSPyReNet\n",
        "\n",
        "TYPE = 'green' # map, green, rgba, blur, overlay, another image file path\n",
        "!python run/Inference.py \\\n",
        "  --config configs/InSPyReNet_SwinB.yaml \\\n",
        "  --source {SOURCE} \\\n",
        "  --dest {DEST} \\\n",
        "  --type {TYPE} \\\n",
        "  --gpu --verbose\n",
        "\n",
        "!mv /content/InSPyReNet/results/test01.png /content/InSPyReNet/results/test01_green.png"
      ]
    },
    {
      "cell_type": "code",
      "execution_count": null,
      "metadata": {
        "colab": {
          "base_uri": "https://localhost:8080/",
          "height": 550
        },
        "id": "YfUmVMTchm1B",
        "outputId": "3d009d7d-4521-464f-c3f6-cb19956b1c71"
      },
      "outputs": [],
      "source": [
        "im = Image.open('/content/InSPyReNet/results/test01_green.png')\n",
        "IPython.display.display(im)"
      ]
    },
    {
      "cell_type": "markdown",
      "metadata": {
        "id": "yUOUl5zRhp_M"
      },
      "source": [
        "## rgba"
      ]
    },
    {
      "cell_type": "code",
      "execution_count": null,
      "metadata": {
        "colab": {
          "base_uri": "https://localhost:8080/"
        },
        "id": "IvxIXaXShsbB",
        "outputId": "0b0c0129-f96f-430e-b3d1-5e69ad489294"
      },
      "outputs": [],
      "source": [
        "%cd /content/InSPyReNet\n",
        "\n",
        "TYPE = 'rgba' # map, green, rgba, blur, overlay, another image file path\n",
        "!python run/Inference.py \\\n",
        "  --config configs/InSPyReNet_SwinB.yaml \\\n",
        "  --source {SOURCE} \\\n",
        "  --dest {DEST} \\\n",
        "  --type {TYPE} \\\n",
        "  --gpu --verbose\n",
        "\n",
        "!mv /content/InSPyReNet/results/test01.png /content/InSPyReNet/results/test01_rgba.png"
      ]
    },
    {
      "cell_type": "code",
      "execution_count": null,
      "metadata": {
        "colab": {
          "base_uri": "https://localhost:8080/",
          "height": 550
        },
        "id": "RWUjOrcohvN3",
        "outputId": "4e464c30-92c7-49d0-fe68-4821db3d9920"
      },
      "outputs": [],
      "source": [
        "im = Image.open('/content/InSPyReNet/results/test01_rgba.png')\n",
        "IPython.display.display(im)"
      ]
    },
    {
      "cell_type": "markdown",
      "metadata": {
        "id": "ssYdcEcVhxij"
      },
      "source": [
        "## blur"
      ]
    },
    {
      "cell_type": "code",
      "execution_count": null,
      "metadata": {
        "colab": {
          "base_uri": "https://localhost:8080/"
        },
        "id": "DliFKHEFhzJV",
        "outputId": "63b843d5-99f8-4371-a661-5a3bec6f1a8e"
      },
      "outputs": [],
      "source": [
        "%cd /content/InSPyReNet\n",
        "\n",
        "TYPE = 'blur' # map, green, rgba, blur, overlay, another image file path\n",
        "!python run/Inference.py \\\n",
        "  --config configs/InSPyReNet_SwinB.yaml \\\n",
        "  --source {SOURCE} \\\n",
        "  --dest {DEST} \\\n",
        "  --type {TYPE} \\\n",
        "  --gpu --verbose\n",
        "\n",
        "!mv /content/InSPyReNet/results/test01.png /content/InSPyReNet/results/test01_blur.png"
      ]
    },
    {
      "cell_type": "code",
      "execution_count": null,
      "metadata": {
        "colab": {
          "base_uri": "https://localhost:8080/",
          "height": 550
        },
        "id": "47q5yJOZh2Wz",
        "outputId": "0090e96e-2a77-4013-efe7-c91b9d02966f"
      },
      "outputs": [],
      "source": [
        "im = Image.open('/content/InSPyReNet/results/test01_blur.png')\n",
        "IPython.display.display(im)"
      ]
    },
    {
      "cell_type": "markdown",
      "metadata": {
        "id": "oxI-hfmKh4zh"
      },
      "source": [
        "## overlay"
      ]
    },
    {
      "cell_type": "code",
      "execution_count": null,
      "metadata": {
        "colab": {
          "base_uri": "https://localhost:8080/"
        },
        "id": "nmSST3Wyh6o_",
        "outputId": "99a832ca-6df3-4d4c-f4a5-675c27a4f196"
      },
      "outputs": [],
      "source": [
        "%cd /content/InSPyReNet\n",
        "\n",
        "TYPE = 'overlay' # map, green, rgba, blur, overlay, another image file path\n",
        "!python run/Inference.py \\\n",
        "  --config configs/InSPyReNet_SwinB.yaml \\\n",
        "  --source {SOURCE} \\\n",
        "  --dest {DEST} \\\n",
        "  --type {TYPE} \\\n",
        "  --gpu --verbose\n",
        "\n",
        "!mv /content/InSPyReNet/results/test01.png /content/InSPyReNet/results/test01_overlay.png"
      ]
    },
    {
      "cell_type": "code",
      "execution_count": null,
      "metadata": {
        "colab": {
          "base_uri": "https://localhost:8080/",
          "height": 550
        },
        "id": "7k7Q-HyMiPLJ",
        "outputId": "27cd4cd2-1f46-4a92-8b0e-25695beca342"
      },
      "outputs": [],
      "source": [
        "im = Image.open('/content/InSPyReNet/results/test01_overlay.png')\n",
        "IPython.display.display(im)"
      ]
    },
    {
      "cell_type": "markdown",
      "metadata": {
        "id": "oTw-JrWUiQt7"
      },
      "source": [
        "## another image"
      ]
    },
    {
      "cell_type": "code",
      "execution_count": null,
      "metadata": {
        "colab": {
          "base_uri": "https://localhost:8080/"
        },
        "id": "IoHt5nqPiS8P",
        "outputId": "f914dfa2-0e7b-486d-aead-e54b037655a2"
      },
      "outputs": [],
      "source": [
        "%cd /content/InSPyReNet\n",
        "\n",
        "TYPE = './test_files/background.png' # map, green, rgba, blur, overlay, another image file path\n",
        "!python run/Inference.py \\\n",
        "  --config configs/InSPyReNet_SwinB.yaml \\\n",
        "  --source {SOURCE} \\\n",
        "  --dest {DEST} \\\n",
        "  --type {TYPE} \\\n",
        "  --gpu --verbose\n",
        "\n",
        "!mv /content/InSPyReNet/results/test01.png /content/InSPyReNet/results/test01_another.png"
      ]
    },
    {
      "cell_type": "code",
      "execution_count": null,
      "metadata": {
        "colab": {
          "base_uri": "https://localhost:8080/",
          "height": 550
        },
        "id": "RiVoP51viiA2",
        "outputId": "70bfa440-eb16-4da8-be83-d92476ccb83d"
      },
      "outputs": [],
      "source": [
        "im = Image.open('/content/InSPyReNet/results/test01_another.png')\n",
        "IPython.display.display(im)"
      ]
    },
    {
      "cell_type": "markdown",
      "metadata": {
        "id": "p1MOc-t-jcOj"
      },
      "source": [
        "## Video"
      ]
    },
    {
      "cell_type": "code",
      "execution_count": null,
      "metadata": {
        "colab": {
          "base_uri": "https://localhost:8080/"
        },
        "id": "IBoDDKDMjmq-",
        "outputId": "29972939-d5e3-48f0-bd12-b32f447f64d8"
      },
      "outputs": [],
      "source": [
        "%cd /content/InSPyReNet\n",
        "\n",
        "SOURCE = './test_files/clip_video.mp4'\n",
        "TYPE = 'green' # map, green, rgba, blur, overlay, another image file path\n",
        "!python run/Inference.py \\\n",
        "  --config configs/InSPyReNet_SwinB.yaml \\\n",
        "  --source {SOURCE} \\\n",
        "  --dest {DEST} \\\n",
        "  --type {TYPE} \\\n",
        "  --gpu --verbose"
      ]
    },
    {
      "cell_type": "code",
      "execution_count": null,
      "metadata": {
        "colab": {
          "base_uri": "https://localhost:8080/",
          "height": 460
        },
        "id": "zdlkthB9kbyC",
        "outputId": "7cc4f6a3-1652-41a6-f1e7-3d388b2fbb45"
      },
      "outputs": [],
      "source": [
        "# 動画の確認\n",
        "clip = VideoFileClip('./results/clip_video.mp4')\n",
        "clip = resize(clip, height=420)\n",
        "clip.ipython_display()"
      ]
    }
  ],
  "metadata": {
    "accelerator": "GPU",
    "colab": {
      "provenance": []
    },
    "kernelspec": {
      "display_name": "Python 3.10.4 64-bit",
      "language": "python",
      "name": "python3"
    },
    "language_info": {
      "name": "python",
      "version": "3.10.4"
    },
    "orig_nbformat": 4,
    "vscode": {
      "interpreter": {
        "hash": "69158ccfe43d0b962045f592ede11796dd42f250837ab62152c8bc6cd100a15b"
      }
    }
  },
  "nbformat": 4,
  "nbformat_minor": 0
}
