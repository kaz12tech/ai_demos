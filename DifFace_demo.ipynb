{
  "cells": [
    {
      "cell_type": "markdown",
      "metadata": {
        "id": "YiIyufd1P_cE"
      },
      "source": [
        "論文<br>\n",
        "https://arxiv.org/abs/2212.06512<br>\n",
        "<br>\n",
        "GitHub<br>\n",
        "https://github.com/zsyOAOA/DifFace<br>\n",
        "<br>\n",
        "<a href=\"https://colab.research.google.com/github/kaz12tech/ai_demos/blob/master/DifFace_demo.ipynb\" target=\"_blank\"><img src=\"https://colab.research.google.com/assets/colab-badge.svg\" alt=\"Open In Colab\"/></a>"
      ]
    },
    {
      "cell_type": "markdown",
      "metadata": {
        "id": "bdsUQtduP_cJ"
      },
      "source": [
        "# setup environment"
      ]
    },
    {
      "cell_type": "markdown",
      "metadata": {
        "id": "7o9GvMNjP_cJ"
      },
      "source": [
        "## check gpu"
      ]
    },
    {
      "cell_type": "code",
      "execution_count": null,
      "metadata": {
        "colab": {
          "base_uri": "https://localhost:8080/"
        },
        "id": "2PcII5fLdHnJ",
        "outputId": "37a71125-df1e-4974-8af8-ae6c7b5e1ec3"
      },
      "outputs": [],
      "source": [
        "!nvidia-smi"
      ]
    },
    {
      "cell_type": "markdown",
      "metadata": {
        "id": "W_jC04mAP_cL"
      },
      "source": [
        "## clone code from github"
      ]
    },
    {
      "cell_type": "code",
      "execution_count": null,
      "metadata": {
        "colab": {
          "base_uri": "https://localhost:8080/"
        },
        "id": "R-Y5auuvnnnT",
        "outputId": "4698bce1-0d93-4ae2-f713-10535f52663d"
      },
      "outputs": [],
      "source": [
        "%cd /content\n",
        "\n",
        "!git clone https://github.com/zsyOAOA/DifFace.git\n",
        "\n",
        "%cd /content/DifFace\n",
        "# Commits on Jan 19, 2023\n",
        "!git checkout 35d91a1c029b8a910b5a66684e0b51862bbe8e34"
      ]
    },
    {
      "cell_type": "markdown",
      "metadata": {
        "id": "uWdz6XOAP_cL"
      },
      "source": [
        "## install libraries"
      ]
    },
    {
      "cell_type": "code",
      "execution_count": null,
      "metadata": {
        "colab": {
          "base_uri": "https://localhost:8080/"
        },
        "id": "LScsvO3UppqT",
        "outputId": "25834d0b-e6ca-4989-fde4-d0c249f5ee49"
      },
      "outputs": [],
      "source": [
        "%cd /content/DifFace\n",
        "\n",
        "\n",
        "!pip install einops==0.6.0 omegaconf==2.3.0 timm==0.6.12"
      ]
    },
    {
      "cell_type": "markdown",
      "metadata": {
        "id": "BGzMmzpxY4z8"
      },
      "source": [
        "## import libraries"
      ]
    },
    {
      "cell_type": "code",
      "execution_count": null,
      "metadata": {
        "colab": {
          "base_uri": "https://localhost:8080/"
        },
        "id": "yRBPTYlfY6qZ",
        "outputId": "9408f43c-5126-4271-e2e3-e8bdd65ff957"
      },
      "outputs": [],
      "source": [
        "%cd /content/DifFace\n",
        "\n",
        "import cv2\n",
        "import matplotlib.pyplot as plt\n",
        "from pathlib import Path"
      ]
    },
    {
      "cell_type": "markdown",
      "metadata": {
        "id": "UaRMUsIdl-8o"
      },
      "source": [
        "# define util functions"
      ]
    },
    {
      "cell_type": "code",
      "execution_count": null,
      "metadata": {
        "id": "VnXKstaFmB1B"
      },
      "outputs": [],
      "source": [
        "def display(img1, img2):\n",
        "  fig = plt.figure(figsize=(25, 10))\n",
        "  ax1 = fig.add_subplot(1, 2, 1) \n",
        "  plt.title('Input', fontsize=16)\n",
        "  ax1.axis('off')\n",
        "  ax2 = fig.add_subplot(1, 2, 2)\n",
        "  plt.title('DifFace', fontsize=16)\n",
        "  ax2.axis('off')\n",
        "  ax1.imshow(img1)\n",
        "  ax2.imshow(img2)\n",
        "\n",
        "def imread(img_path):\n",
        "  img = cv2.imread(img_path)\n",
        "  if img.ndim > 3:\n",
        "    img = img[:, :, :3]\n",
        "  img = cv2.cvtColor(img, cv2.COLOR_BGR2RGB)\n",
        "  return img"
      ]
    },
    {
      "cell_type": "markdown",
      "metadata": {
        "id": "Fss-oPkXmcGN"
      },
      "source": [
        "# Face image restoration"
      ]
    },
    {
      "cell_type": "code",
      "execution_count": null,
      "metadata": {
        "colab": {
          "base_uri": "https://localhost:8080/"
        },
        "id": "wGJ3MOrsmdS5",
        "outputId": "7c994c56-f5a4-4e8e-dff8-5c50a11a60a8"
      },
      "outputs": [],
      "source": [
        "%cd /content/DifFace\n",
        "\n",
        "!python inference_difface.py \\\n",
        "  --aligned \\\n",
        "  --in_path ./testdata/cropped_faces \\\n",
        "  --out_path ./result_aligned \\\n",
        "  --gpu_id 0"
      ]
    },
    {
      "cell_type": "code",
      "execution_count": null,
      "metadata": {
        "colab": {
          "base_uri": "https://localhost:8080/",
          "height": 1000
        },
        "id": "vpy3XB2BpW60",
        "outputId": "2498a490-8c2b-4f25-cff9-bf24354ef70c"
      },
      "outputs": [],
      "source": [
        "%cd /content/DifFace\n",
        "\n",
        "in_dir = \"./testdata/cropped_faces\"\n",
        "im_path_list = sorted([x for x in Path(in_dir).glob(\"*.png\")])\n",
        "im_path_list.extend([x for x in Path(in_dir).glob(\"*.jpg\")])\n",
        "out_dir = Path(\"./result_aligned/restored_faces\")\n",
        "\n",
        "for im_path_in in im_path_list:\n",
        "  im1 = imread(str(im_path_in))\n",
        "  im_path_out = out_dir / im_path_in.name\n",
        "  im2 = imread(str(im_path_out))\n",
        "  \n",
        "  display(im1, im2)"
      ]
    },
    {
      "cell_type": "markdown",
      "metadata": {
        "id": "iMdcmW74qxAe"
      },
      "source": [
        "# whole image enhancement"
      ]
    },
    {
      "cell_type": "code",
      "execution_count": null,
      "metadata": {
        "colab": {
          "base_uri": "https://localhost:8080/"
        },
        "id": "Bnomt8MEq3To",
        "outputId": "770fd4cb-8c9e-44a3-f0ec-5050cb275702"
      },
      "outputs": [],
      "source": [
        "%cd /content/DifFace\n",
        "\n",
        "!python inference_difface.py \\\n",
        "  --in_path ./testdata/whole_imgs \\\n",
        "  --out_path ./result_unaligned \\\n",
        "  --gpu_id 0"
      ]
    },
    {
      "cell_type": "code",
      "execution_count": null,
      "metadata": {
        "colab": {
          "base_uri": "https://localhost:8080/",
          "height": 1000
        },
        "id": "-ffNMZOgsRNJ",
        "outputId": "fc6dc3fe-21fd-483a-e5d6-b662369bc1ca"
      },
      "outputs": [],
      "source": [
        "%cd /content/DifFace\n",
        "\n",
        "in_dir = \"./testdata/whole_imgs\"\n",
        "im_path_list = sorted([x for x in Path(in_dir).glob(\"*.png\")])\n",
        "im_path_list.extend([x for x in Path(in_dir).glob(\"*.jpg\")])\n",
        "out_dir = Path(\"./result_unaligned/restored_image\")\n",
        "\n",
        "for im_path_in in im_path_list:\n",
        "  im1 = imread(str(im_path_in))\n",
        "  im_path_out = out_dir / im_path_in.name\n",
        "  im2 = imread(str(im_path_out))\n",
        "  \n",
        "  display(im1, im2)"
      ]
    },
    {
      "cell_type": "markdown",
      "metadata": {
        "id": "kcR-jtnMs4eJ"
      },
      "source": [
        "# whole image enhancement with my image"
      ]
    },
    {
      "cell_type": "code",
      "execution_count": null,
      "metadata": {
        "colab": {
          "base_uri": "https://localhost:8080/"
        },
        "id": "zf71Fd2os7Vx",
        "outputId": "fffea5a4-3c27-43df-8c91-6dd05205ed3f"
      },
      "outputs": [],
      "source": [
        "%cd /content/DifFace\n",
        "\n",
        "!mkdir -p mytestdata/whole_imgs\n",
        "\n",
        "!wget -c https://www.publicdomainpictures.net/pictures/380000/velka/old-photo.jpg \\\n",
        "      -O mytestdata/whole_imgs/test_01.jpg"
      ]
    },
    {
      "cell_type": "code",
      "execution_count": null,
      "metadata": {
        "colab": {
          "base_uri": "https://localhost:8080/"
        },
        "id": "kAFLwpPbtTww",
        "outputId": "97cf56fb-7551-4da3-ebe5-6845e97d6b14"
      },
      "outputs": [],
      "source": [
        "%cd /content/DifFace\n",
        "\n",
        "!python inference_difface.py \\\n",
        "  --in_path ./mytestdata/whole_imgs \\\n",
        "  --out_path ./my_result_unaligned \\\n",
        "  --gpu_id 0"
      ]
    },
    {
      "cell_type": "code",
      "execution_count": null,
      "metadata": {
        "colab": {
          "base_uri": "https://localhost:8080/",
          "height": 518
        },
        "id": "Q5WNLK8CtsA9",
        "outputId": "e6d8b3e4-b0ce-4e02-a4d4-42fc455983f9"
      },
      "outputs": [],
      "source": [
        "%cd /content/DifFace\n",
        "\n",
        "in_dir = \"./mytestdata/whole_imgs\"\n",
        "im_path_list = sorted([x for x in Path(in_dir).glob(\"*.png\")])\n",
        "im_path_list.extend([x for x in Path(in_dir).glob(\"*.jpg\")])\n",
        "out_dir = Path(\"./my_result_unaligned/restored_image\")\n",
        "\n",
        "for im_path_in in im_path_list:\n",
        "  im1 = imread(str(im_path_in))\n",
        "  im_path_out = out_dir / im_path_in.name\n",
        "  im2 = imread(str(im_path_out))\n",
        "  \n",
        "  display(im1, im2)"
      ]
    }
  ],
  "metadata": {
    "accelerator": "GPU",
    "colab": {
      "provenance": []
    },
    "gpuClass": "standard",
    "kernelspec": {
      "display_name": "Python 3",
      "name": "python3"
    },
    "language_info": {
      "name": "python"
    }
  },
  "nbformat": 4,
  "nbformat_minor": 0
}
