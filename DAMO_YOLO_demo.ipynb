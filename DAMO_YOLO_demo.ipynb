{
  "cells": [
    {
      "cell_type": "markdown",
      "metadata": {
        "id": "NLSO7QwCUytT"
      },
      "source": [
        "論文<br>\n",
        "<br>\n",
        "<br>\n",
        "Github<br>\n",
        "https://github.com/tinyvision/damo-yolo\n"
      ]
    },
    {
      "cell_type": "markdown",
      "metadata": {
        "id": "gG3eD_UDUytZ"
      },
      "source": [
        "# ランタイムの設定\n",
        "「ランタイム」→「ランタイムのタイプを変更」→「ハードウェアアクセラレータ」をCPUに変更"
      ]
    },
    {
      "cell_type": "markdown",
      "metadata": {
        "id": "yQFJz7b0Uyta"
      },
      "source": [
        "# 実行方法\n",
        "「ランタイム」→「すべてのセルを実行」を選択"
      ]
    },
    {
      "cell_type": "markdown",
      "metadata": {
        "id": "Gd1t4-oNUytb"
      },
      "source": [
        "# GPU確認"
      ]
    },
    {
      "cell_type": "code",
      "execution_count": null,
      "metadata": {
        "id": "ODkoi-eAUytb"
      },
      "outputs": [],
      "source": [
        "!nvidia-smi"
      ]
    },
    {
      "cell_type": "markdown",
      "metadata": {
        "id": "75fbCZBXdmf1"
      },
      "source": [
        "# 環境セットアップ"
      ]
    },
    {
      "cell_type": "markdown",
      "metadata": {
        "id": "JBv_0CfdyXXd"
      },
      "source": [
        "## Githubからコードを取得"
      ]
    },
    {
      "cell_type": "code",
      "execution_count": null,
      "metadata": {
        "id": "dWU3fFj2yaXD"
      },
      "outputs": [],
      "source": [
        "%cd /content\n",
        "\n",
        "!git clone https://github.com/tinyvision/damo-yolo.git\n",
        "\n",
        "%cd /content/damo-yolo\n",
        "# Commits on Jan 19, 2023\n",
        "!git checkout 9dc625e54edf3c07474630efdbbd397dd857e168"
      ]
    },
    {
      "cell_type": "markdown",
      "metadata": {
        "id": "JptNThTkVtrn"
      },
      "source": [
        "## ライブラリのインストール"
      ]
    },
    {
      "cell_type": "code",
      "execution_count": null,
      "metadata": {
        "id": "6V2fa4OXqZec"
      },
      "outputs": [],
      "source": [
        "%cd /content/damo-yolo\n",
        "\n",
        "!pip install --upgrade gdown\n",
        "!pip install -r requirements.txt\n",
        "!pip install cython\n",
        "!pip install 'git+https://github.com/cocodataset/cocoapi.git#subdirectory=PythonAPI'\n",
        "!pip install moviepy==0.2.3.5 imageio==2.4.1"
      ]
    },
    {
      "cell_type": "markdown",
      "metadata": {
        "id": "kba-erS8m2Rq"
      },
      "source": [
        "## ライブラリのインポート"
      ]
    },
    {
      "cell_type": "code",
      "execution_count": null,
      "metadata": {
        "id": "nzb7TJeWSHt3"
      },
      "outputs": [],
      "source": [
        "from IPython.display import Image\n",
        "\n",
        "from moviepy.video.fx.resize import resize\n",
        "from moviepy.editor import VideoFileClip"
      ]
    },
    {
      "cell_type": "markdown",
      "source": [
        "# テスト画像のセットアップ"
      ],
      "metadata": {
        "id": "mXZWW_OTwlpy"
      }
    },
    {
      "cell_type": "code",
      "source": [
        "%cd /content/damo-yolo\n",
        "\n",
        "!wget -c https://www.pakutaso.com/shared/img/thumb/goriueseii-_28A5611-8954_TP_V4.jpg \\\n",
        "      -O ./assets/test_01.jpg"
      ],
      "metadata": {
        "id": "jypCYoJXwkj8"
      },
      "execution_count": null,
      "outputs": []
    },
    {
      "cell_type": "markdown",
      "source": [
        "!テスト動画のセットアップ"
      ],
      "metadata": {
        "id": "a5hiK_Gdzoq-"
      }
    },
    {
      "cell_type": "code",
      "source": [
        "!wget -c https://raw.githubusercontent.com/timmeinhardt/trackformer/main/data/snakeboard/snakeboard.mp4 \\\n",
        "      -O ./assets/snakeboard.mp4"
      ],
      "metadata": {
        "id": "rn1ojHx5znv4"
      },
      "execution_count": null,
      "outputs": []
    },
    {
      "cell_type": "markdown",
      "metadata": {
        "id": "nMY5TNJIH8bd"
      },
      "source": [
        "# 学習済みモデルのセットアップ"
      ]
    },
    {
      "cell_type": "code",
      "execution_count": null,
      "metadata": {
        "id": "j7pxU2yb7YjK"
      },
      "outputs": [],
      "source": [
        "%cd /content/damo-yolo\n",
        "\n",
        "!mkdir pretrained_models\n",
        "\n",
        "!gdown https://drive.google.com/uc?id=1-O-ObHN970GRVKkL1TiAxfoMCpYGJS6B \\\n",
        "  -O ./pretrained_models/damoyolo_tinynasL25_S.pth"
      ]
    },
    {
      "cell_type": "markdown",
      "source": [
        "# Object Detection(Image)"
      ],
      "metadata": {
        "id": "5T9gv-h4z7dX"
      }
    },
    {
      "cell_type": "code",
      "source": [
        "%cd /content/damo-yolo\n",
        "\n",
        "!cp ./tools/demo.py ./demo.py\n",
        "\n",
        "!python demo.py \\\n",
        "  -f ./configs/damoyolo_tinynasL25_S.py \\\n",
        "  --engine ./pretrained_models/damoyolo_tinynasL25_S.pth \\\n",
        "  --engine_type torch \\\n",
        "  --conf 0.6 \\\n",
        "  --infer_size 640 640 \\\n",
        "  --device cuda \\\n",
        "  --path ./assets/test_01.jpg\n"
      ],
      "metadata": {
        "id": "YK2t2d8OqCXf"
      },
      "execution_count": null,
      "outputs": []
    },
    {
      "cell_type": "code",
      "source": [
        "Image('./demo/test_01.jpg')"
      ],
      "metadata": {
        "id": "Jrw_lLyiydYg"
      },
      "execution_count": null,
      "outputs": []
    },
    {
      "cell_type": "markdown",
      "source": [
        "# Object Detection(Video)"
      ],
      "metadata": {
        "id": "HUwl8ZpYz-eZ"
      }
    },
    {
      "cell_type": "code",
      "source": [
        "%cd /content/damo-yolo\n",
        "\n",
        "!python demo.py \\\n",
        "  -f ./configs/damoyolo_tinynasL25_S.py \\\n",
        "  --engine ./pretrained_models/damoyolo_tinynasL25_S.pth \\\n",
        "  --engine_type torch \\\n",
        "  --conf 0.6 \\\n",
        "  --infer_size 640 640 \\\n",
        "  --device cuda \\\n",
        "  --path ./assets/snakeboard.mp4\n"
      ],
      "metadata": {
        "id": "uK7loPMs0Boc"
      },
      "execution_count": null,
      "outputs": []
    },
    {
      "cell_type": "code",
      "source": [
        "clip = VideoFileClip(\"./demo/snakeboard.mp4\")\n",
        "clip = resize(clip, height=420)\n",
        "clip.ipython_display()"
      ],
      "metadata": {
        "id": "xHhbdAfo0fdZ"
      },
      "execution_count": null,
      "outputs": []
    }
  ],
  "metadata": {
    "accelerator": "GPU",
    "colab": {
      "provenance": [],
      "toc_visible": true
    },
    "gpuClass": "standard",
    "kernelspec": {
      "display_name": "Python 3.10.4 64-bit",
      "language": "python",
      "name": "python3"
    },
    "language_info": {
      "name": "python",
      "version": "3.10.4 (tags/v3.10.4:9d38120, Mar 23 2022, 23:13:41) [MSC v.1929 64 bit (AMD64)]"
    },
    "vscode": {
      "interpreter": {
        "hash": "69158ccfe43d0b962045f592ede11796dd42f250837ab62152c8bc6cd100a15b"
      }
    }
  },
  "nbformat": 4,
  "nbformat_minor": 0
}