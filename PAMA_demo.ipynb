{
  "cells": [
    {
      "cell_type": "markdown",
      "metadata": {
        "id": "QnmuMMxMCrbp"
      },
      "source": [
        "論文  \n",
        "https://arxiv.org/abs/2201.02233<br>\n",
        "<br>\n",
        "GitHub  \n",
        "https://github.com/luoxuan-cs/PAMA<br>\n",
        "<br>\n",
        "<a href=\"https://colab.research.google.com/github/kaz12tech/ai_demos/blob/master/PAMA_demo.ipynb\" target=\"_blank\"><img src=\"https://colab.research.google.com/assets/colab-badge.svg\" alt=\"Open In Colab\"/></a>"
      ]
    },
    {
      "cell_type": "markdown",
      "metadata": {
        "id": "V9ugHQn8Crbu"
      },
      "source": [
        "# 環境セットアップ"
      ]
    },
    {
      "cell_type": "markdown",
      "metadata": {
        "id": "oOowhHtZCrbu"
      },
      "source": [
        "## GPU確認"
      ]
    },
    {
      "cell_type": "code",
      "execution_count": null,
      "metadata": {
        "colab": {
          "base_uri": "https://localhost:8080/"
        },
        "id": "2PcII5fLdHnJ",
        "outputId": "69ef7de9-3a27-4de5-ad6d-4eaa976410ea"
      },
      "outputs": [],
      "source": [
        "!nvidia-smi"
      ]
    },
    {
      "cell_type": "markdown",
      "metadata": {
        "id": "8TGkIJGKCrbw"
      },
      "source": [
        "## GitHubからコード取得"
      ]
    },
    {
      "cell_type": "code",
      "execution_count": null,
      "metadata": {
        "colab": {
          "base_uri": "https://localhost:8080/"
        },
        "id": "R-Y5auuvnnnT",
        "outputId": "776e54c4-d6b4-4b24-b0e7-2db51d7a0877"
      },
      "outputs": [],
      "source": [
        "%cd /content\n",
        "\n",
        "!git clone https://github.com/luoxuan-cs/PAMA.git"
      ]
    },
    {
      "cell_type": "markdown",
      "metadata": {
        "id": "WV00dZDLCrbw"
      },
      "source": [
        "## ライブラリのインストール"
      ]
    },
    {
      "cell_type": "code",
      "execution_count": null,
      "metadata": {
        "colab": {
          "base_uri": "https://localhost:8080/"
        },
        "id": "LScsvO3UppqT",
        "outputId": "12a7fe37-ac76-4514-aba2-3d3c8e224c57"
      },
      "outputs": [],
      "source": [
        "%cd /content/PAMA\n",
        "\n",
        "!pip install --upgrade gdown"
      ]
    },
    {
      "cell_type": "markdown",
      "metadata": {
        "id": "_27KDQD0Crbx"
      },
      "source": [
        "## ライブラリのインポート"
      ]
    },
    {
      "cell_type": "code",
      "execution_count": null,
      "metadata": {
        "colab": {
          "base_uri": "https://localhost:8080/"
        },
        "id": "o2lxptJeo6kr",
        "outputId": "95f745f1-c324-46e4-85b2-e3838dde6730"
      },
      "outputs": [],
      "source": [
        "%cd /content/PAMA\n",
        "\n",
        "import os\n",
        "import gdown\n",
        "import shutil\n",
        "import argparse\n",
        "import glob\n",
        "\n",
        "import torch\n",
        "import torch.nn as nn\n",
        "import torch.utils.data as data\n",
        "from torchvision.utils import save_image\n",
        "from PIL import Image, ImageFile\n",
        "from net import Net\n",
        "from utils import DEVICE, train_transform, test_transform, FlatFolderDataset, InfiniteSamplerWrapper, plot_grad_flow, adjust_learning_rate\n",
        "Image.MAX_IMAGE_PIXELS = None  \n",
        "ImageFile.LOAD_TRUNCATED_IMAGES = True"
      ]
    },
    {
      "cell_type": "markdown",
      "metadata": {
        "id": "kFHxdOPcCrby"
      },
      "source": [
        "## 学習済みモデルのダウンロード"
      ]
    },
    {
      "cell_type": "code",
      "execution_count": null,
      "metadata": {
        "colab": {
          "base_uri": "https://localhost:8080/"
        },
        "id": "QYmO4couoYhz",
        "outputId": "cc0bb86e-96f4-44dc-a630-1fcb226be99e"
      },
      "outputs": [],
      "source": [
        "%cd /content/PAMA\n",
        "!mkdir checkpoints\n",
        "\n",
        "# https://drive.google.com/file/d/1rPB_qnelVVSad6CtadmhRFi0PMI_RKdy/view\n",
        "original = 'checkpoints/original_PAMA.zip'\n",
        "if not os.path.exists(original):\n",
        "  gdown.download('https://drive.google.com/uc?id='+'1rPB_qnelVVSad6CtadmhRFi0PMI_RKdy', original, quiet=False)\n",
        "  shutil.unpack_archive(original, 'checkpoints')\n",
        "\n",
        "# https://drive.google.com/file/d/1IrggOiutiZceJCrEb24cLnBjeA5I3N1D/view\n",
        "wo_color = 'checkpoints/PAMA_without_color.zip'\n",
        "if not os.path.exists(wo_color):\n",
        "  gdown.download('https://drive.google.com/uc?id='+'1IrggOiutiZceJCrEb24cLnBjeA5I3N1D', wo_color, quiet=False)\n",
        "  shutil.unpack_archive(wo_color, 'checkpoints')\n",
        "\n",
        "# https://drive.google.com/file/d/1HXet2u_zk2QCVM_z5Llg2bcfvvndabtt/view\n",
        "color = 'checkpoints/PAMA_1.5_color.zip'\n",
        "if not os.path.exists(color):\n",
        "  gdown.download('https://drive.google.com/uc?id='+'1HXet2u_zk2QCVM_z5Llg2bcfvvndabtt', color, quiet=False)\n",
        "  shutil.unpack_archive(color, 'checkpoints')\n",
        "\n",
        "# https://drive.google.com/file/d/13m7Lb9xwfG_DVOesuG9PyxDHG4SwqlNt/view\n",
        "content = 'checkpoints/PAMA_1.5_content.zip'\n",
        "if not os.path.exists(content):\n",
        "  gdown.download('https://drive.google.com/uc?id='+\"13m7Lb9xwfG_DVOesuG9PyxDHG4SwqlNt\", content, quiet=False)\n",
        "  shutil.unpack_archive(content, 'checkpoints')\n"
      ]
    },
    {
      "cell_type": "markdown",
      "metadata": {
        "id": "ulS8LKnwF-hp"
      },
      "source": [
        "# テスト画像取得"
      ]
    },
    {
      "cell_type": "code",
      "execution_count": null,
      "metadata": {
        "colab": {
          "base_uri": "https://localhost:8080/"
        },
        "id": "p6sxSK_qGAUt",
        "outputId": "f44c024d-a942-4648-cafe-bab1c8925854"
      },
      "outputs": [],
      "source": [
        "%cd /content/PAMA\n",
        "!mkdir -p tests/contents tests/styles\n",
        "\n",
        "!wget -c https://www.pakutaso.com/shared/img/thumb/20220227-A7401834_TP_V4.jpg \\\n",
        "      -O ./tests/contents/test_1.jpg\n",
        "!wget -c https://www.pakutaso.com/shared/img/thumb/SAYA160312500I9A3721_TP_V4.jpg \\\n",
        "      -O ./tests/contents/test_2.jpg\n",
        "!wget -c https://www.pakutaso.com/shared/img/thumb/unific528--8628_TP_V4.jpg \\\n",
        "      -O ./tests/contents/test_3.jpg\n",
        "!wget -c https://www.publicdomainpictures.net/pictures/80000/nahled/animal-sketch-13919381209K9.jpg \\\n",
        "      -O ./tests/styles/style_1.jpg\n",
        "!wget -c https://www.publicdomainpictures.net/pictures/390000/velka/the-starry-night-van-gogh.jpg \\\n",
        "      -O ./tests/styles/style_2.jpg\n",
        "!wget -c https://jojo-animation.com/img/top/mv_2.jpg \\\n",
        "      -O ./tests/styles/style_3.jpg"
      ]
    },
    {
      "cell_type": "markdown",
      "metadata": {
        "id": "3ymDcdyAMaiI"
      },
      "source": [
        "# Inference"
      ]
    },
    {
      "cell_type": "markdown",
      "metadata": {
        "id": "xmRmmyZ7MQAO"
      },
      "source": [
        "## 使用モデル選択"
      ]
    },
    {
      "cell_type": "code",
      "execution_count": null,
      "metadata": {
        "id": "P9mNETkuLiiQ"
      },
      "outputs": [],
      "source": [
        "model_type = \"ORIGINAL\" #@param [\"ORIGINAL\", \"WO_COLOR\", \"COLOR\", \"CONTENT\"]"
      ]
    },
    {
      "cell_type": "code",
      "execution_count": null,
      "metadata": {
        "colab": {
          "base_uri": "https://localhost:8080/"
        },
        "id": "6h2IpcnBFXTK",
        "outputId": "4fb4e906-9ae4-48d2-b43a-d885a58fc7eb"
      },
      "outputs": [],
      "source": [
        "%cd /content/PAMA\n",
        "!rm -rf ./checkpoints/*.pth\n",
        "if model_type == \"ORIGINAL\":\n",
        "  !cp ./checkpoints/original_PAMA/*.pth ./checkpoints\n",
        "if model_type == \"WO_COLOR\":\n",
        "  !cp ./checkpoints/original_PAMA/encoder.pth ./checkpoints\n",
        "  !cp ./checkpoints/PAMA_without_color/*.pth ./checkpoints\n",
        "if model_type == \"COLOR\":\n",
        "  !cp ./checkpoints/original_PAMA/encoder.pth ./checkpoints\n",
        "  !cp ./checkpoints/PAMA_1.5_color/*.pth ./checkpoints\n",
        "if model_type == \"CONTENT\":\n",
        "  !cp ./checkpoints/original_PAMA/encoder.pth ./checkpoints\n",
        "  !cp ./checkpoints/PAMA_1.5_content/*.pth ./checkpoints\n"
      ]
    },
    {
      "cell_type": "code",
      "execution_count": null,
      "metadata": {
        "id": "WvbQs2hdMlcm"
      },
      "outputs": [],
      "source": [
        "args = argparse.ArgumentParser()\n",
        "args.pretrained = True\n",
        "args.requires_grad = True\n",
        "args.training = False\n",
        "\n",
        "args.outdir = '/content/PAMA/tests_result'\n",
        "\n",
        "args.run_folder = True\n",
        "args.content = '/content/PAMA/tests/contents'\n",
        "args.style = '/content/PAMA/tests/styles'\n",
        "# args.run_folder = False\n",
        "# args.content = '/content/PAMA/tests/contents/test_1.jpg'\n",
        "# args.style = '/content/PAMA/tests/styles/style_1.jpg'"
      ]
    },
    {
      "cell_type": "code",
      "execution_count": null,
      "metadata": {
        "id": "eDOUm8v1Yq-r"
      },
      "outputs": [],
      "source": [
        "def inference(model, device, content_path, style_path, out):\n",
        "  Ic = tf(Image.open(content_path)).to(device)\n",
        "  Is = tf(Image.open(style_path)).to(device)\n",
        "  Ic = Ic.unsqueeze(dim=0)\n",
        "  Is = Is.unsqueeze(dim=0)\n",
        "\n",
        "  with torch.no_grad():\n",
        "    Ics = model(Ic, Is)\n",
        "\n",
        "  os.makedirs(out, exist_ok=True)\n",
        "  filename = \"res_\" + os.path.splitext(os.path.basename(style_path))[0] + \"_\" + os.path.basename(content_path)\n",
        "  name_cs = os.path.join(out, filename)\n",
        "  save_image(Ics[0], name_cs)"
      ]
    },
    {
      "cell_type": "code",
      "execution_count": null,
      "metadata": {
        "colab": {
          "base_uri": "https://localhost:8080/"
        },
        "id": "hoy8tgMiM9sr",
        "outputId": "0307be3f-f9e8-49d4-ca32-90ba723820dc"
      },
      "outputs": [],
      "source": [
        "DEVICE = torch.device(\"cuda:0\" if torch.cuda.is_available() else \"cpu\")\n",
        "model = Net(args)\n",
        "model.eval()\n",
        "\n",
        "model = model.to(DEVICE)\n",
        "\n",
        "tf = test_transform()\n",
        "if args.run_folder == True:\n",
        "  for content_path in glob.glob(os.path.join(args.content, \"*.*\")):\n",
        "    for style_path in glob.glob(os.path.join(args.style, \"*.*\")):\n",
        "      inference(model, DEVICE, content_path, style_path, args.outdir)\n",
        "else:\n",
        "  inference(model, DEVICE, args.content, args.style, args.outdir)"
      ]
    }
  ],
  "metadata": {
    "accelerator": "GPU",
    "colab": {
      "collapsed_sections": [],
      "name": "PAMA_demo.ipynb",
      "provenance": []
    },
    "kernelspec": {
      "display_name": "Python 3",
      "name": "python3"
    },
    "language_info": {
      "name": "python"
    },
    "orig_nbformat": 4
  },
  "nbformat": 4,
  "nbformat_minor": 0
}
