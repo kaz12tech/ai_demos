{
  "cells": [
    {
      "cell_type": "markdown",
      "metadata": {
        "id": "o38wi96CDr-0"
      },
      "source": [
        "論文<br>\n",
        "https://arxiv.org/abs/2204.02663<br>\n",
        "<br>\n",
        "GitHub<br>\n",
        "https://github.com/MCG-NKU/E2FGVI<br>\n",
        "<br>\n",
        "<a href=\"https://colab.research.google.com/github/kaz12tech/ai_demos/blob/master/E2FGVI_demo.ipynb\" target=\"_blank\"><img src=\"https://colab.research.google.com/assets/colab-badge.svg\" alt=\"Open In Colab\"/></a>"
      ]
    },
    {
      "cell_type": "markdown",
      "metadata": {
        "id": "Dl0geaqIDr-5"
      },
      "source": [
        "## 環境セットアップ"
      ]
    },
    {
      "cell_type": "markdown",
      "metadata": {
        "id": "I0fVT2GdDr-6"
      },
      "source": [
        "## GPU確認"
      ]
    },
    {
      "cell_type": "code",
      "execution_count": null,
      "metadata": {
        "colab": {
          "base_uri": "https://localhost:8080/"
        },
        "id": "2PcII5fLdHnJ",
        "outputId": "b544630c-f907-491d-dacd-ec8fe7700832"
      },
      "outputs": [],
      "source": [
        "!nvidia-smi"
      ]
    },
    {
      "cell_type": "markdown",
      "metadata": {
        "id": "Zshu3r5PDr-7"
      },
      "source": [
        "## GitHubからコード取得"
      ]
    },
    {
      "cell_type": "code",
      "execution_count": null,
      "metadata": {
        "colab": {
          "base_uri": "https://localhost:8080/"
        },
        "id": "R-Y5auuvnnnT",
        "outputId": "6ba19a14-3d6e-4e84-c21a-51b581ed49e4"
      },
      "outputs": [],
      "source": [
        "%cd /content\n",
        "\n",
        "!git clone https://github.com/MCG-NKU/E2FGVI.git"
      ]
    },
    {
      "cell_type": "markdown",
      "metadata": {
        "id": "Rii6XmjZDr-9"
      },
      "source": [
        "## ライブラリのインストール"
      ]
    },
    {
      "cell_type": "code",
      "execution_count": null,
      "metadata": {
        "colab": {
          "base_uri": "https://localhost:8080/"
        },
        "id": "LScsvO3UppqT",
        "outputId": "0ac30d94-0fda-4718-e53f-022bd5643f36"
      },
      "outputs": [],
      "source": [
        "%cd /content\n",
        "\n",
        "# Install Pytorch\n",
        "!pip install torch==1.5.1+cu101 torchvision==0.6.1+cu101 -f https://download.pytorch.org/whl/torch_stable.html \n",
        "# Install MMCV\n",
        "!pip install mmcv-full -f https://download.openmmlab.com/mmcv/dist/cu101/torch1.5/index.html\n",
        "# Install gdown\n",
        "!pip install --upgrade gdown"
      ]
    },
    {
      "cell_type": "markdown",
      "metadata": {
        "id": "8olrgLpYEzWq"
      },
      "source": [
        "## 学習済みモデルのダウンロード"
      ]
    },
    {
      "cell_type": "code",
      "execution_count": null,
      "metadata": {
        "colab": {
          "base_uri": "https://localhost:8080/"
        },
        "id": "xwyzDJ1wE1G6",
        "outputId": "b0f39cf0-eb1d-44a3-a485-d27e2b6391c5"
      },
      "outputs": [],
      "source": [
        "%cd /content/E2FGVI\n",
        "\n",
        "!gdown 'https://drive.google.com/uc?id=1tNJMTJ2gmWdIXJoHVi5-H504uImUiJW9'\n",
        "!unzip E2FGVI_CVPR22_models.zip"
      ]
    },
    {
      "cell_type": "markdown",
      "metadata": {
        "id": "cW-nMTDnG5M3"
      },
      "source": [
        "# ライブラリのインポート"
      ]
    },
    {
      "cell_type": "code",
      "execution_count": null,
      "metadata": {
        "id": "N6xdvD7MG7-J"
      },
      "outputs": [],
      "source": [
        "import matplotlib.pyplot as plt\n",
        "from matplotlib import animation\n",
        "\n",
        "import cv2\n",
        "from PIL import Image\n",
        "import numpy as np\n",
        "import importlib\n",
        "import os\n",
        "import argparse\n",
        "from tqdm import tqdm\n",
        "import torch\n",
        "\n",
        "from core.utils import to_tensors"
      ]
    },
    {
      "cell_type": "markdown",
      "metadata": {
        "id": "NvR7p4SyHCWT"
      },
      "source": [
        "# 関数定義"
      ]
    },
    {
      "cell_type": "code",
      "execution_count": null,
      "metadata": {
        "id": "SVcPDBikHBLN"
      },
      "outputs": [],
      "source": [
        "# global variables\n",
        "w, h = 432, 240\n",
        "ref_length = 10  # ref_step\n",
        "num_ref = -1\n",
        "neighbor_stride = 5\n",
        "\n",
        "\n",
        "# sample reference frames from the whole video \n",
        "def get_ref_index(f, neighbor_ids, length):\n",
        "    ref_index = []\n",
        "    if num_ref == -1:\n",
        "        for i in range(0, length, ref_length):\n",
        "            if i not in neighbor_ids:\n",
        "                ref_index.append(i)\n",
        "    else:\n",
        "        start_idx = max(0, f - ref_length * (num_ref//2))\n",
        "        end_idx = min(length, f + ref_length * (num_ref//2))\n",
        "        for i in range(start_idx, end_idx+1, ref_length):\n",
        "            if i not in neighbor_ids:\n",
        "                if len(ref_index) > num_ref:\n",
        "                    break\n",
        "                ref_index.append(i)\n",
        "    return ref_index\n",
        "\n",
        "\n",
        "# read frame-wise masks\n",
        "def read_mask(mpath):\n",
        "    masks = []\n",
        "    mnames = os.listdir(mpath)\n",
        "    mnames.sort()\n",
        "    for mp in mnames:\n",
        "        m = Image.open(os.path.join(mpath, mp))\n",
        "        m = m.resize((w, h), Image.NEAREST)\n",
        "        m = np.array(m.convert('L'))\n",
        "        m = np.array(m > 0).astype(np.uint8)\n",
        "        m = cv2.dilate(m, cv2.getStructuringElement(\n",
        "            cv2.MORPH_CROSS, (3, 3)), iterations=4)\n",
        "        masks.append(Image.fromarray(m*255))\n",
        "    return masks\n",
        "\n",
        "\n",
        "#  read frames from video\n",
        "def read_frame_from_videos(video_path):\n",
        "    vname = video_path\n",
        "    frames = []\n",
        "    lst = os.listdir(vname)\n",
        "    lst.sort()\n",
        "    fr_lst = [vname+'/'+name for name in lst]\n",
        "    for fr in fr_lst:\n",
        "        image = cv2.imread(fr)\n",
        "        image = Image.fromarray(cv2.cvtColor(image, cv2.COLOR_BGR2RGB))\n",
        "        frames.append(image.resize((w, h)))\n",
        "    return frames"
      ]
    },
    {
      "cell_type": "markdown",
      "metadata": {
        "id": "EkWI6MKlHoix"
      },
      "source": [
        "# Load Model"
      ]
    },
    {
      "cell_type": "code",
      "execution_count": null,
      "metadata": {
        "colab": {
          "base_uri": "https://localhost:8080/",
          "height": 1000,
          "referenced_widgets": [
            "1ddde85663014e6cbbc0f7c1e3bf4341",
            "9ac795c96c194175a207e46054703a56",
            "8f3b91eb81a5486bbb42113d3603145d",
            "4ab117a9b1df47b5acc7e8c6bc7511ec",
            "4e6fdeb3d08845e0b20488e5a616f8e3",
            "d7ea81e7c1f04278bb72a5ad56a5ae67",
            "b31b19bfebb34c5b9c59c597320ff74e",
            "b865e42515cf47ec86d6bd5bdbf410d7",
            "a5ce086a1221481a875325f045ae4d27",
            "c967ddf52e9b446784c0a070b954091d",
            "70893f58194d41d6b2f56869ddde99f0"
          ]
        },
        "id": "mcUYf4MXHrd5",
        "outputId": "2fccc05e-ff97-4ba2-d89a-6ac0626d56f9"
      },
      "outputs": [],
      "source": [
        "# set up models\n",
        "device = torch.device(\"cuda\" if torch.cuda.is_available() else \"cpu\")\n",
        "net = importlib.import_module('model.e2fgvi')\n",
        "model = net.InpaintGenerator().to(device)\n",
        "ckpt_path = 'E2FGVI-CVPR22.pth'\n",
        "data = torch.load(ckpt_path, map_location=device)\n",
        "model.load_state_dict(data)\n",
        "print(f'Loading model from: {ckpt_path}')\n",
        "model.eval()"
      ]
    },
    {
      "cell_type": "markdown",
      "metadata": {
        "id": "TgZxUxKyH7xi"
      },
      "source": [
        "# Load test data"
      ]
    },
    {
      "cell_type": "code",
      "execution_count": null,
      "metadata": {
        "colab": {
          "base_uri": "https://localhost:8080/"
        },
        "id": "7NN_1vxhRcVr",
        "outputId": "6603345b-e4d0-4377-e772-31113a649bf1"
      },
      "outputs": [],
      "source": [
        "%cd /content/E2FGVI/\n",
        "!mkdir -p /content/E2FGVI/examples/schoolgirls\n",
        "\n",
        "!ffmpeg -i examples/schoolgirls.mp4 examples/schoolgirls/%05d.png"
      ]
    },
    {
      "cell_type": "code",
      "execution_count": null,
      "metadata": {
        "colab": {
          "base_uri": "https://localhost:8080/"
        },
        "id": "ER56coYjH6z2",
        "outputId": "11f69fd5-b16b-4131-d6a6-48d93741a612"
      },
      "outputs": [],
      "source": [
        "# prepare dataset\n",
        "video_path = 'examples/schoolgirls'\n",
        "mask_path = 'examples/schoolgirls_mask'\n",
        "print(f'Loading videos and masks from: {video_path}')\n",
        "frames = read_frame_from_videos(video_path)\n",
        "video_length = len(frames)\n",
        "imgs = to_tensors()(frames).unsqueeze(0) * 2 - 1\n",
        "frames = [np.array(f).astype(np.uint8) for f in frames]\n",
        "\n",
        "masks = read_mask(mask_path)\n",
        "binary_masks = [np.expand_dims((np.array(m) != 0).astype(np.uint8), 2)\n",
        "                for m in masks]\n",
        "masks = to_tensors()(masks).unsqueeze(0)\n",
        "imgs, masks = imgs.to(device), masks.to(device)\n",
        "comp_frames = [None] * video_length"
      ]
    },
    {
      "cell_type": "markdown",
      "metadata": {
        "id": "Bt_I7W7hHUA_"
      },
      "source": [
        "# Flow-Guided Video Inpainting"
      ]
    },
    {
      "cell_type": "code",
      "execution_count": null,
      "metadata": {
        "colab": {
          "base_uri": "https://localhost:8080/"
        },
        "id": "j05-a8HRHQVj",
        "outputId": "942cedd7-1d7a-443c-b131-bcdcbbb82bf8"
      },
      "outputs": [],
      "source": [
        "# completing holes by e2fgvi\n",
        "print(f'Start test...')\n",
        "for f in tqdm(range(0, video_length, neighbor_stride)):\n",
        "    neighbor_ids = [i for i in range(max(0, f-neighbor_stride), min(video_length, f+neighbor_stride+1))]\n",
        "    ref_ids = get_ref_index(f, neighbor_ids, video_length)\n",
        "    selected_imgs = imgs[:1, neighbor_ids+ref_ids, :, :, :]\n",
        "    selected_masks = masks[:1, neighbor_ids+ref_ids, :, :, :]\n",
        "    with torch.no_grad():\n",
        "        masked_imgs = selected_imgs*(1-selected_masks)\n",
        "        pred_img, _ = model(masked_imgs, len(neighbor_ids))\n",
        "\n",
        "        pred_img = (pred_img + 1) / 2\n",
        "        pred_img = pred_img.cpu().permute(0, 2, 3, 1).numpy() * 255\n",
        "        for i in range(len(neighbor_ids)):\n",
        "            idx = neighbor_ids[i]\n",
        "            img = np.array(pred_img[i]).astype(\n",
        "                np.uint8)*binary_masks[idx] + frames[idx] * (1-binary_masks[idx])\n",
        "            if comp_frames[idx] is None:\n",
        "                comp_frames[idx] = img\n",
        "            else:\n",
        "                comp_frames[idx] = comp_frames[idx].astype(\n",
        "                    np.float32)*0.5 + img.astype(np.float32)*0.5"
      ]
    },
    {
      "cell_type": "markdown",
      "metadata": {
        "id": "udfrSKlqLiNi"
      },
      "source": [
        "# 推論結果を画像に出力"
      ]
    },
    {
      "cell_type": "code",
      "execution_count": null,
      "metadata": {
        "colab": {
          "base_uri": "https://localhost:8080/"
        },
        "id": "lnqyUPWfIkqb",
        "outputId": "b30b6b2b-c27c-48ef-b9d5-98518ddfebe8"
      },
      "outputs": [],
      "source": [
        "%cd /content/E2FGVI\n",
        "!mkdir results\n",
        "\n",
        "import matplotlib.pyplot as plt\n",
        "\n",
        "# 推論結果出力\n",
        "for i, frame in enumerate(comp_frames):\n",
        "  plt.imsave('results/frames_%06d.png'%(i), frame.astype(np.uint8))"
      ]
    },
    {
      "cell_type": "markdown",
      "metadata": {
        "id": "fIFCAG3ILkbs"
      },
      "source": [
        "# 画像を動画に変換して表示"
      ]
    },
    {
      "cell_type": "code",
      "execution_count": null,
      "metadata": {
        "colab": {
          "base_uri": "https://localhost:8080/",
          "height": 1000
        },
        "id": "75eCUzWRKdws",
        "outputId": "4ebe9e5a-a89f-4c1b-c237-d10b64353b83"
      },
      "outputs": [],
      "source": [
        "from moviepy.editor import *\n",
        "from moviepy.video.fx.resize import resize\n",
        "\n",
        "frames_path = \"results/frames_%06d.png\"\n",
        "result_video = \"results/result.mp4\"\n",
        "\n",
        "!ffmpeg -i {frames_path} -c:v libx264 -vf \"fps=25,format=yuv420p\" {result_video}\n",
        "\n",
        "clip = VideoFileClip(result_video)\n",
        "resize_clip = resize(clip, height=400)\n",
        "resize_clip.ipython_display()"
      ]
    },
    {
      "cell_type": "markdown",
      "metadata": {
        "id": "zSvQ9WPSLoks"
      },
      "source": [
        "# 入力動画"
      ]
    },
    {
      "cell_type": "code",
      "execution_count": null,
      "metadata": {
        "colab": {
          "base_uri": "https://localhost:8080/",
          "height": 1000
        },
        "id": "TuhTb473LrhE",
        "outputId": "03cfe008-c9d1-41da-e55a-2d94a458cc3d"
      },
      "outputs": [],
      "source": [
        "frames_path = \"examples/schoolgirls/%05d.png\"\n",
        "result_video = \"results/original.mp4\"\n",
        "\n",
        "!ffmpeg -i {frames_path} -c:v libx264 -vf \"fps=25,format=yuv420p\" {result_video}\n",
        "\n",
        "clip = VideoFileClip(result_video)\n",
        "resize_clip = resize(clip, height=400)\n",
        "resize_clip.ipython_display()"
      ]
    }
  ],
  "metadata": {
    "accelerator": "GPU",
    "colab": {
      "collapsed_sections": [],
      "name": "E2FGVI_demo.ipynb",
      "provenance": []
    },
    "kernelspec": {
      "display_name": "Python 3",
      "name": "python3"
    },
    "language_info": {
      "name": "python"
    },
    "orig_nbformat": 4,
    "widgets": {
      "application/vnd.jupyter.widget-state+json": {
        "1ddde85663014e6cbbc0f7c1e3bf4341": {
          "model_module": "@jupyter-widgets/controls",
          "model_module_version": "1.5.0",
          "model_name": "HBoxModel",
          "state": {
            "_dom_classes": [],
            "_model_module": "@jupyter-widgets/controls",
            "_model_module_version": "1.5.0",
            "_model_name": "HBoxModel",
            "_view_count": null,
            "_view_module": "@jupyter-widgets/controls",
            "_view_module_version": "1.5.0",
            "_view_name": "HBoxView",
            "box_style": "",
            "children": [
              "IPY_MODEL_9ac795c96c194175a207e46054703a56",
              "IPY_MODEL_8f3b91eb81a5486bbb42113d3603145d",
              "IPY_MODEL_4ab117a9b1df47b5acc7e8c6bc7511ec"
            ],
            "layout": "IPY_MODEL_4e6fdeb3d08845e0b20488e5a616f8e3"
          }
        },
        "4ab117a9b1df47b5acc7e8c6bc7511ec": {
          "model_module": "@jupyter-widgets/controls",
          "model_module_version": "1.5.0",
          "model_name": "HTMLModel",
          "state": {
            "_dom_classes": [],
            "_model_module": "@jupyter-widgets/controls",
            "_model_module_version": "1.5.0",
            "_model_name": "HTMLModel",
            "_view_count": null,
            "_view_module": "@jupyter-widgets/controls",
            "_view_module_version": "1.5.0",
            "_view_name": "HTMLView",
            "description": "",
            "description_tooltip": null,
            "layout": "IPY_MODEL_c967ddf52e9b446784c0a070b954091d",
            "placeholder": "​",
            "style": "IPY_MODEL_70893f58194d41d6b2f56869ddde99f0",
            "value": " 5.50M/5.50M [00:01&lt;00:00, 7.20MB/s]"
          }
        },
        "4e6fdeb3d08845e0b20488e5a616f8e3": {
          "model_module": "@jupyter-widgets/base",
          "model_module_version": "1.2.0",
          "model_name": "LayoutModel",
          "state": {
            "_model_module": "@jupyter-widgets/base",
            "_model_module_version": "1.2.0",
            "_model_name": "LayoutModel",
            "_view_count": null,
            "_view_module": "@jupyter-widgets/base",
            "_view_module_version": "1.2.0",
            "_view_name": "LayoutView",
            "align_content": null,
            "align_items": null,
            "align_self": null,
            "border": null,
            "bottom": null,
            "display": null,
            "flex": null,
            "flex_flow": null,
            "grid_area": null,
            "grid_auto_columns": null,
            "grid_auto_flow": null,
            "grid_auto_rows": null,
            "grid_column": null,
            "grid_gap": null,
            "grid_row": null,
            "grid_template_areas": null,
            "grid_template_columns": null,
            "grid_template_rows": null,
            "height": null,
            "justify_content": null,
            "justify_items": null,
            "left": null,
            "margin": null,
            "max_height": null,
            "max_width": null,
            "min_height": null,
            "min_width": null,
            "object_fit": null,
            "object_position": null,
            "order": null,
            "overflow": null,
            "overflow_x": null,
            "overflow_y": null,
            "padding": null,
            "right": null,
            "top": null,
            "visibility": null,
            "width": null
          }
        },
        "70893f58194d41d6b2f56869ddde99f0": {
          "model_module": "@jupyter-widgets/controls",
          "model_module_version": "1.5.0",
          "model_name": "DescriptionStyleModel",
          "state": {
            "_model_module": "@jupyter-widgets/controls",
            "_model_module_version": "1.5.0",
            "_model_name": "DescriptionStyleModel",
            "_view_count": null,
            "_view_module": "@jupyter-widgets/base",
            "_view_module_version": "1.2.0",
            "_view_name": "StyleView",
            "description_width": ""
          }
        },
        "8f3b91eb81a5486bbb42113d3603145d": {
          "model_module": "@jupyter-widgets/controls",
          "model_module_version": "1.5.0",
          "model_name": "FloatProgressModel",
          "state": {
            "_dom_classes": [],
            "_model_module": "@jupyter-widgets/controls",
            "_model_module_version": "1.5.0",
            "_model_name": "FloatProgressModel",
            "_view_count": null,
            "_view_module": "@jupyter-widgets/controls",
            "_view_module_version": "1.5.0",
            "_view_name": "ProgressView",
            "bar_style": "success",
            "description": "",
            "description_tooltip": null,
            "layout": "IPY_MODEL_b865e42515cf47ec86d6bd5bdbf410d7",
            "max": 5770988,
            "min": 0,
            "orientation": "horizontal",
            "style": "IPY_MODEL_a5ce086a1221481a875325f045ae4d27",
            "value": 5770988
          }
        },
        "9ac795c96c194175a207e46054703a56": {
          "model_module": "@jupyter-widgets/controls",
          "model_module_version": "1.5.0",
          "model_name": "HTMLModel",
          "state": {
            "_dom_classes": [],
            "_model_module": "@jupyter-widgets/controls",
            "_model_module_version": "1.5.0",
            "_model_name": "HTMLModel",
            "_view_count": null,
            "_view_module": "@jupyter-widgets/controls",
            "_view_module_version": "1.5.0",
            "_view_name": "HTMLView",
            "description": "",
            "description_tooltip": null,
            "layout": "IPY_MODEL_d7ea81e7c1f04278bb72a5ad56a5ae67",
            "placeholder": "​",
            "style": "IPY_MODEL_b31b19bfebb34c5b9c59c597320ff74e",
            "value": "100%"
          }
        },
        "a5ce086a1221481a875325f045ae4d27": {
          "model_module": "@jupyter-widgets/controls",
          "model_module_version": "1.5.0",
          "model_name": "ProgressStyleModel",
          "state": {
            "_model_module": "@jupyter-widgets/controls",
            "_model_module_version": "1.5.0",
            "_model_name": "ProgressStyleModel",
            "_view_count": null,
            "_view_module": "@jupyter-widgets/base",
            "_view_module_version": "1.2.0",
            "_view_name": "StyleView",
            "bar_color": null,
            "description_width": ""
          }
        },
        "b31b19bfebb34c5b9c59c597320ff74e": {
          "model_module": "@jupyter-widgets/controls",
          "model_module_version": "1.5.0",
          "model_name": "DescriptionStyleModel",
          "state": {
            "_model_module": "@jupyter-widgets/controls",
            "_model_module_version": "1.5.0",
            "_model_name": "DescriptionStyleModel",
            "_view_count": null,
            "_view_module": "@jupyter-widgets/base",
            "_view_module_version": "1.2.0",
            "_view_name": "StyleView",
            "description_width": ""
          }
        },
        "b865e42515cf47ec86d6bd5bdbf410d7": {
          "model_module": "@jupyter-widgets/base",
          "model_module_version": "1.2.0",
          "model_name": "LayoutModel",
          "state": {
            "_model_module": "@jupyter-widgets/base",
            "_model_module_version": "1.2.0",
            "_model_name": "LayoutModel",
            "_view_count": null,
            "_view_module": "@jupyter-widgets/base",
            "_view_module_version": "1.2.0",
            "_view_name": "LayoutView",
            "align_content": null,
            "align_items": null,
            "align_self": null,
            "border": null,
            "bottom": null,
            "display": null,
            "flex": null,
            "flex_flow": null,
            "grid_area": null,
            "grid_auto_columns": null,
            "grid_auto_flow": null,
            "grid_auto_rows": null,
            "grid_column": null,
            "grid_gap": null,
            "grid_row": null,
            "grid_template_areas": null,
            "grid_template_columns": null,
            "grid_template_rows": null,
            "height": null,
            "justify_content": null,
            "justify_items": null,
            "left": null,
            "margin": null,
            "max_height": null,
            "max_width": null,
            "min_height": null,
            "min_width": null,
            "object_fit": null,
            "object_position": null,
            "order": null,
            "overflow": null,
            "overflow_x": null,
            "overflow_y": null,
            "padding": null,
            "right": null,
            "top": null,
            "visibility": null,
            "width": null
          }
        },
        "c967ddf52e9b446784c0a070b954091d": {
          "model_module": "@jupyter-widgets/base",
          "model_module_version": "1.2.0",
          "model_name": "LayoutModel",
          "state": {
            "_model_module": "@jupyter-widgets/base",
            "_model_module_version": "1.2.0",
            "_model_name": "LayoutModel",
            "_view_count": null,
            "_view_module": "@jupyter-widgets/base",
            "_view_module_version": "1.2.0",
            "_view_name": "LayoutView",
            "align_content": null,
            "align_items": null,
            "align_self": null,
            "border": null,
            "bottom": null,
            "display": null,
            "flex": null,
            "flex_flow": null,
            "grid_area": null,
            "grid_auto_columns": null,
            "grid_auto_flow": null,
            "grid_auto_rows": null,
            "grid_column": null,
            "grid_gap": null,
            "grid_row": null,
            "grid_template_areas": null,
            "grid_template_columns": null,
            "grid_template_rows": null,
            "height": null,
            "justify_content": null,
            "justify_items": null,
            "left": null,
            "margin": null,
            "max_height": null,
            "max_width": null,
            "min_height": null,
            "min_width": null,
            "object_fit": null,
            "object_position": null,
            "order": null,
            "overflow": null,
            "overflow_x": null,
            "overflow_y": null,
            "padding": null,
            "right": null,
            "top": null,
            "visibility": null,
            "width": null
          }
        },
        "d7ea81e7c1f04278bb72a5ad56a5ae67": {
          "model_module": "@jupyter-widgets/base",
          "model_module_version": "1.2.0",
          "model_name": "LayoutModel",
          "state": {
            "_model_module": "@jupyter-widgets/base",
            "_model_module_version": "1.2.0",
            "_model_name": "LayoutModel",
            "_view_count": null,
            "_view_module": "@jupyter-widgets/base",
            "_view_module_version": "1.2.0",
            "_view_name": "LayoutView",
            "align_content": null,
            "align_items": null,
            "align_self": null,
            "border": null,
            "bottom": null,
            "display": null,
            "flex": null,
            "flex_flow": null,
            "grid_area": null,
            "grid_auto_columns": null,
            "grid_auto_flow": null,
            "grid_auto_rows": null,
            "grid_column": null,
            "grid_gap": null,
            "grid_row": null,
            "grid_template_areas": null,
            "grid_template_columns": null,
            "grid_template_rows": null,
            "height": null,
            "justify_content": null,
            "justify_items": null,
            "left": null,
            "margin": null,
            "max_height": null,
            "max_width": null,
            "min_height": null,
            "min_width": null,
            "object_fit": null,
            "object_position": null,
            "order": null,
            "overflow": null,
            "overflow_x": null,
            "overflow_y": null,
            "padding": null,
            "right": null,
            "top": null,
            "visibility": null,
            "width": null
          }
        }
      }
    }
  },
  "nbformat": 4,
  "nbformat_minor": 0
}
