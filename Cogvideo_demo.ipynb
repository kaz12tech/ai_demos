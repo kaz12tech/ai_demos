{
  "cells": [
    {
      "cell_type": "markdown",
      "metadata": {
        "id": "cNz-yh2HFz_G"
      },
      "source": [
        "論文<br>\n",
        "https://arxiv.org/abs/2205.15868<br>\n",
        "<br>\n",
        "GitHub<br>\n",
        "https://github.com/THUDM/CogVideo<br>\n",
        "<br>\n",
        "<a href=\"https://colab.research.google.com/github/kaz12tech/ai_demos/blob/master/Cogvideo_demo.ipynb\" target=\"_blank\"><img src=\"https://colab.research.google.com/assets/colab-badge.svg\" alt=\"Open In Colab\"/></a>"
      ]
    },
    {
      "cell_type": "markdown",
      "metadata": {
        "id": "PIyC-kLNGZiQ"
      },
      "source": [
        "# ランタイムの設定\n",
        "「ランタイム」→「ランタイムのタイプを変更」→「ハードウェアアクセラレータ」をGPUに変更"
      ]
    },
    {
      "cell_type": "markdown",
      "metadata": {
        "id": "amOVuN1yGsZI"
      },
      "source": [
        "# 実行方法\n",
        "「ランタイム」→「すべてのセルを実行」を選択"
      ]
    },
    {
      "cell_type": "markdown",
      "metadata": {
        "id": "PKo4CcvmGwJ-"
      },
      "source": [
        "# 環境セットアップ"
      ]
    },
    {
      "cell_type": "code",
      "execution_count": null,
      "metadata": {
        "colab": {
          "base_uri": "https://localhost:8080/"
        },
        "id": "2tr1tqeCq6vw",
        "outputId": "3d7d0052-9c6a-4c6d-970d-2af9c3cb3d43"
      },
      "outputs": [],
      "source": [
        "!nvidia-smi"
      ]
    },
    {
      "cell_type": "markdown",
      "metadata": {
        "id": "OEdxoG5jrCc5"
      },
      "source": [
        "## GithubからCode clone"
      ]
    },
    {
      "cell_type": "code",
      "execution_count": null,
      "metadata": {
        "colab": {
          "base_uri": "https://localhost:8080/"
        },
        "id": "wBphrlXDrHWc",
        "outputId": "fdb5e111-0d8d-439b-aa0c-55e446f1af69"
      },
      "outputs": [],
      "source": [
        "%cd /content\n",
        "\n",
        "# for CogVideo\n",
        "!git clone https://github.com/THUDM/CogVideo.git\n",
        "# for Local Attention\n",
        "!git clone https://github.com/Sleepychord/Image-Local-Attention"
      ]
    },
    {
      "cell_type": "markdown",
      "metadata": {
        "id": "baPoVAl_q8wu"
      },
      "source": [
        "## ライブラリのインストール"
      ]
    },
    {
      "cell_type": "code",
      "execution_count": null,
      "metadata": {
        "colab": {
          "base_uri": "https://localhost:8080/"
        },
        "id": "zt4EMaozq9pj",
        "outputId": "abf0356d-0554-4319-f3b9-ba3047f1cb4a"
      },
      "outputs": [],
      "source": [
        "%cd /content/CogVideo\n",
        "!pip install -r requirements.txt\n",
        "\n",
        "%cd /content/Image-Local-Attention\n",
        "!python setup.py install"
      ]
    },
    {
      "cell_type": "markdown",
      "metadata": {
        "id": "bQI43xjHsugU"
      },
      "source": [
        "## ライブラリのインポート"
      ]
    },
    {
      "cell_type": "code",
      "execution_count": null,
      "metadata": {
        "id": "BR0M9Wg8sv8q"
      },
      "outputs": [],
      "source": []
    },
    {
      "cell_type": "markdown",
      "metadata": {
        "id": "mK43dSaxaU3X"
      },
      "source": [
        "# 学習済みモデルのセットアップ"
      ]
    },
    {
      "cell_type": "code",
      "execution_count": null,
      "metadata": {
        "colab": {
          "base_uri": "https://localhost:8080/"
        },
        "id": "n4GJMZLaaXJS",
        "outputId": "d1db7939-908c-4850-f38d-f2571fc68eb7"
      },
      "outputs": [],
      "source": [
        "%cd /content/CogVideo\n",
        "\n",
        "!wget -c https://lfs.aminer.cn/misc/cogvideo/cogvideo-stage1.zip \\\n",
        "      -O ./cogvideo-stage1.zip\n",
        "!unzip -o ./cogvideo-stage1.zip -d ./\n",
        "\n",
        "!wget -c https://lfs.aminer.cn/misc/cogvideo/cogvideo-stage2.zip \\\n",
        "      -O ./cogvideo-stage2.zip\n",
        "!unzip -o ./cogvideo-stage2.zip -d ./\n",
        "\n",
        "# Google Colabでは、この時点でディレクトリ超過"
      ]
    },
    {
      "cell_type": "markdown",
      "metadata": {
        "id": "yzuD9lP4zbaf"
      },
      "source": [
        "# Text to Video"
      ]
    },
    {
      "cell_type": "code",
      "execution_count": null,
      "metadata": {
        "id": "l7jURutCzrON"
      },
      "outputs": [],
      "source": [
        "%cd /content/CogVideo\n",
        "\n",
        "!mkdir ./output"
      ]
    },
    {
      "cell_type": "code",
      "execution_count": null,
      "metadata": {
        "id": "QDPCd-gqzc-j"
      },
      "outputs": [],
      "source": [
        "%cd /content/CogVideo\n",
        "\n",
        "MPSIZE=1\n",
        "TEMP=1.05\n",
        "TOPK=12\n",
        "\n",
        "\n",
        "python cogvideo_pipeline.py \\\n",
        "  --input-source interactive \\\n",
        "  --output-path ./output \\\n",
        "  --parallel-size 1 \\\n",
        "  --both-stages \\\n",
        "  --use-guidance-stage1 \\\n",
        "  --guidance-alpha 3.0 \\\n",
        "  --generate-frame-num 5 \\\n",
        "  --tokenizer-type fake \\\n",
        "  --mode inference \\\n",
        "  --distributed-backend nccl \\\n",
        "  --fp16 \\\n",
        "  --model-parallel-size {MPSIZE} \\\n",
        "  --temperature {TEMP} \\\n",
        "  --coglm-temperature2 0.89 \\\n",
        "  --top_k {TOPK} \\\n",
        "  --sandwich-ln \\\n",
        "  --seed 1234 \\\n",
        "  --num-workers 0 \\\n",
        "  --batch-size 4 \\\n",
        "  --max-inference-batch-size 8 \\"
      ]
    }
  ],
  "metadata": {
    "accelerator": "GPU",
    "colab": {
      "collapsed_sections": [
        "PIyC-kLNGZiQ",
        "amOVuN1yGsZI"
      ],
      "name": "Cogvideo_demo.ipynb",
      "provenance": []
    },
    "kernelspec": {
      "display_name": "Python 3.10.4 64-bit",
      "language": "python",
      "name": "python3"
    },
    "language_info": {
      "codemirror_mode": {
        "name": "ipython",
        "version": 3
      },
      "file_extension": ".py",
      "mimetype": "text/x-python",
      "name": "python",
      "nbconvert_exporter": "python",
      "pygments_lexer": "ipython3",
      "version": "3.10.4"
    },
    "vscode": {
      "interpreter": {
        "hash": "69158ccfe43d0b962045f592ede11796dd42f250837ab62152c8bc6cd100a15b"
      }
    }
  },
  "nbformat": 4,
  "nbformat_minor": 0
}
