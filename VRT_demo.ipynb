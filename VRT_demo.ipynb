{
  "cells": [
    {
      "cell_type": "markdown",
      "metadata": {
        "id": "ulHDWbFDyOwl"
      },
      "source": [
        "GitHub  \n",
        "https://github.com/jingyunliang/vrt  \n",
        "論文  \n",
        "https://arxiv.org/abs/2201.12288v1  \n",
        "\n",
        "<a href=\"https://colab.research.google.com/github/kaz12tech/ai_demos/blob/master/VRT_demo.ipynb\" target=\"_blank\"><img src=\"https://colab.research.google.com/assets/colab-badge.svg\" alt=\"Open In Colab\"/></a>\n",
        "\n",
        "forms  \n",
        "https://colab.research.google.com/notebooks/forms.ipynb "
      ]
    },
    {
      "cell_type": "markdown",
      "metadata": {
        "id": "zplNiXRIyicC"
      },
      "source": [
        "# ランタイムの設定\n",
        "「ランタイム」→「ランタイムのタイプを変更」→「ハードウェアアクセラレータ」をGPUに変更"
      ]
    },
    {
      "cell_type": "markdown",
      "metadata": {
        "id": "CUBl3avnylK6"
      },
      "source": [
        "# 実行方法\n",
        "「ランタイム」→「すべてのセルを実行」を選択"
      ]
    },
    {
      "cell_type": "markdown",
      "metadata": {
        "id": "5wspXJ7TyxXl"
      },
      "source": [
        "# 環境セットアップ"
      ]
    },
    {
      "cell_type": "markdown",
      "metadata": {
        "id": "OwGl6r33y9Il"
      },
      "source": [
        "## GitHubからCode Clone"
      ]
    },
    {
      "cell_type": "code",
      "execution_count": null,
      "metadata": {
        "colab": {
          "base_uri": "https://localhost:8080/"
        },
        "id": "LkjoqRndyI4b",
        "outputId": "206bb1a2-497c-4603-a722-0a922b466be2"
      },
      "outputs": [],
      "source": [
        "%cd /content/\n",
        "!rm -r VRT\n",
        "\n",
        "# GitHubからVRTのcodeをclone\n",
        "!git clone https://github.com/JingyunLiang/VRT.git\n",
        "\n",
        "%cd /content/VRT\n",
        "\n",
        "# Commits on Oct 5, 2022\n",
        "!git checkout 94a5f504eb84aedf1314de5389f45f4ba1c2d022"
      ]
    },
    {
      "cell_type": "markdown",
      "metadata": {
        "id": "TRxMEobczAuF"
      },
      "source": [
        "## ライブラリのインストール"
      ]
    },
    {
      "cell_type": "code",
      "execution_count": null,
      "metadata": {
        "colab": {
          "base_uri": "https://localhost:8080/"
        },
        "id": "xd9W4KXszCvs",
        "outputId": "5db5778e-5ac9-409b-f9af-ee8b480bb70e"
      },
      "outputs": [],
      "source": [
        "%cd /content/VRT\n",
        "!pip install -r requirements.txt\n",
        "!pip install moviepy==0.2.3.5 imageio==2.4.1"
      ]
    },
    {
      "cell_type": "markdown",
      "metadata": {
        "id": "17pFT-LtzoNh"
      },
      "source": [
        "# ライブラリのインポート"
      ]
    },
    {
      "cell_type": "code",
      "execution_count": null,
      "metadata": {
        "colab": {
          "base_uri": "https://localhost:8080/"
        },
        "id": "GeeG1zwbzq8l",
        "outputId": "635a3525-b097-44a1-fc4a-b6ca27dce70a"
      },
      "outputs": [],
      "source": [
        "import os\n",
        "import glob\n",
        "from google.colab import files\n",
        "import shutil\n",
        "import cv2\n",
        "import matplotlib.pyplot as plt\n",
        "from pathlib import Path\n",
        "\n",
        "from moviepy.editor import *\n",
        "from moviepy.video.fx.resize import resize"
      ]
    },
    {
      "cell_type": "markdown",
      "metadata": {
        "id": "n630dPNZ0AN3"
      },
      "source": [
        "# 画像または動画のセットアップ\n",
        "デモでは下記を使用  \n",
        "超解像、ノイズ除去  \n",
        "https://ia800502.us.archive.org/4/items/vd_is_for_everybody/vd_is_for_everybody_512kb.mp4  \n",
        "blur除去  \n",
        "https://pixabay.com/ja/videos/%E5%B8%82-%E4%BA%BA-%E6%AD%A9%E3%81%8F-%E8%B2%B7%E3%81%84%E7%89%A9-%E9%83%BD%E5%B8%82-999/  "
      ]
    },
    {
      "cell_type": "code",
      "execution_count": null,
      "metadata": {
        "colab": {
          "base_uri": "https://localhost:8080/",
          "height": 1000
        },
        "id": "DfNtyCOR0ZiM",
        "outputId": "951e069b-cb2f-42a4-dbe5-45ec44d086d8"
      },
      "outputs": [],
      "source": [
        "%cd /content/VRT\n",
        "\n",
        "# upload images\n",
        "!rm -r /content/VRT/testsets/*\n",
        "!rm -r /content/VRT/results/*\n",
        "\n",
        "os.makedirs('/content/VRT/testsets/uploaded/frames/000', exist_ok=True)\n",
        "input_folder = '/content/VRT/testsets/uploaded/'\n",
        "frame_folder = '/content/VRT/testsets/uploaded/frames/000'\n",
        "frame_path = '/content/VRT/testsets/uploaded/frames/000/frame%08d.png'\n",
        "\n",
        "uploaded = files.upload()\n",
        "for filename in uploaded.keys():\n",
        "  # 動画のリサイズ\n",
        "  clip = VideoFileClip(filename)\n",
        "  print('video size width:', clip.w, 'height:', clip.h)\n",
        "  #@markdown 動画サイズ変更  両方0で変更なし\n",
        "  resize_w =  0#@param {type:\"integer\"}\n",
        "  resize_h =  0#@param {type:\"integer\"}\n",
        "  if resize_h == 0 and resize_w == 0:\n",
        "    pass\n",
        "  else:\n",
        "    if resize_w == 0:\n",
        "      clip = resize(clip, height=resize_h)\n",
        "    elif resize_h == 0:\n",
        "      clip = resize(clip, width=resize_w)\n",
        "    else:\n",
        "      clip = resize(clip, width=resize_w, height=resize_h)\n",
        "      \n",
        "  #@markdown 動画の長さ変更(秒)  end=0は変更なし\n",
        "  start = 0 #@param {type:\"integer\"}\n",
        "  end =  5#@param {type:\"integer\"}\n",
        "  if end != 0:\n",
        "    if start < end and end <= clip.duration:\n",
        "      clip = clip.subclip(start, end)\n",
        "\n",
        "  print('move', filename, 'to', input_folder)\n",
        "  input_path = os.path.join(input_folder, filename)\n",
        "  clip.write_videofile(input_path)\n",
        "   \n",
        "  if not filename.split('.')[-1].lower() in ['png','jpeg','jpg','tiff','bmp','tif',]: # image or video\n",
        "    print('動画のフレーム画像を抽出 dst:', frame_folder)\n",
        "    !ffmpeg -i {input_path} -qscale:v 1 -qmin 1 -qmax 1 -vsync 0 -pix_fmt yuv420p {frame_path}\n",
        "  else:\n",
        "    !cp {input_path} {frame_folder}\n",
        "\n",
        "  !rm {filename}\n",
        "\n",
        "!ls testsets/uploaded"
      ]
    },
    {
      "cell_type": "markdown",
      "metadata": {
        "id": "etYtU_eo0zde"
      },
      "source": [
        "# 超解像\n",
        "\n",
        "## Testing arguments\n",
        "--task:  \n",
        "001_VRT_videosr_bi_REDS_6frames/  \n",
        "002_VRT_videosr_bi_REDS_16frames/  \n",
        "003_VRT_videosr_bi_Vimeo_7frames/  \n",
        "004_VRT_videosr_bd_Vimeo_7frames/  \n",
        "005_VRT_videodeblurring_DVD/  \n",
        "006_VRT_videodeblurring_GoPro/  \n",
        "007_VRT_videodeblurring_REDS/  \n",
        "008_VRT_videodenoising_DAVIS  \n",
        "\n",
        "--folder_lq:  \n",
        "低解像度ビデオのパス。\n",
        "アップロードしたデータ以外の場合はベンチマークデータセットをダウンロードして使用\n",
        "  \n",
        "--folder_gt:  \n",
        "ground-truthビデオのパス  \n",
        "アップロードしたビデオには使用不可。 ベンチマークデータセットのみをサポート\n",
        "\n",
        "--tile:  \n",
        "時間、高さ、幅のテストサイズ。 \n",
        "例として[40,128,128]は、ビデオを40x128x128ビデオクリップとして  \n",
        "テストすることを意味します。\n",
        "メモリ不足の場合はサイズを下げること(パフォーマンスは低下)\n",
        "  \n",
        "--tile_overlap:  \n",
        "タイルの重なり合うサイズ。 変更不要"
      ]
    },
    {
      "cell_type": "code",
      "execution_count": null,
      "metadata": {
        "colab": {
          "base_uri": "https://localhost:8080/"
        },
        "id": "DuRyN35I4Nt9",
        "outputId": "9a401795-c722-4544-e627-134f3e672be1"
      },
      "outputs": [],
      "source": [
        "#@markdown uploadかベンチマークか選択\n",
        "type = \"upload\" #@param [\"upload\", \"BT001\", \"BT002\", \"BT003\", \"BT004\", \"BT005\", \"BT006\", \"BT007\", \"BT008\"] {allow-input: false}\n",
        "#@markdown uploadを選択した場合に超解像、blur除去、ノイズ除去か選択\n",
        "process_type = \"blur\" #@param [\"sr\", \"blur\", \"noise\"] {allow-input: false}\n",
        "\n",
        "# アップロードしたビデオで超解像\n",
        "if type == \"upload\":\n",
        "  if process_type == \"sr\":\n",
        "    !python main_test_vrt.py \\\n",
        "      --task 001_VRT_videosr_bi_REDS_6frames \\\n",
        "      --folder_lq \"/content/VRT/testsets/uploaded/frames/\" \\\n",
        "      --tile 6 128 128 --tile_overlap 2 20 20\n",
        "  if process_type == \"blur\":\n",
        "    !python main_test_vrt.py \\\n",
        "      --task 005_VRT_videodeblurring_DVD \\\n",
        "      --folder_lq \"/content/VRT/testsets/uploaded/frames/\" \\\n",
        "      --folder_gt \"/content/VRT/testsets/uploaded/frames/\" \\\n",
        "      --tile 12 128 128 --tile_overlap 2 20 20\n",
        "  if process_type == \"noise\":\n",
        "    !python main_test_vrt.py \\\n",
        "      --task 008_VRT_videodenoising_DAVIS \\\n",
        "      --sigma 10 \\\n",
        "      --folder_lq \"/content/VRT/testsets/uploaded/frames/\" \\\n",
        "      --folder_gt \"/content/VRT/testsets/uploaded/frames/\" \\\n",
        "      --tile 12 128 128 --tile_overlap 2 20 20\n",
        "\n",
        "\n",
        "# 以下ベンチマークテスト\n",
        "# 001, video sr trained on REDS (6 frames), tested on REDS4\n",
        "elif type == \"BT001\":\n",
        "  !python main_test_vrt.py \\\n",
        "    --task 001_VRT_videosr_bi_REDS_6frames \\\n",
        "    --folder_lq testsets/REDS4/sharp_bicubic \\\n",
        "    --folder_gt testsets/REDS4/GT \\\n",
        "    --tile 40 64 64 --tile_overlap 2 20 20\n",
        "# 002, video sr trained on REDS (16 frames), tested on REDS4\n",
        "elif type == \"BT002\":\n",
        "  !python main_test_vrt.py -\\\n",
        "    -task 002_VRT_videosr_bi_REDS_16frames \\\n",
        "    --folder_lq testsets/REDS4/sharp_bicubic \\\n",
        "    --folder_gt testsets/REDS4/GT \\\n",
        "    --tile 40 64 64 --tile_overlap 2 20 20\n",
        "# 003, video sr trained on Vimeo (bicubic), tested on Vid4 and Vimeo\n",
        "elif type == \"BT003\":\n",
        "  !python main_test_vrt.py \\\n",
        "    --task 003_VRT_videosr_bi_Vimeo_7frames \\\n",
        "    --folder_lq testsets/Vid4/BIx4 \\\n",
        "    --folder_gt testsets/Vid4/GT \\\n",
        "    --tile 32 64 64 --tile_overlap 2 20 20\n",
        "  !python main_test_vrt.py \\\n",
        "    --task 003_VRT_videosr_bi_Vimeo_7frames \\\n",
        "    --folder_lq testsets/vimeo90k/vimeo_septuplet_matlabLRx4/sequences \\\n",
        "    --folder_gt testsets/vimeo90k/vimeo_septuplet/sequences \\\n",
        "    --tile 8 0 0 --tile_overlap 0 20 20\n",
        "# 004, video sr trained on Vimeo (blur-downsampling), tested on Vid4, UDM10 and Vimeo\n",
        "elif type == \"BT004\":\n",
        "  !python main_test_vrt.py \\\n",
        "    --task 004_VRT_videosr_bd_Vimeo_7frames \\\n",
        "    --folder_lq testsets/Vid4/BDx4 \\\n",
        "    --folder_gt testsets/Vid4/GT \\\n",
        "    --tile 32 64 64 --tile_overlap 2 20 20\n",
        "  !python main_test_vrt.py \\\n",
        "    --task 004_VRT_videosr_bd_Vimeo_7frames \\\n",
        "    --folder_lq testsets/UDM10/BDx4 \\\n",
        "    --folder_gt testsets/UDM10/GT \\\n",
        "    --tile 32 64 64 --tile_overlap 2 20 20\n",
        "  !python main_test_vrt.py \\\n",
        "    --task 004_VRT_videosr_bd_Vimeo_7frames \\\n",
        "    --folder_lq testsets/vimeo90k/vimeo_septuplet_BDLRx4/sequences \\\n",
        "    --folder_gt testsets/vimeo90k/vimeo_septuplet/sequences \\\n",
        "    --tile 8 0 0 --tile_overlap 0 20 20\n",
        "# 005, video deblurring trained and tested on DVD\n",
        "elif type == \"BT005\":\n",
        "  !python main_test_vrt.py \\\n",
        "    --task 005_VRT_videodeblurring_DVD \\\n",
        "    --folder_lq testsets/DVD10/test_GT_blurred \\\n",
        "    --folder_gt testsets/DVD10/test_GT \\\n",
        "    --tile 12 128 128 --tile_overlap 2 20 20\n",
        "# 006, video deblurring trained and tested on GoPro\n",
        "elif type == \"BT006\":\n",
        "  !python main_test_vrt.py \\\n",
        "    --task 006_VRT_videodeblurring_GoPro \\\n",
        "    --folder_lq testsets/GoPro11/test_GT_blurred \\\n",
        "    --folder_gt testsets/GoPro11/test_GT \\\n",
        "    --tile 12 128 128 --tile_overlap 2 20 20\n",
        "# 007, video deblurring trained on REDS, tested on REDS4\n",
        "elif type == \"BT007\":\n",
        "  !python main_test_vrt.py \\\n",
        "    --task 007_VRT_videodeblurring_REDS \\\n",
        "    --folder_lq testsets/REDS4/blur \\\n",
        "    --folder_gt testsets/REDS4/GT \\\n",
        "    --tile 12 128 128 --tile_overlap 2 20 20\n",
        "# 008, video denoising trained on DAVIS (noise level 0-50) and tested on Set8 and DAVIS\n",
        "elif type == \"BT008\":\n",
        "  !python main_test_vrt.py \\\n",
        "    --task 008_VRT_videodenoising_DAVIS \\\n",
        "    --sigma 10 --folder_lq testsets/Set8 \\\n",
        "    --folder_gt testsets/Set8 \\\n",
        "    --tile 12 128 128 --tile_overlap 2 20 20\n",
        "  !python main_test_vrt.py \\\n",
        "    --task 008_VRT_videodenoising_DAVIS \\\n",
        "    --sigma 10  \\\n",
        "    --folder_lq testsets/DAVIS-test \\\n",
        "    --folder_gt testsets/DAVIS-test \\\n",
        "    --tile 12 128 128 --tile_overlap 2 20 20\n"
      ]
    },
    {
      "cell_type": "markdown",
      "metadata": {
        "id": "Fm1GDtiWujCD"
      },
      "source": [
        "# Visualization"
      ]
    },
    {
      "cell_type": "code",
      "execution_count": null,
      "metadata": {
        "id": "dYH7OpNo8zbT"
      },
      "outputs": [],
      "source": [
        "def display(img1, name='input'):\n",
        "  total_figs = 5\n",
        "  fig = plt.figure(figsize=(total_figs*12, 14))\n",
        "  ax1 = fig.add_subplot(1, total_figs, 1) \n",
        "  plt.title(f'Frame 0 ({name})', fontsize=30)\n",
        "  ax1.axis('off')\n",
        "  ax2 = fig.add_subplot(1, total_figs, 2)\n",
        "  plt.title(f'Frame 1 ({name})', fontsize=30)\n",
        "  ax2.axis('off')\n",
        "  ax3 = fig.add_subplot(1, total_figs, 3)\n",
        "  plt.title(f'Frame 2 ({name})', fontsize=30)\n",
        "  ax3.axis('off')\n",
        "  ax4 = fig.add_subplot(1, total_figs, 4)\n",
        "  plt.title(f'Frame 3 ({name})', fontsize=30)\n",
        "  ax4.axis('off')\n",
        "  ax5 = fig.add_subplot(1, total_figs, 5)\n",
        "  plt.title(f'Frame 4 ({name})', fontsize=30)\n",
        "  ax5.axis('off')\n",
        "  ax1.imshow(img1[0])\n",
        "  ax2.imshow(img1[1])\n",
        "  ax3.imshow(img1[2])\n",
        "  ax4.imshow(img1[3])\n",
        "  ax5.imshow(img1[4])\n",
        "\n",
        "# Frameごとのビデオを表示\n",
        "img = []\n",
        "for path in sorted(Path('testsets').rglob('*.png'))[:10]:\n",
        "  img.append(cv2.cvtColor(cv2.imread(f'{path}'), cv2.COLOR_BGR2RGB))\n",
        "display(img, 'input')\n",
        "img = []\n",
        "for path in sorted(Path('results').rglob('*.png'))[:10]:\n",
        "  img.append(cv2.cvtColor(cv2.imread(f'{path}'), cv2.COLOR_BGR2RGB))\n",
        "display(img, 'VRT output')"
      ]
    },
    {
      "cell_type": "markdown",
      "metadata": {
        "id": "1cyVdOuQfe47"
      },
      "source": [
        "# フレーム画像を動画に変換"
      ]
    },
    {
      "cell_type": "code",
      "execution_count": null,
      "metadata": {
        "id": "GRxuCgXbfdnt"
      },
      "outputs": [],
      "source": [
        "result_frames = glob.glob(\"/content/VRT/results/*/*/*.png\")\n",
        "result_frame_dir = os.path.dirname(result_frames[0])\n",
        "src_frames = os.path.join(result_frame_dir, \"frame%08d.png\")\n",
        "dst_video = \"/content/VRT/results/sr_video.mp4\"\n",
        "\n",
        "!ffmpeg -i {src_frames} -qscale:v 1 -qmin 1 -qmax 1 -vsync 0 {dst_video}\n",
        "\n",
        "clip = VideoFileClip(dst_video)\n",
        "# 表示用にリサイズ\n",
        "clip_resize = resize(clip, height=480)\n",
        "clip_resize.ipython_display()"
      ]
    },
    {
      "cell_type": "markdown",
      "metadata": {
        "id": "SxW6b4BO9DFH"
      },
      "source": [
        "# ダウンロード"
      ]
    },
    {
      "cell_type": "code",
      "execution_count": null,
      "metadata": {
        "id": "U9LsJiEA8_dA"
      },
      "outputs": [],
      "source": [
        "# 超解像結果をダウンロード\n",
        "zip_filename = 'VRT_result.zip'\n",
        "if os.path.exists(zip_filename):\n",
        "  os.remove(zip_filename)\n",
        "os.system(f\"zip -r -j {zip_filename} /content/VRT/results/*\")\n",
        "files.download(zip_filename)"
      ]
    }
  ],
  "metadata": {
    "accelerator": "GPU",
    "colab": {
      "provenance": []
    },
    "kernelspec": {
      "display_name": "Python 3",
      "name": "python3"
    },
    "language_info": {
      "name": "python"
    }
  },
  "nbformat": 4,
  "nbformat_minor": 0
}
