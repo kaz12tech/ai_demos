{
  "cells": [
    {
      "cell_type": "markdown",
      "metadata": {
        "id": "YiIyufd1P_cE"
      },
      "source": [
        "論文<br>\n",
        "https://arxiv.org/abs/2302.07483<br>\n",
        "<br>\n",
        "GitHub<br>\n",
        "https://github.com/LSH9832/edgeyolo<br>\n",
        "<br>\n",
        "<a href=\"https://colab.research.google.com/github/kaz12tech/ai_demos/blob/master/EdgeYOLO_demo.ipynb\" target=\"_blank\"><img src=\"https://colab.research.google.com/assets/colab-badge.svg\" alt=\"Open In Colab\"/></a>"
      ]
    },
    {
      "cell_type": "markdown",
      "metadata": {
        "id": "bdsUQtduP_cJ"
      },
      "source": [
        "# setup environment"
      ]
    },
    {
      "cell_type": "markdown",
      "metadata": {
        "id": "7o9GvMNjP_cJ"
      },
      "source": [
        "## check gpu"
      ]
    },
    {
      "cell_type": "code",
      "execution_count": null,
      "metadata": {
        "colab": {
          "base_uri": "https://localhost:8080/"
        },
        "id": "2PcII5fLdHnJ",
        "outputId": "1728cf77-3d13-400f-9a3a-3242cc13ed38"
      },
      "outputs": [],
      "source": [
        "!nvidia-smi"
      ]
    },
    {
      "cell_type": "markdown",
      "metadata": {
        "id": "W_jC04mAP_cL"
      },
      "source": [
        "## clone code from github"
      ]
    },
    {
      "cell_type": "code",
      "execution_count": null,
      "metadata": {
        "colab": {
          "base_uri": "https://localhost:8080/"
        },
        "id": "R-Y5auuvnnnT",
        "outputId": "05d2c231-1f44-41ba-8c89-6a2e8f61f2a9"
      },
      "outputs": [],
      "source": [
        "%cd /content\n",
        "\n",
        "!git clone https://github.com/LSH9832/edgeyolo.git\n",
        "\n",
        "%cd /content/edgeyolo\n",
        "# Commits on Feb 28, 2023\n",
        "!git checkout 673e270917e4db45967b6106585339dd8d7913dd"
      ]
    },
    {
      "cell_type": "markdown",
      "metadata": {
        "id": "uWdz6XOAP_cL"
      },
      "source": [
        "## install libraries"
      ]
    },
    {
      "cell_type": "code",
      "execution_count": null,
      "metadata": {
        "colab": {
          "base_uri": "https://localhost:8080/"
        },
        "id": "LScsvO3UppqT",
        "outputId": "1c0b98db-3d56-463f-ef61-9dfbe99fec87"
      },
      "outputs": [],
      "source": [
        "%cd /content/edgeyolo\n",
        "\n",
        "# Install dependent packages\n",
        "!pip install -r requirements.txt\n",
        "\n",
        "!pip install moviepy==0.2.3.5 imageio==2.4.1"
      ]
    },
    {
      "cell_type": "markdown",
      "metadata": {
        "id": "BGzMmzpxY4z8"
      },
      "source": [
        "## import libraries"
      ]
    },
    {
      "cell_type": "code",
      "execution_count": null,
      "metadata": {
        "id": "yRBPTYlfY6qZ"
      },
      "outputs": [],
      "source": [
        "%cd /content/edgeyolo\n",
        "\n",
        "import os\n",
        "import time\n",
        "from datetime import datetime as date\n",
        "from glob import glob\n",
        "\n",
        "import cv2\n",
        "from moviepy.video.fx.resize import resize\n",
        "from moviepy.editor import VideoFileClip\n",
        "\n",
        "from edgeyolo.detect import Detector\n",
        "from detect import draw"
      ]
    },
    {
      "cell_type": "markdown",
      "metadata": {
        "id": "qBW2t-ocUM_3"
      },
      "source": [
        "# setup pretrained models"
      ]
    },
    {
      "cell_type": "code",
      "execution_count": null,
      "metadata": {
        "colab": {
          "base_uri": "https://localhost:8080/"
        },
        "id": "Q34odjYFXk7n",
        "outputId": "1ed43730-9108-4969-d355-d0ee6b10fd46"
      },
      "outputs": [],
      "source": [
        "%cd /content/edgeyolo\n",
        "\n",
        "# create directory\n",
        "!mkdir ./pretrained\n",
        "\n",
        "# download model\n",
        "!wget -c https://github.com/LSH9832/edgeyolo/releases/download/v0.0.0/edgeyolo_coco.pth \\\n",
        "      -O ./pretrained/edgeyolo_coco.pth"
      ]
    },
    {
      "cell_type": "markdown",
      "metadata": {
        "id": "V3ex8UxLWf4x"
      },
      "source": [
        "# setup test videos"
      ]
    },
    {
      "cell_type": "code",
      "execution_count": null,
      "metadata": {
        "colab": {
          "base_uri": "https://localhost:8080/"
        },
        "id": "mXpY46i2CJvn",
        "outputId": "115c0eb0-3b3d-458e-e850-c7fad4645885"
      },
      "outputs": [],
      "source": [
        "%cd /content/edgeyolo\n",
        "\n",
        "# create directory\n",
        "!mkdir ./test_video\n",
        "\n",
        "!wget -c https://github.com/LSH9832/edgeyolo/releases/download/v0.0.0/test.avi \\\n",
        "      -O ./test_video/test.avi"
      ]
    },
    {
      "cell_type": "markdown",
      "metadata": {
        "id": "QvWwJQcFCAvi"
      },
      "source": [
        "# Object detection"
      ]
    },
    {
      "cell_type": "code",
      "execution_count": null,
      "metadata": {
        "id": "nQSOfmEgClNb"
      },
      "outputs": [],
      "source": [
        "WEIGHTS = './pretrained/edgeyolo_coco.pth'\n",
        "SOURCE = './test_video/test.avi' # or dir with images, such as /dataset/coco2017/val2017 (jpg/jpeg, png, bmp, webp is available)\n",
        "CONF_THRES = 0.25\n",
        "NMS_THRES = 0.5\n",
        "INPUT_SIZE = [640, 640] # height width\n",
        "BATCH = 1\n",
        "SAVE_DIR = './output'\n",
        "NO_LABEL = False"
      ]
    },
    {
      "cell_type": "code",
      "execution_count": null,
      "metadata": {
        "colab": {
          "base_uri": "https://localhost:8080/"
        },
        "id": "xb3iMWfyChcS",
        "outputId": "dd8864ba-ac58-4ede-ff97-ad7eb01e0ff5"
      },
      "outputs": [],
      "source": [
        "%cd /content/edgeyolo\n",
        "\n",
        "# create detecter\n",
        "detector = Detector \n",
        "detect = detector(\n",
        "    weight_file = WEIGHTS,\n",
        "    conf_thres = CONF_THRES,\n",
        "    nms_thres = NMS_THRES,\n",
        "    input_size = INPUT_SIZE,\n",
        "    fuse = True,\n",
        "    fp16 = False,\n",
        "    use_decoder = False\n",
        "    )\n",
        "\n",
        "# load video\n",
        "source = cv2.VideoCapture(SOURCE)\n",
        "fps = source.get(cv2.CAP_PROP_FPS)\n",
        "print(\"fps:\", fps)\n",
        "\n",
        "all_dt = []\n",
        "dts_len = 300 // BATCH\n",
        "success = True\n",
        "\n",
        "# start inference\n",
        "count = 0\n",
        "t_start = time.time()\n",
        "while source.isOpened() and success:\n",
        "  frames = []\n",
        "  for _ in range(BATCH):\n",
        "    success, frame = source.read()\n",
        "    if not success:\n",
        "      if not len(frames):\n",
        "        cv2.destroyAllWindows()\n",
        "        break\n",
        "      else:\n",
        "        while len(frames) < BATCH:\n",
        "          frames.append(frames[-1])\n",
        "    else:\n",
        "      frames.append(frame)\n",
        "\n",
        "  if not len(frames):\n",
        "    break\n",
        "\n",
        "  # Inference\n",
        "  results = detect(frames, False)\n",
        "\n",
        "  dt = detect.dt\n",
        "  all_dt.append(dt)\n",
        "  if len(all_dt) > dts_len:\n",
        "    all_dt = all_dt[-dts_len:]\n",
        "  print(f\"\\r{dt * 1000 / BATCH:.1f}ms  \"\n",
        "    f\"average:{sum(all_dt) / len(all_dt) / BATCH * 1000:.1f}ms\", end=\"      \")\n",
        "  \n",
        "  # draw detect result\n",
        "  imgs = draw(frames, results, detect.class_names, 2, draw_label=not NO_LABEL)\n",
        "\n",
        "  for img in imgs:\n",
        "    # create save dir\n",
        "    os.makedirs(SAVE_DIR, exist_ok=True)\n",
        "    file_name = f\"{str(date.now()).split('.')[0].replace(':', '').replace('-', '').replace(' ', '')}.jpg\"\n",
        "    cv2.imwrite(os.path.join(SAVE_DIR, file_name), img)\n",
        "\n",
        "source.release()"
      ]
    },
    {
      "cell_type": "code",
      "execution_count": null,
      "metadata": {
        "colab": {
          "base_uri": "https://localhost:8080/"
        },
        "id": "3uMxjxBKBdUr",
        "outputId": "56696527-48c0-4e87-a091-4c044be8d227"
      },
      "outputs": [],
      "source": [
        "det_frames = glob( os.path.join(SAVE_DIR, '*.jpg'))\n",
        "det_frames.sort()\n",
        "print('num of frames:', len(det_frames))\n",
        "\n",
        "h, w, _ = cv2.imread(det_frames[0]).shape\n",
        "\n",
        "# jpg to mp4\n",
        "video = cv2.VideoWriter(\n",
        "    os.path.join(SAVE_DIR, 'video.mp4'),\n",
        "    fourcc=cv2.VideoWriter_fourcc(*'mp4v'),\n",
        "    fps=float(fps),\n",
        "    frameSize=(w, h),\n",
        "    isColor=True)\n",
        "\n",
        "for frame_path in det_frames:\n",
        "  img = cv2.imread(frame_path)\n",
        "  video.write(img)\n",
        "\n",
        "print(video.get(cv2.CAP_PROP_FPS), (INPUT_SIZE[0], INPUT_SIZE[1]))\n",
        "video.release()"
      ]
    },
    {
      "cell_type": "code",
      "execution_count": null,
      "metadata": {
        "colab": {
          "base_uri": "https://localhost:8080/",
          "height": 459
        },
        "id": "5Wc7p-LlDioN",
        "outputId": "631c5460-4b3f-40cd-9654-6853d6f7ea5f"
      },
      "outputs": [],
      "source": [
        "# show video\n",
        "clip = VideoFileClip(os.path.join(SAVE_DIR, 'video.mp4'))\n",
        "clip = resize(clip, height=420)\n",
        "clip.ipython_display()"
      ]
    }
  ],
  "metadata": {
    "accelerator": "GPU",
    "colab": {
      "provenance": []
    },
    "gpuClass": "standard",
    "kernelspec": {
      "display_name": "Python 3",
      "name": "python3"
    },
    "language_info": {
      "name": "python"
    }
  },
  "nbformat": 4,
  "nbformat_minor": 0
}
