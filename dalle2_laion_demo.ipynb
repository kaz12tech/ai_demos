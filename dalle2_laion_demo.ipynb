{
  "cells": [
    {
      "cell_type": "markdown",
      "metadata": {
        "id": "o38wi96CDr-0"
      },
      "source": [
        "論文<br>\n",
        "https://cdn.openai.com/papers/dall-e-2<br>\n",
        "<br>\n",
        "GitHub<br>\n",
        "https://github.com/LAION-AI/dalle2-laion<br>\n",
        "<br>\n",
        "<a href=\"https://colab.research.google.com/github/kaz12tech/ai_demos/blob/master/dalle2_laion_demo.ipynb\" target=\"_blank\"><img src=\"https://colab.research.google.com/assets/colab-badge.svg\" alt=\"Open In Colab\"/></a>"
      ]
    },
    {
      "cell_type": "markdown",
      "metadata": {
        "id": "Dl0geaqIDr-5"
      },
      "source": [
        "# 環境セットアップ"
      ]
    },
    {
      "cell_type": "markdown",
      "metadata": {
        "id": "I0fVT2GdDr-6"
      },
      "source": [
        "## GPU確認"
      ]
    },
    {
      "cell_type": "code",
      "execution_count": null,
      "metadata": {
        "colab": {
          "base_uri": "https://localhost:8080/"
        },
        "id": "2PcII5fLdHnJ",
        "outputId": "671f7e4f-da98-454e-9829-75011e8fc643"
      },
      "outputs": [],
      "source": [
        "!nvidia-smi"
      ]
    },
    {
      "cell_type": "markdown",
      "metadata": {
        "id": "cXjgCfSYmYuK"
      },
      "source": [
        "## GitHubからコード取得"
      ]
    },
    {
      "cell_type": "code",
      "execution_count": null,
      "metadata": {
        "colab": {
          "base_uri": "https://localhost:8080/"
        },
        "id": "NumjuTXTqZbE",
        "outputId": "fb085be2-721f-42fb-9e8c-ca8f8764d133"
      },
      "outputs": [],
      "source": [
        "# for SR\n",
        "!git clone https://github.com/JingyunLiang/SwinIR.git"
      ]
    },
    {
      "cell_type": "markdown",
      "metadata": {
        "id": "odFsIEy-ovn1"
      },
      "source": [
        "## ライブラリのインポート"
      ]
    },
    {
      "cell_type": "code",
      "execution_count": null,
      "metadata": {
        "colab": {
          "base_uri": "https://localhost:8080/"
        },
        "id": "oE837aZWcUJ4",
        "outputId": "7a010e71-ae2d-4a49-a5e3-0ccab5c77cc8"
      },
      "outputs": [],
      "source": [
        "!pip install -q dalle2_pytorch==0.15.4\n",
        "\n",
        "# for swinIR\n",
        "!pip install -q timm\n",
        "!pip install -q opencv-python"
      ]
    },
    {
      "cell_type": "markdown",
      "metadata": {
        "id": "UmzHvea_o7oD"
      },
      "source": [
        "## ライブラリのインポート"
      ]
    },
    {
      "cell_type": "code",
      "execution_count": null,
      "metadata": {
        "id": "1NO_nu_XdyWo"
      },
      "outputs": [],
      "source": [
        "import os\n",
        "import json\n",
        "from IPython.display import Image as IPythonImage\n",
        "\n",
        "from PIL import Image\n",
        "import numpy as np\n",
        "\n",
        "import torch\n",
        "from dalle2_pytorch import DALLE2, DiffusionPriorNetwork, DiffusionPrior, Unet, Decoder, CLIP, OpenAIClipAdapter\n",
        "\n",
        "device = torch.device('cuda:0' if torch.cuda.is_available() else 'cpu')"
      ]
    },
    {
      "cell_type": "markdown",
      "metadata": {
        "id": "_6Fc_SBRo4UD"
      },
      "source": [
        "# 学習済みモデルのセットアップ"
      ]
    },
    {
      "cell_type": "code",
      "execution_count": null,
      "metadata": {
        "colab": {
          "base_uri": "https://localhost:8080/"
        },
        "id": "iopvYVYnh86W",
        "outputId": "60189a8e-aef2-41e3-d6c9-149d4ba0aff3"
      },
      "outputs": [],
      "source": [
        "!mkdir decoder prior\n",
        "\n",
        "# Laion2B\n",
        "!wget -c https://huggingface.co/laion/DALLE2-PyTorch/resolve/main/decoder/1.5B/latest.pth \\\n",
        "      -O ./decoder/latest.pth\n",
        "!wget -c https://huggingface.co/laion/DALLE2-PyTorch/resolve/main/decoder/1.5B_laion2B/decoder_config.json \\\n",
        "      -O ./decoder/decoder_config.json\n",
        "\n",
        "# prior\n",
        "!wget -c https://huggingface.co/zenglishuci/conditioned-prior/resolve/main/vit-l-14/prior_aes_finetune.pth \\\n",
        "      -O ./prior/prior_aes_finetune.pth"
      ]
    },
    {
      "cell_type": "markdown",
      "metadata": {
        "id": "5atcj9gYpGHk"
      },
      "source": [
        "# 学習済みモデルのロード"
      ]
    },
    {
      "cell_type": "code",
      "execution_count": null,
      "metadata": {
        "id": "PRUFeqcopEuh"
      },
      "outputs": [],
      "source": [
        "decoder_model_path = './decoder/latest.pth'\n",
        "decoder_config_path = './decoder/decoder_config.json'\n",
        "prior_model_path = './prior/prior_aes_finetune.pth'\n",
        "with open(decoder_config_path, \"r\") as f:\n",
        "  decoder_config = json.load(f)"
      ]
    },
    {
      "cell_type": "markdown",
      "metadata": {
        "id": "s6YwDgyMpIG9"
      },
      "source": [
        "## clip, prior"
      ]
    },
    {
      "cell_type": "code",
      "execution_count": null,
      "metadata": {
        "colab": {
          "base_uri": "https://localhost:8080/"
        },
        "id": "SMa0ej8dmYIV",
        "outputId": "3711313d-c200-48de-b5a1-85777643f5e6"
      },
      "outputs": [],
      "source": [
        "clip = OpenAIClipAdapter(decoder_config['decoder']['clip']['model']).to(device)\n",
        "\n",
        "prior_network = DiffusionPriorNetwork(\n",
        "    dim=768,\n",
        "    depth=24,\n",
        "    dim_head=64,\n",
        "    heads=32,\n",
        "    normformer=True,\n",
        "    attn_dropout=5e-2,\n",
        "    ff_dropout=5e-2,\n",
        "    num_time_embeds=1,\n",
        "    num_image_embeds=1,\n",
        "    num_text_embeds=1,\n",
        "    num_timesteps=1000,\n",
        "    ff_mult=4\n",
        ").to(device)\n",
        "\n",
        "diffusion_prior = DiffusionPrior(\n",
        "    net=prior_network,\n",
        "    clip=clip,\n",
        "    image_embed_dim=768,\n",
        "    timesteps=1000,\n",
        "    cond_drop_prob=0.1,\n",
        "    loss_type=\"l2\",\n",
        "    condition_on_text_encodings=True,\n",
        ").to(device)\n",
        "\n",
        "prior_state_dict = torch.load(prior_model_path, map_location='cpu')\n",
        "diffusion_prior.load_state_dict(prior_state_dict['ema_model'], strict=True)\n",
        "\n",
        "del prior_state_dict"
      ]
    },
    {
      "cell_type": "markdown",
      "metadata": {
        "id": "HrNlgM14pLhj"
      },
      "source": [
        "## decoder"
      ]
    },
    {
      "cell_type": "code",
      "execution_count": null,
      "metadata": {
        "id": "MXOqLsVwmizs"
      },
      "outputs": [],
      "source": [
        "unet = Unet(\n",
        "  dim = decoder_config['decoder']['unets'][0]['dim'],\n",
        "  cond_dim = decoder_config['decoder']['unets'][0]['cond_dim'],\n",
        "  image_embed_dim = decoder_config['decoder']['unets'][0]['image_embed_dim'],\n",
        "  text_embed_dim = decoder_config['decoder']['unets'][0]['text_embed_dim'],\n",
        "  cond_on_text_encodings = decoder_config['decoder']['unets'][0]['cond_on_text_encodings'],\n",
        "  channels = decoder_config['decoder']['unets'][0]['channels'],\n",
        "  dim_mults = decoder_config['decoder']['unets'][0]['dim_mults'],\n",
        "  num_resnet_blocks= decoder_config['decoder']['unets'][0]['num_resnet_blocks'],\n",
        "  attn_heads= decoder_config['decoder']['unets'][0]['attn_heads'],\n",
        "  attn_dim_head= decoder_config['decoder']['unets'][0]['attn_dim_head'],\n",
        "  sparse_attn=decoder_config['decoder']['unets'][0]['sparse_attn'],\n",
        "  memory_efficient=decoder_config['decoder']['unets'][0]['memory_efficient'],\n",
        "  self_attn =decoder_config['decoder']['unets'][0]['self_attn'],\n",
        ")\n",
        "\n",
        "decoder = Decoder(\n",
        "    unet = (unet),\n",
        "    clip = clip,\n",
        "    image_sizes = decoder_config['decoder']['image_sizes'],\n",
        "    channels = decoder_config['decoder']['channels'],\n",
        "    timesteps = decoder_config['decoder']['timesteps'],\n",
        "    loss_type =decoder_config['decoder']['loss_type'],\n",
        "    beta_schedule = decoder_config['decoder']['beta_schedule'],\n",
        "    learned_variance =decoder_config['decoder']['learned_variance'],\n",
        ").cuda()\n",
        "\n",
        "decoder_state_dict = torch.load(decoder_model_path, map_location='cpu')\n",
        "decoder.load_state_dict(decoder_state_dict, strict=False)\n",
        "decoder.eval()\n",
        "\n",
        "del decoder_state_dict"
      ]
    },
    {
      "cell_type": "markdown",
      "metadata": {
        "id": "75f2ObDKsioP"
      },
      "source": [
        "# DALLE2"
      ]
    },
    {
      "cell_type": "markdown",
      "metadata": {
        "id": "C_iIeALbssRA"
      },
      "source": [
        "## inference"
      ]
    },
    {
      "cell_type": "code",
      "execution_count": null,
      "metadata": {
        "colab": {
          "base_uri": "https://localhost:8080/",
          "height": 113,
          "referenced_widgets": [
            "c628ca0b4f5144009903e654ad4b2465",
            "4fd1aacc943a408b8b98068c8dd5b4a1",
            "50bb6cba86d54de3b0d3f73485f96e9d",
            "2779d00da08f4fc985f4d78b836acb6c",
            "ab64c7a12a7e4a7faad4038704e5641b",
            "b666311d12dd4521b2fab1faf104ee94",
            "56d07d89a7f347e0bb3d9e8556d478f4",
            "4523925cd825479eb9a9306a044db399",
            "29246f81f2e14a87a99f435a84bd1e24",
            "d946799727454910a303ef7a62ebaf90",
            "44f1e3161a464f7281a0bfda99c02d48",
            "d844f13441014292835a2ba06b5b1f86",
            "efd73fc062ec4718809775daca0045c2",
            "e1f090c631464753b21581981d39874f",
            "99a7a46e925b453d9b77bf02dd4f1c6e",
            "d3b8eb7dcadd4f178458862e594946b1",
            "d598f4b6adf1444ba1b3128cedfda0d2",
            "15448ed27e5849c29c53db4645d11773",
            "e317f9d4f63c47b3903b2ee4b1e084e0",
            "42ae183d994c4af8a904f43eaf5776d2",
            "a05d8000d1ff43b3bf71fc5789ebe7be",
            "f5ab00f59bfe4d9c90140b55bcc2be95",
            "9c479636db684c28ae7707072d2e73e5",
            "f72b8b2459cc4fbd9274d7d871582b26",
            "0947669340df4ed193ea11e9ed482fcd",
            "0282e5be7fc1495a830d7ad12f151531",
            "3c0b5a5fa39b48e097b400ddf0990f2e",
            "e02b9d39e88d494eb49a932c6ae9a500",
            "ff802501fbb24574aad1e6d9cdcb69f5",
            "e500275bc29349e49476ab158908bba6",
            "5a6766a0b14045ce9e092e66d0aedad4",
            "ddaf6fb76f8c44dfab071fe8344bbf42",
            "c186cd8a9248455a9a533384e27b991d"
          ]
        },
        "id": "dIBoTZOZoUDC",
        "outputId": "29c2396d-44f1-4325-de11-44f6c2313d3e"
      },
      "outputs": [],
      "source": [
        "dalle2 = DALLE2(\n",
        "    prior = diffusion_prior,\n",
        "    decoder = decoder\n",
        ")\n",
        "\n",
        "images = dalle2(\n",
        "    ['dogs'],\n",
        "    cond_scale = 3. # classifier free guidance strength (> 1 would strengthen the condition)\n",
        ")"
      ]
    },
    {
      "cell_type": "markdown",
      "metadata": {
        "id": "ulUgYd5Nsp4O"
      },
      "source": [
        "## show image"
      ]
    },
    {
      "cell_type": "code",
      "execution_count": null,
      "metadata": {
        "colab": {
          "base_uri": "https://localhost:8080/",
          "height": 81
        },
        "id": "Y87ezCmZqK6q",
        "outputId": "2b95f1b8-be62-4362-ce4e-8be423b8e616"
      },
      "outputs": [],
      "source": [
        "def show_images(np_images):\n",
        "  for i, np_img in enumerate(np_images):\n",
        "    image = Image.fromarray(np.uint8(np_img * 255))\n",
        "    display(image)\n",
        "\n",
        "def save_images(output_dir, np_images):\n",
        "  os.makedirs(output_dir, exist_ok=True)\n",
        "  for i, np_img in enumerate(np_images):\n",
        "    image = Image.fromarray(np.uint8(np_img * 255))\n",
        "    output_path = os.path.join(output_dir, f'{i}.png')\n",
        "    image.save(output_path)\n",
        "\n",
        "images_np = images.cpu().permute(0, 2, 3, 1).numpy()\n",
        "save_images('./outputs', images_np)\n",
        "show_images(images_np)"
      ]
    },
    {
      "cell_type": "markdown",
      "metadata": {
        "id": "n9oJBcwasv4P"
      },
      "source": [
        "# 64x64->256x256"
      ]
    },
    {
      "cell_type": "code",
      "execution_count": null,
      "metadata": {
        "colab": {
          "base_uri": "https://localhost:8080/"
        },
        "id": "Qx1Syi9mql5R",
        "outputId": "20397206-94fa-4b0e-8222-1e9083961e8b"
      },
      "outputs": [],
      "source": [
        "!python SwinIR/main_test_swinir.py \\\n",
        "  --task real_sr \\\n",
        "  --model_path experiments/pretrained_models/003_realSR_BSRGAN_DFOWMFC_s64w8_SwinIR-L_x4_GAN.pth \\\n",
        "  --folder_lq './outputs' \\\n",
        "  --scale 4 \\\n",
        "  --large_model"
      ]
    },
    {
      "cell_type": "code",
      "execution_count": null,
      "metadata": {
        "colab": {
          "base_uri": "https://localhost:8080/",
          "height": 273
        },
        "id": "NJLUHW7FrCp2",
        "outputId": "9577082f-b737-4a5d-bbe2-1755e1145a71"
      },
      "outputs": [],
      "source": [
        "IPythonImage('/content/results/swinir_real_sr_x4_large/0_SwinIR.png')"
      ]
    }
  ],
  "metadata": {
    "accelerator": "GPU",
    "colab": {
      "collapsed_sections": [],
      "name": "dalle2_laion_demo.ipynb",
      "provenance": [],
      "toc_visible": true
    },
    "kernelspec": {
      "display_name": "Python 3.10.4 64-bit",
      "language": "python",
      "name": "python3"
    },
    "language_info": {
      "name": "python",
      "version": "3.10.4"
    },
    "vscode": {
      "interpreter": {
        "hash": "69158ccfe43d0b962045f592ede11796dd42f250837ab62152c8bc6cd100a15b"
      }
    },
    "widgets": {
      "application/vnd.jupyter.widget-state+json": {
        "0282e5be7fc1495a830d7ad12f151531": {
          "model_module": "@jupyter-widgets/controls",
          "model_module_version": "1.5.0",
          "model_name": "HTMLModel",
          "state": {
            "_dom_classes": [],
            "_model_module": "@jupyter-widgets/controls",
            "_model_module_version": "1.5.0",
            "_model_name": "HTMLModel",
            "_view_count": null,
            "_view_module": "@jupyter-widgets/controls",
            "_view_module_version": "1.5.0",
            "_view_name": "HTMLView",
            "description": "",
            "description_tooltip": null,
            "layout": "IPY_MODEL_ddaf6fb76f8c44dfab071fe8344bbf42",
            "placeholder": "​",
            "style": "IPY_MODEL_c186cd8a9248455a9a533384e27b991d",
            "value": " 1000/1000 [04:17&lt;00:00,  3.96it/s]"
          }
        },
        "0947669340df4ed193ea11e9ed482fcd": {
          "model_module": "@jupyter-widgets/controls",
          "model_module_version": "1.5.0",
          "model_name": "FloatProgressModel",
          "state": {
            "_dom_classes": [],
            "_model_module": "@jupyter-widgets/controls",
            "_model_module_version": "1.5.0",
            "_model_name": "FloatProgressModel",
            "_view_count": null,
            "_view_module": "@jupyter-widgets/controls",
            "_view_module_version": "1.5.0",
            "_view_name": "ProgressView",
            "bar_style": "success",
            "description": "",
            "description_tooltip": null,
            "layout": "IPY_MODEL_e500275bc29349e49476ab158908bba6",
            "max": 1000,
            "min": 0,
            "orientation": "horizontal",
            "style": "IPY_MODEL_5a6766a0b14045ce9e092e66d0aedad4",
            "value": 1000
          }
        },
        "15448ed27e5849c29c53db4645d11773": {
          "model_module": "@jupyter-widgets/controls",
          "model_module_version": "1.5.0",
          "model_name": "DescriptionStyleModel",
          "state": {
            "_model_module": "@jupyter-widgets/controls",
            "_model_module_version": "1.5.0",
            "_model_name": "DescriptionStyleModel",
            "_view_count": null,
            "_view_module": "@jupyter-widgets/base",
            "_view_module_version": "1.2.0",
            "_view_name": "StyleView",
            "description_width": ""
          }
        },
        "2779d00da08f4fc985f4d78b836acb6c": {
          "model_module": "@jupyter-widgets/controls",
          "model_module_version": "1.5.0",
          "model_name": "HTMLModel",
          "state": {
            "_dom_classes": [],
            "_model_module": "@jupyter-widgets/controls",
            "_model_module_version": "1.5.0",
            "_model_name": "HTMLModel",
            "_view_count": null,
            "_view_module": "@jupyter-widgets/controls",
            "_view_module_version": "1.5.0",
            "_view_name": "HTMLView",
            "description": "",
            "description_tooltip": null,
            "layout": "IPY_MODEL_d946799727454910a303ef7a62ebaf90",
            "placeholder": "​",
            "style": "IPY_MODEL_44f1e3161a464f7281a0bfda99c02d48",
            "value": " 1000/1000 [00:45&lt;00:00, 24.51it/s]"
          }
        },
        "29246f81f2e14a87a99f435a84bd1e24": {
          "model_module": "@jupyter-widgets/controls",
          "model_module_version": "1.5.0",
          "model_name": "ProgressStyleModel",
          "state": {
            "_model_module": "@jupyter-widgets/controls",
            "_model_module_version": "1.5.0",
            "_model_name": "ProgressStyleModel",
            "_view_count": null,
            "_view_module": "@jupyter-widgets/base",
            "_view_module_version": "1.2.0",
            "_view_name": "StyleView",
            "bar_color": null,
            "description_width": ""
          }
        },
        "3c0b5a5fa39b48e097b400ddf0990f2e": {
          "model_module": "@jupyter-widgets/base",
          "model_module_version": "1.2.0",
          "model_name": "LayoutModel",
          "state": {
            "_model_module": "@jupyter-widgets/base",
            "_model_module_version": "1.2.0",
            "_model_name": "LayoutModel",
            "_view_count": null,
            "_view_module": "@jupyter-widgets/base",
            "_view_module_version": "1.2.0",
            "_view_name": "LayoutView",
            "align_content": null,
            "align_items": null,
            "align_self": null,
            "border": null,
            "bottom": null,
            "display": null,
            "flex": null,
            "flex_flow": null,
            "grid_area": null,
            "grid_auto_columns": null,
            "grid_auto_flow": null,
            "grid_auto_rows": null,
            "grid_column": null,
            "grid_gap": null,
            "grid_row": null,
            "grid_template_areas": null,
            "grid_template_columns": null,
            "grid_template_rows": null,
            "height": null,
            "justify_content": null,
            "justify_items": null,
            "left": null,
            "margin": null,
            "max_height": null,
            "max_width": null,
            "min_height": null,
            "min_width": null,
            "object_fit": null,
            "object_position": null,
            "order": null,
            "overflow": null,
            "overflow_x": null,
            "overflow_y": null,
            "padding": null,
            "right": null,
            "top": null,
            "visibility": null,
            "width": null
          }
        },
        "42ae183d994c4af8a904f43eaf5776d2": {
          "model_module": "@jupyter-widgets/controls",
          "model_module_version": "1.5.0",
          "model_name": "ProgressStyleModel",
          "state": {
            "_model_module": "@jupyter-widgets/controls",
            "_model_module_version": "1.5.0",
            "_model_name": "ProgressStyleModel",
            "_view_count": null,
            "_view_module": "@jupyter-widgets/base",
            "_view_module_version": "1.2.0",
            "_view_name": "StyleView",
            "bar_color": null,
            "description_width": ""
          }
        },
        "44f1e3161a464f7281a0bfda99c02d48": {
          "model_module": "@jupyter-widgets/controls",
          "model_module_version": "1.5.0",
          "model_name": "DescriptionStyleModel",
          "state": {
            "_model_module": "@jupyter-widgets/controls",
            "_model_module_version": "1.5.0",
            "_model_name": "DescriptionStyleModel",
            "_view_count": null,
            "_view_module": "@jupyter-widgets/base",
            "_view_module_version": "1.2.0",
            "_view_name": "StyleView",
            "description_width": ""
          }
        },
        "4523925cd825479eb9a9306a044db399": {
          "model_module": "@jupyter-widgets/base",
          "model_module_version": "1.2.0",
          "model_name": "LayoutModel",
          "state": {
            "_model_module": "@jupyter-widgets/base",
            "_model_module_version": "1.2.0",
            "_model_name": "LayoutModel",
            "_view_count": null,
            "_view_module": "@jupyter-widgets/base",
            "_view_module_version": "1.2.0",
            "_view_name": "LayoutView",
            "align_content": null,
            "align_items": null,
            "align_self": null,
            "border": null,
            "bottom": null,
            "display": null,
            "flex": null,
            "flex_flow": null,
            "grid_area": null,
            "grid_auto_columns": null,
            "grid_auto_flow": null,
            "grid_auto_rows": null,
            "grid_column": null,
            "grid_gap": null,
            "grid_row": null,
            "grid_template_areas": null,
            "grid_template_columns": null,
            "grid_template_rows": null,
            "height": null,
            "justify_content": null,
            "justify_items": null,
            "left": null,
            "margin": null,
            "max_height": null,
            "max_width": null,
            "min_height": null,
            "min_width": null,
            "object_fit": null,
            "object_position": null,
            "order": null,
            "overflow": null,
            "overflow_x": null,
            "overflow_y": null,
            "padding": null,
            "right": null,
            "top": null,
            "visibility": null,
            "width": null
          }
        },
        "4fd1aacc943a408b8b98068c8dd5b4a1": {
          "model_module": "@jupyter-widgets/controls",
          "model_module_version": "1.5.0",
          "model_name": "HTMLModel",
          "state": {
            "_dom_classes": [],
            "_model_module": "@jupyter-widgets/controls",
            "_model_module_version": "1.5.0",
            "_model_name": "HTMLModel",
            "_view_count": null,
            "_view_module": "@jupyter-widgets/controls",
            "_view_module_version": "1.5.0",
            "_view_name": "HTMLView",
            "description": "",
            "description_tooltip": null,
            "layout": "IPY_MODEL_b666311d12dd4521b2fab1faf104ee94",
            "placeholder": "​",
            "style": "IPY_MODEL_56d07d89a7f347e0bb3d9e8556d478f4",
            "value": "sampling loop time step: 100%"
          }
        },
        "50bb6cba86d54de3b0d3f73485f96e9d": {
          "model_module": "@jupyter-widgets/controls",
          "model_module_version": "1.5.0",
          "model_name": "FloatProgressModel",
          "state": {
            "_dom_classes": [],
            "_model_module": "@jupyter-widgets/controls",
            "_model_module_version": "1.5.0",
            "_model_name": "FloatProgressModel",
            "_view_count": null,
            "_view_module": "@jupyter-widgets/controls",
            "_view_module_version": "1.5.0",
            "_view_name": "ProgressView",
            "bar_style": "success",
            "description": "",
            "description_tooltip": null,
            "layout": "IPY_MODEL_4523925cd825479eb9a9306a044db399",
            "max": 1000,
            "min": 0,
            "orientation": "horizontal",
            "style": "IPY_MODEL_29246f81f2e14a87a99f435a84bd1e24",
            "value": 1000
          }
        },
        "56d07d89a7f347e0bb3d9e8556d478f4": {
          "model_module": "@jupyter-widgets/controls",
          "model_module_version": "1.5.0",
          "model_name": "DescriptionStyleModel",
          "state": {
            "_model_module": "@jupyter-widgets/controls",
            "_model_module_version": "1.5.0",
            "_model_name": "DescriptionStyleModel",
            "_view_count": null,
            "_view_module": "@jupyter-widgets/base",
            "_view_module_version": "1.2.0",
            "_view_name": "StyleView",
            "description_width": ""
          }
        },
        "5a6766a0b14045ce9e092e66d0aedad4": {
          "model_module": "@jupyter-widgets/controls",
          "model_module_version": "1.5.0",
          "model_name": "ProgressStyleModel",
          "state": {
            "_model_module": "@jupyter-widgets/controls",
            "_model_module_version": "1.5.0",
            "_model_name": "ProgressStyleModel",
            "_view_count": null,
            "_view_module": "@jupyter-widgets/base",
            "_view_module_version": "1.2.0",
            "_view_name": "StyleView",
            "bar_color": null,
            "description_width": ""
          }
        },
        "99a7a46e925b453d9b77bf02dd4f1c6e": {
          "model_module": "@jupyter-widgets/controls",
          "model_module_version": "1.5.0",
          "model_name": "HTMLModel",
          "state": {
            "_dom_classes": [],
            "_model_module": "@jupyter-widgets/controls",
            "_model_module_version": "1.5.0",
            "_model_name": "HTMLModel",
            "_view_count": null,
            "_view_module": "@jupyter-widgets/controls",
            "_view_module_version": "1.5.0",
            "_view_name": "HTMLView",
            "description": "",
            "description_tooltip": null,
            "layout": "IPY_MODEL_a05d8000d1ff43b3bf71fc5789ebe7be",
            "placeholder": "​",
            "style": "IPY_MODEL_f5ab00f59bfe4d9c90140b55bcc2be95",
            "value": " 1/? [04:21&lt;00:00, 261.06s/it]"
          }
        },
        "9c479636db684c28ae7707072d2e73e5": {
          "model_module": "@jupyter-widgets/controls",
          "model_module_version": "1.5.0",
          "model_name": "HBoxModel",
          "state": {
            "_dom_classes": [],
            "_model_module": "@jupyter-widgets/controls",
            "_model_module_version": "1.5.0",
            "_model_name": "HBoxModel",
            "_view_count": null,
            "_view_module": "@jupyter-widgets/controls",
            "_view_module_version": "1.5.0",
            "_view_name": "HBoxView",
            "box_style": "",
            "children": [
              "IPY_MODEL_f72b8b2459cc4fbd9274d7d871582b26",
              "IPY_MODEL_0947669340df4ed193ea11e9ed482fcd",
              "IPY_MODEL_0282e5be7fc1495a830d7ad12f151531"
            ],
            "layout": "IPY_MODEL_3c0b5a5fa39b48e097b400ddf0990f2e"
          }
        },
        "a05d8000d1ff43b3bf71fc5789ebe7be": {
          "model_module": "@jupyter-widgets/base",
          "model_module_version": "1.2.0",
          "model_name": "LayoutModel",
          "state": {
            "_model_module": "@jupyter-widgets/base",
            "_model_module_version": "1.2.0",
            "_model_name": "LayoutModel",
            "_view_count": null,
            "_view_module": "@jupyter-widgets/base",
            "_view_module_version": "1.2.0",
            "_view_name": "LayoutView",
            "align_content": null,
            "align_items": null,
            "align_self": null,
            "border": null,
            "bottom": null,
            "display": null,
            "flex": null,
            "flex_flow": null,
            "grid_area": null,
            "grid_auto_columns": null,
            "grid_auto_flow": null,
            "grid_auto_rows": null,
            "grid_column": null,
            "grid_gap": null,
            "grid_row": null,
            "grid_template_areas": null,
            "grid_template_columns": null,
            "grid_template_rows": null,
            "height": null,
            "justify_content": null,
            "justify_items": null,
            "left": null,
            "margin": null,
            "max_height": null,
            "max_width": null,
            "min_height": null,
            "min_width": null,
            "object_fit": null,
            "object_position": null,
            "order": null,
            "overflow": null,
            "overflow_x": null,
            "overflow_y": null,
            "padding": null,
            "right": null,
            "top": null,
            "visibility": null,
            "width": null
          }
        },
        "ab64c7a12a7e4a7faad4038704e5641b": {
          "model_module": "@jupyter-widgets/base",
          "model_module_version": "1.2.0",
          "model_name": "LayoutModel",
          "state": {
            "_model_module": "@jupyter-widgets/base",
            "_model_module_version": "1.2.0",
            "_model_name": "LayoutModel",
            "_view_count": null,
            "_view_module": "@jupyter-widgets/base",
            "_view_module_version": "1.2.0",
            "_view_name": "LayoutView",
            "align_content": null,
            "align_items": null,
            "align_self": null,
            "border": null,
            "bottom": null,
            "display": null,
            "flex": null,
            "flex_flow": null,
            "grid_area": null,
            "grid_auto_columns": null,
            "grid_auto_flow": null,
            "grid_auto_rows": null,
            "grid_column": null,
            "grid_gap": null,
            "grid_row": null,
            "grid_template_areas": null,
            "grid_template_columns": null,
            "grid_template_rows": null,
            "height": null,
            "justify_content": null,
            "justify_items": null,
            "left": null,
            "margin": null,
            "max_height": null,
            "max_width": null,
            "min_height": null,
            "min_width": null,
            "object_fit": null,
            "object_position": null,
            "order": null,
            "overflow": null,
            "overflow_x": null,
            "overflow_y": null,
            "padding": null,
            "right": null,
            "top": null,
            "visibility": null,
            "width": null
          }
        },
        "b666311d12dd4521b2fab1faf104ee94": {
          "model_module": "@jupyter-widgets/base",
          "model_module_version": "1.2.0",
          "model_name": "LayoutModel",
          "state": {
            "_model_module": "@jupyter-widgets/base",
            "_model_module_version": "1.2.0",
            "_model_name": "LayoutModel",
            "_view_count": null,
            "_view_module": "@jupyter-widgets/base",
            "_view_module_version": "1.2.0",
            "_view_name": "LayoutView",
            "align_content": null,
            "align_items": null,
            "align_self": null,
            "border": null,
            "bottom": null,
            "display": null,
            "flex": null,
            "flex_flow": null,
            "grid_area": null,
            "grid_auto_columns": null,
            "grid_auto_flow": null,
            "grid_auto_rows": null,
            "grid_column": null,
            "grid_gap": null,
            "grid_row": null,
            "grid_template_areas": null,
            "grid_template_columns": null,
            "grid_template_rows": null,
            "height": null,
            "justify_content": null,
            "justify_items": null,
            "left": null,
            "margin": null,
            "max_height": null,
            "max_width": null,
            "min_height": null,
            "min_width": null,
            "object_fit": null,
            "object_position": null,
            "order": null,
            "overflow": null,
            "overflow_x": null,
            "overflow_y": null,
            "padding": null,
            "right": null,
            "top": null,
            "visibility": null,
            "width": null
          }
        },
        "c186cd8a9248455a9a533384e27b991d": {
          "model_module": "@jupyter-widgets/controls",
          "model_module_version": "1.5.0",
          "model_name": "DescriptionStyleModel",
          "state": {
            "_model_module": "@jupyter-widgets/controls",
            "_model_module_version": "1.5.0",
            "_model_name": "DescriptionStyleModel",
            "_view_count": null,
            "_view_module": "@jupyter-widgets/base",
            "_view_module_version": "1.2.0",
            "_view_name": "StyleView",
            "description_width": ""
          }
        },
        "c628ca0b4f5144009903e654ad4b2465": {
          "model_module": "@jupyter-widgets/controls",
          "model_module_version": "1.5.0",
          "model_name": "HBoxModel",
          "state": {
            "_dom_classes": [],
            "_model_module": "@jupyter-widgets/controls",
            "_model_module_version": "1.5.0",
            "_model_name": "HBoxModel",
            "_view_count": null,
            "_view_module": "@jupyter-widgets/controls",
            "_view_module_version": "1.5.0",
            "_view_name": "HBoxView",
            "box_style": "",
            "children": [
              "IPY_MODEL_4fd1aacc943a408b8b98068c8dd5b4a1",
              "IPY_MODEL_50bb6cba86d54de3b0d3f73485f96e9d",
              "IPY_MODEL_2779d00da08f4fc985f4d78b836acb6c"
            ],
            "layout": "IPY_MODEL_ab64c7a12a7e4a7faad4038704e5641b"
          }
        },
        "d3b8eb7dcadd4f178458862e594946b1": {
          "model_module": "@jupyter-widgets/base",
          "model_module_version": "1.2.0",
          "model_name": "LayoutModel",
          "state": {
            "_model_module": "@jupyter-widgets/base",
            "_model_module_version": "1.2.0",
            "_model_name": "LayoutModel",
            "_view_count": null,
            "_view_module": "@jupyter-widgets/base",
            "_view_module_version": "1.2.0",
            "_view_name": "LayoutView",
            "align_content": null,
            "align_items": null,
            "align_self": null,
            "border": null,
            "bottom": null,
            "display": null,
            "flex": null,
            "flex_flow": null,
            "grid_area": null,
            "grid_auto_columns": null,
            "grid_auto_flow": null,
            "grid_auto_rows": null,
            "grid_column": null,
            "grid_gap": null,
            "grid_row": null,
            "grid_template_areas": null,
            "grid_template_columns": null,
            "grid_template_rows": null,
            "height": null,
            "justify_content": null,
            "justify_items": null,
            "left": null,
            "margin": null,
            "max_height": null,
            "max_width": null,
            "min_height": null,
            "min_width": null,
            "object_fit": null,
            "object_position": null,
            "order": null,
            "overflow": null,
            "overflow_x": null,
            "overflow_y": null,
            "padding": null,
            "right": null,
            "top": null,
            "visibility": null,
            "width": null
          }
        },
        "d598f4b6adf1444ba1b3128cedfda0d2": {
          "model_module": "@jupyter-widgets/base",
          "model_module_version": "1.2.0",
          "model_name": "LayoutModel",
          "state": {
            "_model_module": "@jupyter-widgets/base",
            "_model_module_version": "1.2.0",
            "_model_name": "LayoutModel",
            "_view_count": null,
            "_view_module": "@jupyter-widgets/base",
            "_view_module_version": "1.2.0",
            "_view_name": "LayoutView",
            "align_content": null,
            "align_items": null,
            "align_self": null,
            "border": null,
            "bottom": null,
            "display": null,
            "flex": null,
            "flex_flow": null,
            "grid_area": null,
            "grid_auto_columns": null,
            "grid_auto_flow": null,
            "grid_auto_rows": null,
            "grid_column": null,
            "grid_gap": null,
            "grid_row": null,
            "grid_template_areas": null,
            "grid_template_columns": null,
            "grid_template_rows": null,
            "height": null,
            "justify_content": null,
            "justify_items": null,
            "left": null,
            "margin": null,
            "max_height": null,
            "max_width": null,
            "min_height": null,
            "min_width": null,
            "object_fit": null,
            "object_position": null,
            "order": null,
            "overflow": null,
            "overflow_x": null,
            "overflow_y": null,
            "padding": null,
            "right": null,
            "top": null,
            "visibility": null,
            "width": null
          }
        },
        "d844f13441014292835a2ba06b5b1f86": {
          "model_module": "@jupyter-widgets/controls",
          "model_module_version": "1.5.0",
          "model_name": "HBoxModel",
          "state": {
            "_dom_classes": [],
            "_model_module": "@jupyter-widgets/controls",
            "_model_module_version": "1.5.0",
            "_model_name": "HBoxModel",
            "_view_count": null,
            "_view_module": "@jupyter-widgets/controls",
            "_view_module_version": "1.5.0",
            "_view_name": "HBoxView",
            "box_style": "",
            "children": [
              "IPY_MODEL_efd73fc062ec4718809775daca0045c2",
              "IPY_MODEL_e1f090c631464753b21581981d39874f",
              "IPY_MODEL_99a7a46e925b453d9b77bf02dd4f1c6e"
            ],
            "layout": "IPY_MODEL_d3b8eb7dcadd4f178458862e594946b1"
          }
        },
        "d946799727454910a303ef7a62ebaf90": {
          "model_module": "@jupyter-widgets/base",
          "model_module_version": "1.2.0",
          "model_name": "LayoutModel",
          "state": {
            "_model_module": "@jupyter-widgets/base",
            "_model_module_version": "1.2.0",
            "_model_name": "LayoutModel",
            "_view_count": null,
            "_view_module": "@jupyter-widgets/base",
            "_view_module_version": "1.2.0",
            "_view_name": "LayoutView",
            "align_content": null,
            "align_items": null,
            "align_self": null,
            "border": null,
            "bottom": null,
            "display": null,
            "flex": null,
            "flex_flow": null,
            "grid_area": null,
            "grid_auto_columns": null,
            "grid_auto_flow": null,
            "grid_auto_rows": null,
            "grid_column": null,
            "grid_gap": null,
            "grid_row": null,
            "grid_template_areas": null,
            "grid_template_columns": null,
            "grid_template_rows": null,
            "height": null,
            "justify_content": null,
            "justify_items": null,
            "left": null,
            "margin": null,
            "max_height": null,
            "max_width": null,
            "min_height": null,
            "min_width": null,
            "object_fit": null,
            "object_position": null,
            "order": null,
            "overflow": null,
            "overflow_x": null,
            "overflow_y": null,
            "padding": null,
            "right": null,
            "top": null,
            "visibility": null,
            "width": null
          }
        },
        "ddaf6fb76f8c44dfab071fe8344bbf42": {
          "model_module": "@jupyter-widgets/base",
          "model_module_version": "1.2.0",
          "model_name": "LayoutModel",
          "state": {
            "_model_module": "@jupyter-widgets/base",
            "_model_module_version": "1.2.0",
            "_model_name": "LayoutModel",
            "_view_count": null,
            "_view_module": "@jupyter-widgets/base",
            "_view_module_version": "1.2.0",
            "_view_name": "LayoutView",
            "align_content": null,
            "align_items": null,
            "align_self": null,
            "border": null,
            "bottom": null,
            "display": null,
            "flex": null,
            "flex_flow": null,
            "grid_area": null,
            "grid_auto_columns": null,
            "grid_auto_flow": null,
            "grid_auto_rows": null,
            "grid_column": null,
            "grid_gap": null,
            "grid_row": null,
            "grid_template_areas": null,
            "grid_template_columns": null,
            "grid_template_rows": null,
            "height": null,
            "justify_content": null,
            "justify_items": null,
            "left": null,
            "margin": null,
            "max_height": null,
            "max_width": null,
            "min_height": null,
            "min_width": null,
            "object_fit": null,
            "object_position": null,
            "order": null,
            "overflow": null,
            "overflow_x": null,
            "overflow_y": null,
            "padding": null,
            "right": null,
            "top": null,
            "visibility": null,
            "width": null
          }
        },
        "e02b9d39e88d494eb49a932c6ae9a500": {
          "model_module": "@jupyter-widgets/base",
          "model_module_version": "1.2.0",
          "model_name": "LayoutModel",
          "state": {
            "_model_module": "@jupyter-widgets/base",
            "_model_module_version": "1.2.0",
            "_model_name": "LayoutModel",
            "_view_count": null,
            "_view_module": "@jupyter-widgets/base",
            "_view_module_version": "1.2.0",
            "_view_name": "LayoutView",
            "align_content": null,
            "align_items": null,
            "align_self": null,
            "border": null,
            "bottom": null,
            "display": null,
            "flex": null,
            "flex_flow": null,
            "grid_area": null,
            "grid_auto_columns": null,
            "grid_auto_flow": null,
            "grid_auto_rows": null,
            "grid_column": null,
            "grid_gap": null,
            "grid_row": null,
            "grid_template_areas": null,
            "grid_template_columns": null,
            "grid_template_rows": null,
            "height": null,
            "justify_content": null,
            "justify_items": null,
            "left": null,
            "margin": null,
            "max_height": null,
            "max_width": null,
            "min_height": null,
            "min_width": null,
            "object_fit": null,
            "object_position": null,
            "order": null,
            "overflow": null,
            "overflow_x": null,
            "overflow_y": null,
            "padding": null,
            "right": null,
            "top": null,
            "visibility": null,
            "width": null
          }
        },
        "e1f090c631464753b21581981d39874f": {
          "model_module": "@jupyter-widgets/controls",
          "model_module_version": "1.5.0",
          "model_name": "FloatProgressModel",
          "state": {
            "_dom_classes": [],
            "_model_module": "@jupyter-widgets/controls",
            "_model_module_version": "1.5.0",
            "_model_name": "FloatProgressModel",
            "_view_count": null,
            "_view_module": "@jupyter-widgets/controls",
            "_view_module_version": "1.5.0",
            "_view_name": "ProgressView",
            "bar_style": "success",
            "description": "",
            "description_tooltip": null,
            "layout": "IPY_MODEL_e317f9d4f63c47b3903b2ee4b1e084e0",
            "max": 1,
            "min": 0,
            "orientation": "horizontal",
            "style": "IPY_MODEL_42ae183d994c4af8a904f43eaf5776d2",
            "value": 1
          }
        },
        "e317f9d4f63c47b3903b2ee4b1e084e0": {
          "model_module": "@jupyter-widgets/base",
          "model_module_version": "1.2.0",
          "model_name": "LayoutModel",
          "state": {
            "_model_module": "@jupyter-widgets/base",
            "_model_module_version": "1.2.0",
            "_model_name": "LayoutModel",
            "_view_count": null,
            "_view_module": "@jupyter-widgets/base",
            "_view_module_version": "1.2.0",
            "_view_name": "LayoutView",
            "align_content": null,
            "align_items": null,
            "align_self": null,
            "border": null,
            "bottom": null,
            "display": null,
            "flex": null,
            "flex_flow": null,
            "grid_area": null,
            "grid_auto_columns": null,
            "grid_auto_flow": null,
            "grid_auto_rows": null,
            "grid_column": null,
            "grid_gap": null,
            "grid_row": null,
            "grid_template_areas": null,
            "grid_template_columns": null,
            "grid_template_rows": null,
            "height": null,
            "justify_content": null,
            "justify_items": null,
            "left": null,
            "margin": null,
            "max_height": null,
            "max_width": null,
            "min_height": null,
            "min_width": null,
            "object_fit": null,
            "object_position": null,
            "order": null,
            "overflow": null,
            "overflow_x": null,
            "overflow_y": null,
            "padding": null,
            "right": null,
            "top": null,
            "visibility": null,
            "width": "20px"
          }
        },
        "e500275bc29349e49476ab158908bba6": {
          "model_module": "@jupyter-widgets/base",
          "model_module_version": "1.2.0",
          "model_name": "LayoutModel",
          "state": {
            "_model_module": "@jupyter-widgets/base",
            "_model_module_version": "1.2.0",
            "_model_name": "LayoutModel",
            "_view_count": null,
            "_view_module": "@jupyter-widgets/base",
            "_view_module_version": "1.2.0",
            "_view_name": "LayoutView",
            "align_content": null,
            "align_items": null,
            "align_self": null,
            "border": null,
            "bottom": null,
            "display": null,
            "flex": null,
            "flex_flow": null,
            "grid_area": null,
            "grid_auto_columns": null,
            "grid_auto_flow": null,
            "grid_auto_rows": null,
            "grid_column": null,
            "grid_gap": null,
            "grid_row": null,
            "grid_template_areas": null,
            "grid_template_columns": null,
            "grid_template_rows": null,
            "height": null,
            "justify_content": null,
            "justify_items": null,
            "left": null,
            "margin": null,
            "max_height": null,
            "max_width": null,
            "min_height": null,
            "min_width": null,
            "object_fit": null,
            "object_position": null,
            "order": null,
            "overflow": null,
            "overflow_x": null,
            "overflow_y": null,
            "padding": null,
            "right": null,
            "top": null,
            "visibility": null,
            "width": null
          }
        },
        "efd73fc062ec4718809775daca0045c2": {
          "model_module": "@jupyter-widgets/controls",
          "model_module_version": "1.5.0",
          "model_name": "HTMLModel",
          "state": {
            "_dom_classes": [],
            "_model_module": "@jupyter-widgets/controls",
            "_model_module_version": "1.5.0",
            "_model_name": "HTMLModel",
            "_view_count": null,
            "_view_module": "@jupyter-widgets/controls",
            "_view_module_version": "1.5.0",
            "_view_name": "HTMLView",
            "description": "",
            "description_tooltip": null,
            "layout": "IPY_MODEL_d598f4b6adf1444ba1b3128cedfda0d2",
            "placeholder": "​",
            "style": "IPY_MODEL_15448ed27e5849c29c53db4645d11773",
            "value": ""
          }
        },
        "f5ab00f59bfe4d9c90140b55bcc2be95": {
          "model_module": "@jupyter-widgets/controls",
          "model_module_version": "1.5.0",
          "model_name": "DescriptionStyleModel",
          "state": {
            "_model_module": "@jupyter-widgets/controls",
            "_model_module_version": "1.5.0",
            "_model_name": "DescriptionStyleModel",
            "_view_count": null,
            "_view_module": "@jupyter-widgets/base",
            "_view_module_version": "1.2.0",
            "_view_name": "StyleView",
            "description_width": ""
          }
        },
        "f72b8b2459cc4fbd9274d7d871582b26": {
          "model_module": "@jupyter-widgets/controls",
          "model_module_version": "1.5.0",
          "model_name": "HTMLModel",
          "state": {
            "_dom_classes": [],
            "_model_module": "@jupyter-widgets/controls",
            "_model_module_version": "1.5.0",
            "_model_name": "HTMLModel",
            "_view_count": null,
            "_view_module": "@jupyter-widgets/controls",
            "_view_module_version": "1.5.0",
            "_view_name": "HTMLView",
            "description": "",
            "description_tooltip": null,
            "layout": "IPY_MODEL_e02b9d39e88d494eb49a932c6ae9a500",
            "placeholder": "​",
            "style": "IPY_MODEL_ff802501fbb24574aad1e6d9cdcb69f5",
            "value": "sampling loop time step: 100%"
          }
        },
        "ff802501fbb24574aad1e6d9cdcb69f5": {
          "model_module": "@jupyter-widgets/controls",
          "model_module_version": "1.5.0",
          "model_name": "DescriptionStyleModel",
          "state": {
            "_model_module": "@jupyter-widgets/controls",
            "_model_module_version": "1.5.0",
            "_model_name": "DescriptionStyleModel",
            "_view_count": null,
            "_view_module": "@jupyter-widgets/base",
            "_view_module_version": "1.2.0",
            "_view_name": "StyleView",
            "description_width": ""
          }
        }
      }
    }
  },
  "nbformat": 4,
  "nbformat_minor": 0
}
