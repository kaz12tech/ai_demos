{
  "cells": [
    {
      "cell_type": "markdown",
      "metadata": {
        "id": "ze17Whr66OiC"
      },
      "source": [
        "論文<br>\n",
        "https://arxiv.org/abs/2303.09535<br>\n",
        "<br>\n",
        "GitHub<br>\n",
        "https://github.com/chenyangqiqi/fatezero<br>\n",
        "<br>\n",
        "<a href=\"https://colab.research.google.com/github/kaz12tech/ai_demos/blob/master/FateZero_demo.ipynb\" target=\"_blank\"><img src=\"https://colab.research.google.com/assets/colab-badge.svg\" alt=\"Open In Colab\"/></a>"
      ]
    },
    {
      "cell_type": "markdown",
      "metadata": {
        "id": "GOLKpkBa6OiI"
      },
      "source": [
        "# setup environment"
      ]
    },
    {
      "cell_type": "markdown",
      "metadata": {
        "id": "Jz8gTEgP6OiJ"
      },
      "source": [
        "## git clone"
      ]
    },
    {
      "cell_type": "code",
      "execution_count": null,
      "metadata": {
        "id": "SO7I9ozfFpmW"
      },
      "outputs": [],
      "source": [
        "%cd /content\n",
        "\n",
        "!git clone https://github.com/ChenyangQiQi/FateZero\n",
        "\n",
        "%cd /content/FateZero\n",
        "# Commits on Mar 22, 2023\n",
        "!git checkout 37a321f04a41c0c342e78b2dca0f02183d2ba1de"
      ]
    },
    {
      "cell_type": "markdown",
      "metadata": {
        "id": "07hg4xM8tYCV"
      },
      "source": [
        "## install libraries"
      ]
    },
    {
      "cell_type": "code",
      "execution_count": null,
      "metadata": {
        "id": "gRHm5XmrGGNB"
      },
      "outputs": [],
      "source": [
        "%cd /content/FateZero\n",
        "\n",
        "!pip install -q -U --pre triton\n",
        "!pip install -q diffusers[torch]==0.11.1 transformers==4.26.0 bitsandbytes==0.35.4 \\\n",
        "decord accelerate omegaconf einops ftfy gradio imageio-ffmpeg xformers\n",
        "\n",
        "!pip install moviepy yt-dlp\n",
        "!pip install imageio==2.4.1"
      ]
    },
    {
      "cell_type": "markdown",
      "metadata": {
        "id": "L6sssZcc9CBF"
      },
      "source": [
        "## import libraries"
      ]
    },
    {
      "cell_type": "code",
      "execution_count": null,
      "metadata": {
        "id": "oeUH114h9AEa"
      },
      "outputs": [],
      "source": [
        "%cd /content/FateZero\n",
        "\n",
        "import os\n",
        "import glob\n",
        "\n",
        "import torch\n",
        "import cv2\n",
        "\n",
        "from yt_dlp import YoutubeDL\n",
        "from moviepy.video.fx.resize import resize\n",
        "from moviepy.editor import VideoFileClip\n",
        "\n",
        "from omegaconf import OmegaConf\n",
        "\n",
        "device = 'cuda' if torch.cuda.is_available() else 'cpu'\n",
        "print('using device is', device)"
      ]
    },
    {
      "cell_type": "markdown",
      "metadata": {
        "id": "1E2Tf5qE7EjH"
      },
      "source": [
        "# download pretrain models"
      ]
    },
    {
      "cell_type": "code",
      "execution_count": null,
      "metadata": {
        "colab": {
          "background_save": true
        },
        "id": "fHJjZa2Z7Juh"
      },
      "outputs": [],
      "source": [
        "%cd /content/FateZero\n",
        "\n",
        "MODEL_NAME = \"CompVis/stable-diffusion-v1-4\"\n",
        "\n",
        "!git lfs install\n",
        "!git clone https://huggingface.co/$MODEL_NAME ckpt/$MODEL_NAME\n",
        "MODEL_NAME = f\"./ckpt/{MODEL_NAME}\"\n",
        "print(f\"[*] MODEL_NAME={MODEL_NAME}\")"
      ]
    },
    {
      "cell_type": "markdown",
      "metadata": {
        "id": "C6_SeXVOpE5-"
      },
      "source": [
        "# download video"
      ]
    },
    {
      "cell_type": "code",
      "execution_count": null,
      "metadata": {
        "id": "xdDQZj1_pGMM"
      },
      "outputs": [],
      "source": [
        "%cd /content/FateZero\n",
        "\n",
        "video_url = 'https://www.youtube.com/watch?v=YAWt-gktZqM' #@param {type:\"string\"}\n",
        "\n",
        "#@markdown 動画の切り抜き範囲(秒)を指定してください。\\\n",
        "#@markdown 30秒以上の場合OOM発生の可能性が高いため注意\n",
        "start_sec =  77#@param {type:\"integer\"}\n",
        "end_sec =  78#@param {type:\"integer\"}\n",
        "\n",
        "(start_pt, end_pt) = (start_sec, end_sec)"
      ]
    },
    {
      "cell_type": "code",
      "execution_count": null,
      "metadata": {
        "id": "gJq0ttHOpgq0"
      },
      "outputs": [],
      "source": [
        "download_resolution = 720\n",
        "full_video_path = './data/full_video02.mp4'\n",
        "input_clip_path = './data/clip_video02.mp4'\n",
        "\n",
        "# 動画ダウンロード\n",
        "ydl_opts = {'format': f'best[height<={download_resolution}]', 'overwrites': True, 'outtmpl': full_video_path}\n",
        "with YoutubeDL(ydl_opts) as ydl:\n",
        "    ydl.download([video_url])\n",
        "\n",
        "# 指定区間切り抜き\n",
        "with VideoFileClip(full_video_path) as video:\n",
        "    subclip = video.subclip(start_pt, end_pt)\n",
        "    subclip.write_videofile(input_clip_path)"
      ]
    },
    {
      "cell_type": "code",
      "execution_count": null,
      "metadata": {
        "id": "rn0HYMA8p9Lb"
      },
      "outputs": [],
      "source": [
        "clip = VideoFileClip(input_clip_path)\n",
        "clip = resize(clip, height=420)\n",
        "clip.ipython_display()"
      ]
    },
    {
      "cell_type": "markdown",
      "metadata": {
        "id": "gvD2eJG5qL7s"
      },
      "source": [
        "## video to frames"
      ]
    },
    {
      "cell_type": "code",
      "execution_count": null,
      "metadata": {
        "id": "nCBiLnnSqVrO"
      },
      "outputs": [],
      "source": [
        "# load video\n",
        "video = cv2.VideoCapture(input_clip_path)\n",
        "# get video info\n",
        "w = int(video.get(cv2.CAP_PROP_FRAME_WIDTH))\n",
        "h = int(video.get(cv2.CAP_PROP_FRAME_HEIGHT))\n",
        "frames_per_second = video.get(cv2.CAP_PROP_FPS)\n",
        "num_frames = int(video.get(cv2.CAP_PROP_FRAME_COUNT))\n",
        "print('video width:', w, ', height:', h, ', fps:', frames_per_second, ', frames:', num_frames)\n",
        "\n",
        "# create out directory\n",
        "out_path = './data/frames'\n",
        "!rm -rf {out_path}\n",
        "os.makedirs(out_path, exist_ok=True)\n"
      ]
    },
    {
      "cell_type": "code",
      "execution_count": null,
      "metadata": {
        "id": "yB_eQ3XRsKuh"
      },
      "outputs": [],
      "source": [
        "# Get only 8frames due to OOM\n",
        "interval = int(num_frames/8)\n",
        "\n",
        "for i in range(num_frames):\n",
        "  if i % interval == 0:\n",
        "    success, frame = video.read()\n",
        "    cv2.imwrite( os.path.join(out_path, f'{i:06}.jpg'), cv2.resize(frame, (512, 512)))\n"
      ]
    },
    {
      "cell_type": "markdown",
      "metadata": {
        "id": "PQOXSMlukdfb"
      },
      "source": [
        "# set parameters"
      ]
    },
    {
      "cell_type": "code",
      "execution_count": null,
      "metadata": {
        "id": "kqAMC-6WYM2I"
      },
      "outputs": [],
      "source": [
        "!rm -rf /content/FateZero/result"
      ]
    },
    {
      "cell_type": "code",
      "execution_count": null,
      "metadata": {
        "id": "AhRxWQczkfhE"
      },
      "outputs": [],
      "source": [
        "#@markdown frame image directory\n",
        "VIDEO_FILE = './data/frames'\n",
        "VIDEO_ID = VIDEO_FILE.split('/')[-1] # directory name\n",
        "RESULT_DIR = './result/'+VIDEO_ID # output directory\n",
        "CONFIG_NAME = \"./config/\"+VIDEO_ID+\".yaml\" # config path\n",
        "\n",
        "#@markdown source prompt\n",
        "source_prompt = \"a black car driving down a curvy road in the countryside\" #@param {type:\"string\"}\n",
        "#@markdown edit prompt\n",
        "edit_prompt = \"watercolor painting of a black car driving down a curvy road in the countryside\"  #@param {type:\"string\"}\n",
        "EMPHYSIS_WORD = \"watercolor\" #@param {type:\"string\"}\n",
        "EMPHYSIS_VALUE = 10 #@param {type:\"number\"}\n",
        "INVERSION_STEP = 8 #@param {type:\"number\"}\n",
        "REPLACE_STRENGTH = 0.8 #@param {type:\"slider\", min:0, max:1, step:0.1}\n",
        "STORE_ATTENTION_ON_disk = False #@param {type:\"boolean\"}\n",
        "\n",
        "# OOM avoidance\n",
        "# video_length = num_frames\n",
        "video_length = 8\n",
        "# width = w\n",
        "# height = h\n",
        "width = 512\n",
        "height = 288"
      ]
    },
    {
      "cell_type": "code",
      "execution_count": null,
      "metadata": {
        "id": "prgSti59lqx9"
      },
      "outputs": [],
      "source": [
        "config = {\n",
        "  \"pretrained_model_path\": MODEL_NAME,\n",
        "  \"logdir\": RESULT_DIR,\n",
        "  \"train_dataset\": {\n",
        "    \"path\": VIDEO_FILE,\n",
        "    \"prompt\": source_prompt,\n",
        "    \"n_sample_frame\": video_length,\n",
        "    \"sampling_rate\": 1,\n",
        "    \"stride\": 80,\n",
        "    \"offset\":\n",
        "    {\n",
        "        \"left\": 0,\n",
        "        \"right\": 0,\n",
        "        \"top\": 0,\n",
        "        \"bottom\": 0,\n",
        "    }\n",
        "  },\n",
        "  \"validation_sample_logger_config\":{\n",
        "      \"use_train_latents\": True,\n",
        "      \"use_inversion_attention\": True,\n",
        "      \"guidance_scale\": 7.5,\n",
        "      \"prompts\":[\n",
        "          source_prompt,\n",
        "          edit_prompt,\n",
        "      ],\n",
        "      \"p2p_config\":[\n",
        "          {\n",
        "          \"cross_replace_steps\":{\n",
        "              \"default_\":0.8\n",
        "              },\n",
        "          \"self_replace_steps\": 0.8,\n",
        "          \"masked_self_attention\": True,\n",
        "           \"bend_th\": [2, 2],\n",
        "          \"is_replace_controller\": False\n",
        "          },\n",
        "          {\n",
        "          \"cross_replace_steps\":{\n",
        "              \"default_\":0.8\n",
        "              },\n",
        "          \"self_replace_steps\": 0.8,\n",
        "          \"eq_params\":{\n",
        "              \"words\":[EMPHYSIS_WORD],\n",
        "              \"values\": [EMPHYSIS_VALUE]\n",
        "            },\n",
        "          \"use_inversion_attention\": True,\n",
        "          \"is_replace_controller\": False\n",
        "          }]\n",
        "          ,\n",
        "    \"clip_length\": \"${..train_dataset.n_sample_frame}\",\n",
        "    \"sample_seeds\": [0],\n",
        "    \"num_inference_steps\": INVERSION_STEP,\n",
        "    \"prompt2prompt_edit\": True\n",
        "     },\n",
        "  \"disk_store\": STORE_ATTENTION_ON_disk,\n",
        "  \"model_config\":{\n",
        "      \"lora\": 160,\n",
        "      \"SparseCausalAttention_index\": ['mid'],\n",
        "      \"least_sc_channel\": 640\n",
        "  },\n",
        "  \"test_pipeline_config\":{\n",
        "    \"target\": \"video_diffusion.pipelines.p2pDDIMSpatioTemporalPipeline.p2pDDIMSpatioTemporalPipeline\",\n",
        "    \"num_inference_steps\": \"${..validation_sample_logger.num_inference_steps}\"\n",
        "  },\n",
        "  \"epsilon\": 1e-5,\n",
        "  \"train_steps\": 10,\n",
        "  \"seed\": 0,\n",
        "  \"learning_rate\": 1e-5,\n",
        "  \"train_temporal_conv\": False,\n",
        "  \"guidance_scale\": \"${validation_sample_logger_config.guidance_scale}\"\n",
        "}\n",
        "\n",
        "OmegaConf.save(config, CONFIG_NAME)\n",
        "print('save new configue to ', CONFIG_NAME)"
      ]
    },
    {
      "cell_type": "markdown",
      "metadata": {
        "id": "jiQ6nt5Sl0u-"
      },
      "source": [
        "# inference"
      ]
    },
    {
      "cell_type": "code",
      "execution_count": null,
      "metadata": {
        "id": "XqMPvTIpl1xm"
      },
      "outputs": [],
      "source": [
        "%cd /content/FateZero\n",
        "\n",
        "!python test_fatezero.py --config=$CONFIG_NAME"
      ]
    },
    {
      "cell_type": "markdown",
      "metadata": {
        "id": "BJb1IyTfoEmv"
      },
      "source": [
        "## before"
      ]
    },
    {
      "cell_type": "code",
      "execution_count": null,
      "metadata": {
        "id": "stJ423U_oHQE"
      },
      "outputs": [],
      "source": [
        "clip = VideoFileClip(glob.glob('/content/FateZero/result/*/sample/step_0_0_0.mp4')[0])\n",
        "clip = resize(clip, height=420)\n",
        "clip.ipython_display()"
      ]
    },
    {
      "cell_type": "markdown",
      "metadata": {
        "id": "fRzP2PcZoFol"
      },
      "source": [
        "## after"
      ]
    },
    {
      "cell_type": "code",
      "execution_count": null,
      "metadata": {
        "id": "r0GMUGyanbsf"
      },
      "outputs": [],
      "source": [
        "clip = VideoFileClip(glob.glob('/content/FateZero/result/*/sample/step_0_1_0.mp4')[0])\n",
        "clip = resize(clip, height=420)\n",
        "clip.ipython_display()"
      ]
    }
  ],
  "metadata": {
    "accelerator": "GPU",
    "colab": {
      "provenance": []
    },
    "kernelspec": {
      "display_name": "Python 3.10.4 64-bit",
      "language": "python",
      "name": "python3"
    },
    "language_info": {
      "name": "python",
      "version": "3.10.4"
    },
    "vscode": {
      "interpreter": {
        "hash": "69158ccfe43d0b962045f592ede11796dd42f250837ab62152c8bc6cd100a15b"
      }
    }
  },
  "nbformat": 4,
  "nbformat_minor": 0
}