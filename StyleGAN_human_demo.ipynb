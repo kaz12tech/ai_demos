{
  "cells": [
    {
      "cell_type": "markdown",
      "metadata": {
        "id": "9NENcrgDJv9q"
      },
      "source": [
        "論文<br>\n",
        "https://arxiv.org/abs/2204.11823<br>\n",
        "<br>\n",
        "GitHub<br>\n",
        "https://github.com/stylegan-human/StyleGAN-Human<br>\n",
        "<br>\n",
        "<a href=\"https://colab.research.google.com/github/kaz12tech/ai_demos/blob/master/styleGAN_human_demo.ipynb\" target=\"_blank\"><img src=\"https://colab.research.google.com/assets/colab-badge.svg\" alt=\"Open In Colab\"/></a>"
      ]
    },
    {
      "cell_type": "markdown",
      "metadata": {
        "id": "LHqYjlJ4Jv9u"
      },
      "source": [
        "# 環境セットアップ"
      ]
    },
    {
      "cell_type": "markdown",
      "metadata": {
        "id": "z7jySK7RJv9v"
      },
      "source": [
        "## GPU確認"
      ]
    },
    {
      "cell_type": "code",
      "execution_count": null,
      "metadata": {
        "colab": {
          "base_uri": "https://localhost:8080/"
        },
        "id": "2PcII5fLdHnJ",
        "outputId": "fe3e5186-cf3a-455e-bf33-2113304806c5"
      },
      "outputs": [],
      "source": [
        "!nvidia-smi"
      ]
    },
    {
      "cell_type": "markdown",
      "metadata": {
        "id": "aaAzHlBvJv9y"
      },
      "source": [
        "## GitHubからコード取得"
      ]
    },
    {
      "cell_type": "code",
      "execution_count": null,
      "metadata": {
        "colab": {
          "base_uri": "https://localhost:8080/"
        },
        "id": "R-Y5auuvnnnT",
        "outputId": "85f96216-cfa8-42e8-f42e-0e1ea1f742dd"
      },
      "outputs": [],
      "source": [
        "%cd /content\n",
        "\n",
        "!git clone https://github.com/stylegan-human/StyleGAN-Human.git\n",
        "\n",
        "# Commits on Oct 13, 2022\n",
        "%cd /content/StyleGAN-Human\n",
        "!git checkout 70a3b4e82d1a13a62e2e5c51c69557ad17ff6772"
      ]
    },
    {
      "cell_type": "markdown",
      "metadata": {
        "id": "4tp-fduPJv9z"
      },
      "source": [
        "## ライブラリのインストール"
      ]
    },
    {
      "cell_type": "code",
      "execution_count": null,
      "metadata": {
        "colab": {
          "base_uri": "https://localhost:8080/"
        },
        "id": "cSiwyEASUeRr",
        "outputId": "ffce6545-58ac-4030-be98-4b62edd96333"
      },
      "outputs": [],
      "source": [
        "%cd /content/StyleGAN-Human\n",
        "\n",
        "!wget https://github.com/ninja-build/ninja/releases/download/v1.8.2/ninja-linux.zip\n",
        "!sudo unzip ninja-linux.zip -d /usr/local/bin/\n",
        "!sudo update-alternatives --install /usr/bin/ninja ninja /usr/local/bin/ninja 1 --force\n",
        "\n",
        "!pip install lpips\n",
        "!pip install --upgrade gdown"
      ]
    },
    {
      "cell_type": "markdown",
      "metadata": {
        "id": "IjeBaMGGVkOR"
      },
      "source": [
        "## ライブラリのインポート"
      ]
    },
    {
      "cell_type": "code",
      "execution_count": null,
      "metadata": {
        "id": "WJG99osXVl_j"
      },
      "outputs": [],
      "source": [
        "import os\n",
        "\n",
        "import glob\n",
        "import gdown\n",
        "import matplotlib.pyplot as plt"
      ]
    },
    {
      "cell_type": "markdown",
      "metadata": {
        "id": "WZac8HEZUGl4"
      },
      "source": [
        "# 学習済みモデルのセットアップ"
      ]
    },
    {
      "cell_type": "code",
      "execution_count": null,
      "metadata": {
        "id": "E3ua8v0DUJdF"
      },
      "outputs": [],
      "source": [
        "MODEL_PATHS = {\n",
        "    \"stylegan1_1024\": {\"id\": \"1h-R-IV-INGdPEzj4P9ml6JTEvihuNgLX\", \"name\": \"stylegan1_1024.pkl\"},\n",
        "    \"stylegan2_1024\": {\"id\": \"1FlAb1rYa0r_--Zj_ML8e6shmaF28hQb5\", \"name\": \"stylegan2_1024.pkl\"},\n",
        "    \"stylegan2_512\": {\"id\": \"1dlFEHbu-WzQWJl7nBBZYcTyo000H9hVm\", \"name\": \"stylegan2_512.pkl\"},\n",
        "    \"stylegan3_512\": {\"id\": \"1_274jk_N6WSCkKWeu7hjHycqGvbuOFf5\", \"name\": \"stylegan3_512.pkl\"}\n",
        "    }\n",
        "\n",
        "experiment_type = 'stylegan3_512' #@param ['stylegan1_1024', 'stylegan2_1024', 'stylegan2_512', 'stylegan3_512']"
      ]
    },
    {
      "cell_type": "code",
      "execution_count": null,
      "metadata": {
        "colab": {
          "base_uri": "https://localhost:8080/",
          "height": 145
        },
        "id": "v_2fP1hUNS8u",
        "outputId": "f25277cc-e20f-4bc5-ee1b-3750c8dd04a6"
      },
      "outputs": [],
      "source": [
        "%cd /content/StyleGAN-Human\n",
        "\n",
        "gdrive_id = MODEL_PATHS[experiment_type][\"id\"]\n",
        "model_name = MODEL_PATHS[experiment_type][\"name\"]\n",
        "print('id:', gdrive_id, 'model name:', model_name)\n",
        "\n",
        "!mkdir pretrained\n",
        "model_path = os.path.join('pretrained', model_name)\n",
        "\n",
        "gdown.download(\n",
        "    url = 'https://drive.google.com/uc?id={}'.format(gdrive_id),\n",
        "    output = model_path,\n",
        "    quiet = False\n",
        "    )"
      ]
    },
    {
      "cell_type": "markdown",
      "metadata": {
        "id": "swFIiADlOXR_"
      },
      "source": [
        "# Generate full body images"
      ]
    },
    {
      "cell_type": "code",
      "execution_count": null,
      "metadata": {
        "colab": {
          "base_uri": "https://localhost:8080/"
        },
        "id": "E0SebUpQOj_e",
        "outputId": "6b52272e-86b9-405e-8a11-5dc294f6c7be"
      },
      "outputs": [],
      "source": [
        "version = experiment_type.split(\"_\")[0][-1]\n",
        "out_dir = os.path.join('outputs', experiment_type)\n",
        "generate_num = 3\n",
        "\n",
        "print('version:', version, 'out_dir:', out_dir)"
      ]
    },
    {
      "cell_type": "code",
      "execution_count": null,
      "metadata": {
        "colab": {
          "base_uri": "https://localhost:8080/"
        },
        "id": "84g5ZeV_O7RF",
        "outputId": "b7f00ead-f35f-4652-c481-c6273296b076"
      },
      "outputs": [],
      "source": [
        "!python generate.py \\\n",
        "  --outdir={out_dir} \\\n",
        "  --seeds=0-{generate_num-1} \\\n",
        "  --trunc=0.7 \\\n",
        "  --network={model_path} \\\n",
        "  --version={version}"
      ]
    },
    {
      "cell_type": "code",
      "execution_count": null,
      "metadata": {
        "colab": {
          "base_uri": "https://localhost:8080/",
          "height": 710
        },
        "id": "wWmMZuK9RDmb",
        "outputId": "a4a0a619-1667-4b05-90dd-d7c070b5b0ad"
      },
      "outputs": [],
      "source": [
        "out_imgs = glob.glob( os.path.join(out_dir, '*.png') )\n",
        "\n",
        "for p in out_imgs:\n",
        "  plt.imshow(plt.imread(p))\n",
        "  plt.axis('off')\n",
        "  plt.show()"
      ]
    }
  ],
  "metadata": {
    "accelerator": "GPU",
    "colab": {
      "collapsed_sections": [],
      "provenance": []
    },
    "kernelspec": {
      "display_name": "Python 3.10.4 64-bit",
      "language": "python",
      "name": "python3"
    },
    "language_info": {
      "name": "python",
      "version": "3.10.4"
    },
    "vscode": {
      "interpreter": {
        "hash": "69158ccfe43d0b962045f592ede11796dd42f250837ab62152c8bc6cd100a15b"
      }
    }
  },
  "nbformat": 4,
  "nbformat_minor": 0
}
