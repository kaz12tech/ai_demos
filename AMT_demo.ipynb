{
  "cells": [
    {
      "attachments": {},
      "cell_type": "markdown",
      "metadata": {
        "id": "ze17Whr66OiC"
      },
      "source": [
        "Paper<br>\n",
        "https://arxiv.org/abs/2304.09790<br>\n",
        "<br>\n",
        "GitHub<br>\n",
        "https://github.com/MCG-NKU/AMT<br>\n",
        "<br>\n",
        "<a href=\"https://colab.research.google.com/github/kaz12tech/ai_demos/blob/master/AMT_demo.ipynb\" target=\"_blank\"><img src=\"https://colab.research.google.com/assets/colab-badge.svg\" alt=\"Open In Colab\"/></a>"
      ]
    },
    {
      "attachments": {},
      "cell_type": "markdown",
      "metadata": {
        "id": "GOLKpkBa6OiI"
      },
      "source": [
        "# Setup environment"
      ]
    },
    {
      "attachments": {},
      "cell_type": "markdown",
      "metadata": {
        "id": "Jz8gTEgP6OiJ"
      },
      "source": [
        "## git clone"
      ]
    },
    {
      "cell_type": "code",
      "execution_count": null,
      "metadata": {
        "colab": {
          "base_uri": "https://localhost:8080/"
        },
        "id": "SO7I9ozfFpmW",
        "outputId": "d9cf0c57-86a2-4990-9914-df60e063de91"
      },
      "outputs": [],
      "source": [
        "%cd /content\n",
        "\n",
        "!git clone https://github.com/MCG-NKU/AMT.git\n",
        "\n",
        "%cd /content/AMT\n",
        "# Commits on Apr 26, 2023\n",
        "!git checkout 70f988fbfc0d3d458beba1ee49caf876e57968fe"
      ]
    },
    {
      "attachments": {},
      "cell_type": "markdown",
      "metadata": {
        "id": "07hg4xM8tYCV"
      },
      "source": [
        "## install libraries"
      ]
    },
    {
      "cell_type": "code",
      "execution_count": null,
      "metadata": {
        "colab": {
          "base_uri": "https://localhost:8080/",
          "height": 1000
        },
        "id": "gRHm5XmrGGNB",
        "outputId": "5f103eb7-cee9-4f44-ddd6-80f29407f424"
      },
      "outputs": [],
      "source": [
        "%cd /content/AMT\n",
        "\n",
        "!pip install torch==1.11.0+cu113 torchvision==0.12.0+cu113 --extra-index-url https://download.pytorch.org/whl/cu113\n",
        "!pip install omegaconf Pillow==9.4.0 tqdm==4.64.1\n",
        "!pip install gdown\n",
        "\n",
        "# install for video\n",
        "!pip install yt-dlp\n",
        "!pip install imageio==2.4.1 moviepy==0.2.3.5"
      ]
    },
    {
      "attachments": {},
      "cell_type": "markdown",
      "metadata": {
        "id": "L6sssZcc9CBF"
      },
      "source": [
        "## import libraries"
      ]
    },
    {
      "cell_type": "code",
      "execution_count": null,
      "metadata": {
        "colab": {
          "base_uri": "https://localhost:8080/"
        },
        "id": "oeUH114h9AEa",
        "outputId": "d29ff372-3d0d-4090-8b24-db202e104100"
      },
      "outputs": [],
      "source": [
        "from moviepy.video.fx.resize import resize\n",
        "from moviepy.editor import VideoFileClip\n",
        "\n",
        "from yt_dlp import YoutubeDL\n"
      ]
    },
    {
      "attachments": {},
      "cell_type": "markdown",
      "metadata": {
        "id": "FVRBrPb14UTa"
      },
      "source": [
        "# Setup pretrained model"
      ]
    },
    {
      "cell_type": "code",
      "execution_count": null,
      "metadata": {
        "colab": {
          "base_uri": "https://localhost:8080/"
        },
        "id": "_NAM3bMH4ZbX",
        "outputId": "098370e3-3d85-45c2-82a1-cf4c5099fa5b"
      },
      "outputs": [],
      "source": [
        "%cd /content/AMT\n",
        "\n",
        "%mkdir -p pretrained\n",
        "\n",
        "!gdown 1WmOKmQmd6pnLpID8EpUe-TddFpJuavrL -O pretrained/amt-s.pth\n",
        "!gdown 1UyhYpAQLXMjFA55rlFZ0kdiSVTL7oU-z -O pretrained/amt-l.pth\n",
        "!gdown 1yieLtKh4ei3gOrLN1LhKSP_9157Q-mtP -O pretrained/amt-g.pth"
      ]
    },
    {
      "attachments": {},
      "cell_type": "markdown",
      "metadata": {
        "id": "b_YcikIEh1O-"
      },
      "source": [
        "# Setup video"
      ]
    },
    {
      "attachments": {},
      "cell_type": "markdown",
      "metadata": {
        "id": "aqjKcKFgi3bK"
      },
      "source": [
        "## download video"
      ]
    },
    {
      "cell_type": "code",
      "execution_count": null,
      "metadata": {
        "id": "yj1ChsY7h21F"
      },
      "outputs": [],
      "source": [
        "video_url = 'https://www.youtube.com/watch?v=muczNvx9fgg' #@param {type:\"string\"}\n",
        "\n",
        "#@markdown 動画の切り抜き範囲(秒)を指定してください。\\\n",
        "#@markdown 30秒以上の場合OOM発生の可能性が高いため注意\n",
        "start_sec =  0#@param {type:\"integer\"}\n",
        "end_sec =  2#@param {type:\"integer\"}\n",
        "\n",
        "(start_pt, end_pt) = (start_sec, end_sec)"
      ]
    },
    {
      "cell_type": "code",
      "execution_count": null,
      "metadata": {
        "colab": {
          "base_uri": "https://localhost:8080/"
        },
        "id": "Ya9NdpoXiP1m",
        "outputId": "b2f689d3-06a3-453e-b19f-42d71a51824b"
      },
      "outputs": [],
      "source": [
        "download_resolution = 720\n",
        "full_video_path = './input/full_video.mp4'\n",
        "input_clip_path = './input/clip_video.mp4'\n",
        "\n",
        "# 動画ダウンロード\n",
        "ydl_opts = {'format': f'best[height<={download_resolution}]', 'overwrites': True, 'outtmpl': full_video_path}\n",
        "with YoutubeDL(ydl_opts) as ydl:\n",
        "    ydl.download([video_url])\n",
        "\n",
        "# 指定区間切り抜き\n",
        "with VideoFileClip(full_video_path) as video:\n",
        "    subclip = video.subclip(start_pt, end_pt)\n",
        "    subclip.write_videofile(input_clip_path)"
      ]
    },
    {
      "attachments": {},
      "cell_type": "markdown",
      "metadata": {
        "id": "bv81YPvZi5It"
      },
      "source": [
        "## show video"
      ]
    },
    {
      "cell_type": "code",
      "execution_count": null,
      "metadata": {
        "colab": {
          "base_uri": "https://localhost:8080/",
          "height": 552
        },
        "id": "Q0k-GT6ZiTUV",
        "outputId": "ab7eefd4-72b7-440d-fba5-fc87360961bf"
      },
      "outputs": [],
      "source": [
        "# 取得動画の表示\n",
        "clip = VideoFileClip(input_clip_path)\n",
        "clip = resize(clip, height=420)\n",
        "clip.ipython_display()"
      ]
    },
    {
      "attachments": {},
      "cell_type": "markdown",
      "metadata": {
        "id": "RwleilG0i6tS"
      },
      "source": [
        "## video to frames"
      ]
    },
    {
      "cell_type": "code",
      "execution_count": null,
      "metadata": {
        "colab": {
          "base_uri": "https://localhost:8080/"
        },
        "id": "NxjLmrVvjQKl",
        "outputId": "21e71f0f-aeaf-4355-a861-c47a8775da53"
      },
      "outputs": [],
      "source": [
        "!mkdir -p input/frames\n",
        "\n",
        "!ffmpeg -i input/clip_video.mp4 -vf fps=25 input/frames/%06d.png"
      ]
    },
    {
      "cell_type": "code",
      "execution_count": null,
      "metadata": {
        "id": "H01UxslXj8t9"
      },
      "outputs": [],
      "source": [
        "!rm -rf input/target\n",
        "!mkdir -p input/target\n",
        "\n",
        "# copy 2 image\n",
        "!cp input/frames/000001.png input/target\n",
        "!cp input/frames/000025.png input/target"
      ]
    },
    {
      "attachments": {},
      "cell_type": "markdown",
      "metadata": {
        "id": "At5lXBjTZcLd"
      },
      "source": [
        "# Video Frame Interpolation"
      ]
    },
    {
      "cell_type": "code",
      "execution_count": null,
      "metadata": {
        "colab": {
          "base_uri": "https://localhost:8080/"
        },
        "id": "wzEyB7h2qznD",
        "outputId": "625bccf0-d080-428f-9aef-baa75ebf8f6d"
      },
      "outputs": [],
      "source": [
        "!rm -rf {outputs_dir}\n",
        "\n",
        "!python demos/demo_2x.py \\\n",
        "  --config cfgs/AMT-G.yaml \\\n",
        "  --ckpt pretrained/amt-g.pth \\\n",
        "  --niters 6 \\\n",
        "  --input assets/quick_demo \\\n",
        "  --out_path results_origin \\\n",
        "  --frame_rate 25 \\\n",
        "  --save_images"
      ]
    },
    {
      "cell_type": "code",
      "execution_count": null,
      "metadata": {
        "colab": {
          "base_uri": "https://localhost:8080/",
          "height": 420
        },
        "id": "-2cEd9Btq3Jq",
        "outputId": "a1bd96d4-4af5-4f05-e40e-fea072b5614c"
      },
      "outputs": [],
      "source": [
        "# 取得動画の表示\n",
        "clip = VideoFileClip('results_origin/demo_0000.mp4')\n",
        "clip = resize(clip, height=380)\n",
        "clip.ipython_display()"
      ]
    },
    {
      "attachments": {},
      "cell_type": "markdown",
      "metadata": {
        "id": "jr4TAbC6ZlaU"
      },
      "source": [
        "## setup path"
      ]
    },
    {
      "cell_type": "code",
      "execution_count": null,
      "metadata": {
        "colab": {
          "base_uri": "https://localhost:8080/"
        },
        "id": "aEkHyOBXaVVK",
        "outputId": "372f2685-743d-4ad8-cab9-b0ed45548d10"
      },
      "outputs": [],
      "source": [
        "!rm -rf {outputs_dir}\n",
        "\n",
        "!python demos/demo_2x.py \\\n",
        "  --config cfgs/AMT-G.yaml \\\n",
        "  --ckpt pretrained/amt-g.pth \\\n",
        "  --niters 6 \\\n",
        "  --input input/target \\\n",
        "  --out_path results \\\n",
        "  --frame_rate 25 \\\n",
        "  --save_images"
      ]
    },
    {
      "cell_type": "code",
      "execution_count": null,
      "metadata": {
        "colab": {
          "base_uri": "https://localhost:8080/",
          "height": 420
        },
        "id": "7Rty5DBTaRIz",
        "outputId": "503a516e-9026-4f79-935a-892442946ad9"
      },
      "outputs": [],
      "source": [
        "# 取得動画の表示\n",
        "clip = VideoFileClip('results/demo_0000.mp4')\n",
        "clip = resize(clip, height=380)\n",
        "clip.ipython_display()"
      ]
    }
  ],
  "metadata": {
    "accelerator": "GPU",
    "colab": {
      "provenance": []
    },
    "kernelspec": {
      "display_name": "Python 3.10.4 64-bit",
      "language": "python",
      "name": "python3"
    },
    "language_info": {
      "name": "python",
      "version": "3.10.4"
    },
    "vscode": {
      "interpreter": {
        "hash": "69158ccfe43d0b962045f592ede11796dd42f250837ab62152c8bc6cd100a15b"
      }
    }
  },
  "nbformat": 4,
  "nbformat_minor": 0
}
