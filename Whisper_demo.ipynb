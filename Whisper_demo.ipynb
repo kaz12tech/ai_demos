{
  "cells": [
    {
      "cell_type": "markdown",
      "metadata": {
        "id": "9NENcrgDJv9q"
      },
      "source": [
        "論文  \n",
        "https://cdn.openai.com/papers/whisper.pdf<br>\n",
        "<br>\n",
        "GitHub  \n",
        "https://github.com/openai/whisper<br>\n",
        "<br>\n",
        "<a href=\"https://colab.research.google.com/github/kaz12tech/ai_demos/blob/master/Whisper_demo.ipynb\" target=\"_blank\"><img src=\"https://colab.research.google.com/assets/colab-badge.svg\" alt=\"Open In Colab\"/></a>"
      ]
    },
    {
      "cell_type": "markdown",
      "metadata": {
        "id": "LHqYjlJ4Jv9u"
      },
      "source": [
        "# 環境セットアップ"
      ]
    },
    {
      "cell_type": "markdown",
      "metadata": {
        "id": "z7jySK7RJv9v"
      },
      "source": [
        "## GPU確認"
      ]
    },
    {
      "cell_type": "code",
      "execution_count": null,
      "metadata": {
        "colab": {
          "base_uri": "https://localhost:8080/"
        },
        "id": "2PcII5fLdHnJ",
        "outputId": "2769d9f7-5cb2-4af3-df50-b9ce614c3077"
      },
      "outputs": [],
      "source": [
        "!nvidia-smi"
      ]
    },
    {
      "cell_type": "markdown",
      "metadata": {
        "id": "aaAzHlBvJv9y"
      },
      "source": [
        "## GitHubからコード取得"
      ]
    },
    {
      "cell_type": "code",
      "execution_count": null,
      "metadata": {
        "id": "R-Y5auuvnnnT"
      },
      "outputs": [],
      "source": []
    },
    {
      "cell_type": "markdown",
      "metadata": {
        "id": "4tp-fduPJv9z"
      },
      "source": [
        "## ライブラリのインストール"
      ]
    },
    {
      "cell_type": "code",
      "execution_count": null,
      "metadata": {
        "colab": {
          "base_uri": "https://localhost:8080/",
          "height": 1000
        },
        "id": "LScsvO3UppqT",
        "outputId": "11718fb5-29df-49c6-e046-f0b39de1b13c"
      },
      "outputs": [],
      "source": [
        "%cd /content\n",
        "\n",
        "!pip install git+https://github.com/openai/whisper.git@eff383b27b783e280c089475852ba83f20f64998\n",
        "\n",
        "!pip install moviepy==0.2.3.5 imageio==2.4.1\n",
        "!pip install yt-dlp\n",
        "\n",
        "!pip install setuptools-rust"
      ]
    },
    {
      "cell_type": "markdown",
      "metadata": {
        "id": "VIWoFf9MJv91"
      },
      "source": [
        "## ライブラリのインポート"
      ]
    },
    {
      "cell_type": "code",
      "execution_count": null,
      "metadata": {
        "id": "o2lxptJeo6kr"
      },
      "outputs": [],
      "source": [
        "import whisper\n",
        "\n",
        "from yt_dlp import YoutubeDL\n",
        "from moviepy.video.fx.resize import resize\n",
        "from moviepy.editor import VideoFileClip, AudioFileClip"
      ]
    },
    {
      "cell_type": "markdown",
      "metadata": {
        "id": "tuaMaj45p8vi"
      },
      "source": [
        "# テスト動画のセットアップ"
      ]
    },
    {
      "cell_type": "code",
      "execution_count": null,
      "metadata": {
        "id": "06KAqwrZp_Eh"
      },
      "outputs": [],
      "source": [
        "video_url = 'https://www.youtube.com/watch?v=o97upTCsRME' #@param {type:\"string\"}\n",
        "\n",
        "#@markdown 動画の切り抜き範囲(秒)を指定してください。\\\n",
        "#@markdown 30秒以上の場合OOM発生の可能性が高いため注意\n",
        "start_sec =  8#@param {type:\"integer\"}\n",
        "end_sec =  19#@param {type:\"integer\"}\n",
        "\n",
        "(start_pt, end_pt) = (start_sec, end_sec)"
      ]
    },
    {
      "cell_type": "code",
      "execution_count": null,
      "metadata": {
        "colab": {
          "base_uri": "https://localhost:8080/"
        },
        "id": "LABgfHjjrbqm",
        "outputId": "eab267f8-4e83-485f-8b10-e3da1ab832df"
      },
      "outputs": [],
      "source": [
        "!mkdir test_files\n",
        "\n",
        "download_resolution = 720\n",
        "full_video_path = '/content/test_files/full_video_en.mp4'\n",
        "input_clip_path = '/content/test_files/clip_video_en.mp4'\n",
        "input_audio_path = '/content/test_files/audio_en.mp3'\n",
        "\n",
        "# 動画ダウンロード\n",
        "ydl_opts = {'format': f'best[height<={download_resolution}]', 'overwrites': True, 'outtmpl': full_video_path}\n",
        "with YoutubeDL(ydl_opts) as ydl:\n",
        "    ydl.download([video_url])\n",
        "\n",
        "# 指定区間切り抜き\n",
        "with VideoFileClip(full_video_path) as video:\n",
        "    subclip = video.subclip(start_pt, end_pt)\n",
        "    subclip.write_videofile(input_clip_path)\n",
        "\n",
        "# 音声抽出\n",
        "videoclip = VideoFileClip(input_clip_path)\n",
        "audioclip = videoclip.audio\n",
        "audioclip.write_audiofile(input_audio_path)"
      ]
    },
    {
      "cell_type": "code",
      "execution_count": null,
      "metadata": {
        "colab": {
          "base_uri": "https://localhost:8080/",
          "height": 553
        },
        "id": "j4WSGneqvvH8",
        "outputId": "670ff2a5-f8eb-40a1-e4ec-220e1ac9ade9"
      },
      "outputs": [],
      "source": [
        "# 動画の確認\n",
        "clip = VideoFileClip(input_clip_path)\n",
        "clip = resize(clip, height=420)\n",
        "clip.ipython_display()"
      ]
    },
    {
      "cell_type": "code",
      "execution_count": null,
      "metadata": {
        "colab": {
          "base_uri": "https://localhost:8080/"
        },
        "id": "LByGvItMtBPv",
        "outputId": "48c23547-4333-41fa-9657-607a58e565fb"
      },
      "outputs": [],
      "source": [
        "!wget -c http://pro-video.jp/voice/announce/mp3/001-sibutomo.mp3 \\\n",
        "      -O /content/test_files/audio_jp.mp3"
      ]
    },
    {
      "cell_type": "code",
      "execution_count": null,
      "metadata": {
        "colab": {
          "base_uri": "https://localhost:8080/",
          "height": 94
        },
        "id": "R9Ihx71jxkZF",
        "outputId": "aeee7093-958d-481f-e728-1c65ce405922"
      },
      "outputs": [],
      "source": [
        "audioclip = AudioFileClip('/content/test_files/audio_jp.mp3')\n",
        "audioclip.ipython_display()"
      ]
    },
    {
      "cell_type": "markdown",
      "metadata": {
        "id": "9tU7bBugpx2B"
      },
      "source": [
        "# Speech Recognition"
      ]
    },
    {
      "cell_type": "code",
      "execution_count": null,
      "metadata": {
        "id": "Z4vWVs7Avi3f"
      },
      "outputs": [],
      "source": [
        "model = whisper.load_model(\"large\")\n",
        "print('model loaded.', model.device)"
      ]
    },
    {
      "cell_type": "markdown",
      "metadata": {
        "id": "Qg5lVN0KwLW_"
      },
      "source": [
        "## English"
      ]
    },
    {
      "cell_type": "code",
      "execution_count": null,
      "metadata": {
        "colab": {
          "base_uri": "https://localhost:8080/"
        },
        "id": "9OERSDSutM4K",
        "outputId": "678e5e84-1007-44c5-add7-2ae161b81fb7"
      },
      "outputs": [],
      "source": [
        "# audioのロード\n",
        "audio = whisper.load_audio('/content/test_files/audio_en.mp3')\n",
        "# padding/trimming(30秒)\n",
        "audio = whisper.pad_or_trim(audio)\n",
        "\n",
        "# log-Mel spectrogram生成\n",
        "# modelと同じメモリに配置(cuda)\n",
        "mel = whisper.log_mel_spectrogram(audio).to(model.device)\n",
        "\n",
        "# 言語検出\n",
        "_, probs = model.detect_language(mel)\n",
        "print(f\"Detected language: {max(probs, key=probs.get)}\")\n",
        "\n",
        "# 音声のデコード\n",
        "options = whisper.DecodingOptions()\n",
        "result = whisper.decode(model, mel, options)\n",
        "\n",
        "# Speech Recognition結果出力\n",
        "print(result.text)"
      ]
    },
    {
      "cell_type": "markdown",
      "metadata": {
        "id": "DU02kibRwZjs"
      },
      "source": [
        "## Japanese"
      ]
    },
    {
      "cell_type": "code",
      "execution_count": null,
      "metadata": {
        "colab": {
          "base_uri": "https://localhost:8080/"
        },
        "id": "IEDBEReKwarS",
        "outputId": "c678c76a-e789-4fa2-c431-25befa65dd31"
      },
      "outputs": [],
      "source": [
        "# audioのロード\n",
        "audio = whisper.load_audio('/content/test_files/audio_jp.mp3')\n",
        "# padding/trimming(30秒)\n",
        "audio = whisper.pad_or_trim(audio)\n",
        "\n",
        "# log-Mel spectrogram生成\n",
        "# modelと同じメモリに配置(cuda)\n",
        "mel = whisper.log_mel_spectrogram(audio).to(model.device)\n",
        "\n",
        "# 言語検出\n",
        "_, probs = model.detect_language(mel)\n",
        "print(f\"Detected language: {max(probs, key=probs.get)}\")\n",
        "\n",
        "# 音声のデコード\n",
        "options = whisper.DecodingOptions()\n",
        "result = whisper.decode(model, mel, options)\n",
        "\n",
        "# Speech Recognition結果出力\n",
        "print(result.text)"
      ]
    }
  ],
  "metadata": {
    "accelerator": "GPU",
    "colab": {
      "provenance": []
    },
    "kernelspec": {
      "display_name": "Python 3.10.4 64-bit",
      "language": "python",
      "name": "python3"
    },
    "language_info": {
      "name": "python",
      "version": "3.10.4"
    },
    "orig_nbformat": 4,
    "vscode": {
      "interpreter": {
        "hash": "69158ccfe43d0b962045f592ede11796dd42f250837ab62152c8bc6cd100a15b"
      }
    }
  },
  "nbformat": 4,
  "nbformat_minor": 0
}
