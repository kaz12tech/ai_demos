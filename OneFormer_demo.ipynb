{
  "cells": [
    {
      "cell_type": "markdown",
      "metadata": {
        "id": "9NENcrgDJv9q"
      },
      "source": [
        "論文<br>\n",
        "https://arxiv.org/abs/2211.06220<br>\n",
        "<br>\n",
        "GitHub<br>\n",
        "https://github.com/SHI-Labs/OneFormer<br>\n",
        "<br>\n",
        "<a href=\"https://colab.research.google.com/github/kaz12tech/ai_demos/blob/master/OneFormer_demo.ipynb\" target=\"_blank\"><img src=\"https://colab.research.google.com/assets/colab-badge.svg\" alt=\"Open In Colab\"/></a>"
      ]
    },
    {
      "cell_type": "markdown",
      "metadata": {
        "id": "LHqYjlJ4Jv9u"
      },
      "source": [
        "# 環境セットアップ"
      ]
    },
    {
      "cell_type": "markdown",
      "metadata": {
        "id": "z7jySK7RJv9v"
      },
      "source": [
        "## GPU確認"
      ]
    },
    {
      "cell_type": "code",
      "execution_count": null,
      "metadata": {
        "id": "2PcII5fLdHnJ"
      },
      "outputs": [],
      "source": [
        "!nvidia-smi"
      ]
    },
    {
      "cell_type": "markdown",
      "metadata": {
        "id": "aaAzHlBvJv9y"
      },
      "source": [
        "## GitHubからコード取得"
      ]
    },
    {
      "cell_type": "code",
      "execution_count": null,
      "metadata": {
        "id": "R-Y5auuvnnnT"
      },
      "outputs": [],
      "source": [
        "%cd /content\n",
        "\n",
        "!git clone https://github.com/SHI-Labs/OneFormer-Colab.git\n",
        "\n",
        "# using Commits on Nov 18, 2022\n",
        "%cd /content/OneFormer-Colab\n",
        "!git checkout 08ae914313bd1ff4688eb5e58f7845760fd60643\n",
        "\n",
        "%cd /content\n",
        "!mv OneFormer-Colab OneFormer"
      ]
    },
    {
      "cell_type": "markdown",
      "metadata": {
        "id": "4tp-fduPJv9z"
      },
      "source": [
        "## ライブラリのインストール"
      ]
    },
    {
      "cell_type": "code",
      "execution_count": null,
      "metadata": {
        "id": "LScsvO3UppqT"
      },
      "outputs": [],
      "source": [
        "%cd /content/OneFormer\n",
        "\n",
        "# install pytorch\n",
        "!pip install torch==1.9.0 torchvision==0.10.0 --quiet\n",
        "# install opencv\n",
        "!pip install -U opencv-python --quiet\n",
        "# install detectron2\n",
        "!python -m pip install detectron2 -f https://dl.fbaipublicfiles.com/detectron2/wheels/cu102/torch1.9/index.html --quiet\n",
        "!pip3 install natten==0.14.2 -f https://shi-labs.com/natten/wheels/cu102/torch1.9/index.html --quiet\n",
        "\n",
        "# install other\n",
        "!pip install git+https://github.com/cocodataset/panopticapi.git --quiet\n",
        "!pip install git+https://github.com/mcordts/cityscapesScripts.git --quiet\n",
        "!pip install -r requirements.txt --quiet\n",
        "!pip install ipython-autotime\n",
        "!pip install imutils"
      ]
    },
    {
      "cell_type": "markdown",
      "metadata": {
        "id": "VIWoFf9MJv91"
      },
      "source": [
        "## ライブラリのインポート"
      ]
    },
    {
      "cell_type": "code",
      "execution_count": null,
      "metadata": {
        "id": "o2lxptJeo6kr"
      },
      "outputs": [],
      "source": [
        "%cd /content/OneFormer\n",
        "\n",
        "# Setup detectron2 logger\n",
        "import detectron2\n",
        "from detectron2.utils.logger import setup_logger\n",
        "setup_logger()\n",
        "setup_logger(name=\"oneformer\")\n",
        "\n",
        "# Import libraries\n",
        "import numpy as np\n",
        "import cv2\n",
        "import torch\n",
        "from google.colab.patches import cv2_imshow\n",
        "import imutils\n",
        "device = 'cuda' if torch.cuda.is_available() else \"cpu\"\n",
        "print(\"using device is\", device)\n",
        "\n",
        "# Import detectron2 utilities\n",
        "from detectron2.config import get_cfg\n",
        "from detectron2.projects.deeplab import add_deeplab_config\n",
        "from detectron2.data import MetadataCatalog\n",
        "from demo.defaults import DefaultPredictor\n",
        "from demo.visualizer import Visualizer, ColorMode\n",
        "\n",
        "# import OneFormer Project\n",
        "from oneformer import (\n",
        "    add_oneformer_config,\n",
        "    add_common_config,\n",
        "    add_swin_config,\n",
        "    add_dinat_config,\n",
        "    add_convnext_config,\n",
        ")"
      ]
    },
    {
      "cell_type": "markdown",
      "source": [
        "# Helper関数の定義"
      ],
      "metadata": {
        "id": "5jp95A9snVqy"
      }
    },
    {
      "cell_type": "code",
      "source": [
        "SWIN_CFG_DICT = {\n",
        "    \"cityscapes\": \"configs/cityscapes/oneformer_swin_large_IN21k_384_bs16_90k.yaml\",\n",
        "    \"coco\": \"configs/coco/oneformer_swin_large_IN21k_384_bs16_100ep.yaml\",\n",
        "    \"ade20k\": \"configs/ade20k/oneformer_swin_large_IN21k_384_bs16_160k.yaml\"\n",
        "    }\n",
        "\n",
        "DINAT_CFG_DICT = {\n",
        "    \"cityscapes\": \"configs/cityscapes/oneformer_dinat_large_bs16_90k.yaml\",\n",
        "    \"coco\": \"configs/coco/oneformer_dinat_large_bs16_100ep.yaml\",\n",
        "    \"ade20k\": \"configs/ade20k/oneformer_dinat_large_IN21k_384_bs16_160k.yaml\"\n",
        "    }\n",
        "\n",
        "def setup_cfg(dataset, model_path, use_swin):\n",
        "  # load config from file and command-line arguments\n",
        "  cfg = get_cfg()\n",
        "  add_deeplab_config(cfg)\n",
        "  add_common_config(cfg)\n",
        "  add_swin_config(cfg)\n",
        "  add_dinat_config(cfg)\n",
        "  add_convnext_config(cfg)\n",
        "  add_oneformer_config(cfg)\n",
        "  if use_swin:\n",
        "    cfg_path = SWIN_CFG_DICT[dataset]\n",
        "  else:\n",
        "    cfg_path = DINAT_CFG_DICT[dataset]\n",
        "  cfg.merge_from_file(cfg_path)\n",
        "  cfg.MODEL.DEVICE = 'cpu'\n",
        "  cfg.MODEL.WEIGHTS = model_path\n",
        "  cfg.freeze()\n",
        "  return cfg\n",
        "\n",
        "def setup_modules(dataset, model_path, use_swin):\n",
        "  cfg = setup_cfg(dataset, model_path, use_swin)\n",
        "  predictor = DefaultPredictor(cfg)\n",
        "  metadata = MetadataCatalog.get(\n",
        "    cfg.DATASETS.TEST_PANOPTIC[0] if len(cfg.DATASETS.TEST_PANOPTIC) else \"__unused\"\n",
        "  )\n",
        "  if 'cityscapes_fine_sem_seg_val' in cfg.DATASETS.TEST_PANOPTIC[0]:\n",
        "    from cityscapesscripts.helpers.labels import labels\n",
        "    stuff_colors = [k.color for k in labels if k.trainId != 255]\n",
        "    metadata = metadata.set(stuff_colors=stuff_colors)\n",
        "    \n",
        "  return predictor, metadata\n",
        "\n",
        "def panoptic_run(img, predictor, metadata):\n",
        "  visualizer = Visualizer(img[:, :, ::-1], metadata=metadata, instance_mode=ColorMode.IMAGE)\n",
        "  predictions = predictor(img, \"panoptic\")\n",
        "  panoptic_seg, segments_info = predictions[\"panoptic_seg\"]\n",
        "  out = visualizer.draw_panoptic_seg_predictions(\n",
        "    panoptic_seg.to(device), segments_info, alpha=0.5\n",
        "    )\n",
        "  \n",
        "  return out\n",
        "\n",
        "def instance_run(img, predictor, metadata):\n",
        "  visualizer = Visualizer(img[:, :, ::-1], metadata=metadata, instance_mode=ColorMode.IMAGE)\n",
        "  predictions = predictor(img, \"instance\")\n",
        "  instances = predictions[\"instances\"].to(device)\n",
        "  out = visualizer.draw_instance_predictions(predictions=instances, alpha=0.5)\n",
        "  return out\n",
        "\n",
        "def semantic_run(img, predictor, metadata):\n",
        "  visualizer = Visualizer(img[:, :, ::-1], metadata=metadata, instance_mode=ColorMode.IMAGE)\n",
        "  predictions = predictor(img, \"semantic\")\n",
        "  out = visualizer.draw_sem_seg(\n",
        "    predictions[\"sem_seg\"].argmax(dim=0).to(device), alpha=0.5\n",
        "  )\n",
        "  return out\n",
        "\n",
        "TASK_INFER = {\n",
        "    \"panoptic\": panoptic_run, \n",
        "    \"instance\": instance_run, \n",
        "    \"semantic\": semantic_run\n",
        "    }"
      ],
      "metadata": {
        "id": "mJsOzUDYnLOo"
      },
      "execution_count": null,
      "outputs": []
    },
    {
      "cell_type": "markdown",
      "source": [
        "# 学習済みモデルのセットアップ"
      ],
      "metadata": {
        "id": "4h8Aa25voSRN"
      }
    },
    {
      "cell_type": "code",
      "source": [
        "%cd /content/OneFormer\n",
        "!mkdir pretrained\n",
        "\n",
        "use_swin = False\n",
        "\n",
        "if use_swin == False:\n",
        "  # download wight, backborn: DiNAT-L, ADE20k dataset\n",
        "  !wget -c https://shi-labs.com/projects/oneformer/ade20k/250_16_dinat_l_oneformer_ade20k_160k.pth \\\n",
        "        -O pretrained/250_16_dinat_l_oneformer_ade20k_160k.pth\n",
        "  # init modules\n",
        "  predictor, metadata = setup_modules(\"ade20k\", \"pretrained/250_16_dinat_l_oneformer_ade20k_160k.pth\", use_swin)\n",
        "else:\n",
        "  # download wight, backborn: Swin-L, ADE20k dataset\n",
        "  !wget -c https://shi-labs.com/projects/oneformer/ade20k/250_16_swin_l_oneformer_ade20k_160k.pth \\\n",
        "        -O pretrained/250_16_swin_l_oneformer_ade20k_160k.pth\n",
        "  # init modules\n",
        "  predictor, metadata = setup_modules(\"ade20k\", \"pretrained/250_16_swin_l_oneformer_ade20k_160k.pth\", use_swin)"
      ],
      "metadata": {
        "id": "5UnScZqvoek1"
      },
      "execution_count": null,
      "outputs": []
    },
    {
      "cell_type": "markdown",
      "source": [
        "# テスト画像のセットアップ"
      ],
      "metadata": {
        "id": "w3D_a274qM5g"
      }
    },
    {
      "cell_type": "code",
      "source": [
        "%cd /content/OneFormer\n",
        "!mkdir input_img\n",
        "\n",
        "!wget -c https://www.pakutaso.com/shared/img/thumb/YAT4M3A7518_TP_V.jpg \\\n",
        "      -O input_img/test01.jpg"
      ],
      "metadata": {
        "id": "7wv7G5KIsqtj"
      },
      "execution_count": null,
      "outputs": []
    },
    {
      "cell_type": "code",
      "source": [
        "img = cv2.imread(\"input_img/test01.jpg\")\n",
        "img = imutils.resize(img, width=640)\n",
        "cv2_imshow(img)"
      ],
      "metadata": {
        "id": "-YOE9Gi-tWHL"
      },
      "execution_count": null,
      "outputs": []
    },
    {
      "cell_type": "markdown",
      "source": [
        "# panoptic segmentation"
      ],
      "metadata": {
        "id": "hLfCDT_gtyBT"
      }
    },
    {
      "cell_type": "code",
      "source": [
        "# setup task\n",
        "task = \"panoptic\"\n",
        "\n",
        "# inference\n",
        "%load_ext autotime\n",
        "out = TASK_INFER[task](img, predictor, metadata).get_image()\n",
        "\n",
        "# show result\n",
        "cv2_imshow(out[:, :, ::-1])"
      ],
      "metadata": {
        "id": "d8BWHfM3t1n9"
      },
      "execution_count": null,
      "outputs": []
    },
    {
      "cell_type": "markdown",
      "source": [
        "# instance segmentation"
      ],
      "metadata": {
        "id": "8IV4pFGfAORM"
      }
    },
    {
      "cell_type": "code",
      "source": [
        "# setup task\n",
        "task = \"instance\"\n",
        "\n",
        "# inference\n",
        "%load_ext autotime\n",
        "out = TASK_INFER[task](img, predictor, metadata).get_image()\n",
        "\n",
        "# show result\n",
        "cv2_imshow(out[:, :, ::-1])"
      ],
      "metadata": {
        "id": "qpWm_S43ARWP"
      },
      "execution_count": null,
      "outputs": []
    },
    {
      "cell_type": "markdown",
      "source": [
        "# semantic segmentation"
      ],
      "metadata": {
        "id": "l9M4EtaUAVLL"
      }
    },
    {
      "cell_type": "code",
      "source": [
        "# setup task\n",
        "task = \"semantic\"\n",
        "\n",
        "# inference\n",
        "%load_ext autotime\n",
        "out = TASK_INFER[task](img, predictor, metadata).get_image()\n",
        "\n",
        "# show result\n",
        "cv2_imshow(out[:, :, ::-1])"
      ],
      "metadata": {
        "id": "fGlU0y5fAYG7"
      },
      "execution_count": null,
      "outputs": []
    }
  ],
  "metadata": {
    "colab": {
      "provenance": [],
      "toc_visible": true
    },
    "kernelspec": {
      "display_name": "Python 3.10.4 64-bit",
      "language": "python",
      "name": "python3"
    },
    "language_info": {
      "name": "python",
      "version": "3.10.4"
    },
    "orig_nbformat": 4,
    "vscode": {
      "interpreter": {
        "hash": "69158ccfe43d0b962045f592ede11796dd42f250837ab62152c8bc6cd100a15b"
      }
    },
    "gpuClass": "standard"
  },
  "nbformat": 4,
  "nbformat_minor": 0
}