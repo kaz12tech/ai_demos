{
  "cells": [
    {
      "cell_type": "markdown",
      "metadata": {
        "id": "rKu2--YjjiNd"
      },
      "source": [
        "論文  \n",
        "https://arxiv.org/abs/2111.13673<br>\n",
        "GitHub<br>\n",
        "https://github.com/SysCV/transfiner<br>\n",
        "<br>\n",
        "<a href=\"https://colab.research.google.com/github/kaz12tech/ai_demos/blob/master/Transfiner_demo.ipynb\" target=\"_blank\"><img src=\"https://colab.research.google.com/assets/colab-badge.svg\" alt=\"Open In Colab\"/></a>"
      ]
    },
    {
      "cell_type": "markdown",
      "metadata": {
        "id": "YWhJj2RejiNg"
      },
      "source": [
        "# 環境セットアップ"
      ]
    },
    {
      "cell_type": "markdown",
      "metadata": {
        "id": "2IuH74fQjiNg"
      },
      "source": [
        "## GPU確認"
      ]
    },
    {
      "cell_type": "code",
      "execution_count": null,
      "metadata": {
        "colab": {
          "base_uri": "https://localhost:8080/"
        },
        "id": "2PcII5fLdHnJ",
        "outputId": "99fe6acf-fc0e-4117-f441-b110fbd7786e"
      },
      "outputs": [],
      "source": [
        "!nvidia-smi"
      ]
    },
    {
      "cell_type": "markdown",
      "metadata": {
        "id": "XjrCXTWkjiNi"
      },
      "source": [
        "## GitHubからコード取得"
      ]
    },
    {
      "cell_type": "code",
      "execution_count": null,
      "metadata": {
        "colab": {
          "base_uri": "https://localhost:8080/"
        },
        "id": "R-Y5auuvnnnT",
        "outputId": "b4712ab4-d3d8-464f-fdcd-717137ce54e6"
      },
      "outputs": [],
      "source": [
        "%cd /content\n",
        "\n",
        "!git clone https://github.com/SysCV/transfiner.git"
      ]
    },
    {
      "cell_type": "markdown",
      "metadata": {
        "id": "6pEp-7bNjiNj"
      },
      "source": [
        "## ライブラリのインストール"
      ]
    },
    {
      "cell_type": "code",
      "execution_count": null,
      "metadata": {
        "colab": {
          "base_uri": "https://localhost:8080/"
        },
        "id": "LScsvO3UppqT",
        "outputId": "8ccd417c-0fc5-44ae-c92b-c900b6938506"
      },
      "outputs": [],
      "source": [
        "%cd /content\n",
        "\n",
        "# pytorch 1.7.1\n",
        "!pip install torch==1.7.1 torchvision==0.8.2 torchaudio==0.7.2 > /dev/null\n",
        "\n",
        "# ninja\n",
        "!wget https://github.com/ninja-build/ninja/releases/download/v1.8.2/ninja-linux.zip > /dev/null\n",
        "!sudo unzip ninja-linux.zip -d /usr/local/bin/ > /dev/null\n",
        "!sudo update-alternatives --install /usr/bin/ninja ninja /usr/local/bin/ninja 1 --force > /dev/null\n",
        "\n",
        "# Coco api and visualization dependencies\n",
        "!pip install yacs cython matplotlib tqdm > /dev/null\n",
        "!pip install opencv-python==4.4.0.40 > /dev/null\n",
        "# Boundary dependency\n",
        "!pip install scikit-image > /dev/null\n",
        "!pip install kornia==0.5.11 > /dev/null\n",
        "# gdown\n",
        "!pip install --upgrade --no-cache-dir gdown > /dev/null\n",
        "\n",
        "# install pycocotools. Please make sure you have installed cython.\n",
        "!git clone https://github.com/cocodataset/cocoapi.git\n",
        "%cd /content/cocoapi/PythonAPI\n",
        "!python setup.py build_ext install > /dev/null\n",
        "\n",
        "%cd /content/transfiner/\n",
        "!python3 setup.py build develop > /dev/null\n",
        "!pip install PyYAML==6.0 > /dev/null"
      ]
    },
    {
      "cell_type": "markdown",
      "metadata": {
        "id": "gDPZYFDz-fZx"
      },
      "source": [
        "## ライブラリのインポート"
      ]
    },
    {
      "cell_type": "code",
      "execution_count": null,
      "metadata": {
        "id": "rHMCorO_-hOX"
      },
      "outputs": [],
      "source": [
        "import os\n",
        "import gdown\n",
        "from google.colab import files"
      ]
    },
    {
      "cell_type": "markdown",
      "metadata": {
        "id": "ZlVkANFv-cTB"
      },
      "source": [
        "# 学習済みモデルのセットアップ"
      ]
    },
    {
      "cell_type": "code",
      "execution_count": null,
      "metadata": {
        "colab": {
          "base_uri": "https://localhost:8080/"
        },
        "id": "LOiZVSdM-ouw",
        "outputId": "75015ec2-3870-4db4-88d2-43c481693916"
      },
      "outputs": [],
      "source": [
        "%cd /content/transfiner\n",
        "!mkdir pretrained_model\n",
        "\n",
        "download_path = './pretrained_model/output_3x_transfiner_r50.pth'\n",
        "if not os.path.exists(download_path):\n",
        "  gdown.download('https://drive.google.com/uc?id='+'1EA9pMdUK6Ad9QsjaZz0g5jqbo_JkqtME', download_path, quiet=False)"
      ]
    },
    {
      "cell_type": "markdown",
      "metadata": {
        "id": "z5wVlRby_DkJ"
      },
      "source": [
        "# inference"
      ]
    },
    {
      "cell_type": "code",
      "execution_count": null,
      "metadata": {
        "colab": {
          "base_uri": "https://localhost:8080/"
        },
        "id": "ZN-uBya3_Efb",
        "outputId": "4793ccbb-deaf-4904-8a8a-a3630a29e936"
      },
      "outputs": [],
      "source": [
        "%cd /content/transfiner\n",
        "\n",
        "!python3 demo/demo.py --config-file configs/transfiner/mask_rcnn_R_50_FPN_3x.yaml \\\n",
        "  --input 'demo/sample_imgs/*.jpg' \\\n",
        "  --output 'vis_coco_r50_sample/' \\\n",
        "  --opts MODEL.WEIGHTS ./pretrained_model/output_3x_transfiner_r50.pth"
      ]
    },
    {
      "cell_type": "code",
      "execution_count": null,
      "metadata": {
        "colab": {
          "base_uri": "https://localhost:8080/",
          "height": 497
        },
        "id": "Q2KtTdW7MKve",
        "outputId": "d14ce1a2-02b6-4e8d-bcae-710dd18d407c"
      },
      "outputs": [],
      "source": [
        "from IPython.display import Image as iPythonImage\n",
        "iPythonImage('/content/transfiner/vis_coco_r50_sample/000000360661.jpg')"
      ]
    },
    {
      "cell_type": "code",
      "execution_count": null,
      "metadata": {
        "colab": {
          "base_uri": "https://localhost:8080/"
        },
        "id": "gFjsyk6EcYXF",
        "outputId": "d4403041-0bd4-4350-d3e6-06c6c348f3d6"
      },
      "outputs": [],
      "source": [
        "%cd /content/transfiner\n",
        "\n",
        "# 使用画像　https://www.pakutaso.com/20160452095post-7493.html\n",
        "!wget -c https://www.pakutaso.com/shared/img/thumb/SAYA160312500I9A3721_TP_V4.jpg \\\n",
        "      -O demo/sample_imgs/test1.jpg"
      ]
    },
    {
      "cell_type": "code",
      "execution_count": null,
      "metadata": {
        "colab": {
          "base_uri": "https://localhost:8080/",
          "height": 806
        },
        "id": "Ct_nJK9QcXzv",
        "outputId": "c217cbc3-00da-4e4f-ac50-6300ddc1ccc3"
      },
      "outputs": [],
      "source": [
        "%cd /content/transfiner\n",
        "\n",
        "!python3 demo/demo.py --config-file configs/transfiner/mask_rcnn_R_50_FPN_3x.yaml \\\n",
        "  --input 'demo/sample_imgs/test1.jpg' \\\n",
        "  --output 'vis_coco_r50_sample/' \\\n",
        "  --opts MODEL.WEIGHTS ./pretrained_model/output_3x_transfiner_r50.pth\n",
        "\n",
        "iPythonImage('/content/transfiner/vis_coco_r50_sample/test1.jpg')"
      ]
    }
  ],
  "metadata": {
    "accelerator": "GPU",
    "colab": {
      "collapsed_sections": [],
      "name": "Transfiner_demo.ipynb",
      "provenance": []
    },
    "kernelspec": {
      "display_name": "Python 3",
      "name": "python3"
    },
    "language_info": {
      "name": "python"
    },
    "orig_nbformat": 4
  },
  "nbformat": 4,
  "nbformat_minor": 0
}
