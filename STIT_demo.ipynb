{
  "cells": [
    {
      "cell_type": "markdown",
      "metadata": {
        "id": "8qvrMGKoZXFj"
      },
      "source": [
        "論文  \n",
        "https://arxiv.org/abs/2201.08361<br>\n",
        "<br>  \n",
        "GitHub  \n",
        "https://github.com/rotemtzaban/STIT<br>\n",
        "<br>\n",
        "<a href=\"https://colab.research.google.com/github/kaz12tech/ai_demos/blob/master/STIT_demo.ipynb\" target=\"_blank\"><img src=\"https://colab.research.google.com/assets/colab-badge.svg\" alt=\"Open In Colab\"/></a>"
      ]
    },
    {
      "cell_type": "markdown",
      "metadata": {
        "id": "lolWG5FDZXFz"
      },
      "source": [
        "## 環境セットアップ"
      ]
    },
    {
      "cell_type": "markdown",
      "metadata": {
        "id": "F9_3GsdWZXGK"
      },
      "source": [
        "## GPU確認"
      ]
    },
    {
      "cell_type": "code",
      "execution_count": null,
      "metadata": {
        "colab": {
          "base_uri": "https://localhost:8080/"
        },
        "id": "2PcII5fLdHnJ",
        "outputId": "e0219d1f-b96e-4a17-9a50-a50248b32d28"
      },
      "outputs": [],
      "source": [
        "!nvidia-smi"
      ]
    },
    {
      "cell_type": "markdown",
      "metadata": {
        "id": "Bqpczfb4ZXGO"
      },
      "source": [
        "## GitHubからコード取得"
      ]
    },
    {
      "cell_type": "code",
      "execution_count": null,
      "metadata": {
        "colab": {
          "base_uri": "https://localhost:8080/"
        },
        "id": "R-Y5auuvnnnT",
        "outputId": "ae3a9934-32c1-4114-c73e-1f52a7f15e90"
      },
      "outputs": [],
      "source": [
        "%cd /content\n",
        "\n",
        "!git clone https://github.com/rotemtzaban/STIT.git"
      ]
    },
    {
      "cell_type": "markdown",
      "metadata": {
        "id": "j49TKcthZXGQ"
      },
      "source": [
        "## ライブラリのインストール"
      ]
    },
    {
      "cell_type": "code",
      "execution_count": null,
      "metadata": {
        "colab": {
          "base_uri": "https://localhost:8080/",
          "height": 1000
        },
        "id": "LScsvO3UppqT",
        "outputId": "40bca365-71ef-4c1b-a153-e8374caa008b"
      },
      "outputs": [],
      "source": [
        "%cd /content/STIT\n",
        "\n",
        "!pip install -r requirements.txt\n",
        "!pip install git+https://github.com/openai/CLIP.git\n",
        "!pip install --upgrade gdown"
      ]
    },
    {
      "cell_type": "markdown",
      "metadata": {
        "id": "0LmCqrMUZXGS"
      },
      "source": [
        "## ライブラリのインポート"
      ]
    },
    {
      "cell_type": "code",
      "execution_count": null,
      "metadata": {
        "id": "o2lxptJeo6kr"
      },
      "outputs": [],
      "source": [
        "import os"
      ]
    },
    {
      "cell_type": "markdown",
      "metadata": {
        "id": "e7hfRLAuZXGU"
      },
      "source": [
        "## 学習済みモデルのダウンロード"
      ]
    },
    {
      "cell_type": "code",
      "execution_count": null,
      "metadata": {
        "colab": {
          "base_uri": "https://localhost:8080/"
        },
        "id": "QYmO4couoYhz",
        "outputId": "8a1d30dd-03fb-4c1e-f867-3796ef2c01bc"
      },
      "outputs": [],
      "source": [
        "%cd /content/STIT\n",
        "\n",
        "# https://drive.google.com/u/0/uc?id=1cDvUHPTZQAEWvfiK9C0nDuI9C3Qdgbbp&export=download\n",
        "pretrained_zip = 'pretrained_models.zip'\n",
        "if not os.path.exists(pretrained_zip):\n",
        "  !gdown --id 1cDvUHPTZQAEWvfiK9C0nDuI9C3Qdgbbp \\\n",
        "          -O {pretrained_zip}\n",
        "\n",
        "!unzip {pretrained_zip}"
      ]
    },
    {
      "cell_type": "markdown",
      "metadata": {
        "id": "RKLo7pnI3tkG"
      },
      "source": [
        "# テストデータダウンロード"
      ]
    },
    {
      "cell_type": "code",
      "execution_count": null,
      "metadata": {
        "colab": {
          "base_uri": "https://localhost:8080/"
        },
        "id": "zhpDa7w93yOM",
        "outputId": "7bbb253e-620e-4ea3-e828-381fcdef2579"
      },
      "outputs": [],
      "source": [
        "%cd /content/STIT\n",
        "\n",
        "# https://drive.google.com/file/d/1ZzpUJSq3Z8ZU8MKfvZ8w8MayMDxLBEy1/view\n",
        "dataset_zip = 'datasets.zip'\n",
        "if not os.path.exists(dataset_zip):\n",
        "  !gdown --id 1ZzpUJSq3Z8ZU8MKfvZ8w8MayMDxLBEy1 \\\n",
        "          -O {dataset_zip}\n",
        "\n",
        "!unzip {dataset_zip} > /dev/null"
      ]
    },
    {
      "cell_type": "markdown",
      "metadata": {
        "id": "AQKMdI485Vpe"
      },
      "source": [
        "# Inversion"
      ]
    },
    {
      "cell_type": "code",
      "execution_count": null,
      "metadata": {
        "colab": {
          "base_uri": "https://localhost:8080/"
        },
        "id": "ZKXp6--y5Xx4",
        "outputId": "862ea4e4-795f-4151-f712-b1ecca7d104e"
      },
      "outputs": [],
      "source": [
        "%cd /content/STIT\n",
        "\n",
        "!python train.py --input_folder datasets/curry \\\n",
        " --output_folder checkpoints \\\n",
        " --run_name curry \\\n",
        " --num_pti_steps 80"
      ]
    },
    {
      "cell_type": "markdown",
      "metadata": {
        "id": "tN1kXj1A4ibM"
      },
      "source": [
        "# Edit Age"
      ]
    },
    {
      "cell_type": "code",
      "execution_count": null,
      "metadata": {
        "colab": {
          "base_uri": "https://localhost:8080/"
        },
        "id": "ciKpq-va4j0G",
        "outputId": "6afca3de-b584-48e6-f372-05785bbeade4"
      },
      "outputs": [],
      "source": [
        "%cd /content/STIT\n",
        "\n",
        "!python edit_video_stitching_tuning.py --input_folder datasets/curry \\\n",
        " --output_folder outputs/curry/ \\\n",
        " --run_name curry \\\n",
        " --edit_name age \\\n",
        " --edit_range -8 -8 1 \\\n",
        " --outer_mask_dilation 50"
      ]
    }
  ],
  "metadata": {
    "accelerator": "GPU",
    "colab": {
      "collapsed_sections": [],
      "name": "STIT_demo.ipynb",
      "provenance": []
    },
    "kernelspec": {
      "display_name": "Python 3",
      "name": "python3"
    },
    "language_info": {
      "name": "python"
    },
    "orig_nbformat": 4
  },
  "nbformat": 4,
  "nbformat_minor": 0
}
